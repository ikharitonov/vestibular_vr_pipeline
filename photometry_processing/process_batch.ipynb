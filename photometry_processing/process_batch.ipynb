{
 "cells": [
  {
   "cell_type": "code",
   "execution_count": null,
   "id": "0",
   "metadata": {},
   "outputs": [],
   "source": [
    "import matplotlib.pyplot as plt\n",
    "from preprocess_functions import preprocess\n",
    "import numpy as np\n",
    "import os"
   ]
  },
  {
   "cell_type": "markdown",
   "id": "1",
   "metadata": {},
   "source": [
    "## Set up paths and params, then load data and fill object\n",
    "path is the root_data path as defined in https://github.com/ikharitonov/vestibular_vr_pipeline/issues/25)\n",
    "\n",
    "Select sensors if sensor-specific (and not \"auto\") filtering is used. 'G8m', 'g5-HT3', 'rG1' or available sensors in the function, otherwise asks for user input for half decay time in ms.\n",
    "\n",
    "Target area is the intended area, not verified by histology yet. Added to self.info dictionary.  "
   ]
  },
  {
   "cell_type": "code",
   "execution_count": null,
   "id": "2",
   "metadata": {},
   "outputs": [],
   "source": [
    "paths = []\n",
    "#rootdir = '/Users/rancze/Documents/Data/vestVR/Cohort2_test_Photometry_only'\n",
    "rootdir = '/Users/rancze/Documents/Data/vestVR/Cohort1/VestibularMismatch_day1'\n",
    "\n",
    "for root, dirs, files in os.walk(rootdir):\n",
    "    for filename in files:\n",
    "        if filename == 'Fluorescence-unaligned.csv':\n",
    "            # Get the folder one level higher\n",
    "            parent_folder = os.path.dirname(root)\n",
    "            paths.append(parent_folder)\n",
    "\n",
    "# Print all the paths\n",
    "[print(path) for path in paths] \n",
    "\n",
    "sensors = {'470':'g5-HT3', '560':'rG1', '410':'g5-HT3'}\n",
    "target_area = ('X') #ASSUMES the same target area for all folders, DANGER\n",
    "filtmethod = \"auto\"\n",
    "detrendmethod = \"divisive\""
   ]
  },
  {
   "cell_type": "code",
   "execution_count": null,
   "id": "3",
   "metadata": {},
   "outputs": [],
   "source": [
    "for path in paths: \n",
    "    processed = preprocess(path, sensors)\n",
    "    processed.info = processed.get_info()\n",
    "    (\n",
    "        processed.rawdata, \n",
    "        processed.data, \n",
    "        processed.data_seconds, \n",
    "        processed.signals, \n",
    "    ) = processed.create_basic(\n",
    "        cutstart = False,\n",
    "        cutend = False,\n",
    "        target_area = target_area\n",
    "    )\n",
    "    #processed.events = processed.extract_events()\n",
    "    processed.filtered = processed.low_pass_filt(method = filtmethod)\n",
    "    processed.data_detrended, processed.exp_fits = processed.detrend(method = detrendmethod)\n",
    "    processed.motion_corr = processed.movement_correct() #results of this are generally not used \n",
    "    processed.deltaF_F = processed.get_deltaF_F(motion = False)\n",
    "    processed.zscored = processed.z_score(motion = False)\n",
    "    _ = processed.cross_correlate_signals(col1='470', col2='560', plot=False)\n",
    "    processed.plot_all_signals()\n",
    "    processed.info_csv = processed.write_info_csv()\n",
    "    processed.data_csv = processed.write_preprocessed_csv()#Events = True) #optional: Events = True, motion_correct = True"
   ]
  }
 ],
 "metadata": {
  "kernelspec": {
   "display_name": "aeon",
   "language": "python",
   "name": "aeon"
  },
  "language_info": {
   "codemirror_mode": {
    "name": "ipython",
    "version": 3
   },
   "file_extension": ".py",
   "mimetype": "text/x-python",
   "name": "python",
   "nbconvert_exporter": "python",
   "pygments_lexer": "ipython3",
   "version": "3.11.11"
  }
 },
 "nbformat": 4,
 "nbformat_minor": 5
}
