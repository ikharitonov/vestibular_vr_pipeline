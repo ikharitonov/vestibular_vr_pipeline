{
 "cells": [
  {
   "cell_type": "code",
   "execution_count": null,
   "id": "0",
   "metadata": {},
   "outputs": [],
   "source": [
    "import pandas as pd\n",
    "import numpy as np\n",
    "import matplotlib.pyplot as plt\n",
    "from matplotlib.patches import Rectangle\n",
    "from harp_resources import process, utils\n",
    "from analysis_functions import *\n",
    "import matplotlib.patches as patches\n",
    "import seaborn as sns"
   ]
  },
  {
   "cell_type": "code",
   "execution_count": null,
   "id": "1",
   "metadata": {},
   "outputs": [],
   "source": [
    "Grab_MM_1 = pd.read_csv('GRAB_MMclosed_open_session1.csv', dtype=dtype_dict)\n",
    "Grab_MM_2 = pd.read_csv('GRAB_MMclosed_open_session2.csv', dtype=dtype_dict)"
   ]
  },
  {
   "cell_type": "code",
   "execution_count": null,
   "id": "2",
   "metadata": {},
   "outputs": [],
   "source": [
    "# Chaning event name to halt and making it so that its True when there is a halt\n",
    "#Grab_MM_1.loc[:, 'event'] = Grab_MM_1['event'].replace({False: True, True: False})\n",
    "Grab_MM_1.rename(columns = {'event': 'halt'}, inplace = True)\n",
    "Grab_MM_2.rename(columns = {'event': 'halt'}, inplace = True)\n"
   ]
  },
  {
   "cell_type": "code",
   "execution_count": null,
   "id": "3",
   "metadata": {},
   "outputs": [],
   "source": [
    "#Make sure the index provides inforamtion of seconds since start\n",
    "Grab_MM_1.set_index('Seconds', inplace=True)\n",
    "Grab_MM_2.set_index('Seconds', inplace=True)\n",
    "# Theres only photomotry information from 15 seconds due to bleaching\n",
    "Grab_MM_1 = Grab_MM_1.loc[ Grab_MM_1.index>30]\n",
    "Grab_MM_2 = Grab_MM_2.loc[ Grab_MM_2.index>30]"
   ]
  },
  {
   "cell_type": "code",
   "execution_count": null,
   "id": "4",
   "metadata": {},
   "outputs": [],
   "source": [
    "def view_session_mouse(mousedata_dict, mouse):\n",
    "    print('\\033[1m'+f'Plotted traces for {mouse}'+'\\033[0m')\n",
    "    \n",
    "    plotlist = ['470_dfF', 'movementX']\n",
    "    fig, ax = plt.subplots(len(plotlist), len(mousedata_dict), figsize=(15, 10), sharex=True)  # sharex=True for a shared x-axis\n",
    "    \n",
    "    for s, (session, session_data) in enumerate(mousedata_dict.items()):\n",
    "        \n",
    "        #getting the mouse-specific data from the session\n",
    "        time = session_data.index\n",
    "        event = session_data.halt\n",
    "        color = ['forestgreen', 'blue']\n",
    "    \n",
    "        \n",
    "        # Iterate over the traces in plotlist and plot each on a new row\n",
    "        for i, trace in enumerate(plotlist):\n",
    "            ax[i, s].plot(time, session_data[trace], color=color[i])\n",
    "            ax[i, s].set_title(f\"{trace} - {session}\")\n",
    "            \n",
    "            # Plot shaded areas for each halt event\n",
    "            ymin, ymax = ax[i, s].get_ylim()\n",
    "            halt = ax[i, s].fill_between(time, ymin, ymax, where=event, color='grey', alpha=0.3)\n",
    "            \n",
    "        # Plot annotations for different blocks\n",
    "        block_colors = ['lightsteelblue', 'lightcoral', 'forestgreen']\n",
    "        colorcount = 0\n",
    "        for col in session_data:\n",
    "            if '_block' in col:\n",
    "                start = session_data.loc[session_data[col] == True].index[0]\n",
    "                end = session_data.loc[session_data[col] == True].index[-1]\n",
    "        \n",
    "                min_time, max_time = ax[i, s].get_xlim()\n",
    "                norm_start = norm(start, min_time, max_time)\n",
    "                norm_end = norm(end, min_time, max_time)\n",
    "                \n",
    "                ax[-1, s].text(norm_start + 0.05, -0.2, col, transform=ax[-1, s].transAxes, fontsize=10, verticalalignment='top')\n",
    "                ax[-1, s].add_patch(Rectangle(\n",
    "                    (norm_start, -0.15), norm_end - norm_start, -0.2, \n",
    "                    facecolor=block_colors[colorcount], alpha=0.5, clip_on=False, transform=ax[-1, s].transAxes\n",
    "                ))\n",
    "\n",
    "                ax[-1, s].add_patch(Rectangle(\n",
    "                    (norm_start, 0), norm_end - norm_start, 1, \n",
    "                    facecolor=block_colors[colorcount], alpha=0.1, clip_on=False, transform=ax[-1, s].transAxes\n",
    "                ))\n",
    "                #ax[0, s].add_patch(Rectangle(\n",
    "                 #   (norm_start, 0), norm_end - norm_start, 1, \n",
    "                  #  facecolor=block_colors[colorcount], alpha=0.1, clip_on=False, transform=ax[-1, s].transAxes))\n",
    "                \n",
    "                \n",
    "                colorcount += 1\n",
    "\n",
    "    halt.set_label('halts')\n",
    "    # Create one legend for the figure\n",
    "    fig.legend(fontsize=12)\n",
    "    \n",
    "    # Update font size and layout\n",
    "    plt.rcParams.update({'font.size': 10})\n",
    "    fig.tight_layout(pad=1.08)\n",
    "    plt.show()\n",
    "\n"
   ]
  },
  {
   "cell_type": "code",
   "execution_count": null,
   "id": "5",
   "metadata": {},
   "outputs": [],
   "source": [
    "#Check that the same mice are in the datsets\n",
    "print(Grab_MM_1.mouseID.unique())\n",
    "print(Grab_MM_2.mouseID.unique())\n"
   ]
  },
  {
   "cell_type": "code",
   "execution_count": null,
   "id": "6",
   "metadata": {},
   "outputs": [],
   "source": [
    "for mouse in Grab_MM_1.mouseID.unique():\n",
    "    mousedata = {'session 1':Grab_MM_1.loc[Grab_MM_1.mouseID == mouse], 'session 2':Grab_MM_2.loc[Grab_MM_2.mouseID == mouse]}\n",
    "    view_session_mouse(mousedata, mouse)"
   ]
  },
  {
   "cell_type": "code",
   "execution_count": null,
   "id": "7",
   "metadata": {},
   "outputs": [],
   "source": [
    "#Filter mice to get unique indexes\n",
    "mouse_data = {'session 1':{'closedloop': {},'openloop': {} }, 'session 2': {'closedloop': {},'openloop': {}}}\n",
    "\n",
    "for mouse in Grab_MM_1.mouseID.unique():\n",
    "    mouse_data['session 1']['closedloop'][mouse] = filter_data(Grab_MM_1, filters = [mouse, 'closed_block'])\n",
    "    mouse_data['session 1']['openloop'][mouse] = filter_data(Grab_MM_1, filters = [mouse, 'open_block'])\n",
    "for mouse in Grab_MM_2.mouseID.unique():\n",
    "    mouse_data['session 2']['closedloop'][mouse] = filter_data(Grab_MM_2, filters = [mouse, 'closed_block'])\n",
    "    mouse_data['session 2']['openloop'][mouse] = filter_data(Grab_MM_2, filters = [mouse, 'open_block'])"
   ]
  },
  {
   "cell_type": "code",
   "execution_count": null,
   "id": "8",
   "metadata": {},
   "outputs": [],
   "source": [
    "#Aligning open and closed loop block data to halt start times\n",
    "mouse_aligned = {'session 1':{'closedloop': {},'openloop': {} }, 'session 2': {'closedloop': {},'openloop': {}}}\n",
    "\n",
    "for session, session_dict in mouse_data.items():\n",
    "    for block, mice in session_dict.items():\n",
    "        for mouse, df in mice.items():\n",
    "            event_alinged, bsl_event_alinged = align_to_event_start(df, '470_dfF', 'halt',[1,2])\n",
    "            mouse_aligned[session][block][mouse] = bsl_event_alinged  #bsl indicates that it is baselined to the last 1 second before halt\n",
    "\n",
    "    "
   ]
  },
  {
   "cell_type": "code",
   "execution_count": null,
   "id": "9",
   "metadata": {},
   "outputs": [],
   "source": [
    "mouse_aligned"
   ]
  },
  {
   "cell_type": "code",
   "execution_count": null,
   "id": "10",
   "metadata": {},
   "outputs": [],
   "source": [
    "len(mouse_aligned['session 1']['closedloop'].keys())"
   ]
  },
  {
   "cell_type": "code",
   "execution_count": null,
   "id": "11",
   "metadata": {},
   "outputs": [],
   "source": [
    "mouse_aligned_nohalt = {'session 1':{'closedloop': {},'openloop': {} }, 'session 2': {'closedloop': {},'openloop': {}}}\n",
    "\n",
    "for session, session_dict in mouse_data.items():\n",
    "    for block, mice in session_dict.items():\n",
    "        for mouse, df in mice.items():\n",
    "            event_alinged, bsl_event_alinged = align_to_event_start(df, '470_dfF', 'No_halt',[1,2])\n",
    "            mouse_aligned_nohalt[session][block][mouse] = bsl_event_alinged  #bsl indicates that it is baselined to the last 1 second before halt\n"
   ]
  },
  {
   "cell_type": "code",
   "execution_count": null,
   "id": "12",
   "metadata": {},
   "outputs": [],
   "source": [
    "import matplotlib.pyplot as plt\n",
    "import matplotlib.patches as patches\n",
    "import numpy as np\n",
    "import pandas as pd\n",
    "\n",
    "def plot_compare_blocks(block_dict, event):\n",
    "    # Determine number of blocks (columns) and maximum number of mice (rows)\n",
    "    num_blocks = len(block_dict)\n",
    "    max_mice = max(len(mice_data) for mice_data in block_dict.values())\n",
    "    \n",
    "    # Set up the figure with the determined number of rows and columns\n",
    "    fig, ax = plt.subplots(max_mice, num_blocks, figsize=(5 * num_blocks, 3 * max_mice), squeeze=False)\n",
    "    fig.suptitle(f'{event} alignment')\n",
    "    \n",
    "    # Dictionary to store mean data across mice for each block\n",
    "    mean_mouse_dict = {block: {} for block in block_dict.keys()}\n",
    "    \n",
    "    # Loop over each block and each mouse, plotting down the rows within each block column\n",
    "    for col, (block_name, mice_data) in enumerate(block_dict.items()):\n",
    "        color_map = plt.cm.Greys  # Grey color map for traces\n",
    "        \n",
    "        # Loop over each mouse in the current block\n",
    "        for row, (mouse, data) in enumerate(mice_data.items()):\n",
    "            color = color_map(np.linspace(0, 1, data.shape[1]))  # Assign colors for traces\n",
    "\n",
    "            # Plot vertical line for event alignment\n",
    "            ax[row, col].axvline(x=0, linewidth=1, color='r', linestyle='--')\n",
    "            \n",
    "            # Plot individual traces with shading\n",
    "            for idx, trace in enumerate(data.columns):\n",
    "                ax[row, col].plot(data.index, data[trace], color='grey', alpha=0.3)\n",
    "\n",
    "            # Calculate mean and standard deviation across traces\n",
    "            mean_trace = data.mean(axis=1)\n",
    "            mean_mouse_dict[block_name][mouse] = mean_trace\n",
    "            std_trace = data.std(axis=1)\n",
    "\n",
    "            # Plot mean trace and standard deviation shading\n",
    "            ax[row, col].plot(mean_trace, color='black', label='Mean' if row == 0 else \"\")\n",
    "            ax[row, col].fill_between(mean_trace.index, mean_trace - std_trace, mean_trace + std_trace, alpha=0.3)\n",
    "\n",
    "            # Add a shaded rectangle for a specified range (0 to 1)\n",
    "            ax[row, col].add_patch(patches.Rectangle((0, ax[row, col].get_ylim()[0]), 1, \n",
    "                                                     ax[row, col].get_ylim()[1] - ax[row, col].get_ylim()[0], \n",
    "                                                     color='grey', alpha=0.1))\n",
    "            # Set title and labels for the first row\n",
    "            if row == 0:\n",
    "                ax[row, col].set_title(f\"{block_name} loop responses\")\n",
    "            if col == 0:\n",
    "                ax[row, col].set_ylabel(f\"Mouse: {mouse}\")\n",
    "\n",
    "    fig.tight_layout(pad=1.08)\n",
    "\n",
    "    # Aggregate means across mice for each block\n",
    "    fig, ax = plt.subplots(1, num_blocks, figsize=(5 * num_blocks, 5))\n",
    "    fig.suptitle('Mean across animal means')\n",
    "    \n",
    "    for col, (block_name, mean_data) in enumerate(mean_mouse_dict.items()):\n",
    "        # Create DataFrame from mean data and compute overall mean and std across mice\n",
    "        mean_df = pd.DataFrame.from_dict(mean_data)\n",
    "        overall_mean = mean_df.mean(axis=1)\n",
    "        overall_std = mean_df.std(axis=1)\n",
    "        \n",
    "        # Plot mean across animals with standard deviation shading\n",
    "        ax[col].axvline(x=0, linewidth=1, color='r', linestyle='--')\n",
    "        ax[col].plot(overall_mean, color='black')\n",
    "        ax[col].fill_between(overall_mean.index, overall_mean - overall_std, overall_mean + overall_std, alpha=0.3)\n",
    "        \n",
    "        # Add rectangle to highlight the specified region (e.g., 0 to 1)\n",
    "        ax[col].add_patch(patches.Rectangle((0, ax[col].get_ylim()[0]), 1, \n",
    "                                            ax[col].get_ylim()[1] - ax[col].get_ylim()[0], \n",
    "                                            color='grey', alpha=0.1))\n",
    "        \n",
    "        # Set title for each block\n",
    "        ax[col].set_title(f'{block_name} loop mean response')\n",
    "\n",
    "    return mean_mouse_dict\n"
   ]
  },
  {
   "cell_type": "code",
   "execution_count": null,
   "id": "13",
   "metadata": {},
   "outputs": [],
   "source": [
    "mean_mouse_dict_s1 =plot_compare_blocks(mouse_aligned['session 1'], 'halt')\n",
    "mean_mouse_dict_s2 =plot_compare_blocks(mouse_aligned['session 2'], 'halt')"
   ]
  },
  {
   "cell_type": "code",
   "execution_count": null,
   "id": "14",
   "metadata": {},
   "outputs": [],
   "source": [
    "mean_mouse_dict_s1_nohalt =plot_compare_blocks(mouse_aligned_nohalt['session 1'], 'No halt')"
   ]
  },
  {
   "cell_type": "code",
   "execution_count": null,
   "id": "15",
   "metadata": {},
   "outputs": [],
   "source": [
    "xtimes = [t for t in range(0, open_df.shape[0], round(open_df.shape[0] / 3))]\n",
    "xtimes = [-1,0,1,2]"
   ]
  },
  {
   "cell_type": "code",
   "execution_count": null,
   "id": "16",
   "metadata": {},
   "outputs": [],
   "source": [
    "from matplotlib import ticker\n",
    "fig, ax = plt.subplots(5,2, figsize =(15,10))\n",
    "ax =ax.flatten()\n",
    "i=0\n",
    "for mouse, closed_df in aligned_closed.items():\n",
    "    open_df = aligned_open[mouse]\n",
    "    plot = sns.heatmap(closed_df.T, ax = ax[i], yticklabels=False,xticklabels=False, cmap='gray')\n",
    "    plot = sns.heatmap(open_df.T, ax = ax[i+1],yticklabels=False, cmap='gray')\n",
    "    ax[0].set_xticks(xtimes)\n",
    "    #ax[0].set_xticklabels([t for t in range(-1, 3 + 1, 1)], rotation = 0)\n",
    "\n",
    "\n",
    "    i+=2"
   ]
  },
  {
   "cell_type": "code",
   "execution_count": null,
   "id": "17",
   "metadata": {},
   "outputs": [],
   "source": []
  }
 ],
 "metadata": {
  "kernelspec": {
   "display_name": "aeon",
   "language": "python",
   "name": "aeon"
  },
  "language_info": {
   "codemirror_mode": {
    "name": "ipython",
    "version": 3
   },
   "file_extension": ".py",
   "mimetype": "text/x-python",
   "name": "python",
   "nbconvert_exporter": "python",
   "pygments_lexer": "ipython3",
   "version": "3.12.7"
  }
 },
 "nbformat": 4,
 "nbformat_minor": 5
}
