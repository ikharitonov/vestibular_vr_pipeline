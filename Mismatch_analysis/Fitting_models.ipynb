{
 "cells": [
  {
   "cell_type": "code",
   "execution_count": null,
   "id": "0",
   "metadata": {},
   "outputs": [],
   "source": [
    "import pandas as pd\n",
    "import numpy as np\n",
    "import matplotlib.pyplot as plt\n",
    "from matplotlib.patches import Rectangle\n",
    "from analysis_functions import *\n",
    "from model_functions import *\n",
    "import matplotlib.patches as patches\n",
    "import seaborn as sns\n",
    "import scipy.stats as stats\n",
    "from scipy.stats import shapiro, chi2, mannwhitneyu, ttest_ind"
   ]
  },
  {
   "cell_type": "markdown",
   "id": "1",
   "metadata": {},
   "source": [
    "# Read extraced variables into csv"
   ]
  },
  {
   "cell_type": "code",
   "execution_count": null,
   "id": "2",
   "metadata": {},
   "outputs": [],
   "source": []
  },
  {
   "cell_type": "code",
   "execution_count": null,
   "id": "3",
   "metadata": {},
   "outputs": [],
   "source": [
    "Vars = pd.read_csv('GCaAMP_MM_extracted_vars.csv')\n",
    "sensor = 'GCaMP'\n",
    "#Vars = pd.read_csv('GRAB_MM_extracted_vars.csv')\n",
    "#sensor = 'GRAB'\n",
    "Vars"
   ]
  },
  {
   "cell_type": "markdown",
   "id": "4",
   "metadata": {},
   "source": [
    "# Make boxplots to view difference in params for halts and no-halts "
   ]
  },
  {
   "cell_type": "code",
   "execution_count": null,
   "id": "5",
   "metadata": {},
   "outputs": [],
   "source": [
    "halt_data = Vars.loc[Vars.event == 'halt']\n",
    "halt_data.describe() "
   ]
  },
  {
   "cell_type": "code",
   "execution_count": null,
   "id": "6",
   "metadata": {},
   "outputs": [],
   "source": [
    "Nohalt_data = Vars.loc[Vars.event == 'no halt']\n",
    "Nohalt_data.describe() "
   ]
  },
  {
   "cell_type": "markdown",
   "id": "7",
   "metadata": {},
   "source": [
    "## Plotting params for individual mice"
   ]
  },
  {
   "cell_type": "code",
   "execution_count": null,
   "id": "8",
   "metadata": {},
   "outputs": [],
   "source": [
    "mouse = 'B3M2'\n",
    "mousedata = Vars.loc[Vars.MouseID == mouse]\n",
    "Vars.MouseID.unique()"
   ]
  },
  {
   "cell_type": "code",
   "execution_count": null,
   "id": "9",
   "metadata": {},
   "outputs": [],
   "source": [
    "fig, ax = plt.subplots(2,3, figsize = (15, 8))\n",
    "ax = ax.flatten()\n",
    "sns.boxplot(x=\"event\", y=\"PeakResponse\", data=mousedata, hue=\"SessionBlock\", ax=ax[0])\n",
    "ax[0].set_title(\"Peak Response during halt\")\n",
    "ax[0].get_legend().remove()\n",
    "\n",
    "sns.boxplot(x=\"event\", y=\"MeanResponse\", data=mousedata, hue=\"SessionBlock\", ax=ax[1])\n",
    "ax[1].set_title(\"Mean Response during halt\")\n",
    "ax[1].get_legend().remove()\n",
    "\n",
    "sns.boxplot(x=\"event\", y=\"MeanResponse_after\", data=mousedata, hue=\"SessionBlock\", ax=ax[2])\n",
    "ax[2].set_title(\"Mean Response post halt\")\n",
    "\n",
    "\n",
    "sns.boxplot(x=\"event\", y=\"MinResponse\", data=mousedata, hue=\"SessionBlock\", ax=ax[3])\n",
    "ax[3].set_title(\"Minimum Response during halt\")\n",
    "ax[3].get_legend().remove()\n",
    "\n",
    "sns.boxplot(x=\"event\", y=\"MeanResponse_after\", data=mousedata, hue=\"SessionBlock\", ax=ax[4])\n",
    "ax[4].set_title(\"Mean Response after halt\")\n",
    "ax[4].get_legend().remove()\n",
    "\n",
    "sns.boxplot(x=\"event\", y=\"MinResponse_after\", data=mousedata, hue=\"SessionBlock\", ax=ax[5])\n",
    "ax[5].set_title(\"Minimim Response post halt\")\n",
    "fig.suptitle(f'{mouse} param distributions')\n",
    "\n",
    "fig.tight_layout(pad=1.08)\n",
    "fig.savefig(f'Figures/{sensor}_{mouse}_halt_nohalt_boxplot.png', format = 'png')"
   ]
  },
  {
   "cell_type": "code",
   "execution_count": null,
   "id": "10",
   "metadata": {},
   "outputs": [],
   "source": [
    "# Grouping by the condition variables and calculating the mean for each group\n",
    "mouse_means = (\n",
    "    Vars.groupby(['MouseID', 'event', 'SessionBlock', 'SessionNumber'])\n",
    "        .agg({\n",
    "            'PeakResponse': 'mean',\n",
    "            'PeakResponse_after': 'mean',\n",
    "            'MeanResponse': 'mean',\n",
    "            'MeanResponse_after': 'mean',\n",
    "            'MinResponse_after': 'mean',\n",
    "            'MinResponse': 'mean'\n",
    "        })\n",
    "        .reset_index())\n",
    "\n",
    "\n",
    "mouse_means.head()"
   ]
  },
  {
   "cell_type": "markdown",
   "id": "11",
   "metadata": {},
   "source": [
    "## Plotting all mouse averages togheter"
   ]
  },
  {
   "cell_type": "code",
   "execution_count": null,
   "id": "12",
   "metadata": {},
   "outputs": [],
   "source": [
    "fig, ax = plt.subplots(2,3, figsize = (15, 8))\n",
    "ax = ax.flatten()\n",
    "\n",
    "i = 0\n",
    "for response_col in mouse_means:\n",
    "    if 'Response' in response_col:\n",
    "        \n",
    "        sns.boxplot(x=\"event\", y=response_col, data=mouse_means, hue=\"SessionBlock\", ax=ax[i])\n",
    "        ax[i].set_title(f\"{response_col} halt\")\n",
    "        ax[i].get_legend().remove()\n",
    "    \n",
    "        i+=1\n",
    "plt.legend()\n",
    "fig.suptitle(f'{sensor}_average_of_mouseaverages_params')\n",
    "\n",
    "fig.tight_layout(pad=1.08)\n",
    "fig.savefig(f'Figures/{sensor}_halt_nohalt_boxplot.png', format = 'png')\n"
   ]
  },
  {
   "cell_type": "code",
   "execution_count": null,
   "id": "13",
   "metadata": {},
   "outputs": [],
   "source": [
    "## Testing the response difference in the halt and control condition"
   ]
  },
  {
   "cell_type": "code",
   "execution_count": null,
   "id": "14",
   "metadata": {},
   "outputs": [],
   "source": [
    "def testing_diff_control(main_df, control_df):\n",
    "    #testing normality\n",
    "    shapiro_main = shapiro(main_df)\n",
    "    shapiro_control= shapiro(control_df)\n",
    "\n",
    "    print(\"Shapiro-Wilk test for halt:\", shapiro_main)\n",
    "    print(\"Shapiro-Wilk test for no halt:\", shapiro_control)\n",
    "\n",
    "    if (shapiro_main.pvalue < 0.05) or (shapiro_control.pvalue < 0.05):\n",
    "        print('\\n Datasets are normally distributed, will perform t-test \\n')\n",
    "        t_stat, p_val = ttest_ind(main_df, control_df, equal_var=False)\n",
    "        print(f\"T-test: t-statistic={t_stat}, p-value={p_val}\")\n",
    "    else:\n",
    "        print('\\n At least one dataset is not normally distributed, will perform Mann–Whitney U test \\n')\n",
    "        u_stat, p_val = mannwhitneyu(main_df, control_df, alternative='two-sided')\n",
    "        print(f\"Mann-Whitney U test: U-statistic={u_stat}, p-value={p_val}\")\n",
    "\n",
    "    mean_diff = np.mean(main_df) - np.mean(control_df)\n",
    "    pooled_std = np.sqrt((np.std(main_df, ddof=1)**2 + np.std(control_df, ddof=1)**2) / 2)\n",
    "    cohens_d = mean_diff / pooled_std\n",
    "    print(f\"Cohen's d: {cohens_d}\")"
   ]
  },
  {
   "cell_type": "code",
   "execution_count": null,
   "id": "15",
   "metadata": {},
   "outputs": [],
   "source": [
    "halt_mean_response = mouse_means.loc[mouse_means['event'] == 'halt', 'MeanResponse']\n",
    "no_halt_mean_response = mouse_means.loc[mouse_means['event'] == 'no halt', 'MeanResponse']\n",
    "\n",
    "testing_diff_control(halt_mean_response, no_halt_mean_response)"
   ]
  },
  {
   "cell_type": "code",
   "execution_count": null,
   "id": "16",
   "metadata": {},
   "outputs": [],
   "source": [
    "halt_peak_response = mouse_means.loc[mouse_means['event'] == 'halt', 'PeakResponse']\n",
    "no_peak_mean_response = mouse_means.loc[mouse_means['event'] == 'no halt', 'PeakResponse']\n",
    "\n",
    "testing_diff_control(halt_peak_response, no_peak_mean_response)"
   ]
  },
  {
   "cell_type": "markdown",
   "id": "17",
   "metadata": {},
   "source": [
    "## Fitting Linear Mixed-Effects Model\n",
    "Response = β0 +β1 ⋅moveX+β2 ⋅moveY+β3 ⋅event+β4 ⋅SessionBlock+β5 ⋅ moveX:SessionBlock+u MouseID + ϵ"
   ]
  },
  {
   "cell_type": "code",
   "execution_count": null,
   "id": "18",
   "metadata": {},
   "outputs": [],
   "source": [
    "import statsmodels.api as sm\n",
    "import statsmodels.formula.api as smf\n",
    "\n",
    "# Fit Linear Mixed-Effects Model\n",
    "model = smf.mixedlm(\n",
    "    \"MeanResponse ~ moveX + event + SessionBlock + moveX:SessionBlock\",\n",
    "    data=Vars,\n",
    "    groups=Vars[\"MouseID\"]\n",
    ")\n",
    "result = model.fit()\n",
    "print(result.summary())\n"
   ]
  },
  {
   "cell_type": "code",
   "execution_count": null,
   "id": "19",
   "metadata": {},
   "outputs": [],
   "source": [
    "print(Vars[\"MouseID\"].value_counts())\n",
    "print(Vars.groupby(\"MouseID\")[[\"moveX\", \"moveY\"]].std())\n"
   ]
  },
  {
   "cell_type": "code",
   "execution_count": null,
   "id": "20",
   "metadata": {},
   "outputs": [],
   "source": [
    "# Fit Linear Mixed-Effects Model\n",
    "model = smf.mixedlm(\n",
    "    \"PeakResponse ~ moveX + event + SessionBlock + moveX:SessionBlock\",\n",
    "    data=Vars,\n",
    "    groups=Vars[\"MouseID\"]\n",
    ")\n",
    "result = model.fit()\n",
    "print(result.summary())"
   ]
  },
  {
   "cell_type": "code",
   "execution_count": null,
   "id": "21",
   "metadata": {},
   "outputs": [],
   "source": [
    "# Fit Linear Mixed-Effects Model\n",
    "model = smf.mixedlm(\n",
    "    \"MeanResponse ~ event\",\n",
    "    data=Vars,\n",
    "    groups=Vars[\"MouseID\"]\n",
    ")\n",
    "result = model.fit()\n",
    "print(result.summary())"
   ]
  },
  {
   "cell_type": "markdown",
   "id": "22",
   "metadata": {},
   "source": [
    "## Look at halt data alone - especially if significantly different from no halt data"
   ]
  },
  {
   "cell_type": "code",
   "execution_count": null,
   "id": "23",
   "metadata": {},
   "outputs": [],
   "source": [
    "halt_data = Vars.loc[Vars['event'] == 'halt']"
   ]
  },
  {
   "cell_type": "code",
   "execution_count": null,
   "id": "24",
   "metadata": {},
   "outputs": [],
   "source": [
    "# Fit Linear Mixed-Effects Model\n",
    "model = smf.mixedlm(\n",
    "    \"PeakResponse ~ moveX + SessionBlock + moveX:SessionBlock\",\n",
    "    data=halt_data,\n",
    "    groups=halt_data[\"MouseID\"]\n",
    ")\n",
    "result = model.fit()\n",
    "print(result.summary())"
   ]
  },
  {
   "cell_type": "code",
   "execution_count": null,
   "id": "25",
   "metadata": {},
   "outputs": [],
   "source": [
    "#Fit a variable at a time\n",
    "response_running = smf.ols('MeanResponse ~ moveX + moveX:SessionBlock', data=halt_data).fit()\n",
    "\n",
    "print(response_running.summary())\n",
    "#print(response_running.t_test('PeakResponse'))\n",
    "print(\"MSE=%.3f\" % response_running.mse_resid)"
   ]
  },
  {
   "cell_type": "code",
   "execution_count": null,
   "id": "26",
   "metadata": {},
   "outputs": [],
   "source": [
    "closedloop_data = halt_data.loc[halt_data.SessionBlock == 'closedloop']\n",
    "\n",
    "cloop_response_running = smf.ols('MeanResponse ~ moveX', data=closedloop_data).fit()\n",
    "\n",
    "print(cloop_response_running.summary())\n",
    "#print(response_running.t_test('PeakResponse'))\n",
    "print(\"MSE=%.3f\" % response_running.mse_resid)\n",
    "\n",
    "openloop_data = halt_data.loc[halt_data.SessionBlock == 'openloop']\n",
    "\n",
    "oloop_response_running = smf.ols('MeanResponse ~ moveX', data=openloop_data).fit()\n",
    "\n",
    "print(oloop_response_running.summary())\n",
    "#print(response_running.t_test('PeakResponse'))\n",
    "print(\"MSE=%.3f\" % response_running.mse_resid)"
   ]
  },
  {
   "cell_type": "code",
   "execution_count": null,
   "id": "27",
   "metadata": {},
   "outputs": [],
   "source": [
    "for key, item in {'closedloop': [cloop_response_running, closedloop_data],'openloop': [oloop_response_running, openloop_data] }.items():\n",
    "    print(item)"
   ]
  },
  {
   "cell_type": "code",
   "execution_count": null,
   "id": "28",
   "metadata": {},
   "outputs": [],
   "source": [
    "#plotting closed loop\n",
    "block_result_dict = {'closedloop': [cloop_response_running, closedloop_data],'openloop': [oloop_response_running, openloop_data]}\n",
    "\n",
    "for block, resultlist in block_result_dict.items():\n",
    "    \n",
    "    fig, ax =  plt.subplots(2,2)\n",
    "    ax = ax.flatten()\n",
    "    \n",
    "    residuals = resultlist[0].resid\n",
    "    sns.regplot(\n",
    "        x=\"moveX\",\n",
    "        y=\"MeanResponse\",\n",
    "        data=resultlist[1],\n",
    "        line_kws={\"color\": \"red\"},\n",
    "        scatter_kws={\"alpha\": 0.5}, ax= ax[0])\n",
    "    ax[0].set_title(\"Relationship between moveX and MeanResponse\")\n",
    "    ax[0].set_xlabel(\"moveX\")\n",
    "    ax[0].set_ylabel(\"MeanResponse\")\n",
    "    \n",
    "    sns.histplot(residuals, kde=True, bins=30, ax = ax[1])\n",
    "    ax[1].set_title(\"Distribution of Residuals\")\n",
    "    ax[1].set_xlabel(\"Residuals\")\n",
    "    ax[1].set_ylabel(\"Frequency\")\n",
    "    ax[1].axvline(0, color='red', linestyle='--')\n",
    "    \n",
    "    # Q-Q plot\n",
    "    \n",
    "    stats.probplot(residuals, dist=\"norm\", plot= ax[2])\n",
    "    ax[2].set_title(\"Q-Q Plot of Residuals\")\n",
    "    \n",
    "    predicted = resultlist[0].params.Intercept + (resultlist[0].params.moveX * resultlist[1][\"moveX\"])\n",
    "    \n",
    "    # Actual vs. predicted plot\n",
    "    sns.scatterplot(x=predicted, y=resultlist[1][\"MeanResponse\"], alpha=0.5, ax = ax[3])\n",
    "    ax[3].plot([min(predicted), max(predicted)], [min(predicted), max(predicted)], color=\"red\", linestyle=\"--\")\n",
    "    ax[3].set_title(\"Actual vs. Predicted MeanResponse\")\n",
    "    ax[3].set_xlabel(\"Predicted MeanResponse\")\n",
    "    ax[3].set_ylabel(\"Actual MeanResponse\")\n",
    "    \n",
    "    fig.suptitle(block)\n",
    "    \n",
    "    fig.tight_layout()\n",
    "    \n"
   ]
  },
  {
   "cell_type": "code",
   "execution_count": null,
   "id": "29",
   "metadata": {},
   "outputs": [],
   "source": [
    "halt_closedloop_data = Vars[(Vars['event'] == 'halt') & (Vars['SessionBlock'] == 'closedloop')]\n",
    "\n",
    "plt.scatter(halt_closedloop_data['moveX'], halt_closedloop_data['PeakResponse'])\n",
    "\n",
    "nohalt_closedloop_data = Vars[(Vars['event'] == 'no halt') & (Vars['SessionBlock'] == 'closedloop')]\n",
    "\n",
    "plt.scatter(nohalt_closedloop_data['moveX'], nohalt_closedloop_data['PeakResponse'], alpha = 0.5)\n",
    "\n",
    "plt.xlabel('Speed cm/sec')\n",
    "plt.ylabel('peak response')"
   ]
  },
  {
   "cell_type": "raw",
   "id": "30",
   "metadata": {},
   "source": [
    "fig = plt.figure(figsize=(8,8))\n",
    "ax1 = fig.add_subplot(1, 2, 1, xticklabels=[], yticklabels=[], xticks=[], yticks=[], fc=\"red\",)\n",
    "ax2 = fig.add_subplot(2, 2, 2, xticklabels=[], yticklabels=[], xticks=[], yticks=[], fc=\"blue\")\n",
    "ax3 = fig.add_subplot(4, 2, 6, xticklabels=[], yticklabels=[], xticks=[], yticks=[], fc=\"yellow\")\n",
    "ax4 = fig.add_subplot(8, 2, 14, xticklabels=[], yticklabels=[], xticks=[], yticks=[], fc=\"green\")\n",
    "ax5 = fig.add_subplot(8, 2, 16, xticklabels=[], yticklabels=[], xticks=[], yticks=[], fc=\"orange\")\n",
    "ax1.text(0.5, 0.5, \"ax1\", horizontalalignment='center', verticalalignment='center')\n",
    "ax2.text(0.5, 0.5, \"ax2\", horizontalalignment='center', verticalalignment='center')\n",
    "ax3.text(0.5, 0.5, \"ax3\", horizontalalignment='center', verticalalignment='center')\n",
    "ax4.text(0.5, 0.5, \"ax4\", horizontalalignment='center', verticalalignment='center')\n",
    "ax5.text(0.5, 0.5, \"ax5\", horizontalalignment='center', verticalalignment='center')\n",
    "plt.show()"
   ]
  },
  {
   "cell_type": "code",
   "execution_count": null,
   "id": "31",
   "metadata": {},
   "outputs": [],
   "source": [
    "# Fit a mixed-effects model\n",
    "mixed_model = smf.mixedlm(\n",
    "    \"PeakResponse ~ event + SessionNumber + SessionBlock\",  # Fixed effects\n",
    "    data=Vars,\n",
    "    groups=Vars[\"MouseID\"],  # Random intercept for MouseID\n",
    ").fit()\n",
    "\n",
    "print(mixed_model.summary())\n"
   ]
  },
  {
   "cell_type": "code",
   "execution_count": null,
   "id": "32",
   "metadata": {},
   "outputs": [],
   "source": [
    "# Random slopes for 'event' by 'MouseID'\n",
    "random_slopes_model = smf.mixedlm(\n",
    "    \"PeakResponse ~ event + SessionNumber + SessionBlock\",\n",
    "    data=Vars,\n",
    "    groups=Vars[\"MouseID\"],\n",
    "    re_formula=\"~event\"  # Random slope for event within MouseID\n",
    ").fit()\n",
    "\n",
    "print(random_slopes_model.summary())"
   ]
  },
  {
   "cell_type": "code",
   "execution_count": null,
   "id": "33",
   "metadata": {},
   "outputs": [],
   "source": [
    "null_model = smf.mixedlm(\n",
    "    \"PeakResponse ~ SessionNumber + SessionBlock\",\n",
    "    data=Vars,\n",
    "    groups=Vars[\"MouseID\"]\n",
    ").fit()\n",
    "print(null_model.summary())"
   ]
  },
  {
   "cell_type": "code",
   "execution_count": null,
   "id": "34",
   "metadata": {},
   "outputs": [],
   "source": [
    "\n",
    "\n",
    "# Calculate likelihood ratio\n",
    "ll_null = null_model.llf  # Log-likelihood of the null model\n",
    "ll_full = mixed_model.llf  # Log-likelihood of the full model\n",
    "lr_stat = -2 * (ll_null - ll_full)\n",
    "\n",
    "# Degrees of freedom\n",
    "df_diff = mixed_model.df_modelwc - null_model.df_modelwc\n",
    "\n",
    "# p-value\n",
    "p_value = chi2.sf(lr_stat, df_diff)\n",
    "\n",
    "print(f\"Likelihood Ratio Test Statistic: {lr_stat}\")\n",
    "print(f\"Degrees of Freedom: {df_diff}\")\n",
    "print(f\"P-Value: {p_value}\")"
   ]
  },
  {
   "cell_type": "code",
   "execution_count": null,
   "id": "35",
   "metadata": {},
   "outputs": [],
   "source": [
    "# Extract residuals\n",
    "residuals = mixed_model.resid\n",
    "\n",
    "# Histogram of residuals\n",
    "sns.histplot(residuals, kde=True)\n",
    "plt.title(\"Histogram of Residuals\")\n",
    "plt.show()\n",
    "\n",
    "# Residuals vs. fitted values\n",
    "fitted_values = mixed_model.fittedvalues\n",
    "plt.scatter(fitted_values, residuals)\n",
    "plt.axhline(0, color='red', linestyle='--')\n",
    "plt.title(\"Residuals vs. Fitted Values\")\n",
    "plt.xlabel(\"Fitted Values\")\n",
    "plt.ylabel(\"Residuals\")\n",
    "plt.show()"
   ]
  },
  {
   "cell_type": "code",
   "execution_count": null,
   "id": "36",
   "metadata": {},
   "outputs": [],
   "source": [
    "# Function to resample and refit the model\n",
    "import warnings\n",
    "from sklearn.exceptions import ConvergenceWarning\n",
    "\n",
    "def bootstrap_coefficients(model, data, n_bootstraps=1000):\n",
    "    warnings.filterwarnings(\"ignore\", category=ConvergenceWarning)\n",
    "    bootstrap_results = []\n",
    "    for _ in range(n_bootstraps):\n",
    "        sample = data.sample(frac=1, replace=True)  # Resample with replacement\n",
    "        bootstrap_model = smf.mixedlm(\n",
    "            formula=model.model.formula,\n",
    "            data=sample,\n",
    "            groups=sample[\"MouseID\"],\n",
    "            re_formula=\"~event\"\n",
    "        ).fit(method='lbfgs', maxiter=100)\n",
    "        bootstrap_results.append(bootstrap_model.params)\n",
    "    return pd.DataFrame(bootstrap_results)\n",
    "\n",
    "# Apply bootstrapping\n",
    "#bootstrap_results = bootstrap_coefficients(mixed_model, combined_vars)\n",
    "#print(bootstrap_results.describe())"
   ]
  },
  {
   "cell_type": "code",
   "execution_count": null,
   "id": "37",
   "metadata": {},
   "outputs": [],
   "source": [
    "#Vars.describe()\n",
    "#bootstrap_results.describe()"
   ]
  },
  {
   "cell_type": "code",
   "execution_count": null,
   "id": "38",
   "metadata": {},
   "outputs": [],
   "source": [
    "interaction_model = smf.mixedlm(\n",
    "    \"PeakResponse ~ event * SessionBlock + SessionNumber\",\n",
    "    data=Vars,\n",
    "    groups=Vars[\"MouseID\"],\n",
    "    re_formula=\"~event\"\n",
    ").fit()\n",
    "\n",
    "print(interaction_model.summary())"
   ]
  },
  {
   "cell_type": "code",
   "execution_count": null,
   "id": "39",
   "metadata": {},
   "outputs": [],
   "source": [
    "nohalt_model = smf.mixedlm(\n",
    "    \"MeanResponse ~ SessionBlock + SessionNumber\",\n",
    "    data=Nohalt_data,\n",
    "    groups=Nohalt_data[\"MouseID\"]\n",
    ").fit()\n",
    "\n",
    "print(nohalt_model.summary())"
   ]
  },
  {
   "cell_type": "code",
   "execution_count": null,
   "id": "40",
   "metadata": {},
   "outputs": [],
   "source": [
    "halt_model = smf.mixedlm(\n",
    "    \"MeanResponse ~ SessionBlock + SessionNumber\",\n",
    "    data=halt_data,\n",
    "    groups=halt_data[\"MouseID\"]\n",
    ").fit()\n",
    "\n",
    "print(halt_model.summary())"
   ]
  },
  {
   "cell_type": "code",
   "execution_count": null,
   "id": "41",
   "metadata": {},
   "outputs": [],
   "source": []
  }
 ],
 "metadata": {
  "kernelspec": {
   "display_name": "aeon_env",
   "language": "python",
   "name": "aeon_env"
  },
  "language_info": {
   "codemirror_mode": {
    "name": "ipython",
    "version": 3
   },
   "file_extension": ".py",
   "mimetype": "text/x-python",
   "name": "python",
   "nbconvert_exporter": "python",
   "pygments_lexer": "ipython3",
   "version": "3.12.8"
  }
 },
 "nbformat": 4,
 "nbformat_minor": 5
}
