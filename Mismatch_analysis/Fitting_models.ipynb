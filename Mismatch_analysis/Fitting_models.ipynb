{
 "cells": [
  {
   "cell_type": "code",
   "execution_count": null,
   "id": "0",
   "metadata": {},
   "outputs": [],
   "source": [
    "import pandas as pd\n",
    "import numpy as np\n",
    "import matplotlib.pyplot as plt\n",
    "from matplotlib.patches import Rectangle\n",
    "from analysis_functions import *\n",
    "from model_functions import *\n",
    "import matplotlib.patches as patches\n",
    "import seaborn as sns\n",
    "import scipy.stats as stats\n",
    "from scipy.stats import shapiro, chi2, mannwhitneyu, ttest_ind"
   ]
  },
  {
   "cell_type": "markdown",
   "id": "1",
   "metadata": {},
   "source": [
    "# Read extraced variables into csv"
   ]
  },
  {
   "cell_type": "markdown",
   "id": "2",
   "metadata": {},
   "source": [
    "Consider importing multiple datasets"
   ]
  },
  {
   "cell_type": "code",
   "execution_count": null,
   "id": "3",
   "metadata": {},
   "outputs": [],
   "source": [
    "closedopenMM_GCaMPvars = pd.read_csv('Saved_data/GCaMP_closedopenMM_all_470_stats_df.csv')\n",
    "#closedopenMM_GCaMPvars = pd.read_csv('GRAB_MM_extracted_closedopenMM_GCaMPvars.csv')\n",
    "#sensor = 'GRAB'\n",
    "closedopenMM_GCaMPvars"
   ]
  },
  {
   "cell_type": "markdown",
   "id": "4",
   "metadata": {},
   "source": [
    "# Make boxplots to view difference in params for halts and no-halts "
   ]
  },
  {
   "cell_type": "code",
   "execution_count": null,
   "id": "5",
   "metadata": {},
   "outputs": [],
   "source": [
    "#Look at halt data for 0 to 1 second after halt\n",
    "halt_data_during_session1 = filter_data(closedopenMM_GCaMPvars, ['was_halt', 'session 1', '0-1s'])\n",
    "halt_data_during_session1.describe() "
   ]
  },
  {
   "cell_type": "code",
   "execution_count": null,
   "id": "6",
   "metadata": {},
   "outputs": [],
   "source": [
    "#Look at halt data for 0 to 1 second after the non-halt\n",
    "Nohalt_during_session1 = filter_data(closedopenMM_GCaMPvars, ['no_halt', 'session 1', '0-1s'])\n",
    "Nohalt_during_session1.describe() "
   ]
  },
  {
   "cell_type": "markdown",
   "id": "7",
   "metadata": {},
   "source": [
    "## Plotting params for individual mice"
   ]
  },
  {
   "cell_type": "code",
   "execution_count": null,
   "id": "8",
   "metadata": {},
   "outputs": [],
   "source": [
    "# List of statistics to compare\n",
    "statistics_to_compare = ['peak', 'mean', 'stderr', 'movementX_prior']\n",
    "\n",
    "# Generate the grid of boxplots for the time range '0-1s'\n",
    "compare_statistics_grid(closedopenMM_GCaMPvars, statistics=statistics_to_compare, time_range='0-1s')\n",
    "\n"
   ]
  },
  {
   "cell_type": "code",
   "execution_count": null,
   "id": "9",
   "metadata": {},
   "outputs": [],
   "source": [
    "# List of statistics to compare\n",
    "statistics_to_compare = ['peak', 'mean', 'stderr', 'movementX_prior']\n",
    "\n",
    "# Generate the grid of boxplots for the time range '0-1s'\n",
    "compare_statistics_grid(closedopenMM_GCaMPvars, statistics=statistics_to_compare, time_range='1-2s')"
   ]
  },
  {
   "cell_type": "code",
   "execution_count": null,
   "id": "10",
   "metadata": {},
   "outputs": [],
   "source": [
    "# Grouping by relevant columns and aggregating the desired statistics\n",
    "mouse_means = (\n",
    "    closedopenMM_GCaMPvars.groupby(['mouse_id', 'halt', 'block_type', 'session', 'time_range'])\n",
    "    .agg({\n",
    "        'peak': 'mean',  # Mean peak response for each group\n",
    "        'mean': 'mean',  # Mean response for each group\n",
    "        'stderr': 'mean',  # Mean standard error for each group\n",
    "        'movementX_prior': 'mean',  # Mean movementX_prior\n",
    "        'movementY_prior': 'mean',  # Mean movementY_prior\n",
    "    })\n",
    "    .reset_index()  # Reset index for easier handling\n",
    ")\n",
    "\n",
    "# Displaying the result\n",
    "mouse_means\n"
   ]
  },
  {
   "cell_type": "code",
   "execution_count": null,
   "id": "11",
   "metadata": {},
   "outputs": [],
   "source": [
    "# List of statistics to compare\n",
    "statistics_to_compare = ['peak', 'mean', 'stderr', 'movementX_prior', 'movementY_prior']\n",
    "\n",
    "# Generate the grid of boxplots for the time range '0-1s'\n",
    "compare_statistics_grid_sessions(closedopenMM_GCaMPvars, statistics=statistics_to_compare, time_range='0-1s')\n"
   ]
  },
  {
   "cell_type": "markdown",
   "id": "12",
   "metadata": {},
   "source": [
    "## Plotting all mouse averages togheter"
   ]
  },
  {
   "cell_type": "code",
   "execution_count": null,
   "id": "13",
   "metadata": {},
   "outputs": [],
   "source": [
    "mouse_means.loc[mouse_means.time_range == '0-1s']"
   ]
  },
  {
   "cell_type": "code",
   "execution_count": null,
   "id": "14",
   "metadata": {},
   "outputs": [],
   "source": [
    "fig, ax = plt.subplots(2,3, figsize = (15, 8))\n",
    "ax = ax.flatten()\n",
    "\n",
    "i = 0\n",
    "\n",
    "response_params = ['peak', 'mean']\n",
    "for response_col in response_params:\n",
    "        \n",
    "    sns.boxplot(x=\"halt\", y=response_col, data=mouse_means.loc[mouse_means.time_range == '0-1s'], hue=\"block_type\", ax=ax[i])\n",
    "    ax[i].set_title(f\"{response_col} halt\")\n",
    "    ax[i].get_legend().remove()\n",
    "    \n",
    "    i+=1\n",
    "\n",
    "    sns.boxplot(x=\"halt\", y=response_col, data=mouse_means.loc[mouse_means.time_range == '-1-0s'], hue=\"block_type\", ax=ax[i])\n",
    "    ax[i].set_title(f\"{response_col} halt\")\n",
    "    ax[i].get_legend().remove()\n",
    "\n",
    "    i+=1\n",
    "\n",
    "    sns.boxplot(x=\"halt\", y=response_col, data=mouse_means.loc[mouse_means.time_range == '1-2s'], hue=\"block_type\", ax=ax[i])\n",
    "    ax[i].set_title(f\"{response_col} halt\")\n",
    "    ax[i].get_legend().remove()\n",
    "\n",
    "    i+=1\n",
    "plt.legend()\n",
    "fig.suptitle(f'average_of_mouseaverages_params')\n",
    "\n",
    "fig.tight_layout(pad=1.08)\n",
    "#fig.savefig(f'Figures/_halt_nohalt_boxplot.png', format = 'png')\n"
   ]
  },
  {
   "cell_type": "code",
   "execution_count": null,
   "id": "15",
   "metadata": {},
   "outputs": [],
   "source": [
    "## Testing the response difference in the halt and control condition"
   ]
  },
  {
   "cell_type": "code",
   "execution_count": null,
   "id": "16",
   "metadata": {},
   "outputs": [],
   "source": [
    "def testing_diff_control(main_df, control_df):\n",
    "    #testing normality\n",
    "    shapiro_main = shapiro(main_df)\n",
    "    shapiro_control= shapiro(control_df)\n",
    "\n",
    "    print(\"Shapiro-Wilk test for halt:\", shapiro_main)\n",
    "    print(\"Shapiro-Wilk test for no halt:\", shapiro_control)\n",
    "\n",
    "    if (shapiro_main.pvalue < 0.05) or (shapiro_control.pvalue < 0.05):\n",
    "        print('\\n Datasets are normally distributed, will perform t-test \\n')\n",
    "        t_stat, p_val = ttest_ind(main_df, control_df, equal_var=False)\n",
    "        print(f\"T-test: t-statistic={t_stat}, p-value={p_val}\")\n",
    "    else:\n",
    "        print('\\n At least one dataset is not normally distributed, will perform Mann–Whitney U test \\n')\n",
    "        u_stat, p_val = mannwhitneyu(main_df, control_df, alternative='two-sided')\n",
    "        print(f\"Mann-Whitney U test: U-statistic={u_stat}, p-value={p_val}\")\n",
    "\n",
    "    mean_diff = np.mean(main_df) - np.mean(control_df)\n",
    "    pooled_std = np.sqrt((np.std(main_df, ddof=1)**2 + np.std(control_df, ddof=1)**2) / 2)\n",
    "    cohens_d = mean_diff / pooled_std\n",
    "    print(f\"Cohen's d: {cohens_d}\")"
   ]
  },
  {
   "cell_type": "code",
   "execution_count": null,
   "id": "17",
   "metadata": {},
   "outputs": [],
   "source": [
    "halt_mean_response = mouse_means.loc[mouse_means['halt'] == True, 'mean']\n",
    "no_halt_mean_response = mouse_means.loc[mouse_means['halt'] == False, 'mean']\n",
    "\n",
    "testing_diff_control(halt_mean_response, no_halt_mean_response)"
   ]
  },
  {
   "cell_type": "code",
   "execution_count": null,
   "id": "18",
   "metadata": {},
   "outputs": [],
   "source": [
    "halt_peak_response = mouse_means.loc[mouse_means['halt'] == True, 'peak']\n",
    "no_peak_mean_response = mouse_means.loc[mouse_means['halt'] == False, 'peak']\n",
    "\n",
    "testing_diff_control(halt_peak_response, no_peak_mean_response)"
   ]
  },
  {
   "cell_type": "markdown",
   "id": "19",
   "metadata": {},
   "source": [
    "## Fitting Linear Mixed-Effects Model\n",
    "Response = β0 +β1 ⋅moveX+β2 ⋅moveY+β3 ⋅event+β4 ⋅block_type+β5 ⋅ moveX:block_type+u mouse_id + ϵ"
   ]
  },
  {
   "cell_type": "code",
   "execution_count": null,
   "id": "20",
   "metadata": {},
   "outputs": [],
   "source": [
    "import statsmodels.api as sm\n",
    "import statsmodels.formula.api as smf\n",
    "\n",
    "# Fit Linear Mixed-Effects Model\n",
    "model = smf.mixedlm(\n",
    "    \"mean ~ movementX_prior + halt + block_type + movementX_prior:block_type\",\n",
    "    data=closedopenMM_GCaMPvars,\n",
    "    groups=closedopenMM_GCaMPvars[\"mouse_id\"]\n",
    ")\n",
    "result = model.fit()\n",
    "print(result.summary())\n"
   ]
  },
  {
   "cell_type": "code",
   "execution_count": null,
   "id": "21",
   "metadata": {},
   "outputs": [],
   "source": [
    "print(closedopenMM_GCaMPvars[\"mouse_id\"].value_counts())\n",
    "print(closedopenMM_GCaMPvars.groupby(\"mouse_id\")[[\"movementX_prior\", \"movementY_prior\"]].std())\n"
   ]
  },
  {
   "cell_type": "code",
   "execution_count": null,
   "id": "22",
   "metadata": {},
   "outputs": [],
   "source": [
    "# Fit Linear Mixed-Effects Model\n",
    "model = smf.mixedlm(\n",
    "    \"peak ~ movementX_prior + halt + block_type + movementX_prior:block_type\",\n",
    "    data=closedopenMM_GCaMPvars,\n",
    "    groups=closedopenMM_GCaMPvars[\"mouse_id\"]\n",
    ")\n",
    "result = model.fit()\n",
    "print(result.summary())"
   ]
  },
  {
   "cell_type": "code",
   "execution_count": null,
   "id": "23",
   "metadata": {},
   "outputs": [],
   "source": [
    "# Fit Linear Mixed-Effects Model\n",
    "model = smf.mixedlm(\n",
    "    \"mean ~ halt\",\n",
    "    data=closedopenMM_GCaMPvars,\n",
    "    groups=closedopenMM_GCaMPvars[\"mouse_id\"]\n",
    ")\n",
    "result = model.fit()\n",
    "print(result.summary())"
   ]
  },
  {
   "cell_type": "markdown",
   "id": "24",
   "metadata": {},
   "source": [
    "## Look at halt data alone - especially if significantly different from no halt data"
   ]
  },
  {
   "cell_type": "code",
   "execution_count": null,
   "id": "25",
   "metadata": {},
   "outputs": [],
   "source": [
    "halt_data = filter_data(closedopenMM_GCaMPvars, ['was_halt'])"
   ]
  },
  {
   "cell_type": "code",
   "execution_count": null,
   "id": "26",
   "metadata": {},
   "outputs": [],
   "source": [
    "# Fit Linear Mixed-Effects Model\n",
    "model = smf.mixedlm(\n",
    "    \"peak ~ movementX_prior + block_type + movementX_prior:block_type\",\n",
    "    data=halt_data,\n",
    "    groups=halt_data[\"mouse_id\"]\n",
    ")\n",
    "result = model.fit()\n",
    "print(result.summary())"
   ]
  },
  {
   "cell_type": "code",
   "execution_count": null,
   "id": "27",
   "metadata": {},
   "outputs": [],
   "source": [
    "#Fit a variable at a time\n",
    "response_running = smf.ols('mean ~ movementX_prior + movementX_prior:block_type', data=halt_data).fit()\n",
    "\n",
    "print(response_running.summary())\n",
    "#print(response_running.t_test('PeakResponse'))\n",
    "print(\"MSE=%.3f\" % response_running.mse_resid)"
   ]
  },
  {
   "cell_type": "code",
   "execution_count": null,
   "id": "28",
   "metadata": {},
   "outputs": [],
   "source": [
    "closedloop_data = filter_data(halt_data, ['closedloop', '0-1s'])\n",
    "\n",
    "cloop_response_running = smf.ols('mean ~ movementX_prior', data=closedloop_data).fit()\n",
    "\n",
    "print(cloop_response_running.summary())\n",
    "#print(response_running.t_test('PeakResponse'))\n",
    "print(\"MSE=%.3f\" % response_running.mse_resid)\n",
    "\n",
    "openloop_data = filter_data(halt_data, ['openloop', '0-1s'])\n",
    "\n",
    "oloop_response_running = smf.ols('mean ~ movementX_prior', data=openloop_data).fit()\n",
    "\n",
    "print(oloop_response_running.summary())\n",
    "#print(response_running.t_test('PeakResponse'))\n",
    "print(\"MSE=%.3f\" % response_running.mse_resid)"
   ]
  },
  {
   "cell_type": "code",
   "execution_count": null,
   "id": "29",
   "metadata": {},
   "outputs": [],
   "source": [
    "cloop_response_time = smf.ols('mean ~ event_time', data=closedloop_data).fit()\n",
    "\n",
    "print(cloop_response_time.summary())\n",
    "\n",
    "\n",
    "oloop_response_time = smf.ols('mean ~ event_time', data=openloop_data).fit()\n",
    "\n",
    "print(oloop_response_time.summary())"
   ]
  },
  {
   "cell_type": "code",
   "execution_count": null,
   "id": "30",
   "metadata": {},
   "outputs": [],
   "source": [
    "#plotting closed loop\n",
    "block_result_dict = {'closedloop': [cloop_response_running, closedloop_data],'openloop': [oloop_response_running, openloop_data]}\n",
    "\n",
    "for block, resultlist in block_result_dict.items():\n",
    "    \n",
    "    fig, ax =  plt.subplots(2,2)\n",
    "    ax = ax.flatten()\n",
    "    \n",
    "    residuals = resultlist[0].resid\n",
    "    sns.regplot(\n",
    "        x=\"movementX_prior\",\n",
    "        y=\"mean\",\n",
    "        data=resultlist[1],\n",
    "        line_kws={\"color\": \"red\"},\n",
    "        scatter_kws={\"alpha\": 0.5}, ax= ax[0])\n",
    "    ax[0].set_title(\"Relationship between moveX and mean\")\n",
    "    ax[0].set_xlabel(\"moveX\")\n",
    "    ax[0].set_ylabel(\"mean\")\n",
    "    \n",
    "    sns.histplot(residuals, kde=True, bins=30, ax = ax[1])\n",
    "    ax[1].set_title(\"Distribution of Residuals\")\n",
    "    ax[1].set_xlabel(\"Residuals\")\n",
    "    ax[1].set_ylabel(\"Frequency\")\n",
    "    ax[1].axvline(0, color='red', linestyle='--')\n",
    "    \n",
    "    # Q-Q plot\n",
    "    \n",
    "    stats.probplot(residuals, dist=\"norm\", plot= ax[2])\n",
    "    ax[2].set_title(\"Q-Q Plot of Residuals\")\n",
    "    \n",
    "    predicted = resultlist[0].params.Intercept + (resultlist[0].params.movementX_prior * resultlist[1][\"movementX_prior\"])\n",
    "    \n",
    "    # Actual vs. predicted plot\n",
    "    sns.scatterplot(x=predicted, y=resultlist[1][\"mean\"], alpha=0.5, ax = ax[3])\n",
    "    ax[3].plot([min(predicted), max(predicted)], [min(predicted), max(predicted)], color=\"red\", linestyle=\"--\")\n",
    "    ax[3].set_title(\"Actual vs. Predicted mean\")\n",
    "    ax[3].set_xlabel(\"Predicted mean\")\n",
    "    ax[3].set_ylabel(\"Actual mean\")\n",
    "    \n",
    "    fig.suptitle(block)\n",
    "    \n",
    "    fig.tight_layout()\n",
    "    \n"
   ]
  },
  {
   "cell_type": "code",
   "execution_count": null,
   "id": "31",
   "metadata": {},
   "outputs": [],
   "source": [
    "halt_closedloop_data = filter_data(closedopenMM_GCaMPvars, ['was_halt', 'closedloop'])##closedopenMM_GCaMPvars[(closedopenMM_GCaMPvars['halt'] == True) & (closedopenMM_GCaMPvars['block_type'] == 'closedloop')]\n",
    "\n",
    "plt.scatter(halt_closedloop_data['movementX_prior'], halt_closedloop_data['peak'], label = 'halt')\n",
    "\n",
    "nohalt_closedloop_data = filter_data(closedopenMM_GCaMPvars, ['no_halt', 'closedloop'])#[(closedopenMM_GCaMPvars['halt'] == False) & (closedopenMM_GCaMPvars['block_type'] == 'closedloop')]\n",
    "\n",
    "plt.scatter(nohalt_closedloop_data['movementX_prior'], nohalt_closedloop_data['peak'], alpha = 0.5, label = 'no halt')\n",
    "\n",
    "plt.xlabel('Speed cm/sec')\n",
    "plt.ylabel('peak response')\n",
    "plt.legend()"
   ]
  },
  {
   "cell_type": "raw",
   "id": "32",
   "metadata": {},
   "source": [
    "fig = plt.figure(figsize=(8,8))\n",
    "ax1 = fig.add_subplot(1, 2, 1, xticklabels=[], yticklabels=[], xticks=[], yticks=[], fc=\"red\",)\n",
    "ax2 = fig.add_subplot(2, 2, 2, xticklabels=[], yticklabels=[], xticks=[], yticks=[], fc=\"blue\")\n",
    "ax3 = fig.add_subplot(4, 2, 6, xticklabels=[], yticklabels=[], xticks=[], yticks=[], fc=\"yellow\")\n",
    "ax4 = fig.add_subplot(8, 2, 14, xticklabels=[], yticklabels=[], xticks=[], yticks=[], fc=\"green\")\n",
    "ax5 = fig.add_subplot(8, 2, 16, xticklabels=[], yticklabels=[], xticks=[], yticks=[], fc=\"orange\")\n",
    "ax1.text(0.5, 0.5, \"ax1\", horizontalalignment='center', verticalalignment='center')\n",
    "ax2.text(0.5, 0.5, \"ax2\", horizontalalignment='center', verticalalignment='center')\n",
    "ax3.text(0.5, 0.5, \"ax3\", horizontalalignment='center', verticalalignment='center')\n",
    "ax4.text(0.5, 0.5, \"ax4\", horizontalalignment='center', verticalalignment='center')\n",
    "ax5.text(0.5, 0.5, \"ax5\", horizontalalignment='center', verticalalignment='center')\n",
    "plt.show()"
   ]
  },
  {
   "cell_type": "code",
   "execution_count": null,
   "id": "33",
   "metadata": {},
   "outputs": [],
   "source": [
    "# Fit a mixed-effects model\n",
    "mixed_model = smf.mixedlm(\n",
    "    \"peak ~ halt + session + block_type\",  # Fixed effects\n",
    "    data=closedopenMM_GCaMPvars,\n",
    "    groups=closedopenMM_GCaMPvars['mouse_id'],  # Random intercept for mouse_id\n",
    ").fit()\n",
    "\n",
    "print(mixed_model.summary())\n"
   ]
  },
  {
   "cell_type": "code",
   "execution_count": null,
   "id": "34",
   "metadata": {},
   "outputs": [],
   "source": [
    "# Random slopes for 'event' by 'mouse_id'\n",
    "random_slopes_model = smf.mixedlm(\n",
    "    \"peak ~ halt +session + block_type\",\n",
    "    data=closedopenMM_GCaMPvars,\n",
    "    groups=closedopenMM_GCaMPvars[\"mouse_id\"],\n",
    "    re_formula=\"~halt\"  # Random slope for event within mouse_id\n",
    ").fit()\n",
    "\n",
    "print(random_slopes_model.summary())"
   ]
  },
  {
   "cell_type": "code",
   "execution_count": null,
   "id": "35",
   "metadata": {},
   "outputs": [],
   "source": [
    "null_model = smf.mixedlm(\n",
    "    \"peak ~ session + block_type\",\n",
    "    data=closedopenMM_GCaMPvars,\n",
    "    groups=closedopenMM_GCaMPvars[\"mouse_id\"]\n",
    ").fit()\n",
    "print(null_model.summary())"
   ]
  },
  {
   "cell_type": "code",
   "execution_count": null,
   "id": "36",
   "metadata": {},
   "outputs": [],
   "source": [
    "# Calculate likelihood ratio\n",
    "ll_null = null_model.llf  # Log-likelihood of the null model\n",
    "ll_full = mixed_model.llf  # Log-likelihood of the full model\n",
    "lr_stat = -2 * (ll_null - ll_full)\n",
    "\n",
    "# Degrees of freedom\n",
    "df_diff = mixed_model.df_modelwc - null_model.df_modelwc\n",
    "\n",
    "# p-value\n",
    "p_value = chi2.sf(lr_stat, df_diff)\n",
    "\n",
    "print(f\"Likelihood Ratio Test Statistic: {lr_stat}\")\n",
    "print(f\"Degrees of Freedom: {df_diff}\")\n",
    "print(f\"P-Value: {p_value}\")"
   ]
  },
  {
   "cell_type": "code",
   "execution_count": null,
   "id": "37",
   "metadata": {},
   "outputs": [],
   "source": [
    "# Extract residuals\n",
    "residuals = mixed_model.resid\n",
    "\n",
    "# Histogram of residuals\n",
    "sns.histplot(residuals, kde=True)\n",
    "plt.title(\"Histogram of Residuals\")\n",
    "plt.show()\n",
    "\n",
    "# Residuals vs. fitted values\n",
    "fitted_values = mixed_model.fittedvalues\n",
    "plt.scatter(fitted_values, residuals)\n",
    "plt.axhline(0, color='red', linestyle='--')\n",
    "plt.title(\"Residuals vs. Fitted Values\")\n",
    "plt.xlabel(\"Fitted Values\")\n",
    "plt.ylabel(\"Residuals\")\n",
    "plt.show()"
   ]
  },
  {
   "cell_type": "code",
   "execution_count": null,
   "id": "38",
   "metadata": {},
   "outputs": [],
   "source": [
    "# Function to resample and refit the model\n",
    "import warnings\n",
    "#from sklearn.exceptions import ConvergenceWarning\n",
    "\n",
    "def bootstrap_coefficients(model, data, n_bootstraps=1000):\n",
    "    warnings.filterwarnings(\"ignore\", category=ConvergenceWarning)\n",
    "    bootstrap_results = []\n",
    "    for _ in range(n_bootstraps):\n",
    "        sample = data.sample(frac=1, replace=True)  # Resample with replacement\n",
    "        bootstrap_model = smf.mixedlm(\n",
    "            formula=model.model.formula,\n",
    "            data=sample,\n",
    "            groups=sample[\"mouse_id\"],\n",
    "            re_formula=\"~halt\"\n",
    "        ).fit(method='lbfgs', maxiter=100)\n",
    "        bootstrap_results.append(bootstrap_model.params)\n",
    "    return pd.DataFrame(bootstrap_results)\n",
    "\n",
    "# Apply bootstrapping\n",
    "#bootstrap_results = bootstrap_coefficients(mixed_model, combined_closedopenMM_GCaMPvars)\n",
    "#print(bootstrap_results.describe())"
   ]
  },
  {
   "cell_type": "code",
   "execution_count": null,
   "id": "39",
   "metadata": {},
   "outputs": [],
   "source": [
    "\n",
    "#closedopenMM_GCaMPvars.describe()\n",
    "#bootstrap_results.describe()"
   ]
  },
  {
   "cell_type": "code",
   "execution_count": null,
   "id": "40",
   "metadata": {},
   "outputs": [],
   "source": [
    "interaction_model = smf.mixedlm(\n",
    "    \"peak ~ halt * block_type + session\",\n",
    "    data=closedopenMM_GCaMPvars,\n",
    "    groups=closedopenMM_GCaMPvars[\"mouse_id\"],\n",
    "    re_formula=\"~halt\"\n",
    ").fit()\n",
    "\n",
    "print(interaction_model.summary())"
   ]
  },
  {
   "cell_type": "code",
   "execution_count": null,
   "id": "41",
   "metadata": {},
   "outputs": [],
   "source": [
    "nohalt_model = smf.mixedlm(\n",
    "    \"mean ~ block_type + session\",\n",
    "    data=Nohalt_during_session1 ,\n",
    "    groups=Nohalt_during_session1[\"mouse_id\"]\n",
    ").fit()\n",
    "\n",
    "print(nohalt_model.summary())"
   ]
  },
  {
   "cell_type": "code",
   "execution_count": null,
   "id": "42",
   "metadata": {},
   "outputs": [],
   "source": [
    "halt_model = smf.mixedlm(\n",
    "    \"mean ~ block_type + session\",\n",
    "    data=halt_data_during_session1,\n",
    "    groups=halt_data_during_session1[\"mouse_id\"]\n",
    ").fit()\n",
    "\n",
    "print(halt_model.summary())"
   ]
  },
  {
   "cell_type": "code",
   "execution_count": null,
   "id": "43",
   "metadata": {},
   "outputs": [],
   "source": []
  }
 ],
 "metadata": {
  "kernelspec": {
   "display_name": "aeon_env_3",
   "language": "python",
   "name": "aeon_env_3"
  },
  "language_info": {
   "codemirror_mode": {
    "name": "ipython",
    "version": 3
   },
   "file_extension": ".py",
   "mimetype": "text/x-python",
   "name": "python",
   "nbconvert_exporter": "python",
   "pygments_lexer": "ipython3",
   "version": "3.13.1"
  }
 },
 "nbformat": 4,
 "nbformat_minor": 5
}
