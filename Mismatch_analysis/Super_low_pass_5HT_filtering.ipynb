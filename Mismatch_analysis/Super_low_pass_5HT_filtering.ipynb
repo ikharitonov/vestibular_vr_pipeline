{
 "cells": [
  {
   "cell_type": "code",
   "execution_count": 7,
   "id": "515bc503-bf46-4364-aaf4-ff71500d65dc",
   "metadata": {},
   "outputs": [],
   "source": [
    "import pandas as pd\n",
    "import numpy as np\n",
    "\n",
    "from analysis_functions import *\n",
    "\n"
   ]
  },
  {
   "cell_type": "code",
   "execution_count": 8,
   "id": "3ea93f13-0ee4-4a8e-a87a-b232fbb10ca6",
   "metadata": {},
   "outputs": [],
   "source": [
    "GRAB_MM_1 = pd.read_csv('GRAB_MMclosed_open_session1.csv', dtype=dtype_dict)\n",
    "GRAB_MM_2 = pd.read_csv('GRAB_MMclosed_open_session2.csv', dtype=dtype_dict)"
   ]
  },
  {
   "cell_type": "code",
   "execution_count": 11,
   "id": "0bc45270-baeb-4b9c-8c35-dd99978837ed",
   "metadata": {},
   "outputs": [
    {
     "data": {
      "text/html": [
       "<div>\n",
       "<style scoped>\n",
       "    .dataframe tbody tr th:only-of-type {\n",
       "        vertical-align: middle;\n",
       "    }\n",
       "\n",
       "    .dataframe tbody tr th {\n",
       "        vertical-align: top;\n",
       "    }\n",
       "\n",
       "    .dataframe thead th {\n",
       "        text-align: right;\n",
       "    }\n",
       "</style>\n",
       "<table border=\"1\" class=\"dataframe\">\n",
       "  <thead>\n",
       "    <tr style=\"text-align: right;\">\n",
       "      <th></th>\n",
       "      <th>Seconds</th>\n",
       "      <th>470_dfF</th>\n",
       "    </tr>\n",
       "  </thead>\n",
       "  <tbody>\n",
       "    <tr>\n",
       "      <th>0</th>\n",
       "      <td>0.000</td>\n",
       "      <td>0.000010</td>\n",
       "    </tr>\n",
       "    <tr>\n",
       "      <th>1</th>\n",
       "      <td>0.001</td>\n",
       "      <td>0.000034</td>\n",
       "    </tr>\n",
       "    <tr>\n",
       "      <th>2</th>\n",
       "      <td>0.002</td>\n",
       "      <td>0.000057</td>\n",
       "    </tr>\n",
       "    <tr>\n",
       "      <th>3</th>\n",
       "      <td>0.003</td>\n",
       "      <td>0.000080</td>\n",
       "    </tr>\n",
       "    <tr>\n",
       "      <th>4</th>\n",
       "      <td>0.004</td>\n",
       "      <td>0.000103</td>\n",
       "    </tr>\n",
       "    <tr>\n",
       "      <th>...</th>\n",
       "      <td>...</td>\n",
       "      <td>...</td>\n",
       "    </tr>\n",
       "    <tr>\n",
       "      <th>9612049</th>\n",
       "      <td>1906.025</td>\n",
       "      <td>-0.884256</td>\n",
       "    </tr>\n",
       "    <tr>\n",
       "      <th>9612050</th>\n",
       "      <td>1906.026</td>\n",
       "      <td>-0.882351</td>\n",
       "    </tr>\n",
       "    <tr>\n",
       "      <th>9612051</th>\n",
       "      <td>1906.027</td>\n",
       "      <td>-0.880446</td>\n",
       "    </tr>\n",
       "    <tr>\n",
       "      <th>9612052</th>\n",
       "      <td>1906.028</td>\n",
       "      <td>-0.878541</td>\n",
       "    </tr>\n",
       "    <tr>\n",
       "      <th>9612053</th>\n",
       "      <td>1906.029</td>\n",
       "      <td>-0.877303</td>\n",
       "    </tr>\n",
       "  </tbody>\n",
       "</table>\n",
       "<p>9612054 rows × 2 columns</p>\n",
       "</div>"
      ],
      "text/plain": [
       "          Seconds   470_dfF\n",
       "0           0.000  0.000010\n",
       "1           0.001  0.000034\n",
       "2           0.002  0.000057\n",
       "3           0.003  0.000080\n",
       "4           0.004  0.000103\n",
       "...           ...       ...\n",
       "9612049  1906.025 -0.884256\n",
       "9612050  1906.026 -0.882351\n",
       "9612051  1906.027 -0.880446\n",
       "9612052  1906.028 -0.878541\n",
       "9612053  1906.029 -0.877303\n",
       "\n",
       "[9612054 rows x 2 columns]"
      ]
     },
     "execution_count": 11,
     "metadata": {},
     "output_type": "execute_result"
    }
   ],
   "source": [
    "GRAB_MM_1[['Seconds','470_dfF']]"
   ]
  },
  {
   "cell_type": "code",
   "execution_count": 45,
   "id": "f329ef64-e0d8-406e-8e79-42430d42294b",
   "metadata": {},
   "outputs": [
    {
     "name": "stdout",
     "output_type": "stream",
     "text": [
      "   Seconds   470_dfF  movementX  movementY  event ExperimentEvents  \\\n",
      "0    0.000  0.000010        0.0  -0.001593  False              NaN   \n",
      "1    0.001  0.000034        0.0  -0.005134  False              NaN   \n",
      "2    0.002  0.000057        0.0  -0.008675  False              NaN   \n",
      "3    0.003  0.000080        0.0  -0.010692  False              NaN   \n",
      "4    0.004  0.000103        0.0  -0.011462  False              NaN   \n",
      "\n",
      "          Experiment Session mouseID sex area  No_halt  LinearMismatch_block  \\\n",
      "0  MMclosed-and-open    day1    B2M6   M  V2M    False                 False   \n",
      "1  MMclosed-and-open    day1    B2M6   M  V2M    False                 False   \n",
      "2  MMclosed-and-open    day1    B2M6   M  V2M    False                 False   \n",
      "3  MMclosed-and-open    day1    B2M6   M  V2M    False                 False   \n",
      "4  MMclosed-and-open    day1    B2M6   M  V2M    False                 False   \n",
      "\n",
      "   LinearPlaybackMismatch_block  470_dfF_filtered  \n",
      "0                         False      9.852776e-08  \n",
      "1                         False     -9.594885e-08  \n",
      "2                         False      9.325926e-08  \n",
      "3                         False     -9.046805e-08  \n",
      "4                         False      8.758447e-08  \n"
     ]
    }
   ],
   "source": [
    "from scipy.signal import butter, filtfilt\n",
    "\n",
    "# Assuming your data is in a DataFrame called GRAB_MM_1\n",
    "# Define parameters\n",
    "fs = 10  # Sampling frequency in Hz\n",
    "fc = 4.9  # Cutoff frequency in Hz (example: filter below 2 Hz)\n",
    "order = 4  # Filter order\n",
    "\n",
    "# Design Butterworth low-pass filter\n",
    "nyquist = 0.5 * fs  # Nyquist frequency\n",
    "normal_cutoff = fc / nyquist  # Normalized cutoff frequency\n",
    "b, a = butter(order, normal_cutoff, btype='high', analog=False)\n",
    "\n",
    "# Apply the filter to the '470_dfF' column\n",
    "GRAB_MM_1['470_dfF_filtered'] = filtfilt(b, a, GRAB_MM_1['470_dfF'])\n",
    "\n",
    "# Save or inspect the filtered data\n",
    "print(GRAB_MM_1.head())\n",
    "\n"
   ]
  },
  {
   "cell_type": "code",
   "execution_count": 46,
   "id": "bd0c23d5-5a57-42a5-bc9b-996da7850e4e",
   "metadata": {},
   "outputs": [
    {
     "data": {
      "text/plain": [
       "0.9800000000000001"
      ]
     },
     "execution_count": 46,
     "metadata": {},
     "output_type": "execute_result"
    }
   ],
   "source": [
    "normal_cutoff"
   ]
  },
  {
   "cell_type": "code",
   "execution_count": 48,
   "id": "8ee4e71b-bea0-42ff-b56c-2940886c6a60",
   "metadata": {},
   "outputs": [
    {
     "data": {
      "image/png": "[encoded data removed]",
      "text/plain": [
       "<Figure size 1000x500 with 1 Axes>"
      ]
     },
     "metadata": {},
     "output_type": "display_data"
    }
   ],
   "source": [
    "import matplotlib.pyplot as plt\n",
    "\n",
    "plt.figure(figsize=(10, 5))\n",
    "\n",
    "plt.plot(GRAB_MM_1['Seconds'], GRAB_MM_1['470_dfF_filtered'], label='Filtered Signal', linewidth=2)\n",
    "#plt.plot(GRAB_MM_1['Seconds'], GRAB_MM_1['470_dfF'], label='Original Signal', alpha=0.5)\n",
    "plt.xlabel('Time (s)')\n",
    "plt.ylabel('Fluorescence')\n",
    "plt.legend()\n",
    "plt.title('Low-Pass Filtered Signal')\n",
    "plt.show()\n"
   ]
  },
  {
   "cell_type": "code",
   "execution_count": null,
   "id": "efc2e0a7-1d13-4f0e-8051-a269028399b4",
   "metadata": {},
   "outputs": [],
   "source": []
  }
 ],
 "metadata": {
  "kernelspec": {
   "display_name": "aeon",
   "language": "python",
   "name": "aeon"
  },
  "language_info": {
   "codemirror_mode": {
    "name": "ipython",
    "version": 3
   },
   "file_extension": ".py",
   "mimetype": "text/x-python",
   "name": "python",
   "nbconvert_exporter": "python",
   "pygments_lexer": "ipython3",
   "version": "3.12.2"
  }
 },
 "nbformat": 4,
 "nbformat_minor": 5
}
