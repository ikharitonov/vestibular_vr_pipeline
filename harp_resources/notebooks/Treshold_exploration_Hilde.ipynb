{
 "cells": [
  {
   "cell_type": "markdown",
   "metadata": {},
   "source": [
    "## Imports"
   ]
  },
  {
   "cell_type": "code",
   "execution_count": null,
   "metadata": {},
   "outputs": [],
   "source": [
    "import harp\n",
    "import numpy as np\n",
    "from pathlib import Path\n",
    "import os\n",
    "import utils\n",
    "import matplotlib.pyplot as plt\n",
    "import numpy as np\n",
    "import pandas as pd\n",
    "from scipy import signal\n",
    "import copy\n",
    "from statistics import *"
   ]
  },
  {
   "cell_type": "markdown",
   "metadata": {},
   "source": [
    "## Setup \\"
   ]
  },
  {
   "cell_type": "code",
   "execution_count": null,
   "metadata": {},
   "outputs": [],
   "source": [
    "# base_path = Path('/home/ikharitonov/RANCZLAB-NAS/data/ONIX/')\n",
    "#base_path = Path('/home/ikharitonov/RANCZLAB-NAS/data/ONIX/20240730_Mismatch_Experiment/training_day5')\n",
    "#base_path = Path('/home/ikharitonov/RANCZLAB-NAS/data/ONIX/20240730_Mismatch_Experiment/MMclosed&Regular_120824')\n",
    "#base_path = Path('/home/ikharitonov/RANCZLAB-NAS/data/ONIX/20240730_Mismatch_Experiment/GRAB_training_day5')\n",
    "base_path = Path('/home/ikharitonov/RANCZLAB-NAS/data/ONIX/20240730_Mismatch_Experiment/GRAB_MMclosed&open_190824')\n"
   ]
  },
  {
   "cell_type": "code",
   "execution_count": null,
   "metadata": {},
   "outputs": [],
   "source": [
    "def get_register_object(register_number, harp_board='h1'):\n",
    "    \n",
    "    h1_reader = harp.create_reader(f'h1-device.yml', epoch=harp.REFERENCE_EPOCH)\n",
    "    h2_reader = harp.create_reader(f'h2-device.yml', epoch=harp.REFERENCE_EPOCH)\n",
    "    reference_dict = {\n",
    "        'h1': {\n",
    "            32: h1_reader.Cam0Event,\n",
    "            33: h1_reader.Cam1Event,\n",
    "            38: h1_reader.StartAndStop,\n",
    "            46: h1_reader.OpticalTrackingRead\n",
    "        },\n",
    "        'h2': {\n",
    "            38: h2_reader.Encoder,\n",
    "            39: h2_reader.AnalogInput,\n",
    "            42: h2_reader.ImmediatePulses\n",
    "        }\n",
    "    }\n",
    "    return reference_dict[harp_board][register_number]"
   ]
  },
  {
   "cell_type": "markdown",
   "metadata": {},
   "source": [
    "## Automatic loading"
   ]
  },
  {
   "cell_type": "code",
   "execution_count": null,
   "metadata": {},
   "outputs": [],
   "source": [
    "def load_register_paths(dataset_path):\n",
    "    \n",
    "    if not os.path.exists(dataset_path/'HarpDataH1') or not os.path.exists(dataset_path/'HarpDataH2'):\n",
    "        raise FileNotFoundError(f\"'HarpDataH1' or 'HarpDataH2' folder was not found in {dataset_path}.\")\n",
    "    h1_folder = dataset_path/'HarpDataH1'\n",
    "    h2_folder = dataset_path/'HarpDataH2'\n",
    "    \n",
    "    h1_files = os.listdir(h1_folder)\n",
    "    h1_files = [f for f in h1_files if f.split('_')[0] == 'HarpDataH1']\n",
    "    h1_dict = {int(filename.split('_')[1]):h1_folder/filename for filename in h1_files}\n",
    "    \n",
    "    h2_files = os.listdir(h2_folder)\n",
    "    h2_files = [f for f in h2_files if f.split('_')[0] == 'HarpDataH2']\n",
    "    h2_dict = {int(filename.split('_')[1]):h2_folder/filename for filename in h2_files}\n",
    "    \n",
    "    #print(f'Dataset {dataset_path.name} contains following registers:')\n",
    "    #print(f'H1: {list(h1_dict.keys())}')\n",
    "    #print(f'H2: {list(h2_dict.keys())}')\n",
    "    \n",
    "    return h1_dict, h2_dict\n",
    "\n",
    "def load_registers(dataset_path):\n",
    "    \n",
    "    h1_dict, h2_dict = load_register_paths(dataset_path)\n",
    "    \n",
    "    h1_data_streams = {}\n",
    "    for register in h1_dict.keys():\n",
    "        data_stream = utils.load(get_register_object(register, 'h1'), dataset_path/'HarpDataH1')\n",
    "        if data_stream.columns.shape[0] > 1:\n",
    "            for col_name in data_stream.columns:\n",
    "                h1_data_streams[f'{col_name}({register})'] = data_stream[col_name]\n",
    "        elif data_stream.columns.shape[0] == 1:\n",
    "            h1_data_streams[f'{data_stream.columns[0]}({register})'] = data_stream\n",
    "        else:\n",
    "            raise ValueError(f\"Loaded data stream does not contain supported number of columns in Pandas DataFrame. Dataframe columns shape = {data_stream.columns.shape}\")\n",
    "            \n",
    "    h2_data_streams = {}\n",
    "    for register in h2_dict.keys():\n",
    "        data_stream = utils.load(get_register_object(register, 'h2'), dataset_path/'HarpDataH2')\n",
    "        if data_stream.columns.shape[0] > 1:\n",
    "            for col_name in data_stream.columns:\n",
    "                h2_data_streams[f'{col_name}({register})'] = data_stream[col_name]\n",
    "        elif data_stream.columns.shape[0] == 1:\n",
    "            h2_data_streams[f'{data_stream.columns[0]}({register})'] = data_stream[data_stream.columns[0]]\n",
    "        else:\n",
    "            raise ValueError(f\"Loaded data stream does not contain supported number of columns in Pandas DataFrame. Dataframe columns shape = {data_stream.columns.shape}\")\n",
    "            \n",
    "    return h1_data_streams, h2_data_streams\n",
    "\n",
    "def plot_dataset(dataset_path):\n",
    "    h1_data_streams, h2_data_streams = load_registers(dataset_path)\n",
    "    for register, register_stream in h1_data_streams.items():\n",
    "        plot_detail(register_stream, dataset_path.name, register=str(register))\n",
    "    for register, register_stream in h2_data_streams.items():\n",
    "        plot_detail(register_stream, dataset_path.name, register=str(register))"
   ]
  },
  {
   "cell_type": "code",
   "execution_count": null,
   "metadata": {},
   "outputs": [],
   "source": [
    "def get_run_treshold(mouse,treshold = 100, basepath = Path('/home/ikharitonov/RANCZLAB-NAS/data/ONIX/')):\n",
    "    #optical_stream_df = utils.load(get_register_object(46, 'h1'), path/'HarpDataH1')\n",
    "    print('\\n Counts')\n",
    "    #basepath = Path('/home/ikharitonov/RANCZLAB-NAS/data/ONIX/20240730_Mismatch_Experiment/training_day5')\n",
    "    path = basepath/mouse\n",
    "    streams = load_registers(path)\n",
    "    position_units = streams[0]['OpticalTrackingRead0X(46)'].to_numpy()\n",
    "    #ignoring everything below 0\n",
    "    position_units = position_units[position_units>=0]\n",
    "    \n",
    "    #plotting \n",
    "    fig, ax = plt.subplots(2)\n",
    "    ax[0].plot(streams[0]['OpticalTrackingRead0X(46)'])\n",
    "    ax[0].axhline(treshold)\n",
    "    ax[1].hist(streams[0]['OpticalTrackingRead0X(46)'])\n",
    "    fig.suptitle(mouse[-4:])\n",
    "    \n",
    "    #caclulating the running stats\n",
    "    print('Count mean',mean(position_units))\n",
    "    print('Count median', median(position_units))\n",
    "    \n",
    "    print(f'mean Count > {treshold}:',mean(position_units[position_units>=treshold]))\n",
    "    print(f'median Count > {treshold}:', median(position_units[position_units>=treshold]))\n",
    "\n",
    "    over_tresh = len(position_units[position_units>=treshold])\n",
    "    #Porportion of time spent over treshold of the time moving or above 0\n",
    "    print(over_tresh, len(position_units))\n",
    "    time_spent_moving = over_tresh *100/len(position_units)\n",
    "    \n",
    "    print('\\n Time spent above treshold', time_spent_moving)\n",
    "    \n",
    "    resolution = 12000 # counts per inch\n",
    "    inches_per_count = 1 / resolution\n",
    "    meters_per_count = 0.0254 * inches_per_count\n",
    "    dt = 0.01 # for OpticalTrackingRead0Y(46)\n",
    "    linear_velocity = meters_per_count / dt\n",
    "    \n",
    "    #Translating to cm/sec\n",
    "    cm_treshold = treshold* linear_velocity * 100\n",
    "    print('\\n','treshold in cm ', cm_treshold)\n",
    "    \n",
    "  \n",
    "    \n",
    "    return position_units\n",
    "    "
   ]
  },
  {
   "cell_type": "code",
   "execution_count": null,
   "metadata": {},
   "outputs": [],
   "source": [
    "# dataset_name = 'Main_harpsync_test/2024-06-05T15-04-41'\n",
    "B3M3 = '2024-08-05T12-38-07_B3M3'\n",
    "B3M1 = '2024-08-05T14-17-26_B3M1'\n",
    "B3M2 = '2024-08-05T15-27-29_B3M2'\n",
    "B2M5 = '2024-08-05T16-10-36_B2M5'\n",
    "B2M4 = '2024-08-05T16-40-36_B2M4'\n",
    "\n",
    "\n",
    "B3M3 ='2024-08-08T10-05-26_B3M3'\n",
    "B3M1 = '2024-08-08T11-01-22_B3M1'\n",
    "B3M2 = '2024-08-08T12-03-57_B3M2'\n",
    "B2M5 = '2024-08-08T08-22-12_B2M5'\n",
    "B2M4 = '2024-08-08T09-20-54_B2M4'\n",
    "animal_list = [B3M3, B2M4, B2M5, B3M2, B3M1]\n",
    "\n",
    "B2M6 = '2024-08-18T11-21-22_B2M6'\n",
    "B3M8 = '2024-08-18T11-51-53_B3M8'\n",
    "B3M7 = '2024-08-18T12-17-40_B3M7'\n",
    "B3M6 = '2024-08-18T12-51-48_B3M6'\n",
    "B3M4 = '2024-08-18T13-17-44_B3M4'\n",
    "animal_list = [B2M6, B3M8, B3M7, B3M6, B3M4]\n",
    "\n",
    "B2M6 = '2024-08-19T12-09-08_B2M6'\n",
    "B3M8 = '2024-08-19T12-52-52_B3M8'\n",
    "B3M7 = '2024-08-19T13-34-41_B3M7'\n",
    "B3M6 = '2024-08-19T14-18-09_B3M6'\n",
    "B3M4 = '2024-08-19T14-58-24_B3M4'\n",
    "animal_list = [B2M6, B3M8, B3M7, B3M6, B3M4]"
   ]
  },
  {
   "cell_type": "code",
   "execution_count": null,
   "metadata": {},
   "outputs": [],
   "source": [
    "#fig, axs = plt.subplots(len(animal_list))\n",
    "#axlist = []\n",
    "animal_data = {}\n",
    "for animal in animal_list:\n",
    "    print('Mouse: ', animal[-4:])\n",
    "    animal_data[f'{animal[-4:]}']=get_run_treshold(animal, treshold=100, basepath = base_path)\n",
    "    print('')\n",
    "    #axlist.append(get_run_treshold(animal))"
   ]
  },
  {
   "cell_type": "code",
   "execution_count": null,
   "metadata": {},
   "outputs": [],
   "source": [
    "plt.plot(animal_data['B3M7'])\n",
    "plt.xlim([86000,90000])"
   ]
  },
  {
   "cell_type": "code",
   "execution_count": null,
   "metadata": {},
   "outputs": [],
   "source": [
    "running = get_run_treshold(B3M7, treshold=440, basepath = base_path)\n"
   ]
  },
  {
   "cell_type": "code",
   "execution_count": null,
   "metadata": {},
   "outputs": [],
   "source": [
    "print(running)"
   ]
  }
 ],
 "metadata": {
  "kernelspec": {
   "display_name": "Python [conda env:aeon]",
   "language": "python",
   "name": "conda-env-aeon-py"
  },
  "language_info": {
   "codemirror_mode": {
    "name": "ipython",
    "version": 3
   },
   "file_extension": ".py",
   "mimetype": "text/x-python",
   "name": "python",
   "nbconvert_exporter": "python",
   "pygments_lexer": "ipython3",
   "version": "3.12.4"
  }
 },
 "nbformat": 4,
 "nbformat_minor": 2
}
