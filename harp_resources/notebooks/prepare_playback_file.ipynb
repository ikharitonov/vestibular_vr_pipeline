{
 "cells": [
  {
   "cell_type": "code",
   "execution_count": null,
   "metadata": {},
   "outputs": [],
   "source": [
    "import harp\n",
    "import pandas as pd\n",
    "from glob import glob\n",
    "import matplotlib.pyplot as plt\n",
    "from functools import reduce\n",
    "import utils\n",
    "import numpy as np\n",
    "from pathlib import Path\n",
    "\n",
    "harp_reader = harp.create_reader('h1-device.yml', epoch=harp.REFERENCE_EPOCH)\n",
    "session_data_reader = utils.SessionData()\n",
    "\n",
    "#harp_datafolder = r'C:/temp/2024-05-10T13-57-39/HarpDataH1/'\n",
    "#harp_datafolder = Path('/home/ikharitonov/RANCZLAB-NAS/data/ONIX/20240730_Mismatch_Experiment/training_day5/2024-08-05T15-27-29_B3M2')\n",
    "#settings_datafolder = Path('/home/ikharitonov/RANCZLAB-NAS/data/ONIX/20240730_Mismatch_Experiment/training_day5/2024-08-05T15-27-29_B3M2/SessionSettings/')\n",
    "\n",
    "harp_datafolder = Path('/home/ikharitonov/RANCZLAB-NAS/data/ONIX/20240730_Mismatch_Experiment/MMclosed&Regular_120824/2024-08-12T16-51-16_B3M3')\n",
    "settings_datafolder = harp_datafolder/'SessionSettings/'"
   ]
  },
  {
   "cell_type": "code",
   "execution_count": null,
   "metadata": {},
   "outputs": [],
   "source": [
    "# read experiment metadata\n",
    "session_settings = utils.load_json(session_data_reader, settings_datafolder)\n",
    "\n",
    "print(session_settings)"
   ]
  },
  {
   "cell_type": "code",
   "execution_count": null,
   "metadata": {},
   "outputs": [],
   "source": [
    "# read harp stream\n",
    "flow_sensor = utils.load(harp_reader.OpticalTrackingRead, harp_datafolder / 'HarpDataH1')\n",
    "print(flow_sensor)\n",
    "\n",
    "plt.figure()\n",
    "plt.plot(flow_sensor['OpticalTrackingRead0X'])"
   ]
  },
  {
   "cell_type": "code",
   "execution_count": null,
   "metadata": {},
   "outputs": [],
   "source": [
    "# Convert to a playback file\n",
    "output_data = np.asarray(flow_sensor['OpticalTrackingRead0X'], dtype=np.int16)\n",
    "\n",
    "flow_sensor['OpticalTrackingRead0X'].to_csv('playback_file_B3M3_MMreg.csv', header=False, sep=',', lineterminator='\\n')\n"
   ]
  }
 ],
 "metadata": {
  "kernelspec": {
   "display_name": "Python [conda env:aeon]",
   "language": "python",
   "name": "conda-env-aeon-py"
  },
  "language_info": {
   "codemirror_mode": {
    "name": "ipython",
    "version": 3
   },
   "file_extension": ".py",
   "mimetype": "text/x-python",
   "name": "python",
   "nbconvert_exporter": "python",
   "pygments_lexer": "ipython3",
   "version": "3.12.4"
  }
 },
 "nbformat": 4,
 "nbformat_minor": 2
}
