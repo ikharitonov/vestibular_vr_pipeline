{
 "cells": [
  {
   "cell_type": "code",
   "execution_count": null,
   "id": "0",
   "metadata": {},
   "outputs": [],
   "source": [
    "import harp\n",
    "import numpy as np\n",
    "from pathlib import Path\n",
    "import os\n",
    "import utils\n",
    "import matplotlib.pyplot as plt\n",
    "import numpy as np\n",
    "import pandas as pd\n",
    "from scipy import signal\n",
    "import copy"
   ]
  },
  {
   "cell_type": "code",
   "execution_count": null,
   "id": "1",
   "metadata": {},
   "outputs": [],
   "source": [
    "base_path = Path('/home/ikharitonov/Desktop/')\n",
    "dataset_name = '2024-05-10T14-04-37'"
   ]
  },
  {
   "cell_type": "code",
   "execution_count": null,
   "id": "2",
   "metadata": {},
   "outputs": [],
   "source": [
    "def get_register_object(register_number, harp_board='h1'):\n",
    "    \n",
    "    h1_reader = harp.create_reader(f'h1-device.yml', epoch=harp.REFERENCE_EPOCH)\n",
    "    h2_reader = harp.create_reader(f'h2-device.yml', epoch=harp.REFERENCE_EPOCH)\n",
    "    reference_dict = {\n",
    "        'h1': {\n",
    "            32: h1_reader.Cam0Event,\n",
    "            33: h1_reader.Cam1Event,\n",
    "            38: h1_reader.StartAndStop,\n",
    "            46: h1_reader.OpticalTrackingRead\n",
    "        },\n",
    "        'h2': {\n",
    "            38: h2_reader.Encoder,\n",
    "            39: h2_reader.AnalogInput,\n",
    "            42: h2_reader.ImmediatePulses\n",
    "        }\n",
    "    }\n",
    "    return reference_dict[harp_board][register_number]"
   ]
  },
  {
   "cell_type": "code",
   "execution_count": null,
   "id": "3",
   "metadata": {},
   "outputs": [],
   "source": [
    "optical_stream_df = utils.load(get_register_object(46, 'h1'), base_path/dataset_name/'HarpDataH1')\n",
    "\n",
    "plt.figure()\n",
    "plt.plot(optical_stream_df['OpticalTrackingRead0X'], label='X')\n",
    "plt.plot(optical_stream_df['OpticalTrackingRead0Y'], label='Y')\n",
    "plt.plot(optical_stream_df['OpticalTrackingRead0Brightness'], label='Brightness')\n",
    "plt.plot(optical_stream_df['OpticalTrackingRead1X'], label='X2')\n",
    "plt.plot(optical_stream_df['OpticalTrackingRead1Y'], label='Y2')\n",
    "plt.plot(optical_stream_df['OpticalTrackingRead1Brightness'], label='Brightness2')\n",
    "plt.legend()\n",
    "plt.show()"
   ]
  },
  {
   "cell_type": "code",
   "execution_count": null,
   "id": "4",
   "metadata": {},
   "outputs": [],
   "source": [
    "optical_stream_x = optical_stream_df['OpticalTrackingRead0X']\n",
    "print(len(optical_stream_x))\n",
    "print(optical_stream_x)"
   ]
  },
  {
   "cell_type": "markdown",
   "id": "5",
   "metadata": {},
   "source": [
    "## Checking inter-timestamp intervals (optic flow_x)"
   ]
  },
  {
   "cell_type": "code",
   "execution_count": null,
   "id": "6",
   "metadata": {},
   "outputs": [],
   "source": [
    "print('All unique element-wise differences between timestamps (in nanoseconds)', np.unique(np.diff(optical_stream_x.index).astype(np.uint32)))"
   ]
  },
  {
   "cell_type": "code",
   "execution_count": null,
   "id": "7",
   "metadata": {},
   "outputs": [],
   "source": [
    "plt.hist(np.diff(optical_stream_x.index).astype(np.uint32)* (10**-9), bins=50)\n",
    "plt.xlabel('Inter-timestamp interval (seconds)')"
   ]
  },
  {
   "cell_type": "code",
   "execution_count": null,
   "id": "8",
   "metadata": {},
   "outputs": [],
   "source": [
    "(9984000+10016000)* (10**-9)"
   ]
  },
  {
   "cell_type": "markdown",
   "id": "9",
   "metadata": {},
   "source": [
    "## Comparing clocked and non-clocked datasets"
   ]
  },
  {
   "cell_type": "code",
   "execution_count": null,
   "id": "10",
   "metadata": {},
   "outputs": [],
   "source": [
    "h1_reader = harp.create_reader('h1-device.yml', epoch=harp.REFERENCE_EPOCH)\n",
    "h2_reader = harp.create_reader('h2-device.yml', epoch=harp.REFERENCE_EPOCH)\n",
    "session_data_reader = utils.SessionData()\n",
    "\n",
    "base_path = '/home/ikharitonov/Desktop/'\n",
    "\n",
    "dataset_name = '2024-05-10T14-04-37'\n",
    "nonclocked_h1_46 = utils.load(h1_reader.OpticalTrackingRead, base_path + dataset_name + '/HarpDataH1/')\n",
    "nonclocked_h2_42 = utils.load(h2_reader.ImmediatePulses, base_path + dataset_name + '/HarpDataH2/')\n",
    "nonclocked_h2_38 = utils.load(h2_reader.Encoder, base_path + dataset_name + '/HarpDataH2/')\n",
    "\n",
    "dataset_name = '2024-06-26T13-51-40_gain_A'\n",
    "clocked_h1_46 = utils.load(h1_reader.OpticalTrackingRead, base_path + dataset_name + '/HarpDataH1/')\n",
    "clocked_h2_42 = utils.load(h2_reader.ImmediatePulses, base_path + dataset_name + '/HarpDataH2/')\n",
    "clocked_h2_38 = utils.load(h2_reader.Encoder, base_path + dataset_name + '/HarpDataH2/')"
   ]
  },
  {
   "cell_type": "code",
   "execution_count": null,
   "id": "11",
   "metadata": {},
   "outputs": [],
   "source": [
    "print(nonclocked_h1_46.index[0])\n",
    "print(nonclocked_h1_46.index[1])\n",
    "print(nonclocked_h1_46.index[2])\n",
    "print(nonclocked_h1_46.index[3])\n",
    "print(nonclocked_h1_46.index[4])\n",
    "print(nonclocked_h1_46.index[5])\n",
    "print(nonclocked_h1_46.index[6])\n",
    "print(nonclocked_h1_46.index[7])"
   ]
  },
  {
   "cell_type": "code",
   "execution_count": null,
   "id": "12",
   "metadata": {},
   "outputs": [],
   "source": [
    "print(nonclocked_h2_38.index[0])\n",
    "print(nonclocked_h2_38.index[1])\n",
    "print(nonclocked_h2_38.index[2])\n",
    "print(nonclocked_h2_38.index[3])\n",
    "print(nonclocked_h2_38.index[4])\n",
    "print(nonclocked_h2_38.index[5])\n",
    "print(np.diff(nonclocked_h2_38.index[:6]))"
   ]
  },
  {
   "cell_type": "code",
   "execution_count": null,
   "id": "13",
   "metadata": {},
   "outputs": [],
   "source": [
    "clocked_h1_46.index[0]"
   ]
  },
  {
   "cell_type": "code",
   "execution_count": null,
   "id": "14",
   "metadata": {},
   "outputs": [],
   "source": [
    "clocked_h2_42.index[0]"
   ]
  },
  {
   "cell_type": "code",
   "execution_count": null,
   "id": "15",
   "metadata": {},
   "outputs": [],
   "source": [
    "clocked_h2_42.index[1]"
   ]
  },
  {
   "cell_type": "code",
   "execution_count": null,
   "id": "16",
   "metadata": {},
   "outputs": [],
   "source": [
    "clocked_h2_38.index[0]"
   ]
  },
  {
   "cell_type": "code",
   "execution_count": null,
   "id": "17",
   "metadata": {},
   "outputs": [],
   "source": [
    "clocked_h2_38.index[1]"
   ]
  },
  {
   "cell_type": "code",
   "execution_count": null,
   "id": "18",
   "metadata": {},
   "outputs": [],
   "source": [
    "print(clocked_h1_46.index[0])\n",
    "print(clocked_h1_46.index[1])\n",
    "print(clocked_h1_46.index[2])\n",
    "print(clocked_h1_46.index[3])\n",
    "print(clocked_h1_46.index[4])\n",
    "print(clocked_h1_46.index[5])\n",
    "print(np.diff(clocked_h1_46.index[:6]))"
   ]
  },
  {
   "cell_type": "code",
   "execution_count": null,
   "id": "19",
   "metadata": {},
   "outputs": [],
   "source": [
    "print(clocked_h2_38.index[0])\n",
    "print(clocked_h2_38.index[1])\n",
    "print(clocked_h2_38.index[2])\n",
    "print(clocked_h2_38.index[3])\n",
    "print(clocked_h2_38.index[4])\n",
    "print(clocked_h2_38.index[5])\n",
    "print(np.diff(clocked_h2_38.index[:6]))"
   ]
  },
  {
   "cell_type": "code",
   "execution_count": null,
   "id": "20",
   "metadata": {},
   "outputs": [],
   "source": [
    "fig, ax = plt.subplots(nrows=3, ncols=2, figsize=(10,10))\n",
    "\n",
    "ax[0][0].plot(nonclocked_h1_46)\n",
    "ax[0][0].set_title('nonclocked_h1_46')\n",
    "\n",
    "ax[1][0].plot(nonclocked_h2_42)\n",
    "ax[1][0].set_title('nonclocked_h2_42')\n",
    "\n",
    "ax[0][1].plot(clocked_h1_46)\n",
    "ax[0][1].set_title('clocked_h1_46')\n",
    "\n",
    "ax[1][1].plot(clocked_h2_42)\n",
    "ax[1][1].set_title('clocked_h2_42')\n",
    "\n",
    "ax[2][0].plot(nonclocked_h2_38)\n",
    "ax[2][0].set_title('nonclocked_h2_38')\n",
    "\n",
    "ax[2][1].plot(clocked_h2_38)\n",
    "ax[2][1].set_title('clocked_h2_38')\n",
    "\n",
    "plt.tight_layout()\n",
    "plt.show()"
   ]
  },
  {
   "cell_type": "markdown",
   "id": "21",
   "metadata": {},
   "source": [
    "## Checking particular timestamp"
   ]
  },
  {
   "cell_type": "code",
   "execution_count": null,
   "id": "22",
   "metadata": {},
   "outputs": [],
   "source": [
    "timestamp = '1904-01-13 05:45:19.910240'"
   ]
  },
  {
   "cell_type": "code",
   "execution_count": null,
   "id": "23",
   "metadata": {},
   "outputs": [],
   "source": [
    "clocked_h1_46[clocked_h1_46.index==timestamp]"
   ]
  },
  {
   "cell_type": "code",
   "execution_count": null,
   "id": "24",
   "metadata": {},
   "outputs": [],
   "source": [
    "clocked_h2_42[clocked_h2_42.index==timestamp]"
   ]
  },
  {
   "cell_type": "markdown",
   "id": "25",
   "metadata": {},
   "source": [
    "### Lomb–Scargle periodogram\n",
    "\n",
    "Lomb-Scargle periodogram was developed by Lomb [Lomb, N.R., 1976] and further extended by Scargle [Scargle, J.D., 1982] to find, and test the significance of weak periodic signals with uneven temporal sampling. Lomb–Scargle periodogram is a method that allows efﬁcient computation of a Fourier-like power spectrum estimator from unevenly sampled data, resulting in an intuitive means of determining the period of oscillation.\n",
    "https://www.earthinversion.com/techniques/how-to-deal-with-irregular-sparse-data-set/"
   ]
  },
  {
   "cell_type": "code",
   "execution_count": null,
   "id": "26",
   "metadata": {},
   "outputs": [],
   "source": [
    "f = np.linspace(0.001, 10**20, 1000)\n",
    "pgram = signal.lombscargle(clocked_h2_42.index.to_numpy(), clocked_h2_42.values[:,0], f, normalize=True)\n",
    "pgram2 = signal.lombscargle((clocked_h2_42.index - clocked_h2_42.index[0]).total_seconds().to_numpy(), clocked_h2_42.values[:,0], f, normalize=True)"
   ]
  },
  {
   "cell_type": "code",
   "execution_count": null,
   "id": "27",
   "metadata": {},
   "outputs": [],
   "source": [
    "plt.plot(f,pgram)"
   ]
  },
  {
   "cell_type": "code",
   "execution_count": null,
   "id": "28",
   "metadata": {},
   "outputs": [],
   "source": [
    "plt.plot(f,pgram2)"
   ]
  }
 ],
 "metadata": {
  "kernelspec": {
   "display_name": "Python [conda env:aeon]",
   "language": "python",
   "name": "conda-env-aeon-py"
  },
  "language_info": {
   "codemirror_mode": {
    "name": "ipython",
    "version": 3
   },
   "file_extension": ".py",
   "mimetype": "text/x-python",
   "name": "python",
   "nbconvert_exporter": "python",
   "pygments_lexer": "ipython3",
   "version": "3.12.4"
  }
 },
 "nbformat": 4,
 "nbformat_minor": 5
}
