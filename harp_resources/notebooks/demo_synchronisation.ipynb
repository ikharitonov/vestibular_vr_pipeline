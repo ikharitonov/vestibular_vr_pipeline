{
 "cells": [
  {
   "cell_type": "code",
   "execution_count": null,
   "id": "0",
   "metadata": {},
   "outputs": [],
   "source": [
    "import harp\n",
    "import numpy as np\n",
    "from pathlib import Path\n",
    "import os\n",
    "import utils\n",
    "import matplotlib.pyplot as plt\n",
    "import numpy as np\n",
    "import pandas as pd\n",
    "from scipy import signal\n",
    "import copy\n",
    "from datetime import datetime, timedelta"
   ]
  },
  {
   "cell_type": "markdown",
   "id": "1",
   "metadata": {},
   "source": [
    "## Loading"
   ]
  },
  {
   "cell_type": "code",
   "execution_count": null,
   "id": "2",
   "metadata": {},
   "outputs": [],
   "source": [
    "# data_path = Path('/home/ikharitonov/RANCZLAB-NAS/data/ONIX/20240730_Mismatch_Experiment/MMclosed&Regular_130824/2024-08-13T12-53-01_B3M3')\n",
    "# photometry_path = Path('/home/ikharitonov/RANCZLAB-NAS/data/ONIX/20240730_Mismatch_Experiment/MMclosed&Regular_130824/photometry/B3M3_MMclosed&Regular_day2/2024_08_13-14_57_35')\n",
    "data_path = Path('/home/ikharitonov/RANCZLAB-NAS/data/ONIX/20240730_Mismatch_Experiment/GRAB_MMclosed&Regular_230824/2024-08-23T12-51-05_B3M7')\n",
    "photometry_path = Path('/home/ikharitonov/RANCZLAB-NAS/data/ONIX/20240730_Mismatch_Experiment/GRAB_MMclosed&Regular_230824/photometry/B3M7_MMclosed&Regular_day2/2024_08_23-14_54_36')"
   ]
  },
  {
   "cell_type": "code",
   "execution_count": null,
   "id": "3",
   "metadata": {},
   "outputs": [],
   "source": [
    "streams = utils.load_registers(data_path)\n",
    "print(streams[0].keys())\n",
    "print(streams[1].keys())"
   ]
  },
  {
   "cell_type": "markdown",
   "id": "4",
   "metadata": {},
   "source": [
    "## Unit conversion for running"
   ]
  },
  {
   "cell_type": "code",
   "execution_count": null,
   "id": "5",
   "metadata": {},
   "outputs": [],
   "source": [
    "resolution = 12000 # counts per inch\n",
    "inches_per_count = 1 / resolution\n",
    "meters_per_count = 0.0254 * inches_per_count\n",
    "print(meters_per_count)\n",
    "\n",
    "dt = 0.01 # for OpticalTrackingRead0Y(46)\n",
    "linear_velocity = meters_per_count / dt # meters per second per count\n",
    "print(linear_velocity)"
   ]
  },
  {
   "cell_type": "code",
   "execution_count": null,
   "id": "6",
   "metadata": {},
   "outputs": [],
   "source": [
    "streams[0]['OpticalTrackingRead0X(46)'] * linear_velocity * 100"
   ]
  },
  {
   "cell_type": "code",
   "execution_count": null,
   "id": "7",
   "metadata": {},
   "outputs": [],
   "source": [
    "plt.plot(streams[0]['OpticalTrackingRead0X(46)'] * linear_velocity * 100)\n",
    "plt.xlabel('time (seconds)')\n",
    "plt.ylabel('running speed (cm/s)')\n",
    "plt.show()"
   ]
  },
  {
   "cell_type": "markdown",
   "id": "8",
   "metadata": {},
   "source": [
    "## Synchronising photometry signal"
   ]
  },
  {
   "cell_type": "code",
   "execution_count": null,
   "id": "9",
   "metadata": {},
   "outputs": [],
   "source": [
    "Fluorescence = pd.read_csv(photometry_path/'Fluorescence.csv', skiprows=1, index_col=False)\n",
    "Fluorescence = Fluorescence.drop(columns='Unnamed: 5')\n",
    "Fluorescence"
   ]
  },
  {
   "cell_type": "code",
   "execution_count": null,
   "id": "10",
   "metadata": {},
   "outputs": [],
   "source": [
    "# selecting rows of Fluorescence.csv where the Events column is not equal to NaN - where events have occurred\n",
    "Fluorescence[Fluorescence['Events'].notna()]"
   ]
  },
  {
   "cell_type": "code",
   "execution_count": null,
   "id": "11",
   "metadata": {},
   "outputs": [],
   "source": [
    "Fluorescence[Fluorescence['Events'].notna()]['Events'].unique()"
   ]
  },
  {
   "cell_type": "code",
   "execution_count": null,
   "id": "12",
   "metadata": {},
   "outputs": [],
   "source": [
    "# loading OnixDigital file which has HARP timestamps ('Seconds' column - seconds elapsed counting from HARP reference epoch, 1904-01-01T00-00-00 )\n",
    "OnixDigital = utils.read_onix_digital(data_path)\n",
    "OnixDigital"
   ]
  },
  {
   "cell_type": "code",
   "execution_count": null,
   "id": "13",
   "metadata": {},
   "outputs": [],
   "source": [
    "# adding a new 'Seconds' column into Fluorescence and populating it with NaNs, then setting matching rows with timestamp values from OnixDigital (each row of OnixDigital corresponds to a row of Fluorescence[Fluorescence['Events'].notna()] )\n",
    "Fluorescence['Seconds'] = np.nan\n",
    "Fluorescence"
   ]
  },
  {
   "cell_type": "code",
   "execution_count": null,
   "id": "14",
   "metadata": {},
   "outputs": [],
   "source": [
    "# Setting the rows of Seconds column where there are events with HARP timestamp values from OnixDigital\n",
    "Fluorescence.loc[Fluorescence['Events'].notna(), 'Seconds'] = OnixDigital['Seconds'].values"
   ]
  },
  {
   "cell_type": "code",
   "execution_count": null,
   "id": "15",
   "metadata": {},
   "outputs": [],
   "source": [
    "# estimate the very first and very last values of Seconds column in Fluorescence to be able to interpolate between\n",
    "first_val_to_insert = Fluorescence[Fluorescence['Events'].notna()].iloc[0]['Seconds'] - Fluorescence[Fluorescence['Events'].notna()].iloc[0]['TimeStamp'] / 1000\n",
    "# first_val_to_insert = Seconds value of the first Event to occur - seconds elapsed since start of recording (converted from ms)\n",
    "last_val_to_insert = Fluorescence[Fluorescence['Events'].notna()].iloc[-1]['Seconds'] + (Fluorescence.iloc[-1]['TimeStamp'] / 1000 - Fluorescence[Fluorescence['Events'].notna()].iloc[-1]['TimeStamp'] / 1000)\n",
    "# last_val_to_insert = Seconds value of the last Event to occur + seconds elapsed between the last row of Fluorescence and the last event to occur\n",
    "print(first_val_to_insert)\n",
    "print(last_val_to_insert)"
   ]
  },
  {
   "cell_type": "code",
   "execution_count": null,
   "id": "16",
   "metadata": {},
   "outputs": [],
   "source": [
    "Fluorescence.loc[0, 'Seconds'] = first_val_to_insert\n",
    "Fluorescence.loc[-1, 'Seconds'] = last_val_to_insert\n",
    "print(Fluorescence.iloc[0]['Seconds'])\n",
    "print(Fluorescence.iloc[-1]['Seconds'])"
   ]
  },
  {
   "cell_type": "code",
   "execution_count": null,
   "id": "17",
   "metadata": {},
   "outputs": [],
   "source": [
    "# Applying default Pandas interpolation to Seconds\n",
    "Fluorescence[['Seconds']] = Fluorescence[['Seconds']].interpolate()"
   ]
  },
  {
   "cell_type": "markdown",
   "id": "18",
   "metadata": {},
   "source": [
    "## Plotting together"
   ]
  },
  {
   "cell_type": "code",
   "execution_count": null,
   "id": "19",
   "metadata": {},
   "outputs": [],
   "source": [
    "ExperimentEvents = utils.read_exp_events(data_path)\n",
    "ExperimentEvents"
   ]
  },
  {
   "cell_type": "code",
   "execution_count": null,
   "id": "20",
   "metadata": {},
   "outputs": [],
   "source": [
    "halts_applied_at = ExperimentEvents[ExperimentEvents['Value']=='Apply halt: 1s'].Seconds.values\n",
    "print(halts_applied_at)"
   ]
  },
  {
   "cell_type": "code",
   "execution_count": null,
   "id": "21",
   "metadata": {},
   "outputs": [],
   "source": [
    "# A = None\n",
    "# B = None\n",
    "A = 439250\n",
    "B = A + 60\n",
    "\n",
    "plt.figure(figsize=(12,6))\n",
    "fig, ax = plt.subplots(nrows=2, ncols=1, figsize=(12, 12))\n",
    "\n",
    "stream46_seconds_elapsed = (streams[0]['OpticalTrackingRead0X(46)'].index - harp.REFERENCE_EPOCH).total_seconds()\n",
    "ax[0].plot(stream46_seconds_elapsed, streams[0]['OpticalTrackingRead0X(46)'] * linear_velocity * 100)\n",
    "ax[0].set_title('Running speed recorded with optical tracking sensor')\n",
    "ax[0].set_xlabel('time (seconds)')\n",
    "ax[0].set_ylabel('running speed (cm/s)')\n",
    "for halt in halts_applied_at:\n",
    "    ax[0].axvline(halt, color='r', alpha=0.2)\n",
    "ax[0].set_xlim([A, B])\n",
    "\n",
    "photometry_seconds_elapsed = Fluorescence['Seconds'].values\n",
    "ax[1].plot(photometry_seconds_elapsed, Fluorescence['CH1-470'].values)\n",
    "ax[1].set_title('Photometry CH1-410')\n",
    "ax[1].set_xlabel('time (seconds)')\n",
    "ax[1].set_ylabel('signal amplitude')\n",
    "for halt in halts_applied_at:\n",
    "    ax[1].axvline(halt, color='r', alpha=0.2)\n",
    "ax[1].set_xlim([A, B])\n",
    "\n",
    "plt.show()"
   ]
  },
  {
   "cell_type": "markdown",
   "id": "22",
   "metadata": {},
   "source": [
    "## Loading photodiode and clock signal"
   ]
  },
  {
   "cell_type": "code",
   "execution_count": null,
   "id": "23",
   "metadata": {},
   "outputs": [],
   "source": [
    "photo_diode = utils.read_photodiode(data_path)\n",
    "clock = utils.read_clock(data_path)\n",
    "print(photo_diode.shape)\n",
    "print(clock.shape)"
   ]
  },
  {
   "cell_type": "code",
   "execution_count": null,
   "id": "24",
   "metadata": {},
   "outputs": [],
   "source": [
    "plt.plot(photo_diode[0,0,:])\n",
    "plt.title('buffer 0, channel 0')\n",
    "plt.show()\n",
    "\n",
    "plt.plot(photo_diode[0,1,:])\n",
    "plt.title('buffer 0, channel 1')\n",
    "plt.show()\n",
    "\n",
    "plt.plot(photo_diode[123,0,:])\n",
    "plt.title('buffer 123, channel 0')\n",
    "plt.show()"
   ]
  },
  {
   "cell_type": "code",
   "execution_count": null,
   "id": "25",
   "metadata": {},
   "outputs": [],
   "source": [
    "plt.plot(clock[:200])\n",
    "plt.show()"
   ]
  },
  {
   "cell_type": "code",
   "execution_count": null,
   "id": "26",
   "metadata": {},
   "outputs": [],
   "source": []
  }
 ],
 "metadata": {
  "kernelspec": {
   "display_name": "Python [conda env:aeon]",
   "language": "python",
   "name": "conda-env-aeon-py"
  },
  "language_info": {
   "codemirror_mode": {
    "name": "ipython",
    "version": 3
   },
   "file_extension": ".py",
   "mimetype": "text/x-python",
   "name": "python",
   "nbconvert_exporter": "python",
   "pygments_lexer": "ipython3",
   "version": "3.12.4"
  }
 },
 "nbformat": 4,
 "nbformat_minor": 5
}
