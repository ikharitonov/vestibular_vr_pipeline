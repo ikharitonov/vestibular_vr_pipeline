{
 "cells": [
  {
   "cell_type": "markdown",
   "id": "b70ae21d",
   "metadata": {},
   "source": [
    "## Setup"
   ]
  },
  {
   "cell_type": "code",
   "execution_count": 15,
   "id": "b8e9aa9c",
   "metadata": {},
   "outputs": [],
   "source": [
    "import numpy as np\n",
    "from pathlib import Path\n",
    "import os\n",
    "import matplotlib.pyplot as plt\n",
    "import pandas as pd\n",
    "import harp\n",
    "\n",
    "from harp_resources import process, utils\n",
    "from sleap import load_and_process as lp"
   ]
  },
  {
   "cell_type": "markdown",
   "id": "8cf38d29-f87e-444a-be2f-244cf0ab64b9",
   "metadata": {},
   "source": [
    "# Extracting Noras data"
   ]
  },
  {
   "cell_type": "code",
   "execution_count": 16,
   "id": "1e2274d2-c911-40ec-a7a2-fdbeaff36376",
   "metadata": {},
   "outputs": [],
   "source": [
    "photometry_path = '/Volumes/RanczLab/Nora_Cohort1_training/Training_day4/B6J2717-2024-11-28T09-37-55/photometry'\n",
    "data_path = '/Volumes/RanczLab/Nora_Cohort1_training/Training_day4/B6J2717-2024-11-28T09-37-55/'\n",
    "\n",
    "photometry_path = '/Volumes/RanczLab/Nora_Cohort1_training/Training_day4/B6J2717-2024-11-28T09-37-55/photometry'\n",
    "data_path = '/Volumes/RanczLab/Nora_Cohort1_training/Training_day4/B6J2717-2024-11-28T09-37-55/'\n",
    "\n",
    "h1_datafolder = data_path+'HarpDataH1'\n",
    "h2_datafolder = data_path+'HarpDataH2'"
   ]
  },
  {
   "cell_type": "code",
   "execution_count": 17,
   "id": "ec62ce30-5a18-48ac-a840-2107db22c634",
   "metadata": {},
   "outputs": [
    {
     "data": {
      "text/html": [
       "<div>\n",
       "<style scoped>\n",
       "    .dataframe tbody tr th:only-of-type {\n",
       "        vertical-align: middle;\n",
       "    }\n",
       "\n",
       "    .dataframe tbody tr th {\n",
       "        vertical-align: top;\n",
       "    }\n",
       "\n",
       "    .dataframe thead th {\n",
       "        text-align: right;\n",
       "    }\n",
       "</style>\n",
       "<table border=\"1\" class=\"dataframe\">\n",
       "  <thead>\n",
       "    <tr style=\"text-align: right;\">\n",
       "      <th></th>\n",
       "      <th>TimeStamp</th>\n",
       "      <th>470_dfF</th>\n",
       "      <th>560_dfF</th>\n",
       "      <th>410_dfF</th>\n",
       "      <th>z_470</th>\n",
       "      <th>z_560</th>\n",
       "      <th>z_410</th>\n",
       "      <th>Time</th>\n",
       "      <th>mouseID</th>\n",
       "      <th>Area</th>\n",
       "      <th>Sex</th>\n",
       "    </tr>\n",
       "  </thead>\n",
       "  <tbody>\n",
       "    <tr>\n",
       "      <th>0</th>\n",
       "      <td>15.011111</td>\n",
       "      <td>-0.140807</td>\n",
       "      <td>1.509909</td>\n",
       "      <td>-0.444041</td>\n",
       "      <td>-0.301599</td>\n",
       "      <td>0.916605</td>\n",
       "      <td>-0.830532</td>\n",
       "      <td>2024-11-28 10:43:05.011111</td>\n",
       "      <td>B6J2717</td>\n",
       "      <td>V2M</td>\n",
       "      <td>M</td>\n",
       "    </tr>\n",
       "    <tr>\n",
       "      <th>1</th>\n",
       "      <td>15.044443</td>\n",
       "      <td>-0.160119</td>\n",
       "      <td>1.496179</td>\n",
       "      <td>-0.471740</td>\n",
       "      <td>-0.336486</td>\n",
       "      <td>0.909917</td>\n",
       "      <td>-0.879771</td>\n",
       "      <td>2024-11-28 10:43:05.044443</td>\n",
       "      <td>B6J2717</td>\n",
       "      <td>V2M</td>\n",
       "      <td>M</td>\n",
       "    </tr>\n",
       "    <tr>\n",
       "      <th>2</th>\n",
       "      <td>15.077780</td>\n",
       "      <td>-0.169650</td>\n",
       "      <td>1.706411</td>\n",
       "      <td>-0.505553</td>\n",
       "      <td>-0.353703</td>\n",
       "      <td>1.012305</td>\n",
       "      <td>-0.939881</td>\n",
       "      <td>2024-11-28 10:43:05.077780</td>\n",
       "      <td>B6J2717</td>\n",
       "      <td>V2M</td>\n",
       "      <td>M</td>\n",
       "    </tr>\n",
       "    <tr>\n",
       "      <th>3</th>\n",
       "      <td>15.111109</td>\n",
       "      <td>-0.167552</td>\n",
       "      <td>2.075621</td>\n",
       "      <td>-0.543008</td>\n",
       "      <td>-0.349913</td>\n",
       "      <td>1.192120</td>\n",
       "      <td>-1.006466</td>\n",
       "      <td>2024-11-28 10:43:05.111109</td>\n",
       "      <td>B6J2717</td>\n",
       "      <td>V2M</td>\n",
       "      <td>M</td>\n",
       "    </tr>\n",
       "    <tr>\n",
       "      <th>4</th>\n",
       "      <td>15.144446</td>\n",
       "      <td>-0.156654</td>\n",
       "      <td>2.027079</td>\n",
       "      <td>-0.579149</td>\n",
       "      <td>-0.330225</td>\n",
       "      <td>1.168477</td>\n",
       "      <td>-1.070713</td>\n",
       "      <td>2024-11-28 10:43:05.144446</td>\n",
       "      <td>B6J2717</td>\n",
       "      <td>V2M</td>\n",
       "      <td>M</td>\n",
       "    </tr>\n",
       "    <tr>\n",
       "      <th>...</th>\n",
       "      <td>...</td>\n",
       "      <td>...</td>\n",
       "      <td>...</td>\n",
       "      <td>...</td>\n",
       "      <td>...</td>\n",
       "      <td>...</td>\n",
       "      <td>...</td>\n",
       "      <td>...</td>\n",
       "      <td>...</td>\n",
       "      <td>...</td>\n",
       "      <td>...</td>\n",
       "    </tr>\n",
       "    <tr>\n",
       "      <th>27220</th>\n",
       "      <td>922.219880</td>\n",
       "      <td>-0.776283</td>\n",
       "      <td>0.695412</td>\n",
       "      <td>-0.670457</td>\n",
       "      <td>-1.399628</td>\n",
       "      <td>0.502656</td>\n",
       "      <td>-1.117508</td>\n",
       "      <td>2024-11-28 10:58:12.219880</td>\n",
       "      <td>B6J2717</td>\n",
       "      <td>V2M</td>\n",
       "      <td>M</td>\n",
       "    </tr>\n",
       "    <tr>\n",
       "      <th>27221</th>\n",
       "      <td>922.253214</td>\n",
       "      <td>-0.775014</td>\n",
       "      <td>0.777530</td>\n",
       "      <td>-0.694914</td>\n",
       "      <td>-1.397416</td>\n",
       "      <td>0.540610</td>\n",
       "      <td>-1.156774</td>\n",
       "      <td>2024-11-28 10:58:12.253214</td>\n",
       "      <td>B6J2717</td>\n",
       "      <td>V2M</td>\n",
       "      <td>M</td>\n",
       "    </tr>\n",
       "    <tr>\n",
       "      <th>27222</th>\n",
       "      <td>922.286536</td>\n",
       "      <td>-0.771584</td>\n",
       "      <td>0.478150</td>\n",
       "      <td>-0.733053</td>\n",
       "      <td>-1.391440</td>\n",
       "      <td>0.402235</td>\n",
       "      <td>-1.218007</td>\n",
       "      <td>2024-11-28 10:58:12.286536</td>\n",
       "      <td>B6J2717</td>\n",
       "      <td>V2M</td>\n",
       "      <td>M</td>\n",
       "    </tr>\n",
       "    <tr>\n",
       "      <th>27223</th>\n",
       "      <td>922.319870</td>\n",
       "      <td>-0.771993</td>\n",
       "      <td>0.491793</td>\n",
       "      <td>-0.787642</td>\n",
       "      <td>-1.392150</td>\n",
       "      <td>0.408540</td>\n",
       "      <td>-1.305652</td>\n",
       "      <td>2024-11-28 10:58:12.319870</td>\n",
       "      <td>B6J2717</td>\n",
       "      <td>V2M</td>\n",
       "      <td>M</td>\n",
       "    </tr>\n",
       "    <tr>\n",
       "      <th>27224</th>\n",
       "      <td>922.353196</td>\n",
       "      <td>-0.777690</td>\n",
       "      <td>0.094592</td>\n",
       "      <td>-0.855388</td>\n",
       "      <td>-1.402073</td>\n",
       "      <td>0.224952</td>\n",
       "      <td>-1.414420</td>\n",
       "      <td>2024-11-28 10:58:12.353196</td>\n",
       "      <td>B6J2717</td>\n",
       "      <td>V2M</td>\n",
       "      <td>M</td>\n",
       "    </tr>\n",
       "  </tbody>\n",
       "</table>\n",
       "<p>27225 rows × 11 columns</p>\n",
       "</div>"
      ],
      "text/plain": [
       "        TimeStamp   470_dfF   560_dfF   410_dfF     z_470     z_560     z_410  \\\n",
       "0       15.011111 -0.140807  1.509909 -0.444041 -0.301599  0.916605 -0.830532   \n",
       "1       15.044443 -0.160119  1.496179 -0.471740 -0.336486  0.909917 -0.879771   \n",
       "2       15.077780 -0.169650  1.706411 -0.505553 -0.353703  1.012305 -0.939881   \n",
       "3       15.111109 -0.167552  2.075621 -0.543008 -0.349913  1.192120 -1.006466   \n",
       "4       15.144446 -0.156654  2.027079 -0.579149 -0.330225  1.168477 -1.070713   \n",
       "...           ...       ...       ...       ...       ...       ...       ...   \n",
       "27220  922.219880 -0.776283  0.695412 -0.670457 -1.399628  0.502656 -1.117508   \n",
       "27221  922.253214 -0.775014  0.777530 -0.694914 -1.397416  0.540610 -1.156774   \n",
       "27222  922.286536 -0.771584  0.478150 -0.733053 -1.391440  0.402235 -1.218007   \n",
       "27223  922.319870 -0.771993  0.491793 -0.787642 -1.392150  0.408540 -1.305652   \n",
       "27224  922.353196 -0.777690  0.094592 -0.855388 -1.402073  0.224952 -1.414420   \n",
       "\n",
       "                             Time  mouseID Area Sex  \n",
       "0      2024-11-28 10:43:05.011111  B6J2717  V2M   M  \n",
       "1      2024-11-28 10:43:05.044443  B6J2717  V2M   M  \n",
       "2      2024-11-28 10:43:05.077780  B6J2717  V2M   M  \n",
       "3      2024-11-28 10:43:05.111109  B6J2717  V2M   M  \n",
       "4      2024-11-28 10:43:05.144446  B6J2717  V2M   M  \n",
       "...                           ...      ...  ...  ..  \n",
       "27220  2024-11-28 10:58:12.219880  B6J2717  V2M   M  \n",
       "27221  2024-11-28 10:58:12.253214  B6J2717  V2M   M  \n",
       "27222  2024-11-28 10:58:12.286536  B6J2717  V2M   M  \n",
       "27223  2024-11-28 10:58:12.319870  B6J2717  V2M   M  \n",
       "27224  2024-11-28 10:58:12.353196  B6J2717  V2M   M  \n",
       "\n",
       "[27225 rows x 11 columns]"
      ]
     },
     "execution_count": 17,
     "metadata": {},
     "output_type": "execute_result"
    }
   ],
   "source": [
    "pd.read_csv(str(photometry_path)+'/Processed_fluorescence.csv') #Processed_fluorescence.csv #Fluorescence.csv"
   ]
  },
  {
   "cell_type": "code",
   "execution_count": 19,
   "id": "3f6cb3eb-66fa-4df6-8b56-3e26e1fa1e0c",
   "metadata": {},
   "outputs": [],
   "source": [
    "# from andrew:\n",
    "#Changed didgital output file\n",
    "h1_reader = harp.create_reader('harp_resources/h1-device.yml', epoch=harp.REFERENCE_EPOCH)\n",
    "h2_reader = harp.create_reader('harp_resources/h2-device.yml', epoch=harp.REFERENCE_EPOCH)\n",
    "session_data_reader = utils.SessionData(\"SessionSettings\")\n",
    "experiment_events_reader = utils.TimestampedCsvReader(\"ExperimentEvents\", columns=[\"Event\"])\n",
    "framecount_reader = utils.TimestampedCsvReader(\"OnixAnalogFrameCount\", columns=[\"Index\"])\n",
    "photometry_reader = utils.PhotometryReader(\"Fluorescence\")\n",
    "video_reader = utils.Video(\"VideoData1\")\n",
    "onix_digital_reader = utils.TimestampedCsvReader(\"OnixDigital\", columns=[\"Clock\", \"HubClock\", \n",
    "                                                                         \"DigitalInputs0\",\n",
    "                                                                         \"DigitalInputs1\",\n",
    "                                                                         \"DigitalInputs2\",\n",
    "                                                                         \"DigitalInputs3\",\n",
    "                                                                         \"DigitalInputs4\",\n",
    "                                                                         \"DigitalInputs5\"\n",
    "                                                                         \"DigitalInputs6\",\n",
    "                                                                         \"DigitalInputs7\",\n",
    "                                                                         \"DigitalInputs8\",\n",
    "                                                                         \"Buttons\"])\n",
    "onix_harp_reader = utils.TimestampedCsvReader(\"OnixHarp\", columns=[\"Clock\", \"HubClock\", \"HarpTime\"])"
   ]
  },
  {
   "cell_type": "code",
   "execution_count": 20,
   "id": "7ccd5ff7-0f81-443b-9195-48e93efc1db7",
   "metadata": {},
   "outputs": [
    {
     "name": "stdout",
     "output_type": "stream",
     "text": [
      "DotMap(randomDelay=1.5, minumumDelay=0.1, haltGain=0.0, haltMotorGain=1.0, haltTime=2.0)\n"
     ]
    }
   ],
   "source": [
    "# read metadata\n",
    "session_settings = utils.load(session_data_reader, data_path)\n",
    "\n",
    "print(session_settings.iloc[0]['metadata'].blocks[0].haltProtocol)"
   ]
  },
  {
   "cell_type": "code",
   "execution_count": 21,
   "id": "9874856a-38eb-43e4-a563-ad640a92e5b3",
   "metadata": {},
   "outputs": [
    {
     "ename": "OverflowError",
     "evalue": "Python integer 2182416 out of bounds for uint8",
     "output_type": "error",
     "traceback": [
      "\u001b[0;31m---------------------------------------------------------------------------\u001b[0m",
      "\u001b[0;31mOverflowError\u001b[0m                             Traceback (most recent call last)",
      "Cell \u001b[0;32mIn[21], line 2\u001b[0m\n\u001b[1;32m      1\u001b[0m \u001b[38;5;66;03m# read harp streams, experiment events, video\u001b[39;00m\n\u001b[0;32m----> 2\u001b[0m flow_sensor \u001b[38;5;241m=\u001b[39m utils\u001b[38;5;241m.\u001b[39mload_harp(h1_reader\u001b[38;5;241m.\u001b[39mOpticalTrackingRead, h1_datafolder)\n\u001b[1;32m      3\u001b[0m camera_triggers \u001b[38;5;241m=\u001b[39m utils\u001b[38;5;241m.\u001b[39mload_harp(h1_reader\u001b[38;5;241m.\u001b[39mCam0Event, h1_datafolder)\n\u001b[1;32m      4\u001b[0m experiment_events \u001b[38;5;241m=\u001b[39m utils\u001b[38;5;241m.\u001b[39mload(experiment_events_reader, root_folder)\n",
      "File \u001b[0;32m~/Documents/GitHub/vestibular_vr_pipeline/harp_resources/utils.py:82\u001b[0m, in \u001b[0;36mload_harp\u001b[0;34m(reader, root)\u001b[0m\n\u001b[1;32m     80\u001b[0m root \u001b[38;5;241m=\u001b[39m Path(root)\n\u001b[1;32m     81\u001b[0m pattern \u001b[38;5;241m=\u001b[39m \u001b[38;5;124mf\u001b[39m\u001b[38;5;124m\"\u001b[39m\u001b[38;5;132;01m{\u001b[39;00mroot\u001b[38;5;241m.\u001b[39mjoinpath(root\u001b[38;5;241m.\u001b[39mname)\u001b[38;5;132;01m}\u001b[39;00m\u001b[38;5;124m_\u001b[39m\u001b[38;5;132;01m{\u001b[39;00mreader\u001b[38;5;241m.\u001b[39mregister\u001b[38;5;241m.\u001b[39maddress\u001b[38;5;132;01m}\u001b[39;00m\u001b[38;5;124m_*.bin\u001b[39m\u001b[38;5;124m\"\u001b[39m\n\u001b[0;32m---> 82\u001b[0m data \u001b[38;5;241m=\u001b[39m [reader\u001b[38;5;241m.\u001b[39mread(file) \u001b[38;5;28;01mfor\u001b[39;00m file \u001b[38;5;129;01min\u001b[39;00m glob(pattern)]\n\u001b[1;32m     83\u001b[0m \u001b[38;5;28;01mreturn\u001b[39;00m pd\u001b[38;5;241m.\u001b[39mconcat(data)\n",
      "File \u001b[0;32m~/opt/anaconda3/envs/aeon/lib/python3.12/site-packages/harp/reader.py:73\u001b[0m, in \u001b[0;36m_compose_parser.<locals>.parser\u001b[0;34m(file, columns, epoch, keep_type)\u001b[0m\n\u001b[1;32m     67\u001b[0m \u001b[38;5;28;01mdef\u001b[39;00m \u001b[38;5;21mparser\u001b[39m(\n\u001b[1;32m     68\u001b[0m     file: Optional[Union[\u001b[38;5;28mstr\u001b[39m, \u001b[38;5;28mbytes\u001b[39m, PathLike[Any], BinaryIO]] \u001b[38;5;241m=\u001b[39m \u001b[38;5;28;01mNone\u001b[39;00m,\n\u001b[1;32m     69\u001b[0m     columns: Optional[Axes] \u001b[38;5;241m=\u001b[39m \u001b[38;5;28;01mNone\u001b[39;00m,\n\u001b[1;32m     70\u001b[0m     epoch: Optional[datetime] \u001b[38;5;241m=\u001b[39m params\u001b[38;5;241m.\u001b[39mepoch,\n\u001b[1;32m     71\u001b[0m     keep_type: \u001b[38;5;28mbool\u001b[39m \u001b[38;5;241m=\u001b[39m params\u001b[38;5;241m.\u001b[39mkeep_type,\n\u001b[1;32m     72\u001b[0m ):\n\u001b[0;32m---> 73\u001b[0m     df \u001b[38;5;241m=\u001b[39m g(file, columns, epoch, keep_type)\n\u001b[1;32m     74\u001b[0m     result \u001b[38;5;241m=\u001b[39m f(df)\n\u001b[1;32m     75\u001b[0m     type_col \u001b[38;5;241m=\u001b[39m df\u001b[38;5;241m.\u001b[39mget(MessageType\u001b[38;5;241m.\u001b[39m\u001b[38;5;18m__name__\u001b[39m)\n",
      "File \u001b[0;32m~/opt/anaconda3/envs/aeon/lib/python3.12/site-packages/harp/reader.py:162\u001b[0m, in \u001b[0;36m_create_register_reader.<locals>.reader\u001b[0;34m(file, columns, epoch, keep_type)\u001b[0m\n\u001b[1;32m    159\u001b[0m \u001b[38;5;28;01mif\u001b[39;00m file \u001b[38;5;129;01mis\u001b[39;00m \u001b[38;5;28;01mNone\u001b[39;00m:\n\u001b[1;32m    160\u001b[0m     file \u001b[38;5;241m=\u001b[39m \u001b[38;5;124mf\u001b[39m\u001b[38;5;124m\"\u001b[39m\u001b[38;5;132;01m{\u001b[39;00mparams\u001b[38;5;241m.\u001b[39mpath\u001b[38;5;132;01m}\u001b[39;00m\u001b[38;5;124m_\u001b[39m\u001b[38;5;132;01m{\u001b[39;00mregister\u001b[38;5;241m.\u001b[39maddress\u001b[38;5;132;01m}\u001b[39;00m\u001b[38;5;124m.bin\u001b[39m\u001b[38;5;124m\"\u001b[39m\n\u001b[0;32m--> 162\u001b[0m data \u001b[38;5;241m=\u001b[39m read(\n\u001b[1;32m    163\u001b[0m     file,\n\u001b[1;32m    164\u001b[0m     address\u001b[38;5;241m=\u001b[39mregister\u001b[38;5;241m.\u001b[39maddress,\n\u001b[1;32m    165\u001b[0m     dtype\u001b[38;5;241m=\u001b[39mdtype(register\u001b[38;5;241m.\u001b[39mtype),\n\u001b[1;32m    166\u001b[0m     length\u001b[38;5;241m=\u001b[39mregister\u001b[38;5;241m.\u001b[39mlength,\n\u001b[1;32m    167\u001b[0m     columns\u001b[38;5;241m=\u001b[39mcolumns,\n\u001b[1;32m    168\u001b[0m     epoch\u001b[38;5;241m=\u001b[39mepoch,\n\u001b[1;32m    169\u001b[0m     keep_type\u001b[38;5;241m=\u001b[39mkeep_type,\n\u001b[1;32m    170\u001b[0m )\n\u001b[1;32m    171\u001b[0m \u001b[38;5;28;01mreturn\u001b[39;00m data\n",
      "File \u001b[0;32m~/opt/anaconda3/envs/aeon/lib/python3.12/site-packages/harp/io.py:85\u001b[0m, in \u001b[0;36mread\u001b[0;34m(file, address, dtype, length, columns, epoch, keep_type)\u001b[0m\n\u001b[1;32m     83\u001b[0m index \u001b[38;5;241m=\u001b[39m \u001b[38;5;28;01mNone\u001b[39;00m\n\u001b[1;32m     84\u001b[0m stride \u001b[38;5;241m=\u001b[39m data[\u001b[38;5;241m1\u001b[39m] \u001b[38;5;241m+\u001b[39m \u001b[38;5;241m2\u001b[39m\n\u001b[0;32m---> 85\u001b[0m nrows \u001b[38;5;241m=\u001b[39m \u001b[38;5;28mlen\u001b[39m(data) \u001b[38;5;241m/\u001b[39m\u001b[38;5;241m/\u001b[39m stride\n\u001b[1;32m     86\u001b[0m payloadtype \u001b[38;5;241m=\u001b[39m data[\u001b[38;5;241m4\u001b[39m]\n\u001b[1;32m     87\u001b[0m payloadoffset \u001b[38;5;241m=\u001b[39m \u001b[38;5;241m5\u001b[39m\n",
      "\u001b[0;31mOverflowError\u001b[0m: Python integer 2182416 out of bounds for uint8"
     ]
    }
   ],
   "source": [
    "# read harp streams, experiment events, video\n",
    "flow_sensor = utils.load_harp(h1_reader.OpticalTrackingRead, h1_datafolder)\n",
    "camera_triggers = utils.load_harp(h1_reader.Cam0Event, h1_datafolder)\n",
    "experiment_events = utils.load(experiment_events_reader, root_folder)\n",
    "video_data = utils.load(video_reader, root_folder)"
   ]
  },
  {
   "cell_type": "markdown",
   "id": "512d7a05-8f3e-4e31-b01f-acc5ad7cfabf",
   "metadata": {},
   "source": [
    "# Bulk extraction\n",
    "## old data"
   ]
  },
  {
   "cell_type": "code",
   "execution_count": 2,
   "id": "bf4c8e6b",
   "metadata": {},
   "outputs": [],
   "source": [
    "#data_path = Path('/home/ikharitonov/RANCZLAB-NAS/data/ONIX/20240730_Mismatch_Experiment/MMclosed&Regular_120824/2024-08-12T16-51-16_B3M3')\n",
    "#photometry_path = Path('/home/ikharitonov/RANCZLAB-NAS/data/ONIX/20240730_Mismatch_Experiment/MMclosed&Regular_120824/photometry/B3M3_MMclosed&Regular_day1/2024_08_12-18_57_17')\n"
   ]
  },
  {
   "cell_type": "code",
   "execution_count": 3,
   "id": "fa1035d1-27e7-4536-b72f-2950da7ff207",
   "metadata": {},
   "outputs": [],
   "source": [
    "rootdir = '/Volumes/RanczLab/20240730_Mismatch_Experiment/G8_MMclosed-and-open_070824' #Enter root path\n",
    "data_paths = []\n",
    "photometry_paths= []\n",
    "for dirpath, subdirs, files in os.walk(rootdir):\n",
    "    if 'ExperimentEvents' in dirpath:\n",
    "        data_paths.append(dirpath[:-17])\n",
    "    for x in files:\n",
    "        if 'Processed_fluorescence.csv' in x:\n",
    "            photometry_paths.append(dirpath)\n",
    "\n",
    "\n",
    "\n"
   ]
  },
  {
   "cell_type": "code",
   "execution_count": 4,
   "id": "489e48a5-02d6-409f-9948-d83c29c1d89d",
   "metadata": {},
   "outputs": [
    {
     "data": {
      "text/plain": [
       "['/Volumes/RanczLab/20240730_Mismatch_Experiment/G8_MMclosed-and-open_070824/2024-08-07T09-46-19_B2M5/photometry',\n",
       " '/Volumes/RanczLab/20240730_Mismatch_Experiment/G8_MMclosed-and-open_070824/2024-08-07T09-46-19_B2M5/photometry',\n",
       " '/Volumes/RanczLab/20240730_Mismatch_Experiment/G8_MMclosed-and-open_070824/2024-08-07T10-40-45_B2M4/photometry',\n",
       " '/Volumes/RanczLab/20240730_Mismatch_Experiment/G8_MMclosed-and-open_070824/2024-08-07T11-45-03_B3M3/photometry',\n",
       " '/Volumes/RanczLab/20240730_Mismatch_Experiment/G8_MMclosed-and-open_070824/2024-08-07T13-40-07_B3M1/photometry',\n",
       " '/Volumes/RanczLab/20240730_Mismatch_Experiment/G8_MMclosed-and-open_070824/2024-08-07T14-22-22_B3M2/photometry']"
      ]
     },
     "execution_count": 4,
     "metadata": {},
     "output_type": "execute_result"
    }
   ],
   "source": [
    "photometry_paths"
   ]
  },
  {
   "cell_type": "code",
   "execution_count": 5,
   "id": "fb7d1c01-b70a-470b-a321-7ce63a44f0d9",
   "metadata": {},
   "outputs": [
    {
     "data": {
      "text/plain": [
       "['/Volumes/RanczLab/20240730_Mismatch_Experiment/G8_MMclosed-and-open_070824/2024-08-07T09-46-19_B2M5',\n",
       " '/Volumes/RanczLab/20240730_Mismatch_Experiment/G8_MMclosed-and-open_070824/2024-08-07T10-40-45_B2M4',\n",
       " '/Volumes/RanczLab/20240730_Mismatch_Experiment/G8_MMclosed-and-open_070824/2024-08-07T11-45-03_B3M3',\n",
       " '/Volumes/RanczLab/20240730_Mismatch_Experiment/G8_MMclosed-and-open_070824/2024-08-07T13-40-07_B3M1',\n",
       " '/Volumes/RanczLab/20240730_Mismatch_Experiment/G8_MMclosed-and-open_070824/2024-08-07T14-22-22_B3M2']"
      ]
     },
     "execution_count": 5,
     "metadata": {},
     "output_type": "execute_result"
    }
   ],
   "source": [
    "data_paths"
   ]
  },
  {
   "cell_type": "code",
   "execution_count": 12,
   "id": "9c7abc82-a672-43f7-b855-882dff09d9e4",
   "metadata": {},
   "outputs": [],
   "source": [
    "def run_extraction_makeh5(data_path, photometry_path, make_h5 = False):\n",
    "    print(f'\\n Running extraction for {data_path.split('/')[-1][20:]} for session {data_path.split('/')[-2]}')\n",
    "    #data_path = Path(data_path)\n",
    "    #photometry_path = Path(photometry_path)\n",
    "    SessionSettings = utils.read_SessionSettings(Path(data_path), print_contents=True)\n",
    "    conversions = process.calculate_conversions_second_approach(Path(data_path), Path(photometry_path), verbose=False)\n",
    "    streams = utils.load_registers(Path(data_path))\n",
    "\n",
    "    Photometry = utils.read_fluorescence(Path(photometry_path))\n",
    "    Photometry['HARP Timestamps'] = conversions['photometry_to_harp_time'](Photometry['TimeStamp'])\n",
    "    \n",
    "    OnixAnalogClock = utils.read_OnixAnalogClock(Path(data_path))\n",
    "    OnixAnalogData = utils.read_OnixAnalogData(Path(data_path), binarise=True)\n",
    "    ExperimentEvents = utils.read_ExperimentEvents(Path(data_path)) \n",
    "    \n",
    "    photodiode_series = pd.Series(OnixAnalogData[:,0], index=conversions['onix_to_harp_timestamp'](OnixAnalogClock))\n",
    "\n",
    "    print('Adding Photometry, Eye Movements and Photodiode to the streams')\n",
    "    streams = process.reformat_and_add_many_streams(streams, Photometry, 'Photometry', ['CH1-410', 'CH1-470', 'CH1-560'], index_column_name='HARP Timestamps')\n",
    "    streams = process.add_stream(streams, 'ONIX', photodiode_series, 'Photodiode')\n",
    "    \n",
    "    \n",
    "    _ = process.get_timepoint_info(streams, print_all=True)\n",
    "    resampled_streams = process.pad_and_resample(streams, resampling_period='1 ms', method='linear')\n",
    "    _ = process.get_timepoint_info(resampled_streams, print_all=True)\n",
    "\n",
    "    print('Applying linear and angular conversion to Optical tracking sensor streams (cm / sec and degrees / sec)')\n",
    "    resampled_streams['H1']['OpticalTrackingRead0X(46)'] = process.running_unit_conversion(resampled_streams['H1']['OpticalTrackingRead0X(46)']*100)\n",
    "    resampled_streams['H1']['OpticalTrackingRead0Y(46)'] = process.rotation_unit_conversion(resampled_streams['H1']['OpticalTrackingRead0Y(46)'])\n",
    "\n",
    "    print('Streams are extracted and can be used or made to h5')\n",
    "    if make_h5:\n",
    "        process.save_streams_as_h5(Path(data_path), resampled_streams, streams_to_save_pattern, SessionSetting)"
   ]
  },
  {
   "cell_type": "code",
   "execution_count": 13,
   "id": "832d161d-b85c-48f2-8746-9b70df1b9c69",
   "metadata": {},
   "outputs": [
    {
     "name": "stdout",
     "output_type": "stream",
     "text": [
      "\n",
      " Running extraction for B2M4 for session G8_MMclosed-and-open_070824\n",
      "{\n",
      "    \"seconds\": 685478.300256,\n",
      "    \"value\": {\n",
      "        \"motorSettings\": {\n",
      "            \"nominalPulseInterval\": 200,\n",
      "            \"initialPulseInterval\": 200,\n",
      "            \"pulseStepInterval\": 2,\n",
      "            \"pulsePeriod\": 10\n",
      "        },\n",
      "        \"blocks\": [\n",
      "            {\n",
      "                \"alias\": \"LinearMismatch\",\n",
      "                \"playbackFilePath\": \"\",\n",
      "                \"blockGainModifier\": 1.0,\n",
      "                \"flowXToVisualGain\": 0.0008,\n",
      "                \"flowYToVisualGain\": 0.0,\n",
      "                \"rotaryToVisualGain\": 0.0,\n",
      "                \"playbackToVisualGain\": 0.0,\n",
      "                \"stimulus\": {\n",
      "                    \"type\": 0,\n",
      "                    \"spatialFrequency\": 28.8,\n",
      "                    \"offset1\": -90.0,\n",
      "                    \"extent1\": 180.0,\n",
      "                    \"offset2\": 90.0,\n",
      "                    \"extent2\": 180.0,\n",
      "                    \"path\": \"\"\n",
      "                },\n",
      "                \"flowXToMotorGain\": 0.0,\n",
      "                \"flowYToMotorGain\": 0.0,\n",
      "                \"playbackToMotorGain\": 0.0,\n",
      "                \"totalRuntime\": 900.0,\n",
      "                \"haltProtocol\": {\n",
      "                    \"randomDelay\": 0.5,\n",
      "                    \"minumumDelay\": 0.1,\n",
      "                    \"haltTime\": 1.0,\n",
      "                    \"haltGain\": 1.0\n",
      "                },\n",
      "                \"flowXToRunGain\": 0.0008,\n",
      "                \"flowYToRunGain\": 0.0,\n",
      "                \"playbackToRunGain\": 0.0,\n",
      "                \"decayTimestep\": 0.0,\n",
      "                \"runThresholdDecay\": 0.0,\n",
      "                \"runThreshold\": 110.0,\n",
      "                \"haltProbability\": 0.4\n",
      "            },\n",
      "            {\n",
      "                \"alias\": \"LinearPlaybackMismatch\",\n",
      "                \"playbackFilePath\": \"Z:/data/ONIX/20240730_Mismatch_Experiment/playback_file_B2M4_5.csv\",\n",
      "                \"blockGainModifier\": 1.0,\n",
      "                \"flowXToVisualGain\": 0.0,\n",
      "                \"flowYToVisualGain\": 0.0,\n",
      "                \"rotaryToVisualGain\": 0.0,\n",
      "                \"playbackToVisualGain\": 0.0008,\n",
      "                \"stimulus\": {\n",
      "                    \"type\": 0,\n",
      "                    \"spatialFrequency\": 28.8,\n",
      "                    \"offset1\": -90.0,\n",
      "                    \"extent1\": 180.0,\n",
      "                    \"offset2\": 90.0,\n",
      "                    \"extent2\": 180.0,\n",
      "                    \"path\": \"\"\n",
      "                },\n",
      "                \"flowXToMotorGain\": 0.0,\n",
      "                \"flowYToMotorGain\": 0.0,\n",
      "                \"playbackToMotorGain\": 0.0,\n",
      "                \"totalRuntime\": 900.0,\n",
      "                \"haltProtocol\": {\n",
      "                    \"randomDelay\": 0.5,\n",
      "                    \"minumumDelay\": 0.1,\n",
      "                    \"haltTime\": 1.0,\n",
      "                    \"haltGain\": 1.0\n",
      "                },\n",
      "                \"flowXToRunGain\": 0.0,\n",
      "                \"flowYToRunGain\": 0.0,\n",
      "                \"playbackToRunGain\": 0.0008,\n",
      "                \"decayTimestep\": 0.0,\n",
      "                \"runThresholdDecay\": 0.0,\n",
      "                \"runThreshold\": 110.0,\n",
      "                \"haltProbability\": 0.4\n",
      "            }\n",
      "        ],\n",
      "        \"metadata\": {\n",
      "            \"runGain\": 1.0,\n",
      "            \"rootPath\": \"D:/TrialLogicTestData/\",\n",
      "            \"animalId\": \"B2M4\"\n",
      "        }\n",
      "    }\n",
      "}\n",
      "OnixAnalogClock loaded in 7.37 seconds.\n"
     ]
    },
    {
     "name": "stderr",
     "output_type": "stream",
     "text": [
      "/Users/hildeteigen/Documents/GitHub/vestibular_vr_pipeline/harp_resources/utils.py:143: UserWarning: Could not infer format, so each element will be parsed individually, falling back to `dateutil`. To ensure parsing is consistent and as-expected, please specify a format.\n",
      "  sorted_filenames = pd.to_datetime(pd.Series([x.split('_')[1].split('.')[0] for x in filenames])).sort_values()\n"
     ]
    },
    {
     "name": "stdout",
     "output_type": "stream",
     "text": [
      "\n",
      "WARNING: \"Unlucky\" dataset with delayed subscription to OnixAnalogClock in Bonsai. As a consequence, the starting part of photodiode data is not counted. See https://github.com/neurogears/vestibular-vr/issues/81 for more information.\n",
      "Shape of OnixAnalogClock == [250166000] shape of OnixAnalogFrameCount == [250168300].\n",
      "Cutting 2300 values from the beginning of OnixAnalogFrameCount. Data considered to be MISSING.\n",
      "\n"
     ]
    },
    {
     "name": "stderr",
     "output_type": "stream",
     "text": [
      "/Users/hildeteigen/Documents/GitHub/vestibular_vr_pipeline/harp_resources/utils.py:134: UserWarning: Could not infer format, so each element will be parsed individually, falling back to `dateutil`. To ensure parsing is consistent and as-expected, please specify a format.\n",
      "  sorted_filenames = pd.to_datetime(pd.Series([x.split('_')[1].split('.')[0] for x in filenames])).sort_values()\n"
     ]
    },
    {
     "name": "stdout",
     "output_type": "stream",
     "text": [
      "WARNING: \"Unlucky\" dataset with unmatching lengths of OnixDigital and Events.csv (photometry software events) logs. See https://github.com/ikharitonov/vestibular_vr_pipeline/issues/12 for more information.\n",
      "OnixDigital has 818 events and Events.csv has 650 events. Cutting to the minimum 650 events from the beggining, aligning by the end.\n",
      "\n",
      "Calculation of conversions finished in 1108.85 seconds.\n",
      "Dataset 2024-08-07T10-40-45_B2M4 contains following registers:\n",
      "H1: [32, 33, 46]\n",
      "H2: [38, 39, 42]\n"
     ]
    },
    {
     "ename": "AttributeError",
     "evalue": "'RegisterReader' object has no attribute 'pattern'",
     "output_type": "error",
     "traceback": [
      "\u001b[0;31m---------------------------------------------------------------------------\u001b[0m",
      "\u001b[0;31mAttributeError\u001b[0m                            Traceback (most recent call last)",
      "Cell \u001b[0;32mIn[13], line 1\u001b[0m\n\u001b[0;32m----> 1\u001b[0m data_path, resampled_streams, streams_to_save_pattern \u001b[38;5;241m=\u001b[39mrun_extraction_makeh5(data_paths[\u001b[38;5;241m1\u001b[39m], photometry_paths[\u001b[38;5;241m1\u001b[39m])\n",
      "Cell \u001b[0;32mIn[12], line 7\u001b[0m, in \u001b[0;36mrun_extraction_makeh5\u001b[0;34m(data_path, photometry_path, make_h5)\u001b[0m\n\u001b[1;32m      5\u001b[0m SessionSettings \u001b[38;5;241m=\u001b[39m utils\u001b[38;5;241m.\u001b[39mread_SessionSettings(Path(data_path), print_contents\u001b[38;5;241m=\u001b[39m\u001b[38;5;28;01mTrue\u001b[39;00m)\n\u001b[1;32m      6\u001b[0m conversions \u001b[38;5;241m=\u001b[39m process\u001b[38;5;241m.\u001b[39mcalculate_conversions_second_approach(Path(data_path), Path(photometry_path), verbose\u001b[38;5;241m=\u001b[39m\u001b[38;5;28;01mFalse\u001b[39;00m)\n\u001b[0;32m----> 7\u001b[0m streams \u001b[38;5;241m=\u001b[39m utils\u001b[38;5;241m.\u001b[39mload_registers(Path(data_path))\n\u001b[1;32m      9\u001b[0m Photometry \u001b[38;5;241m=\u001b[39m utils\u001b[38;5;241m.\u001b[39mread_fluorescence(Path(photometry_path))\n\u001b[1;32m     10\u001b[0m Photometry[\u001b[38;5;124m'\u001b[39m\u001b[38;5;124mHARP Timestamps\u001b[39m\u001b[38;5;124m'\u001b[39m] \u001b[38;5;241m=\u001b[39m conversions[\u001b[38;5;124m'\u001b[39m\u001b[38;5;124mphotometry_to_harp_time\u001b[39m\u001b[38;5;124m'\u001b[39m](Photometry[\u001b[38;5;124m'\u001b[39m\u001b[38;5;124mTimeStamp\u001b[39m\u001b[38;5;124m'\u001b[39m])\n",
      "File \u001b[0;32m~/Documents/GitHub/vestibular_vr_pipeline/harp_resources/utils.py:268\u001b[0m, in \u001b[0;36mload_registers\u001b[0;34m(dataset_path)\u001b[0m\n\u001b[1;32m    266\u001b[0m h1_data_streams \u001b[38;5;241m=\u001b[39m {}\n\u001b[1;32m    267\u001b[0m \u001b[38;5;28;01mfor\u001b[39;00m register \u001b[38;5;129;01min\u001b[39;00m h1_dict\u001b[38;5;241m.\u001b[39mkeys():\n\u001b[0;32m--> 268\u001b[0m     data_stream \u001b[38;5;241m=\u001b[39m load(get_register_object(register, \u001b[38;5;124m'\u001b[39m\u001b[38;5;124mh1\u001b[39m\u001b[38;5;124m'\u001b[39m), dataset_path\u001b[38;5;241m/\u001b[39m\u001b[38;5;124m'\u001b[39m\u001b[38;5;124mHarpDataH1\u001b[39m\u001b[38;5;124m'\u001b[39m)\n\u001b[1;32m    269\u001b[0m     \u001b[38;5;28;01mif\u001b[39;00m data_stream\u001b[38;5;241m.\u001b[39mcolumns\u001b[38;5;241m.\u001b[39mshape[\u001b[38;5;241m0\u001b[39m] \u001b[38;5;241m>\u001b[39m \u001b[38;5;241m1\u001b[39m:\n\u001b[1;32m    270\u001b[0m         \u001b[38;5;28;01mfor\u001b[39;00m col_name \u001b[38;5;129;01min\u001b[39;00m data_stream\u001b[38;5;241m.\u001b[39mcolumns:\n",
      "File \u001b[0;32m~/Documents/GitHub/vestibular_vr_pipeline/harp_resources/utils.py:75\u001b[0m, in \u001b[0;36mload\u001b[0;34m(reader, root)\u001b[0m\n\u001b[1;32m     73\u001b[0m \u001b[38;5;28;01mdef\u001b[39;00m \u001b[38;5;21mload\u001b[39m(reader: Reader, root: Path) \u001b[38;5;241m-\u001b[39m\u001b[38;5;241m>\u001b[39m pd\u001b[38;5;241m.\u001b[39mDataFrame:\n\u001b[1;32m     74\u001b[0m     root \u001b[38;5;241m=\u001b[39m Path(root)\n\u001b[0;32m---> 75\u001b[0m     pattern \u001b[38;5;241m=\u001b[39m \u001b[38;5;124mf\u001b[39m\u001b[38;5;124m\"\u001b[39m\u001b[38;5;132;01m{\u001b[39;00mroot\u001b[38;5;241m.\u001b[39mjoinpath(reader\u001b[38;5;241m.\u001b[39mpattern)\u001b[38;5;241m.\u001b[39mjoinpath(reader\u001b[38;5;241m.\u001b[39mpattern)\u001b[38;5;132;01m}\u001b[39;00m\u001b[38;5;124m_*.\u001b[39m\u001b[38;5;132;01m{\u001b[39;00mreader\u001b[38;5;241m.\u001b[39mextension\u001b[38;5;132;01m}\u001b[39;00m\u001b[38;5;124m\"\u001b[39m\n\u001b[1;32m     76\u001b[0m     data \u001b[38;5;241m=\u001b[39m [reader\u001b[38;5;241m.\u001b[39mread(Path(file)) \u001b[38;5;28;01mfor\u001b[39;00m file \u001b[38;5;129;01min\u001b[39;00m glob(pattern)]\n\u001b[1;32m     77\u001b[0m     \u001b[38;5;28;01mreturn\u001b[39;00m pd\u001b[38;5;241m.\u001b[39mconcat(data)\n",
      "\u001b[0;31mAttributeError\u001b[0m: 'RegisterReader' object has no attribute 'pattern'"
     ]
    }
   ],
   "source": [
    "data_path, resampled_streams, streams_to_save_pattern =run_extraction_makeh5(data_paths[1], photometry_paths[1]) \n"
   ]
  },
  {
   "cell_type": "code",
   "execution_count": null,
   "id": "0db300de-28fd-48e2-96c5-5fe6d1fb7a98",
   "metadata": {},
   "outputs": [],
   "source": [
    "data_path"
   ]
  },
  {
   "cell_type": "markdown",
   "id": "dafa5518",
   "metadata": {},
   "source": [
    "## Loading and Synchronisation "
   ]
  },
  {
   "cell_type": "code",
   "execution_count": 17,
   "id": "7083b9a2-423a-45f6-9b67-35d62572931b",
   "metadata": {},
   "outputs": [
    {
     "data": {
      "text/plain": [
       "'/Volumes/RanczLab/20240730_Mismatch_Experiment/G8_MMclosed-and-open_070824/2024-08-07T11-45-03_B3M3/photometry'"
      ]
     },
     "execution_count": 17,
     "metadata": {},
     "output_type": "execute_result"
    }
   ],
   "source": [
    "photometry_path = Path(photometry_paths[3])\n",
    "data_path = Path(data_paths[3])\n",
    "photometry_paths[3]"
   ]
  },
  {
   "cell_type": "code",
   "execution_count": 10,
   "id": "412b506b-1180-498a-9cc5-6b00245b368a",
   "metadata": {},
   "outputs": [],
   "source": [
    "photometry_path = Path('/Volumes/RanczLab/Photometry_recordings/August_Mismatch_Experiment_G8m/B3M3_MMclosed_and_Regular_day2')\n",
    "data_path = Path('/Volumes/RanczLab/20240730_Mismatch_Experiment/G8_MMclosed-and-regular_130824/2024-08-13T12-53-01_B3M3')"
   ]
  },
  {
   "cell_type": "code",
   "execution_count": 11,
   "id": "fb2e8d32-a745-484d-870e-7e984b66c13e",
   "metadata": {},
   "outputs": [],
   "source": [
    "photometry_path = Path('/Volumes/RanczLab/Photometry_recordings/August_Mismatch_Experiment_G8m/B2M4_MMclosed_and_open_day2/2024_08_08-11_24_00')\n",
    "data_path = Path('/Volumes/RanczLab/20240730_Mismatch_Experiment/G8_MMclosed-and-open_080824/2024-08-08T09-20-54_B2M4')\n",
    "#works"
   ]
  },
  {
   "cell_type": "code",
   "execution_count": 19,
   "id": "6cebb421",
   "metadata": {},
   "outputs": [
    {
     "name": "stdout",
     "output_type": "stream",
     "text": [
      "OnixAnalogClock loaded in 5.77 seconds.\n",
      "\n",
      "WARNING: \"Unlucky\" dataset with delayed subscription to OnixAnalogClock in Bonsai. As a consequence, the starting part of photodiode data is not counted. See https://github.com/neurogears/vestibular-vr/issues/81 for more information.\n",
      "Shape of OnixAnalogClock == [205033700] shape of OnixAnalogFrameCount == [205036100].\n",
      "Cutting 2400 values from the beginning of OnixAnalogFrameCount. Data considered to be MISSING.\n",
      "\n",
      "WARNING: \"Unlucky\" dataset with unmatching lengths of OnixDigital and Events.csv (photometry software events) logs. See https://github.com/ikharitonov/vestibular_vr_pipeline/issues/12 for more information.\n",
      "OnixDigital has 670 events and Events.csv has 673 events. Cutting to the minimum 670 events from the beggining, aligning by the end.\n",
      "\n",
      "Calculation of conversions finished in 77.52 seconds.\n"
     ]
    }
   ],
   "source": [
    "conversions = process.calculate_conversions_second_approach(data_path, photometry_path, verbose=False)\n",
    "# After hardware ONIX clock implementation - this will have to be adapted\n",
    "# Only photometry will need to be converted"
   ]
  },
  {
   "cell_type": "code",
   "execution_count": 20,
   "id": "ae30fa30",
   "metadata": {},
   "outputs": [
    {
     "name": "stdout",
     "output_type": "stream",
     "text": [
      "Dataset 2024-08-07T13-40-07_B3M1 contains following registers:\n",
      "H1: [32, 33, 46]\n",
      "H2: [39, 42]\n"
     ]
    },
    {
     "ename": "OverflowError",
     "evalue": "Python integer 1601990 out of bounds for uint8",
     "output_type": "error",
     "traceback": [
      "\u001b[0;31m---------------------------------------------------------------------------\u001b[0m",
      "\u001b[0;31mOverflowError\u001b[0m                             Traceback (most recent call last)",
      "Cell \u001b[0;32mIn[20], line 1\u001b[0m\n\u001b[0;32m----> 1\u001b[0m streams \u001b[38;5;241m=\u001b[39m utils\u001b[38;5;241m.\u001b[39mload_registers(data_path)\n\u001b[1;32m      3\u001b[0m Photometry \u001b[38;5;241m=\u001b[39m utils\u001b[38;5;241m.\u001b[39mread_fluorescence(photometry_path)\n\u001b[1;32m      4\u001b[0m Photometry[\u001b[38;5;124m'\u001b[39m\u001b[38;5;124mHARP Timestamps\u001b[39m\u001b[38;5;124m'\u001b[39m] \u001b[38;5;241m=\u001b[39m conversions[\u001b[38;5;124m'\u001b[39m\u001b[38;5;124mphotometry_to_harp_time\u001b[39m\u001b[38;5;124m'\u001b[39m](Photometry[\u001b[38;5;124m'\u001b[39m\u001b[38;5;124mTimeStamp\u001b[39m\u001b[38;5;124m'\u001b[39m])\n",
      "File \u001b[0;32m~/Documents/GitHub/vestibular_vr_pipeline/harp_resources/utils.py:199\u001b[0m, in \u001b[0;36mload_registers\u001b[0;34m(dataset_path)\u001b[0m\n\u001b[1;32m    197\u001b[0m h1_data_streams \u001b[38;5;241m=\u001b[39m {}\n\u001b[1;32m    198\u001b[0m \u001b[38;5;28;01mfor\u001b[39;00m register \u001b[38;5;129;01min\u001b[39;00m h1_dict\u001b[38;5;241m.\u001b[39mkeys():\n\u001b[0;32m--> 199\u001b[0m     data_stream \u001b[38;5;241m=\u001b[39m load(get_register_object(register, \u001b[38;5;124m'\u001b[39m\u001b[38;5;124mh1\u001b[39m\u001b[38;5;124m'\u001b[39m), dataset_path\u001b[38;5;241m/\u001b[39m\u001b[38;5;124m'\u001b[39m\u001b[38;5;124mHarpDataH1\u001b[39m\u001b[38;5;124m'\u001b[39m)\n\u001b[1;32m    200\u001b[0m     \u001b[38;5;28;01mif\u001b[39;00m data_stream\u001b[38;5;241m.\u001b[39mcolumns\u001b[38;5;241m.\u001b[39mshape[\u001b[38;5;241m0\u001b[39m] \u001b[38;5;241m>\u001b[39m \u001b[38;5;241m1\u001b[39m:\n\u001b[1;32m    201\u001b[0m         \u001b[38;5;28;01mfor\u001b[39;00m col_name \u001b[38;5;129;01min\u001b[39;00m data_stream\u001b[38;5;241m.\u001b[39mcolumns:\n",
      "File \u001b[0;32m~/Documents/GitHub/vestibular_vr_pipeline/harp_resources/utils.py:15\u001b[0m, in \u001b[0;36mload\u001b[0;34m(reader, root)\u001b[0m\n\u001b[1;32m     13\u001b[0m root \u001b[38;5;241m=\u001b[39m Path(root)\n\u001b[1;32m     14\u001b[0m pattern \u001b[38;5;241m=\u001b[39m \u001b[38;5;124mf\u001b[39m\u001b[38;5;124m\"\u001b[39m\u001b[38;5;132;01m{\u001b[39;00mroot\u001b[38;5;241m.\u001b[39mjoinpath(root\u001b[38;5;241m.\u001b[39mname)\u001b[38;5;132;01m}\u001b[39;00m\u001b[38;5;124m_\u001b[39m\u001b[38;5;132;01m{\u001b[39;00mreader\u001b[38;5;241m.\u001b[39mregister\u001b[38;5;241m.\u001b[39maddress\u001b[38;5;132;01m}\u001b[39;00m\u001b[38;5;124m_*.bin\u001b[39m\u001b[38;5;124m\"\u001b[39m\n\u001b[0;32m---> 15\u001b[0m data \u001b[38;5;241m=\u001b[39m [reader\u001b[38;5;241m.\u001b[39mread(file) \u001b[38;5;28;01mfor\u001b[39;00m file \u001b[38;5;129;01min\u001b[39;00m glob(pattern)]\n\u001b[1;32m     16\u001b[0m \u001b[38;5;28;01mreturn\u001b[39;00m pd\u001b[38;5;241m.\u001b[39mconcat(data)\n",
      "File \u001b[0;32m~/opt/anaconda3/envs/aeon/lib/python3.12/site-packages/harp/reader.py:162\u001b[0m, in \u001b[0;36m_create_register_reader.<locals>.reader\u001b[0;34m(file, columns, epoch, keep_type)\u001b[0m\n\u001b[1;32m    159\u001b[0m \u001b[38;5;28;01mif\u001b[39;00m file \u001b[38;5;129;01mis\u001b[39;00m \u001b[38;5;28;01mNone\u001b[39;00m:\n\u001b[1;32m    160\u001b[0m     file \u001b[38;5;241m=\u001b[39m \u001b[38;5;124mf\u001b[39m\u001b[38;5;124m\"\u001b[39m\u001b[38;5;132;01m{\u001b[39;00mparams\u001b[38;5;241m.\u001b[39mpath\u001b[38;5;132;01m}\u001b[39;00m\u001b[38;5;124m_\u001b[39m\u001b[38;5;132;01m{\u001b[39;00mregister\u001b[38;5;241m.\u001b[39maddress\u001b[38;5;132;01m}\u001b[39;00m\u001b[38;5;124m.bin\u001b[39m\u001b[38;5;124m\"\u001b[39m\n\u001b[0;32m--> 162\u001b[0m data \u001b[38;5;241m=\u001b[39m read(\n\u001b[1;32m    163\u001b[0m     file,\n\u001b[1;32m    164\u001b[0m     address\u001b[38;5;241m=\u001b[39mregister\u001b[38;5;241m.\u001b[39maddress,\n\u001b[1;32m    165\u001b[0m     dtype\u001b[38;5;241m=\u001b[39mdtype(register\u001b[38;5;241m.\u001b[39mtype),\n\u001b[1;32m    166\u001b[0m     length\u001b[38;5;241m=\u001b[39mregister\u001b[38;5;241m.\u001b[39mlength,\n\u001b[1;32m    167\u001b[0m     columns\u001b[38;5;241m=\u001b[39mcolumns,\n\u001b[1;32m    168\u001b[0m     epoch\u001b[38;5;241m=\u001b[39mepoch,\n\u001b[1;32m    169\u001b[0m     keep_type\u001b[38;5;241m=\u001b[39mkeep_type,\n\u001b[1;32m    170\u001b[0m )\n\u001b[1;32m    171\u001b[0m \u001b[38;5;28;01mreturn\u001b[39;00m data\n",
      "File \u001b[0;32m~/opt/anaconda3/envs/aeon/lib/python3.12/site-packages/harp/io.py:85\u001b[0m, in \u001b[0;36mread\u001b[0;34m(file, address, dtype, length, columns, epoch, keep_type)\u001b[0m\n\u001b[1;32m     83\u001b[0m index \u001b[38;5;241m=\u001b[39m \u001b[38;5;28;01mNone\u001b[39;00m\n\u001b[1;32m     84\u001b[0m stride \u001b[38;5;241m=\u001b[39m data[\u001b[38;5;241m1\u001b[39m] \u001b[38;5;241m+\u001b[39m \u001b[38;5;241m2\u001b[39m\n\u001b[0;32m---> 85\u001b[0m nrows \u001b[38;5;241m=\u001b[39m \u001b[38;5;28mlen\u001b[39m(data) \u001b[38;5;241m/\u001b[39m\u001b[38;5;241m/\u001b[39m stride\n\u001b[1;32m     86\u001b[0m payloadtype \u001b[38;5;241m=\u001b[39m data[\u001b[38;5;241m4\u001b[39m]\n\u001b[1;32m     87\u001b[0m payloadoffset \u001b[38;5;241m=\u001b[39m \u001b[38;5;241m5\u001b[39m\n",
      "\u001b[0;31mOverflowError\u001b[0m: Python integer 1601990 out of bounds for uint8"
     ]
    }
   ],
   "source": [
    "streams = utils.load_registers(data_path)\n",
    "\n",
    "Photometry = utils.read_fluorescence(photometry_path)\n",
    "Photometry['HARP Timestamps'] = conversions['photometry_to_harp_time'](Photometry['TimeStamp'])\n",
    "\n",
    "OnixAnalogClock = utils.read_OnixAnalogClock(data_path)\n",
    "OnixAnalogData = utils.read_OnixAnalogData(data_path, binarise=True)\n",
    "ExperimentEvents = utils.read_ExperimentEvents(data_path) \n",
    "\n",
    "\n",
    "\n",
    "photodiode_series = pd.Series(OnixAnalogData[:,0], index=conversions['onix_to_harp_timestamp'](OnixAnalogClock))"
   ]
  },
  {
   "cell_type": "code",
   "execution_count": 22,
   "id": "6c7f27e4",
   "metadata": {},
   "outputs": [],
   "source": [
    "# Adding Photometry, Eye Movements and Photodiode to the streams\n",
    "streams = process.reformat_and_add_many_streams(streams, Photometry, 'Photometry', ['CH1-410', 'CH1-470', 'CH1-560'], index_column_name='HARP Timestamps')\n",
    "streams = process.add_stream(streams, 'ONIX', photodiode_series, 'Photodiode')"
   ]
  },
  {
   "cell_type": "code",
   "execution_count": 23,
   "id": "be147909",
   "metadata": {
    "scrolled": true
   },
   "outputs": [
    {
     "name": "stdout",
     "output_type": "stream",
     "text": [
      "Global first timestamp: 1904-01-09 20:51:29.164480\n",
      "Global last timestamp: 1904-01-09 21:17:44.905083676\n",
      "Global length: 0 days 00:26:15.740603676\n",
      "\n",
      "H1\n",
      "Cam0Event(32): \n",
      "\tfirst  1904-01-09 20:51:29.166560 \n",
      "\tlast   1904-01-09 21:17:40.952480 \n",
      "\tlength 0 days 00:26:11.785920 \n",
      "\tmean difference between timestamps 0 days 00:00:00.017096522\n",
      "Cam1Event(33): \n",
      "\tfirst  1904-01-09 20:51:29.166560 \n",
      "\tlast   1904-01-09 21:17:40.952512 \n",
      "\tlength 0 days 00:26:11.785952 \n",
      "\tmean difference between timestamps 0 days 00:00:00.017096523\n",
      "StartCam0(38): \n",
      "\tfirst  1904-01-09 20:53:20.413504 \n",
      "\tlast   1904-01-09 20:53:59.238496 \n",
      "\tlength 0 days 00:00:38.824992 \n",
      "\tmean difference between timestamps 0 days 00:00:12.941664\n",
      "StartCam1(38): \n",
      "\tfirst  1904-01-09 20:53:20.413504 \n",
      "\tlast   1904-01-09 20:53:59.238496 \n",
      "\tlength 0 days 00:00:38.824992 \n",
      "\tmean difference between timestamps 0 days 00:00:12.941664\n",
      "StopCam0(38): \n",
      "\tfirst  1904-01-09 20:53:20.413504 \n",
      "\tlast   1904-01-09 20:53:59.238496 \n",
      "\tlength 0 days 00:00:38.824992 \n",
      "\tmean difference between timestamps 0 days 00:00:12.941664\n",
      "StopCam1(38): \n",
      "\tfirst  1904-01-09 20:53:20.413504 \n",
      "\tlast   1904-01-09 20:53:59.238496 \n",
      "\tlength 0 days 00:00:38.824992 \n",
      "\tmean difference between timestamps 0 days 00:00:12.941664\n",
      "OpticalTrackingRead0X(46): \n",
      "\tfirst  1904-01-09 20:51:29.170240 \n",
      "\tlast   1904-01-09 21:17:40.960256 \n",
      "\tlength 0 days 00:26:11.790016 \n",
      "\tmean difference between timestamps 0 days 00:00:00.010000\n",
      "OpticalTrackingRead0Y(46): \n",
      "\tfirst  1904-01-09 20:51:29.170240 \n",
      "\tlast   1904-01-09 21:17:40.960256 \n",
      "\tlength 0 days 00:26:11.790016 \n",
      "\tmean difference between timestamps 0 days 00:00:00.010000\n",
      "OpticalTrackingRead0Brightness(46): \n",
      "\tfirst  1904-01-09 20:51:29.170240 \n",
      "\tlast   1904-01-09 21:17:40.960256 \n",
      "\tlength 0 days 00:26:11.790016 \n",
      "\tmean difference between timestamps 0 days 00:00:00.010000\n",
      "OpticalTrackingRead1X(46): \n",
      "\tfirst  1904-01-09 20:51:29.170240 \n",
      "\tlast   1904-01-09 21:17:40.960256 \n",
      "\tlength 0 days 00:26:11.790016 \n",
      "\tmean difference between timestamps 0 days 00:00:00.010000\n",
      "OpticalTrackingRead1Y(46): \n",
      "\tfirst  1904-01-09 20:51:29.170240 \n",
      "\tlast   1904-01-09 21:17:40.960256 \n",
      "\tlength 0 days 00:26:11.790016 \n",
      "\tmean difference between timestamps 0 days 00:00:00.010000\n",
      "OpticalTrackingRead1Brightness(46): \n",
      "\tfirst  1904-01-09 20:51:29.170240 \n",
      "\tlast   1904-01-09 21:17:40.960256 \n",
      "\tlength 0 days 00:26:11.790016 \n",
      "\tmean difference between timestamps 0 days 00:00:00.010000\n",
      "\n",
      "H2\n",
      "AnalogInput(39): \n",
      "\tfirst  1904-01-09 20:51:29.164480 \n",
      "\tlast   1904-01-09 20:56:58.564000 \n",
      "\tlength 0 days 00:05:29.399520 \n",
      "\tmean difference between timestamps 0 days 00:00:00.000500\n",
      "ImmediatePulses(42): \n",
      "\tfirst  1904-01-09 20:51:57.318496 \n",
      "\tlast   1904-01-09 20:53:03.630496 \n",
      "\tlength 0 days 00:01:06.312000 \n",
      "\tmean difference between timestamps 0 days 00:00:22.104000\n",
      "\n",
      "Photometry\n",
      "CH1-410: \n",
      "\tfirst  1904-01-09 20:51:33.194700963 \n",
      "\tlast   1904-01-09 21:17:44.905083676 \n",
      "\tlength 0 days 00:26:11.710382713 \n",
      "\tmean difference between timestamps 0 days 00:00:00.033328605\n",
      "CH1-470: \n",
      "\tfirst  1904-01-09 20:51:33.194700963 \n",
      "\tlast   1904-01-09 21:17:44.905083676 \n",
      "\tlength 0 days 00:26:11.710382713 \n",
      "\tmean difference between timestamps 0 days 00:00:00.033328605\n",
      "CH1-560: \n",
      "\tfirst  1904-01-09 20:51:33.194700963 \n",
      "\tlast   1904-01-09 21:17:44.905083676 \n",
      "\tlength 0 days 00:26:11.710382713 \n",
      "\tmean difference between timestamps 0 days 00:00:00.033328605\n",
      "\n",
      "ONIX\n",
      "Photodiode: \n",
      "\tfirst  1904-01-09 20:51:29.181753858 \n",
      "\tlast   1904-01-09 21:17:41.359172043 \n",
      "\tlength 0 days 00:26:12.177418185 \n",
      "\tmean difference between timestamps 0 days 00:00:00.000010018\n",
      "Padding and resampling finished in 10.11 seconds.\n",
      "Global first timestamp: 1904-01-09 20:51:29.164000\n",
      "Global last timestamp: 1904-01-09 21:17:44.905000\n",
      "Global length: 0 days 00:26:15.741000\n",
      "\n",
      "H1\n",
      "Cam0Event(32): \n",
      "\tfirst  1904-01-09 20:51:29.164000 \n",
      "\tlast   1904-01-09 21:17:44.905000 \n",
      "\tlength 0 days 00:26:15.741000 \n",
      "\tmean difference between timestamps 0 days 00:00:00.001000\n",
      "Cam1Event(33): \n",
      "\tfirst  1904-01-09 20:51:29.164000 \n",
      "\tlast   1904-01-09 21:17:44.905000 \n",
      "\tlength 0 days 00:26:15.741000 \n",
      "\tmean difference between timestamps 0 days 00:00:00.001000\n",
      "StartCam0(38): \n",
      "\tfirst  1904-01-09 20:51:29.164000 \n",
      "\tlast   1904-01-09 21:17:44.905000 \n",
      "\tlength 0 days 00:26:15.741000 \n",
      "\tmean difference between timestamps 0 days 00:00:00.001000\n",
      "StartCam1(38): \n",
      "\tfirst  1904-01-09 20:51:29.164000 \n",
      "\tlast   1904-01-09 21:17:44.905000 \n",
      "\tlength 0 days 00:26:15.741000 \n",
      "\tmean difference between timestamps 0 days 00:00:00.001000\n",
      "StopCam0(38): \n",
      "\tfirst  1904-01-09 20:51:29.164000 \n",
      "\tlast   1904-01-09 21:17:44.905000 \n",
      "\tlength 0 days 00:26:15.741000 \n",
      "\tmean difference between timestamps 0 days 00:00:00.001000\n",
      "StopCam1(38): \n",
      "\tfirst  1904-01-09 20:51:29.164000 \n",
      "\tlast   1904-01-09 21:17:44.905000 \n",
      "\tlength 0 days 00:26:15.741000 \n",
      "\tmean difference between timestamps 0 days 00:00:00.001000\n",
      "OpticalTrackingRead0X(46): \n",
      "\tfirst  1904-01-09 20:51:29.164000 \n",
      "\tlast   1904-01-09 21:17:44.905000 \n",
      "\tlength 0 days 00:26:15.741000 \n",
      "\tmean difference between timestamps 0 days 00:00:00.001000\n",
      "OpticalTrackingRead0Y(46): \n",
      "\tfirst  1904-01-09 20:51:29.164000 \n",
      "\tlast   1904-01-09 21:17:44.905000 \n",
      "\tlength 0 days 00:26:15.741000 \n",
      "\tmean difference between timestamps 0 days 00:00:00.001000\n",
      "OpticalTrackingRead0Brightness(46): \n",
      "\tfirst  1904-01-09 20:51:29.164000 \n",
      "\tlast   1904-01-09 21:17:44.905000 \n",
      "\tlength 0 days 00:26:15.741000 \n",
      "\tmean difference between timestamps 0 days 00:00:00.001000\n",
      "OpticalTrackingRead1X(46): \n",
      "\tfirst  1904-01-09 20:51:29.164000 \n",
      "\tlast   1904-01-09 21:17:44.905000 \n",
      "\tlength 0 days 00:26:15.741000 \n",
      "\tmean difference between timestamps 0 days 00:00:00.001000\n",
      "OpticalTrackingRead1Y(46): \n",
      "\tfirst  1904-01-09 20:51:29.164000 \n",
      "\tlast   1904-01-09 21:17:44.905000 \n",
      "\tlength 0 days 00:26:15.741000 \n",
      "\tmean difference between timestamps 0 days 00:00:00.001000\n",
      "OpticalTrackingRead1Brightness(46): \n",
      "\tfirst  1904-01-09 20:51:29.164000 \n",
      "\tlast   1904-01-09 21:17:44.905000 \n",
      "\tlength 0 days 00:26:15.741000 \n",
      "\tmean difference between timestamps 0 days 00:00:00.001000\n",
      "\n",
      "H2\n",
      "AnalogInput(39): \n",
      "\tfirst  1904-01-09 20:51:29.164000 \n",
      "\tlast   1904-01-09 21:17:44.905000 \n",
      "\tlength 0 days 00:26:15.741000 \n",
      "\tmean difference between timestamps 0 days 00:00:00.001000\n",
      "ImmediatePulses(42): \n",
      "\tfirst  1904-01-09 20:51:29.164000 \n",
      "\tlast   1904-01-09 21:17:44.905000 \n",
      "\tlength 0 days 00:26:15.741000 \n",
      "\tmean difference between timestamps 0 days 00:00:00.001000\n",
      "\n",
      "Photometry\n",
      "CH1-410: \n",
      "\tfirst  1904-01-09 20:51:29.164000 \n",
      "\tlast   1904-01-09 21:17:44.905000 \n",
      "\tlength 0 days 00:26:15.741000 \n",
      "\tmean difference between timestamps 0 days 00:00:00.001000\n",
      "CH1-470: \n",
      "\tfirst  1904-01-09 20:51:29.164000 \n",
      "\tlast   1904-01-09 21:17:44.905000 \n",
      "\tlength 0 days 00:26:15.741000 \n",
      "\tmean difference between timestamps 0 days 00:00:00.001000\n",
      "CH1-560: \n",
      "\tfirst  1904-01-09 20:51:29.164000 \n",
      "\tlast   1904-01-09 21:17:44.905000 \n",
      "\tlength 0 days 00:26:15.741000 \n",
      "\tmean difference between timestamps 0 days 00:00:00.001000\n",
      "\n",
      "ONIX\n",
      "Photodiode: \n",
      "\tfirst  1904-01-09 20:51:29.164000 \n",
      "\tlast   1904-01-09 21:17:44.905000 \n",
      "\tlength 0 days 00:26:15.741000 \n",
      "\tmean difference between timestamps 0 days 00:00:00.001000\n"
     ]
    }
   ],
   "source": [
    "_ = process.get_timepoint_info(streams, print_all=True)\n",
    "resampled_streams = process.pad_and_resample(streams, resampling_period='1 ms', method='linear')\n",
    "_ = process.get_timepoint_info(resampled_streams, print_all=True)"
   ]
  },
  {
   "cell_type": "code",
   "execution_count": 27,
   "id": "958b3c55",
   "metadata": {},
   "outputs": [],
   "source": [
    "# Applying linear and angular conversion to Optical tracking sensor streams\n",
    "# OpticalTrackingRead0X(46) converted to centimeters per second\n",
    "# OpticalTrackingRead0Y(46) covnerted to degrees per second\n",
    "resampled_streams['H1']['OpticalTrackingRead0X(46)'] = process.running_unit_conversion(resampled_streams['H1']['OpticalTrackingRead0X(46)']*100)\n",
    "resampled_streams['H1']['OpticalTrackingRead0Y(46)'] = process.rotation_unit_conversion(resampled_streams['H1']['OpticalTrackingRead0Y(46)'])"
   ]
  },
  {
   "cell_type": "code",
   "execution_count": 28,
   "id": "21b9c28b-1b37-4d22-b271-a9278c06d193",
   "metadata": {},
   "outputs": [
    {
     "name": "stdout",
     "output_type": "stream",
     "text": [
      "<class 'pandas.core.series.Series'>\n"
     ]
    },
    {
     "data": {
      "text/plain": [
       "1904-01-09 20:51:29.164     0.000000\n",
       "1904-01-09 20:51:29.165     0.019158\n",
       "1904-01-09 20:51:29.166     0.038317\n",
       "1904-01-09 20:51:29.167     0.057475\n",
       "1904-01-09 20:51:29.168     0.076633\n",
       "                             ...    \n",
       "1904-01-09 21:17:44.901    69.284647\n",
       "1904-01-09 21:17:44.902    69.277735\n",
       "1904-01-09 21:17:44.903    69.270824\n",
       "1904-01-09 21:17:44.904    69.263912\n",
       "1904-01-09 21:17:44.905    69.257000\n",
       "Freq: ms, Length: 1575742, dtype: float64"
      ]
     },
     "execution_count": 28,
     "metadata": {},
     "output_type": "execute_result"
    }
   ],
   "source": [
    "print(type(resampled_streams['Photometry']['CH1-470']))\n",
    "resampled_streams['Photometry']['CH1-470']"
   ]
  },
  {
   "cell_type": "code",
   "execution_count": 29,
   "id": "26535f9d",
   "metadata": {},
   "outputs": [
    {
     "data": {
      "text/plain": [
       "{'H1': ['OpticalTrackingRead0X(46)', 'OpticalTrackingRead0Y(46)'],\n",
       " 'H2': ['Encoder(38)'],\n",
       " 'Photometry': ['CH1-410', 'CH1-470', 'CH1-560'],\n",
       " 'ONIX': ['Photodiode']}"
      ]
     },
     "execution_count": 29,
     "metadata": {},
     "output_type": "execute_result"
    }
   ],
   "source": [
    "streams_to_save_pattern = {'H1': ['OpticalTrackingRead0X(46)', 'OpticalTrackingRead0Y(46)'], 'H2': ['Encoder(38)'], 'Photometry': ['CH1-410', 'CH1-470', 'CH1-560'], 'ONIX': ['Photodiode']}\n",
    "streams_to_save_pattern\n"
   ]
  },
  {
   "cell_type": "code",
   "execution_count": null,
   "id": "76c487f3-6c35-41ff-8958-4361347e49b0",
   "metadata": {},
   "outputs": [],
   "source": []
  }
 ],
 "metadata": {
  "kernelspec": {
   "display_name": "aeon",
   "language": "python",
   "name": "aeon"
  },
  "language_info": {
   "codemirror_mode": {
    "name": "ipython",
    "version": 3
   },
   "file_extension": ".py",
   "mimetype": "text/x-python",
   "name": "python",
   "nbconvert_exporter": "python",
   "pygments_lexer": "ipython3",
   "version": "3.12.2"
  }
 },
 "nbformat": 4,
 "nbformat_minor": 5
}
