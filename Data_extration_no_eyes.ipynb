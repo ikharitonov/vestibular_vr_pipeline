{
 "cells": [
  {
   "cell_type": "markdown",
   "id": "b70ae21d",
   "metadata": {},
   "source": [
    "## Setup"
   ]
  },
  {
   "cell_type": "code",
   "execution_count": 9,
   "id": "b8e9aa9c",
   "metadata": {},
   "outputs": [],
   "source": [
    "import numpy as np\n",
    "from pathlib import Path\n",
    "import os\n",
    "import matplotlib.pyplot as plt\n",
    "import pandas as pd\n",
    "\n",
    "from harp_resources import process, utils\n",
    "from sleap import load_and_process as lp"
   ]
  },
  {
   "cell_type": "code",
   "execution_count": 10,
   "id": "bf4c8e6b",
   "metadata": {},
   "outputs": [],
   "source": [
    "#data_path = Path('/home/ikharitonov/RANCZLAB-NAS/data/ONIX/20240730_Mismatch_Experiment/MMclosed&Regular_120824/2024-08-12T16-51-16_B3M3')\n",
    "#photometry_path = Path('/home/ikharitonov/RANCZLAB-NAS/data/ONIX/20240730_Mismatch_Experiment/MMclosed&Regular_120824/photometry/B3M3_MMclosed&Regular_day1/2024_08_12-18_57_17')\n"
   ]
  },
  {
   "cell_type": "code",
   "execution_count": 36,
   "id": "fa1035d1-27e7-4536-b72f-2950da7ff207",
   "metadata": {},
   "outputs": [],
   "source": [
    "rootdir = '/Volumes/RanczLab/20240730_Mismatch_Experiment/G8_MMclosed-and-open_080824' #Enter root path\n",
    "rootdir = '/Volumes/RanczLab/Nora_Cohort1_training/Training_day4'\n",
    "data_paths = []\n",
    "photometry_paths= []\n",
    "for dirpath, subdirs, files in os.walk(rootdir):\n",
    "    for x in files:\n",
    "        if 'ExperimentEvents' in x:\n",
    "            data_paths.append(dirpath[:-17])\n",
    "        if 'Processed_fluorescence.csv' in x:\n",
    "            photometry_paths.append(dirpath)\n",
    "\n",
    "\n"
   ]
  },
  {
   "cell_type": "code",
   "execution_count": 45,
   "id": "489e48a5-02d6-409f-9948-d83c29c1d89d",
   "metadata": {},
   "outputs": [
    {
     "name": "stdout",
     "output_type": "stream",
     "text": [
      "/Volumes/RanczLab/Nora_Cohort1_training/Training_day4/B6J2721-2024-11-28T10-47-51/photometry\n",
      "B6J2721\n"
     ]
    }
   ],
   "source": [
    "print(photometry_paths[6])\n",
    "print(data_paths[4].split('/')[-1].split('-')[0])"
   ]
  },
  {
   "cell_type": "code",
   "execution_count": 5,
   "id": "9c7abc82-a672-43f7-b855-882dff09d9e4",
   "metadata": {},
   "outputs": [],
   "source": [
    "'''def run_extraction_makeh5(data_path, photometry_path, make_h5 = False):\n",
    "    print(f'\\n Running extraction for {data_path.split('/')[-1][20:]} for session {data_path.split('/')[-2]}')\n",
    "    data_path = Path(data_path)\n",
    "    photometry_path = Path(photometry_path)\n",
    "    SessionSettings = utils.read_SessionSettings(data_path, print_contents=True)\n",
    "    conversions = process.calculate_conversions_second_approach(data_path, photometry_path, verbose=False)\n",
    "    streams = utils.load_registers(data_path)\n",
    "\n",
    "    Photometry = utils.read_fluorescence(photometry_path)\n",
    "    Photometry['HARP Timestamps'] = conversions['photometry_to_harp_time'](Photometry['TimeStamp'])\n",
    "    \n",
    "    OnixAnalogClock = utils.read_OnixAnalogClock(data_path)\n",
    "    OnixAnalogData = utils.read_OnixAnalogData(data_path, binarise=True)\n",
    "    ExperimentEvents = utils.read_ExperimentEvents(data_path) \n",
    "    \n",
    "    photodiode_series = pd.Series(OnixAnalogData[:,0], index=conversions['onix_to_harp_timestamp'](OnixAnalogClock))\n",
    "\n",
    "    print('Adding Photometry, Eye Movements and Photodiode to the streams')\n",
    "    streams = process.reformat_and_add_many_streams(streams, Photometry, 'Photometry', ['CH1-410', 'CH1-470', 'CH1-560'], index_column_name='HARP Timestamps')\n",
    "    streams = process.add_stream(streams, 'ONIX', photodiode_series, 'Photodiode')\n",
    "    \n",
    "    \n",
    "    _ = process.get_timepoint_info(streams, print_all=True)\n",
    "    resampled_streams = process.pad_and_resample(streams, resampling_period='1 ms', method='linear')\n",
    "    _ = process.get_timepoint_info(resampled_streams, print_all=True)\n",
    "\n",
    "    print('Applying linear and angular conversion to Optical tracking sensor streams (cm / sec and degrees / sec)')\n",
    "    resampled_streams['H1']['OpticalTrackingRead0X(46)'] = process.running_unit_conversion(resampled_streams['H1']['OpticalTrackingRead0X(46)']*100)\n",
    "    resampled_streams['H1']['OpticalTrackingRead0Y(46)'] = process.rotation_unit_conversion(resampled_streams['H1']['OpticalTrackingRead0Y(46)'])\n",
    "\n",
    "    print('Streams are extracted and can be used or made to h5')\n",
    "    if make_h5:\n",
    "        process.save_streams_as_h5(data_path, resampled_streams, streams_to_save_pattern)\n",
    "'''"
   ]
  },
  {
   "cell_type": "markdown",
   "id": "dafa5518",
   "metadata": {},
   "source": [
    "## Loading and Synchronisation "
   ]
  },
  {
   "cell_type": "code",
   "execution_count": 30,
   "id": "7083b9a2-423a-45f6-9b67-35d62572931b",
   "metadata": {},
   "outputs": [],
   "source": [
    "photometry_path = Path(photometry_paths[6])\n",
    "data_path = Path(data_paths[4])"
   ]
  },
  {
   "cell_type": "code",
   "execution_count": 31,
   "id": "fb2e8d32-a745-484d-870e-7e984b66c13e",
   "metadata": {},
   "outputs": [],
   "source": [
    "#photometry_path = Path('/Volumes/RanczLab/Photometry_recordings/August_Mismatch_Experiment_G8m/B2M4_MMclosed_and_open_day2/2024_08_08-11_24_00')\n",
    "#data_path = Path('/Volumes/RanczLab/20240730_Mismatch_Experiment/G8_MMclosed-and-open_080824/2024-08-08T09-20-54_B2M4')\n",
    "#works"
   ]
  },
  {
   "cell_type": "code",
   "execution_count": 33,
   "id": "0319c898-d3b8-4250-88ae-493001f52549",
   "metadata": {},
   "outputs": [],
   "source": [
    "photometry_path = Path('/Volumes/RanczLab/Photometry_recordings/August_Mismatch_Experiment_G8m/B3M3_MMclosed_and_open_day2/2024_08_08-12_08_29')\n",
    "data_path = Path('/Volumes/RanczLab/20240730_Mismatch_Experiment/G8_MMclosed-and-open_080824/2024-08-08T10-05-26_B3M3')"
   ]
  },
  {
   "cell_type": "code",
   "execution_count": 34,
   "id": "6cebb421",
   "metadata": {},
   "outputs": [
    {
     "name": "stdout",
     "output_type": "stream",
     "text": [
      "OnixAnalogClock loaded in 5.52 seconds.\n"
     ]
    },
    {
     "name": "stderr",
     "output_type": "stream",
     "text": [
      "/Users/hildeteigen/Documents/GitHub/vestibular_vr_pipeline/harp_resources/utils.py:75: UserWarning: Could not infer format, so each element will be parsed individually, falling back to `dateutil`. To ensure parsing is consistent and as-expected, please specify a format.\n",
      "  sorted_filenames = pd.to_datetime(pd.Series([x.split('_')[1].split('.')[0] for x in filenames])).sort_values()\n"
     ]
    },
    {
     "name": "stdout",
     "output_type": "stream",
     "text": [
      "\n",
      "WARNING: \"Unlucky\" dataset with delayed subscription to OnixAnalogClock in Bonsai. As a consequence, the starting part of photodiode data is not counted. See https://github.com/neurogears/vestibular-vr/issues/81 for more information.\n",
      "Shape of OnixAnalogClock == [190293800] shape of OnixAnalogFrameCount == [190296000].\n",
      "Cutting 2200 values from the beginning of OnixAnalogFrameCount. Data considered to be MISSING.\n",
      "\n",
      "Calculation of conversions finished in 67.77 seconds.\n"
     ]
    },
    {
     "name": "stderr",
     "output_type": "stream",
     "text": [
      "/Users/hildeteigen/Documents/GitHub/vestibular_vr_pipeline/harp_resources/utils.py:66: UserWarning: Could not infer format, so each element will be parsed individually, falling back to `dateutil`. To ensure parsing is consistent and as-expected, please specify a format.\n",
      "  sorted_filenames = pd.to_datetime(pd.Series([x.split('_')[1].split('.')[0] for x in filenames])).sort_values()\n"
     ]
    }
   ],
   "source": [
    "conversions = process.calculate_conversions_second_approach(data_path, photometry_path, verbose=False)\n",
    "# After hardware ONIX clock implementation - this will have to be adapted\n",
    "# Only photometry will need to be converted"
   ]
  },
  {
   "cell_type": "code",
   "execution_count": 35,
   "id": "ae30fa30",
   "metadata": {},
   "outputs": [
    {
     "name": "stdout",
     "output_type": "stream",
     "text": [
      "Dataset 2024-08-08T10-05-26_B3M3 contains following registers:\n",
      "H1: [32, 33, 46]\n",
      "H2: [39, 42]\n",
      "Registers loaded in 2.67 seconds.\n",
      "OnixAnalogClock loaded in 4.56 seconds.\n",
      "OnixAnalogData loaded in 137.91 seconds.\n"
     ]
    },
    {
     "name": "stderr",
     "output_type": "stream",
     "text": [
      "/Users/hildeteigen/Documents/GitHub/vestibular_vr_pipeline/harp_resources/utils.py:47: UserWarning: Could not infer format, so each element will be parsed individually, falling back to `dateutil`. To ensure parsing is consistent and as-expected, please specify a format.\n",
      "  sorted_filenames = pd.to_datetime(pd.Series([x.split('_')[1].split('.')[0] for x in filenames])).sort_values()\n"
     ]
    }
   ],
   "source": [
    "streams = utils.load_registers(data_path)\n",
    "\n",
    "Photometry = utils.read_fluorescence(photometry_path)\n",
    "Photometry['HARP Timestamps'] = conversions['photometry_to_harp_time'](Photometry['TimeStamp'])\n",
    "\n",
    "OnixAnalogClock = utils.read_OnixAnalogClock(data_path)\n",
    "OnixAnalogData = utils.read_OnixAnalogData(data_path, binarise=True)\n",
    "ExperimentEvents = utils.read_ExperimentEvents(data_path) \n",
    "\n",
    "photodiode_series = pd.Series(OnixAnalogData[:,0], index=conversions['onix_to_harp_timestamp'](OnixAnalogClock))"
   ]
  },
  {
   "cell_type": "code",
   "execution_count": 22,
   "id": "6c7f27e4",
   "metadata": {},
   "outputs": [],
   "source": [
    "# Adding Photometry, Eye Movements and Photodiode to the streams\n",
    "streams = process.reformat_and_add_many_streams(streams, Photometry, 'Photometry', ['CH1-410', 'CH1-470', 'CH1-560'], index_column_name='HARP Timestamps')\n",
    "streams = process.add_stream(streams, 'ONIX', photodiode_series, 'Photodiode')"
   ]
  },
  {
   "cell_type": "code",
   "execution_count": 23,
   "id": "be147909",
   "metadata": {
    "scrolled": true
   },
   "outputs": [
    {
     "name": "stdout",
     "output_type": "stream",
     "text": [
      "Global first timestamp: 1904-01-09 20:51:29.164480\n",
      "Global last timestamp: 1904-01-09 21:17:44.905083676\n",
      "Global length: 0 days 00:26:15.740603676\n",
      "\n",
      "H1\n",
      "Cam0Event(32): \n",
      "\tfirst  1904-01-09 20:51:29.166560 \n",
      "\tlast   1904-01-09 21:17:40.952480 \n",
      "\tlength 0 days 00:26:11.785920 \n",
      "\tmean difference between timestamps 0 days 00:00:00.017096522\n",
      "Cam1Event(33): \n",
      "\tfirst  1904-01-09 20:51:29.166560 \n",
      "\tlast   1904-01-09 21:17:40.952512 \n",
      "\tlength 0 days 00:26:11.785952 \n",
      "\tmean difference between timestamps 0 days 00:00:00.017096523\n",
      "StartCam0(38): \n",
      "\tfirst  1904-01-09 20:53:20.413504 \n",
      "\tlast   1904-01-09 20:53:59.238496 \n",
      "\tlength 0 days 00:00:38.824992 \n",
      "\tmean difference between timestamps 0 days 00:00:12.941664\n",
      "StartCam1(38): \n",
      "\tfirst  1904-01-09 20:53:20.413504 \n",
      "\tlast   1904-01-09 20:53:59.238496 \n",
      "\tlength 0 days 00:00:38.824992 \n",
      "\tmean difference between timestamps 0 days 00:00:12.941664\n",
      "StopCam0(38): \n",
      "\tfirst  1904-01-09 20:53:20.413504 \n",
      "\tlast   1904-01-09 20:53:59.238496 \n",
      "\tlength 0 days 00:00:38.824992 \n",
      "\tmean difference between timestamps 0 days 00:00:12.941664\n",
      "StopCam1(38): \n",
      "\tfirst  1904-01-09 20:53:20.413504 \n",
      "\tlast   1904-01-09 20:53:59.238496 \n",
      "\tlength 0 days 00:00:38.824992 \n",
      "\tmean difference between timestamps 0 days 00:00:12.941664\n",
      "OpticalTrackingRead0X(46): \n",
      "\tfirst  1904-01-09 20:51:29.170240 \n",
      "\tlast   1904-01-09 21:17:40.960256 \n",
      "\tlength 0 days 00:26:11.790016 \n",
      "\tmean difference between timestamps 0 days 00:00:00.010000\n",
      "OpticalTrackingRead0Y(46): \n",
      "\tfirst  1904-01-09 20:51:29.170240 \n",
      "\tlast   1904-01-09 21:17:40.960256 \n",
      "\tlength 0 days 00:26:11.790016 \n",
      "\tmean difference between timestamps 0 days 00:00:00.010000\n",
      "OpticalTrackingRead0Brightness(46): \n",
      "\tfirst  1904-01-09 20:51:29.170240 \n",
      "\tlast   1904-01-09 21:17:40.960256 \n",
      "\tlength 0 days 00:26:11.790016 \n",
      "\tmean difference between timestamps 0 days 00:00:00.010000\n",
      "OpticalTrackingRead1X(46): \n",
      "\tfirst  1904-01-09 20:51:29.170240 \n",
      "\tlast   1904-01-09 21:17:40.960256 \n",
      "\tlength 0 days 00:26:11.790016 \n",
      "\tmean difference between timestamps 0 days 00:00:00.010000\n",
      "OpticalTrackingRead1Y(46): \n",
      "\tfirst  1904-01-09 20:51:29.170240 \n",
      "\tlast   1904-01-09 21:17:40.960256 \n",
      "\tlength 0 days 00:26:11.790016 \n",
      "\tmean difference between timestamps 0 days 00:00:00.010000\n",
      "OpticalTrackingRead1Brightness(46): \n",
      "\tfirst  1904-01-09 20:51:29.170240 \n",
      "\tlast   1904-01-09 21:17:40.960256 \n",
      "\tlength 0 days 00:26:11.790016 \n",
      "\tmean difference between timestamps 0 days 00:00:00.010000\n",
      "\n",
      "H2\n",
      "AnalogInput(39): \n",
      "\tfirst  1904-01-09 20:51:29.164480 \n",
      "\tlast   1904-01-09 20:56:58.564000 \n",
      "\tlength 0 days 00:05:29.399520 \n",
      "\tmean difference between timestamps 0 days 00:00:00.000500\n",
      "ImmediatePulses(42): \n",
      "\tfirst  1904-01-09 20:51:57.318496 \n",
      "\tlast   1904-01-09 20:53:03.630496 \n",
      "\tlength 0 days 00:01:06.312000 \n",
      "\tmean difference between timestamps 0 days 00:00:22.104000\n",
      "\n",
      "Photometry\n",
      "CH1-410: \n",
      "\tfirst  1904-01-09 20:51:33.194700963 \n",
      "\tlast   1904-01-09 21:17:44.905083676 \n",
      "\tlength 0 days 00:26:11.710382713 \n",
      "\tmean difference between timestamps 0 days 00:00:00.033328605\n",
      "CH1-470: \n",
      "\tfirst  1904-01-09 20:51:33.194700963 \n",
      "\tlast   1904-01-09 21:17:44.905083676 \n",
      "\tlength 0 days 00:26:11.710382713 \n",
      "\tmean difference between timestamps 0 days 00:00:00.033328605\n",
      "CH1-560: \n",
      "\tfirst  1904-01-09 20:51:33.194700963 \n",
      "\tlast   1904-01-09 21:17:44.905083676 \n",
      "\tlength 0 days 00:26:11.710382713 \n",
      "\tmean difference between timestamps 0 days 00:00:00.033328605\n",
      "\n",
      "ONIX\n",
      "Photodiode: \n",
      "\tfirst  1904-01-09 20:51:29.181753858 \n",
      "\tlast   1904-01-09 21:17:41.359172043 \n",
      "\tlength 0 days 00:26:12.177418185 \n",
      "\tmean difference between timestamps 0 days 00:00:00.000010018\n",
      "Padding and resampling finished in 10.11 seconds.\n",
      "Global first timestamp: 1904-01-09 20:51:29.164000\n",
      "Global last timestamp: 1904-01-09 21:17:44.905000\n",
      "Global length: 0 days 00:26:15.741000\n",
      "\n",
      "H1\n",
      "Cam0Event(32): \n",
      "\tfirst  1904-01-09 20:51:29.164000 \n",
      "\tlast   1904-01-09 21:17:44.905000 \n",
      "\tlength 0 days 00:26:15.741000 \n",
      "\tmean difference between timestamps 0 days 00:00:00.001000\n",
      "Cam1Event(33): \n",
      "\tfirst  1904-01-09 20:51:29.164000 \n",
      "\tlast   1904-01-09 21:17:44.905000 \n",
      "\tlength 0 days 00:26:15.741000 \n",
      "\tmean difference between timestamps 0 days 00:00:00.001000\n",
      "StartCam0(38): \n",
      "\tfirst  1904-01-09 20:51:29.164000 \n",
      "\tlast   1904-01-09 21:17:44.905000 \n",
      "\tlength 0 days 00:26:15.741000 \n",
      "\tmean difference between timestamps 0 days 00:00:00.001000\n",
      "StartCam1(38): \n",
      "\tfirst  1904-01-09 20:51:29.164000 \n",
      "\tlast   1904-01-09 21:17:44.905000 \n",
      "\tlength 0 days 00:26:15.741000 \n",
      "\tmean difference between timestamps 0 days 00:00:00.001000\n",
      "StopCam0(38): \n",
      "\tfirst  1904-01-09 20:51:29.164000 \n",
      "\tlast   1904-01-09 21:17:44.905000 \n",
      "\tlength 0 days 00:26:15.741000 \n",
      "\tmean difference between timestamps 0 days 00:00:00.001000\n",
      "StopCam1(38): \n",
      "\tfirst  1904-01-09 20:51:29.164000 \n",
      "\tlast   1904-01-09 21:17:44.905000 \n",
      "\tlength 0 days 00:26:15.741000 \n",
      "\tmean difference between timestamps 0 days 00:00:00.001000\n",
      "OpticalTrackingRead0X(46): \n",
      "\tfirst  1904-01-09 20:51:29.164000 \n",
      "\tlast   1904-01-09 21:17:44.905000 \n",
      "\tlength 0 days 00:26:15.741000 \n",
      "\tmean difference between timestamps 0 days 00:00:00.001000\n",
      "OpticalTrackingRead0Y(46): \n",
      "\tfirst  1904-01-09 20:51:29.164000 \n",
      "\tlast   1904-01-09 21:17:44.905000 \n",
      "\tlength 0 days 00:26:15.741000 \n",
      "\tmean difference between timestamps 0 days 00:00:00.001000\n",
      "OpticalTrackingRead0Brightness(46): \n",
      "\tfirst  1904-01-09 20:51:29.164000 \n",
      "\tlast   1904-01-09 21:17:44.905000 \n",
      "\tlength 0 days 00:26:15.741000 \n",
      "\tmean difference between timestamps 0 days 00:00:00.001000\n",
      "OpticalTrackingRead1X(46): \n",
      "\tfirst  1904-01-09 20:51:29.164000 \n",
      "\tlast   1904-01-09 21:17:44.905000 \n",
      "\tlength 0 days 00:26:15.741000 \n",
      "\tmean difference between timestamps 0 days 00:00:00.001000\n",
      "OpticalTrackingRead1Y(46): \n",
      "\tfirst  1904-01-09 20:51:29.164000 \n",
      "\tlast   1904-01-09 21:17:44.905000 \n",
      "\tlength 0 days 00:26:15.741000 \n",
      "\tmean difference between timestamps 0 days 00:00:00.001000\n",
      "OpticalTrackingRead1Brightness(46): \n",
      "\tfirst  1904-01-09 20:51:29.164000 \n",
      "\tlast   1904-01-09 21:17:44.905000 \n",
      "\tlength 0 days 00:26:15.741000 \n",
      "\tmean difference between timestamps 0 days 00:00:00.001000\n",
      "\n",
      "H2\n",
      "AnalogInput(39): \n",
      "\tfirst  1904-01-09 20:51:29.164000 \n",
      "\tlast   1904-01-09 21:17:44.905000 \n",
      "\tlength 0 days 00:26:15.741000 \n",
      "\tmean difference between timestamps 0 days 00:00:00.001000\n",
      "ImmediatePulses(42): \n",
      "\tfirst  1904-01-09 20:51:29.164000 \n",
      "\tlast   1904-01-09 21:17:44.905000 \n",
      "\tlength 0 days 00:26:15.741000 \n",
      "\tmean difference between timestamps 0 days 00:00:00.001000\n",
      "\n",
      "Photometry\n",
      "CH1-410: \n",
      "\tfirst  1904-01-09 20:51:29.164000 \n",
      "\tlast   1904-01-09 21:17:44.905000 \n",
      "\tlength 0 days 00:26:15.741000 \n",
      "\tmean difference between timestamps 0 days 00:00:00.001000\n",
      "CH1-470: \n",
      "\tfirst  1904-01-09 20:51:29.164000 \n",
      "\tlast   1904-01-09 21:17:44.905000 \n",
      "\tlength 0 days 00:26:15.741000 \n",
      "\tmean difference between timestamps 0 days 00:00:00.001000\n",
      "CH1-560: \n",
      "\tfirst  1904-01-09 20:51:29.164000 \n",
      "\tlast   1904-01-09 21:17:44.905000 \n",
      "\tlength 0 days 00:26:15.741000 \n",
      "\tmean difference between timestamps 0 days 00:00:00.001000\n",
      "\n",
      "ONIX\n",
      "Photodiode: \n",
      "\tfirst  1904-01-09 20:51:29.164000 \n",
      "\tlast   1904-01-09 21:17:44.905000 \n",
      "\tlength 0 days 00:26:15.741000 \n",
      "\tmean difference between timestamps 0 days 00:00:00.001000\n"
     ]
    }
   ],
   "source": [
    "_ = process.get_timepoint_info(streams, print_all=True)\n",
    "resampled_streams = process.pad_and_resample(streams, resampling_period='1 ms', method='linear')\n",
    "_ = process.get_timepoint_info(resampled_streams, print_all=True)"
   ]
  },
  {
   "cell_type": "code",
   "execution_count": 27,
   "id": "958b3c55",
   "metadata": {},
   "outputs": [],
   "source": [
    "# Applying linear and angular conversion to Optical tracking sensor streams\n",
    "# OpticalTrackingRead0X(46) converted to centimeters per second\n",
    "# OpticalTrackingRead0Y(46) covnerted to degrees per second\n",
    "resampled_streams['H1']['OpticalTrackingRead0X(46)'] = process.running_unit_conversion(resampled_streams['H1']['OpticalTrackingRead0X(46)']*100)\n",
    "resampled_streams['H1']['OpticalTrackingRead0Y(46)'] = process.rotation_unit_conversion(resampled_streams['H1']['OpticalTrackingRead0Y(46)'])"
   ]
  },
  {
   "cell_type": "code",
   "execution_count": 28,
   "id": "21b9c28b-1b37-4d22-b271-a9278c06d193",
   "metadata": {},
   "outputs": [
    {
     "name": "stdout",
     "output_type": "stream",
     "text": [
      "<class 'pandas.core.series.Series'>\n"
     ]
    },
    {
     "data": {
      "text/plain": [
       "1904-01-09 20:51:29.164     0.000000\n",
       "1904-01-09 20:51:29.165     0.019158\n",
       "1904-01-09 20:51:29.166     0.038317\n",
       "1904-01-09 20:51:29.167     0.057475\n",
       "1904-01-09 20:51:29.168     0.076633\n",
       "                             ...    \n",
       "1904-01-09 21:17:44.901    69.284647\n",
       "1904-01-09 21:17:44.902    69.277735\n",
       "1904-01-09 21:17:44.903    69.270824\n",
       "1904-01-09 21:17:44.904    69.263912\n",
       "1904-01-09 21:17:44.905    69.257000\n",
       "Freq: ms, Length: 1575742, dtype: float64"
      ]
     },
     "execution_count": 28,
     "metadata": {},
     "output_type": "execute_result"
    }
   ],
   "source": [
    "print(type(resampled_streams['Photometry']['CH1-470']))\n",
    "resampled_streams['Photometry']['CH1-470']"
   ]
  },
  {
   "cell_type": "code",
   "execution_count": 29,
   "id": "26535f9d",
   "metadata": {},
   "outputs": [
    {
     "data": {
      "text/plain": [
       "{'H1': ['OpticalTrackingRead0X(46)', 'OpticalTrackingRead0Y(46)'],\n",
       " 'H2': ['Encoder(38)'],\n",
       " 'Photometry': ['CH1-410', 'CH1-470', 'CH1-560'],\n",
       " 'ONIX': ['Photodiode']}"
      ]
     },
     "execution_count": 29,
     "metadata": {},
     "output_type": "execute_result"
    }
   ],
   "source": [
    "streams_to_save_pattern = {'H1': ['OpticalTrackingRead0X(46)', 'OpticalTrackingRead0Y(46)'], 'H2': ['Encoder(38)'], 'Photometry': ['CH1-410', 'CH1-470', 'CH1-560'], 'ONIX': ['Photodiode']}\n",
    "streams_to_save_pattern\n"
   ]
  },
  {
   "cell_type": "code",
   "execution_count": null,
   "id": "76c487f3-6c35-41ff-8958-4361347e49b0",
   "metadata": {},
   "outputs": [],
   "source": []
  }
 ],
 "metadata": {
  "kernelspec": {
   "display_name": "aeon",
   "language": "python",
   "name": "aeon"
  },
  "language_info": {
   "codemirror_mode": {
    "name": "ipython",
    "version": 3
   },
   "file_extension": ".py",
   "mimetype": "text/x-python",
   "name": "python",
   "nbconvert_exporter": "python",
   "pygments_lexer": "ipython3",
   "version": "3.12.2"
  }
 },
 "nbformat": 4,
 "nbformat_minor": 5
}
