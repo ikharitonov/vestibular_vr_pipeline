{
 "cells": [
  {
   "cell_type": "markdown",
   "id": "b70ae21d",
   "metadata": {},
   "source": [
    "## Setup"
   ]
  },
  {
   "cell_type": "code",
   "execution_count": 9,
   "id": "b8e9aa9c",
   "metadata": {},
   "outputs": [],
   "source": [
    "import numpy as np\n",
    "from pathlib import Path\n",
    "import os\n",
    "import matplotlib.pyplot as plt\n",
    "import pandas as pd\n",
    "\n",
    "from harp_resources import process, utils\n",
    "from sleap import load_and_process as lp"
   ]
  },
  {
   "cell_type": "code",
   "execution_count": 50,
   "id": "bf4c8e6b",
   "metadata": {},
   "outputs": [],
   "source": [
    "#data_path = Path('/home/ikharitonov/RANCZLAB-NAS/data/ONIX/20240730_Mismatch_Experiment/MMclosed&Regular_120824/2024-08-12T16-51-16_B3M3')\n",
    "#photometry_path = Path('/home/ikharitonov/RANCZLAB-NAS/data/ONIX/20240730_Mismatch_Experiment/MMclosed&Regular_120824/photometry/B3M3_MMclosed&Regular_day1/2024_08_12-18_57_17')\n"
   ]
  },
  {
   "cell_type": "code",
   "execution_count": 51,
   "id": "fa1035d1-27e7-4536-b72f-2950da7ff207",
   "metadata": {},
   "outputs": [],
   "source": [
    "rootdir = '/Volumes/RanczLab/20240730_Mismatch_Experiment/G8_MMclosed-and-open_080824' #Enter root path\n",
    "data_paths = []\n",
    "photometry_paths= []\n",
    "for dirpath, subdirs, files in os.walk(rootdir):\n",
    "    for x in files:\n",
    "        if 'ExperimentEvents' in x:\n",
    "            data_paths.append(dirpath[:-17])\n",
    "        if 'Fluorescence.csv' in x:\n",
    "            photometry_paths.append(dirpath)\n",
    "\n",
    "\n"
   ]
  },
  {
   "cell_type": "code",
   "execution_count": 52,
   "id": "489e48a5-02d6-409f-9948-d83c29c1d89d",
   "metadata": {},
   "outputs": [
    {
     "data": {
      "text/plain": [
       "'B2M5'"
      ]
     },
     "execution_count": 52,
     "metadata": {},
     "output_type": "execute_result"
    }
   ],
   "source": [
    "'2024-08-08T08-22-12_B2M5'[20:]"
   ]
  },
  {
   "cell_type": "code",
   "execution_count": 53,
   "id": "9c7abc82-a672-43f7-b855-882dff09d9e4",
   "metadata": {},
   "outputs": [],
   "source": [
    "def run_extraction_makeh5(data_path, photometry_path, make_h5 = False):\n",
    "    print(f'\\n Running extraction for {data_path.split('/')[-1][20:]} for session {data_path.split('/')[-2]}')\n",
    "    data_path = Path(data_path)\n",
    "    photometry_path = Path(photometry_path)\n",
    "    SessionSettings = utils.read_SessionSettings(data_path, print_contents=True)\n",
    "    conversions = process.calculate_conversions_second_approach(data_path, photometry_path, verbose=False)\n",
    "    streams = utils.load_registers(data_path)\n",
    "\n",
    "    Photometry = utils.read_fluorescence(photometry_path)\n",
    "    Photometry['HARP Timestamps'] = conversions['photometry_to_harp_time'](Photometry['TimeStamp'])\n",
    "    \n",
    "    OnixAnalogClock = utils.read_OnixAnalogClock(data_path)\n",
    "    OnixAnalogData = utils.read_OnixAnalogData(data_path, binarise=True)\n",
    "    ExperimentEvents = utils.read_ExperimentEvents(data_path) \n",
    "    \n",
    "    photodiode_series = pd.Series(OnixAnalogData[:,0], index=conversions['onix_to_harp_timestamp'](OnixAnalogClock))\n",
    "\n",
    "    print('Adding Photometry, Eye Movements and Photodiode to the streams')\n",
    "    streams = process.reformat_and_add_many_streams(streams, Photometry, 'Photometry', ['CH1-410', 'CH1-470', 'CH1-560'], index_column_name='HARP Timestamps')\n",
    "    streams = process.add_stream(streams, 'ONIX', photodiode_series, 'Photodiode')\n",
    "    \n",
    "    \n",
    "    _ = process.get_timepoint_info(streams, print_all=True)\n",
    "    resampled_streams = process.pad_and_resample(streams, resampling_period='1 ms', method='linear')\n",
    "    _ = process.get_timepoint_info(resampled_streams, print_all=True)\n",
    "\n",
    "    print('Applying linear and angular conversion to Optical tracking sensor streams (cm / sec and degrees / sec)')\n",
    "    resampled_streams['H1']['OpticalTrackingRead0X(46)'] = process.running_unit_conversion(resampled_streams['H1']['OpticalTrackingRead0X(46)']*100)\n",
    "    resampled_streams['H1']['OpticalTrackingRead0Y(46)'] = process.rotation_unit_conversion(resampled_streams['H1']['OpticalTrackingRead0Y(46)'])\n",
    "\n",
    "    print('Streams are extracted and can be used or made to h5')\n",
    "    if make_h5:\n",
    "        process.save_streams_as_h5(data_path, resampled_streams, streams_to_save_pattern)\n"
   ]
  },
  {
   "cell_type": "code",
   "execution_count": 54,
   "id": "daba8e7f-a7b2-4fb5-a5ed-19652e10806f",
   "metadata": {},
   "outputs": [
    {
     "ename": "TypeError",
     "evalue": "object of type 'PosixPath' has no len()",
     "output_type": "error",
     "traceback": [
      "\u001b[0;31m---------------------------------------------------------------------------\u001b[0m",
      "\u001b[0;31mTypeError\u001b[0m                                 Traceback (most recent call last)",
      "Cell \u001b[0;32mIn[54], line 3\u001b[0m\n\u001b[1;32m      1\u001b[0m data_path\n\u001b[1;32m      2\u001b[0m \u001b[38;5;28;01mfor\u001b[39;00m path \u001b[38;5;129;01min\u001b[39;00m photometry_paths:\n\u001b[0;32m----> 3\u001b[0m     \u001b[38;5;28;01mif\u001b[39;00m data_path[\u001b[38;5;28mlen\u001b[39m(data_path)\u001b[38;5;241m-\u001b[39m\u001b[38;5;241m4\u001b[39m:] \u001b[38;5;129;01min\u001b[39;00m path:\n\u001b[1;32m      4\u001b[0m         photometry_path \u001b[38;5;241m=\u001b[39m Path(path)\n\u001b[1;32m      6\u001b[0m data_path \u001b[38;5;241m=\u001b[39m Path(data_path)\n",
      "\u001b[0;31mTypeError\u001b[0m: object of type 'PosixPath' has no len()"
     ]
    }
   ],
   "source": [
    "\n",
    "for path in photometry_paths:\n",
    "    if data_path[len(data_path)-4:] in path:\n",
    "        photometry_path = Path(path)\n",
    "\n",
    "data_path = Path(data_path)\n",
    "\n",
    "print(data_path, '\\n', photometry_path)"
   ]
  },
  {
   "cell_type": "code",
   "execution_count": null,
   "id": "e47b8a09",
   "metadata": {},
   "outputs": [],
   "source": [
    "for data, photometry in zip(data_paths, photometry_paths):\n",
    "    if data[len(data)-4:] in photometry:\n",
    "        print(data, photometry)\n",
    "        run_extraction_makeh5(data, photometry)"
   ]
  },
  {
   "cell_type": "code",
   "execution_count": 38,
   "id": "2f20954c-b65f-4522-9b49-366ca62c2e43",
   "metadata": {},
   "outputs": [
    {
     "data": {
      "text/plain": [
       "str"
      ]
     },
     "execution_count": 38,
     "metadata": {},
     "output_type": "execute_result"
    }
   ],
   "source": [
    "type(photometry_paths[1])"
   ]
  },
  {
   "cell_type": "code",
   "execution_count": null,
   "id": "e949c2f1-5a36-461c-be6c-4a5b56dc8d9f",
   "metadata": {},
   "outputs": [],
   "source": []
  },
  {
   "cell_type": "markdown",
   "id": "dafa5518",
   "metadata": {},
   "source": [
    "## Loading and Synchronisation "
   ]
  },
  {
   "cell_type": "code",
   "execution_count": 55,
   "id": "6cebb421",
   "metadata": {},
   "outputs": [
    {
     "name": "stdout",
     "output_type": "stream",
     "text": [
      "OnixAnalogClock loaded in 6.44 seconds.\n"
     ]
    },
    {
     "name": "stderr",
     "output_type": "stream",
     "text": [
      "/Users/hildeteigen/Documents/GitHub/vestibular_vr_pipeline/harp_resources/utils.py:75: UserWarning: Could not infer format, so each element will be parsed individually, falling back to `dateutil`. To ensure parsing is consistent and as-expected, please specify a format.\n",
      "  sorted_filenames = pd.to_datetime(pd.Series([x.split('_')[1].split('.')[0] for x in filenames])).sort_values()\n"
     ]
    },
    {
     "name": "stdout",
     "output_type": "stream",
     "text": [
      "\n",
      "WARNING: \"Unlucky\" dataset with delayed subscription to OnixAnalogClock in Bonsai. As a consequence, the starting part of photodiode data is not counted. See https://github.com/neurogears/vestibular-vr/issues/81 for more information.\n",
      "Shape of OnixAnalogClock == [218759300] shape of OnixAnalogFrameCount == [218764700].\n",
      "Cutting 5400 values from the beginning of OnixAnalogFrameCount. Data considered to be MISSING.\n",
      "\n",
      "WARNING: \"Unlucky\" dataset with unmatching lengths of OnixDigital and Events.csv (photometry software events) logs. See https://github.com/ikharitonov/vestibular_vr_pipeline/issues/12 for more information.\n",
      "OnixDigital has 707 events and Events.csv has 698 events. Cutting to the minimum 698 events from the beggining, aligning by the end.\n",
      "\n",
      "Calculation of conversions finished in 81.39 seconds.\n"
     ]
    },
    {
     "name": "stderr",
     "output_type": "stream",
     "text": [
      "/Users/hildeteigen/Documents/GitHub/vestibular_vr_pipeline/harp_resources/utils.py:66: UserWarning: Could not infer format, so each element will be parsed individually, falling back to `dateutil`. To ensure parsing is consistent and as-expected, please specify a format.\n",
      "  sorted_filenames = pd.to_datetime(pd.Series([x.split('_')[1].split('.')[0] for x in filenames])).sort_values()\n"
     ]
    }
   ],
   "source": [
    "conversions = process.calculate_conversions_second_approach(data_path, photometry_path, verbose=False)\n",
    "# After hardware ONIX clock implementation - this will have to be adapted\n",
    "# Only photometry will need to be converted"
   ]
  },
  {
   "cell_type": "code",
   "execution_count": 56,
   "id": "ae30fa30",
   "metadata": {},
   "outputs": [
    {
     "name": "stdout",
     "output_type": "stream",
     "text": [
      "Dataset 2024-08-08T08-22-12_B2M5 contains following registers:\n",
      "H1: [32, 33, 46]\n",
      "H2: [39, 42]\n",
      "Registers loaded in 3.33 seconds.\n",
      "OnixAnalogClock loaded in 5.88 seconds.\n",
      "OnixAnalogData loaded in 162.24 seconds.\n"
     ]
    },
    {
     "name": "stderr",
     "output_type": "stream",
     "text": [
      "/Users/hildeteigen/Documents/GitHub/vestibular_vr_pipeline/harp_resources/utils.py:47: UserWarning: Could not infer format, so each element will be parsed individually, falling back to `dateutil`. To ensure parsing is consistent and as-expected, please specify a format.\n",
      "  sorted_filenames = pd.to_datetime(pd.Series([x.split('_')[1].split('.')[0] for x in filenames])).sort_values()\n"
     ]
    }
   ],
   "source": [
    "streams = utils.load_registers(data_path)\n",
    "\n",
    "Photometry = utils.read_fluorescence(photometry_path)\n",
    "Photometry['HARP Timestamps'] = conversions['photometry_to_harp_time'](Photometry['TimeStamp'])\n",
    "\n",
    "OnixAnalogClock = utils.read_OnixAnalogClock(data_path)\n",
    "OnixAnalogData = utils.read_OnixAnalogData(data_path, binarise=True)\n",
    "ExperimentEvents = utils.read_ExperimentEvents(data_path) \n",
    "\n",
    "photodiode_series = pd.Series(OnixAnalogData[:,0], index=conversions['onix_to_harp_timestamp'](OnixAnalogClock))"
   ]
  },
  {
   "cell_type": "code",
   "execution_count": 57,
   "id": "6c7f27e4",
   "metadata": {},
   "outputs": [],
   "source": [
    "# Adding Photometry, Eye Movements and Photodiode to the streams\n",
    "streams = process.reformat_and_add_many_streams(streams, Photometry, 'Photometry', ['CH1-410', 'CH1-470', 'CH1-560'], index_column_name='HARP Timestamps')\n",
    "streams = process.add_stream(streams, 'ONIX', photodiode_series, 'Photodiode')"
   ]
  },
  {
   "cell_type": "code",
   "execution_count": 64,
   "id": "be147909",
   "metadata": {
    "scrolled": true
   },
   "outputs": [
    {
     "name": "stdout",
     "output_type": "stream",
     "text": [
      "Global first timestamp: 1904-01-09 19:54:29.679488\n",
      "Global last timestamp: 1904-01-09 20:31:03.269787765\n",
      "Global length: 0 days 00:36:33.590299765\n",
      "\n",
      "H1\n",
      "Cam0Event(32): \n",
      "\tfirst  1904-01-09 19:54:29.680640 \n",
      "\tlast   1904-01-09 20:31:00.971808 \n",
      "\tlength 0 days 00:36:31.291168 \n",
      "\tmean difference between timestamps 0 days 00:00:00.016666092\n",
      "Cam1Event(33): \n",
      "\tfirst  1904-01-09 19:54:29.680640 \n",
      "\tlast   1904-01-09 20:31:00.971808 \n",
      "\tlength 0 days 00:36:31.291168 \n",
      "\tmean difference between timestamps 0 days 00:00:00.016666092\n",
      "OpticalTrackingRead0X(46): \n",
      "\tfirst  1904-01-09 19:54:29.680256 \n",
      "\tlast   1904-01-09 20:31:00.970240 \n",
      "\tlength 0 days 00:36:31.289984 \n",
      "\tmean difference between timestamps 0 days 00:00:00.009999999\n",
      "OpticalTrackingRead0Y(46): \n",
      "\tfirst  1904-01-09 19:54:29.680256 \n",
      "\tlast   1904-01-09 20:31:00.970240 \n",
      "\tlength 0 days 00:36:31.289984 \n",
      "\tmean difference between timestamps 0 days 00:00:00.009999999\n",
      "OpticalTrackingRead0Brightness(46): \n",
      "\tfirst  1904-01-09 19:54:29.680256 \n",
      "\tlast   1904-01-09 20:31:00.970240 \n",
      "\tlength 0 days 00:36:31.289984 \n",
      "\tmean difference between timestamps 0 days 00:00:00.009999999\n",
      "OpticalTrackingRead1X(46): \n",
      "\tfirst  1904-01-09 19:54:29.680256 \n",
      "\tlast   1904-01-09 20:31:00.970240 \n",
      "\tlength 0 days 00:36:31.289984 \n",
      "\tmean difference between timestamps 0 days 00:00:00.009999999\n",
      "OpticalTrackingRead1Y(46): \n",
      "\tfirst  1904-01-09 19:54:29.680256 \n",
      "\tlast   1904-01-09 20:31:00.970240 \n",
      "\tlength 0 days 00:36:31.289984 \n",
      "\tmean difference between timestamps 0 days 00:00:00.009999999\n",
      "OpticalTrackingRead1Brightness(46): \n",
      "\tfirst  1904-01-09 19:54:29.680256 \n",
      "\tlast   1904-01-09 20:31:00.970240 \n",
      "\tlength 0 days 00:36:31.289984 \n",
      "\tmean difference between timestamps 0 days 00:00:00.009999999\n",
      "\n",
      "H2\n",
      "AnalogInput(39): \n",
      "\tfirst  1904-01-09 19:54:29.679488 \n",
      "\tlast   1904-01-09 20:28:24.077984 \n",
      "\tlength 0 days 00:33:54.398496 \n",
      "\tmean difference between timestamps 0 days 00:00:00.000499999\n",
      "ImmediatePulses(42): \n",
      "\tfirst  1904-01-09 19:55:42.258496 \n",
      "\tlast   1904-01-09 20:27:27.361504 \n",
      "\tlength 0 days 00:31:45.103008 \n",
      "\tmean difference between timestamps 0 days 00:00:00.019848751\n",
      "\n",
      "Photometry\n",
      "CH1-410: \n",
      "\tfirst  1904-01-09 19:55:18.714446067 \n",
      "\tlast   1904-01-09 20:31:03.269787765 \n",
      "\tlength 0 days 00:35:44.555341698 \n",
      "\tmean difference between timestamps 0 days 00:00:00.033313481\n",
      "CH1-470: \n",
      "\tfirst  1904-01-09 19:55:18.714446067 \n",
      "\tlast   1904-01-09 20:31:03.269787765 \n",
      "\tlength 0 days 00:35:44.555341698 \n",
      "\tmean difference between timestamps 0 days 00:00:00.033313481\n",
      "CH1-560: \n",
      "\tfirst  1904-01-09 19:55:18.714446067 \n",
      "\tlast   1904-01-09 20:31:03.269787765 \n",
      "\tlength 0 days 00:35:44.555341698 \n",
      "\tmean difference between timestamps 0 days 00:00:00.033313481\n",
      "\n",
      "ONIX\n",
      "Photodiode: \n",
      "\tfirst  1904-01-09 19:54:29.732319658 \n",
      "\tlast   1904-01-09 20:31:01.288386841 \n",
      "\tlength 0 days 00:36:31.556067183 \n",
      "\tmean difference between timestamps 0 days 00:00:00.000010018\n",
      "Padding and resampling finished in 15.82 seconds.\n",
      "Global first timestamp: 1904-01-09 19:54:29.679000\n",
      "Global last timestamp: 1904-01-09 20:31:03.269000\n",
      "Global length: 0 days 00:36:33.590000\n",
      "\n",
      "H1\n",
      "Cam0Event(32): \n",
      "\tfirst  1904-01-09 19:54:29.679000 \n",
      "\tlast   1904-01-09 20:31:03.269000 \n",
      "\tlength 0 days 00:36:33.590000 \n",
      "\tmean difference between timestamps 0 days 00:00:00.001000\n",
      "Cam1Event(33): \n",
      "\tfirst  1904-01-09 19:54:29.679000 \n",
      "\tlast   1904-01-09 20:31:03.269000 \n",
      "\tlength 0 days 00:36:33.590000 \n",
      "\tmean difference between timestamps 0 days 00:00:00.001000\n",
      "OpticalTrackingRead0X(46): \n",
      "\tfirst  1904-01-09 19:54:29.679000 \n",
      "\tlast   1904-01-09 20:31:03.269000 \n",
      "\tlength 0 days 00:36:33.590000 \n",
      "\tmean difference between timestamps 0 days 00:00:00.001000\n",
      "OpticalTrackingRead0Y(46): \n",
      "\tfirst  1904-01-09 19:54:29.679000 \n",
      "\tlast   1904-01-09 20:31:03.269000 \n",
      "\tlength 0 days 00:36:33.590000 \n",
      "\tmean difference between timestamps 0 days 00:00:00.001000\n",
      "OpticalTrackingRead0Brightness(46): \n",
      "\tfirst  1904-01-09 19:54:29.679000 \n",
      "\tlast   1904-01-09 20:31:03.269000 \n",
      "\tlength 0 days 00:36:33.590000 \n",
      "\tmean difference between timestamps 0 days 00:00:00.001000\n",
      "OpticalTrackingRead1X(46): \n",
      "\tfirst  1904-01-09 19:54:29.679000 \n",
      "\tlast   1904-01-09 20:31:03.269000 \n",
      "\tlength 0 days 00:36:33.590000 \n",
      "\tmean difference between timestamps 0 days 00:00:00.001000\n",
      "OpticalTrackingRead1Y(46): \n",
      "\tfirst  1904-01-09 19:54:29.679000 \n",
      "\tlast   1904-01-09 20:31:03.269000 \n",
      "\tlength 0 days 00:36:33.590000 \n",
      "\tmean difference between timestamps 0 days 00:00:00.001000\n",
      "OpticalTrackingRead1Brightness(46): \n",
      "\tfirst  1904-01-09 19:54:29.679000 \n",
      "\tlast   1904-01-09 20:31:03.269000 \n",
      "\tlength 0 days 00:36:33.590000 \n",
      "\tmean difference between timestamps 0 days 00:00:00.001000\n",
      "\n",
      "H2\n",
      "AnalogInput(39): \n",
      "\tfirst  1904-01-09 19:54:29.679000 \n",
      "\tlast   1904-01-09 20:31:03.269000 \n",
      "\tlength 0 days 00:36:33.590000 \n",
      "\tmean difference between timestamps 0 days 00:00:00.001000\n",
      "ImmediatePulses(42): \n",
      "\tfirst  1904-01-09 19:54:29.679000 \n",
      "\tlast   1904-01-09 20:31:03.269000 \n",
      "\tlength 0 days 00:36:33.590000 \n",
      "\tmean difference between timestamps 0 days 00:00:00.001000\n",
      "\n",
      "Photometry\n",
      "CH1-410: \n",
      "\tfirst  1904-01-09 19:54:29.679000 \n",
      "\tlast   1904-01-09 20:31:03.269000 \n",
      "\tlength 0 days 00:36:33.590000 \n",
      "\tmean difference between timestamps 0 days 00:00:00.001000\n",
      "CH1-470: \n",
      "\tfirst  1904-01-09 19:54:29.679000 \n",
      "\tlast   1904-01-09 20:31:03.269000 \n",
      "\tlength 0 days 00:36:33.590000 \n",
      "\tmean difference between timestamps 0 days 00:00:00.001000\n",
      "CH1-560: \n",
      "\tfirst  1904-01-09 19:54:29.679000 \n",
      "\tlast   1904-01-09 20:31:03.269000 \n",
      "\tlength 0 days 00:36:33.590000 \n",
      "\tmean difference between timestamps 0 days 00:00:00.001000\n",
      "\n",
      "ONIX\n",
      "Photodiode: \n",
      "\tfirst  1904-01-09 19:54:29.679000 \n",
      "\tlast   1904-01-09 20:31:03.269000 \n",
      "\tlength 0 days 00:36:33.590000 \n",
      "\tmean difference between timestamps 0 days 00:00:00.001000\n"
     ]
    }
   ],
   "source": [
    "_ = process.get_timepoint_info(streams, print_all=True)\n",
    "resampled_streams = process.pad_and_resample(streams, resampling_period='1 ms', method='linear')\n",
    "_ = process.get_timepoint_info(resampled_streams, print_all=True)"
   ]
  },
  {
   "cell_type": "code",
   "execution_count": 65,
   "id": "958b3c55",
   "metadata": {},
   "outputs": [],
   "source": [
    "# Applying linear and angular conversion to Optical tracking sensor streams\n",
    "# OpticalTrackingRead0X(46) converted to centimeters per second\n",
    "# OpticalTrackingRead0Y(46) covnerted to degrees per second\n",
    "resampled_streams['H1']['OpticalTrackingRead0X(46)'] = process.running_unit_conversion(resampled_streams['H1']['OpticalTrackingRead0X(46)']*100)\n",
    "resampled_streams['H1']['OpticalTrackingRead0Y(46)'] = process.rotation_unit_conversion(resampled_streams['H1']['OpticalTrackingRead0Y(46)'])"
   ]
  },
  {
   "cell_type": "code",
   "execution_count": 67,
   "id": "21b9c28b-1b37-4d22-b271-a9278c06d193",
   "metadata": {},
   "outputs": [
    {
     "name": "stdout",
     "output_type": "stream",
     "text": [
      "<class 'pandas.core.series.Series'>\n"
     ]
    },
    {
     "data": {
      "text/plain": [
       "1904-01-09 19:54:29.679     0.000000\n",
       "1904-01-09 19:54:29.680     0.001054\n",
       "1904-01-09 19:54:29.681     0.002108\n",
       "1904-01-09 19:54:29.682     0.003161\n",
       "1904-01-09 19:54:29.683     0.004215\n",
       "                             ...    \n",
       "1904-01-09 20:31:03.265    44.381788\n",
       "1904-01-09 20:31:03.266    44.376091\n",
       "1904-01-09 20:31:03.267    44.370394\n",
       "1904-01-09 20:31:03.268    44.364697\n",
       "1904-01-09 20:31:03.269    44.359000\n",
       "Freq: ms, Length: 2193591, dtype: float64"
      ]
     },
     "execution_count": 67,
     "metadata": {},
     "output_type": "execute_result"
    }
   ],
   "source": [
    "print(type(resampled_streams['Photometry']['CH1-470']))\n",
    "resampled_streams['Photometry']['CH1-470']"
   ]
  },
  {
   "cell_type": "code",
   "execution_count": 19,
   "id": "26535f9d",
   "metadata": {},
   "outputs": [
    {
     "data": {
      "text/plain": [
       "{'H1': ['OpticalTrackingRead0X(46)', 'OpticalTrackingRead0Y(46)'],\n",
       " 'H2': ['Encoder(38)'],\n",
       " 'Photometry': ['CH1-410', 'CH1-470', 'CH1-560'],\n",
       " 'ONIX': ['Photodiode']}"
      ]
     },
     "execution_count": 19,
     "metadata": {},
     "output_type": "execute_result"
    }
   ],
   "source": [
    "streams_to_save_pattern = {'H1': ['OpticalTrackingRead0X(46)', 'OpticalTrackingRead0Y(46)'], 'H2': ['Encoder(38)'], 'Photometry': ['CH1-410', 'CH1-470', 'CH1-560'], 'ONIX': ['Photodiode']}\n",
    "streams_to_save_pattern\n"
   ]
  }
 ],
 "metadata": {
  "kernelspec": {
   "display_name": "aeon",
   "language": "python",
   "name": "aeon"
  },
  "language_info": {
   "codemirror_mode": {
    "name": "ipython",
    "version": 3
   },
   "file_extension": ".py",
   "mimetype": "text/x-python",
   "name": "python",
   "nbconvert_exporter": "python",
   "pygments_lexer": "ipython3",
   "version": "3.12.7"
  }
 },
 "nbformat": 4,
 "nbformat_minor": 5
}
