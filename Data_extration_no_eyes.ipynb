{
 "cells": [
  {
   "cell_type": "markdown",
   "id": "b70ae21d",
   "metadata": {},
   "source": [
    "## Setup"
   ]
  },
  {
   "cell_type": "code",
   "execution_count": 3,
   "id": "b8e9aa9c",
   "metadata": {},
   "outputs": [],
   "source": [
    "import numpy as np\n",
    "from pathlib import Path\n",
    "import os\n",
    "import matplotlib.pyplot as plt\n",
    "import pandas as pd\n",
    "import harp\n",
    "\n",
    "from harp_resources import process, utils\n",
    "from sleap import load_and_process as lp"
   ]
  },
  {
   "cell_type": "markdown",
   "id": "8cf38d29-f87e-444a-be2f-244cf0ab64b9",
   "metadata": {},
   "source": [
    "# Extracting Noras data"
   ]
  },
  {
   "cell_type": "code",
   "execution_count": 22,
   "id": "1e2274d2-c911-40ec-a7a2-fdbeaff36376",
   "metadata": {},
   "outputs": [],
   "source": [
    "photometry_path = '/Volumes/RanczLab/Nora_Cohort1_training/Training_day4/B6J2717-2024-11-28T09-37-55/photometry'\n",
    "data_path = '/Volumes/RanczLab/Nora_Cohort1_training/Training_day4/B6J2717-2024-11-28T09-37-55/'\n",
    "\n",
    "photometry_path = '/Volumes/RanczLab/Nora_Cohort1_training/Visual_mismatch_day1/B6J2717/photometry_processed'\n",
    "data_path = '/Volumes/RanczLab/Nora_Cohort1_training/Visual_mismatch_day1/B6J2717/'\n",
    "\n",
    "h1_datafolder = data_path+'HarpDataH1'\n",
    "h2_datafolder = data_path+'HarpDataH2'"
   ]
  },
  {
   "cell_type": "code",
   "execution_count": 23,
   "id": "ec62ce30-5a18-48ac-a840-2107db22c634",
   "metadata": {},
   "outputs": [
    {
     "data": {
      "text/html": [
       "<div>\n",
       "<style scoped>\n",
       "    .dataframe tbody tr th:only-of-type {\n",
       "        vertical-align: middle;\n",
       "    }\n",
       "\n",
       "    .dataframe tbody tr th {\n",
       "        vertical-align: top;\n",
       "    }\n",
       "\n",
       "    .dataframe thead th {\n",
       "        text-align: right;\n",
       "    }\n",
       "</style>\n",
       "<table border=\"1\" class=\"dataframe\">\n",
       "  <thead>\n",
       "    <tr style=\"text-align: right;\">\n",
       "      <th></th>\n",
       "      <th>TimeStamp</th>\n",
       "      <th>filtered_470</th>\n",
       "      <th>filtered_560</th>\n",
       "      <th>filtered_410</th>\n",
       "      <th>470_dfF</th>\n",
       "      <th>560_dfF</th>\n",
       "      <th>410_dfF</th>\n",
       "      <th>z_470</th>\n",
       "      <th>z_560</th>\n",
       "      <th>z_410</th>\n",
       "      <th>Time</th>\n",
       "      <th>mouseID</th>\n",
       "      <th>Area</th>\n",
       "      <th>Sex</th>\n",
       "    </tr>\n",
       "  </thead>\n",
       "  <tbody>\n",
       "    <tr>\n",
       "      <th>0</th>\n",
       "      <td>15.011116</td>\n",
       "      <td>43.050089</td>\n",
       "      <td>106.269</td>\n",
       "      <td>11.223983</td>\n",
       "      <td>-1.475054</td>\n",
       "      <td>2.003618</td>\n",
       "      <td>-2.043206</td>\n",
       "      <td>-1.317243</td>\n",
       "      <td>1.204203</td>\n",
       "      <td>-2.942154</td>\n",
       "      <td>2024-12-05 11:54:33.011116</td>\n",
       "      <td>B6J2717</td>\n",
       "      <td>V2M</td>\n",
       "      <td>M</td>\n",
       "    </tr>\n",
       "    <tr>\n",
       "      <th>1</th>\n",
       "      <td>15.044446</td>\n",
       "      <td>43.024373</td>\n",
       "      <td>106.314</td>\n",
       "      <td>11.221655</td>\n",
       "      <td>-1.533527</td>\n",
       "      <td>2.047336</td>\n",
       "      <td>-2.063057</td>\n",
       "      <td>-1.368800</td>\n",
       "      <td>1.224585</td>\n",
       "      <td>-2.970065</td>\n",
       "      <td>2024-12-05 11:54:33.044446</td>\n",
       "      <td>B6J2717</td>\n",
       "      <td>V2M</td>\n",
       "      <td>M</td>\n",
       "    </tr>\n",
       "    <tr>\n",
       "      <th>2</th>\n",
       "      <td>15.077781</td>\n",
       "      <td>42.998491</td>\n",
       "      <td>106.036</td>\n",
       "      <td>11.216651</td>\n",
       "      <td>-1.592379</td>\n",
       "      <td>1.781016</td>\n",
       "      <td>-2.106259</td>\n",
       "      <td>-1.420692</td>\n",
       "      <td>1.100389</td>\n",
       "      <td>-3.030822</td>\n",
       "      <td>2024-12-05 11:54:33.077781</td>\n",
       "      <td>B6J2717</td>\n",
       "      <td>V2M</td>\n",
       "      <td>M</td>\n",
       "    </tr>\n",
       "    <tr>\n",
       "      <th>3</th>\n",
       "      <td>15.111111</td>\n",
       "      <td>42.972916</td>\n",
       "      <td>105.926</td>\n",
       "      <td>11.209201</td>\n",
       "      <td>-1.650530</td>\n",
       "      <td>1.675952</td>\n",
       "      <td>-2.170807</td>\n",
       "      <td>-1.471964</td>\n",
       "      <td>1.051392</td>\n",
       "      <td>-3.121603</td>\n",
       "      <td>2024-12-05 11:54:33.111111</td>\n",
       "      <td>B6J2717</td>\n",
       "      <td>V2M</td>\n",
       "      <td>M</td>\n",
       "    </tr>\n",
       "    <tr>\n",
       "      <th>4</th>\n",
       "      <td>15.144448</td>\n",
       "      <td>42.948724</td>\n",
       "      <td>105.630</td>\n",
       "      <td>11.202558</td>\n",
       "      <td>-1.705516</td>\n",
       "      <td>1.392350</td>\n",
       "      <td>-2.228321</td>\n",
       "      <td>-1.520444</td>\n",
       "      <td>0.919139</td>\n",
       "      <td>-3.202491</td>\n",
       "      <td>2024-12-05 11:54:33.144448</td>\n",
       "      <td>B6J2717</td>\n",
       "      <td>V2M</td>\n",
       "      <td>M</td>\n",
       "    </tr>\n",
       "    <tr>\n",
       "      <th>...</th>\n",
       "      <td>...</td>\n",
       "      <td>...</td>\n",
       "      <td>...</td>\n",
       "      <td>...</td>\n",
       "      <td>...</td>\n",
       "      <td>...</td>\n",
       "      <td>...</td>\n",
       "      <td>...</td>\n",
       "      <td>...</td>\n",
       "      <td>...</td>\n",
       "      <td>...</td>\n",
       "      <td>...</td>\n",
       "      <td>...</td>\n",
       "      <td>...</td>\n",
       "    </tr>\n",
       "    <tr>\n",
       "      <th>72521</th>\n",
       "      <td>2432.049671</td>\n",
       "      <td>42.932277</td>\n",
       "      <td>87.326</td>\n",
       "      <td>10.357888</td>\n",
       "      <td>2.267982</td>\n",
       "      <td>-0.266080</td>\n",
       "      <td>-0.029427</td>\n",
       "      <td>1.904949</td>\n",
       "      <td>0.165581</td>\n",
       "      <td>-0.105458</td>\n",
       "      <td>2024-12-05 12:34:50.049671</td>\n",
       "      <td>B6J2717</td>\n",
       "      <td>V2M</td>\n",
       "      <td>M</td>\n",
       "    </tr>\n",
       "    <tr>\n",
       "      <th>72522</th>\n",
       "      <td>2432.083003</td>\n",
       "      <td>42.882033</td>\n",
       "      <td>87.165</td>\n",
       "      <td>10.352688</td>\n",
       "      <td>2.148297</td>\n",
       "      <td>-0.449876</td>\n",
       "      <td>-0.079582</td>\n",
       "      <td>1.803550</td>\n",
       "      <td>0.093548</td>\n",
       "      <td>-0.169254</td>\n",
       "      <td>2024-12-05 12:34:50.083003</td>\n",
       "      <td>B6J2717</td>\n",
       "      <td>V2M</td>\n",
       "      <td>M</td>\n",
       "    </tr>\n",
       "    <tr>\n",
       "      <th>72523</th>\n",
       "      <td>2432.116334</td>\n",
       "      <td>42.833270</td>\n",
       "      <td>87.437</td>\n",
       "      <td>10.349463</td>\n",
       "      <td>2.032139</td>\n",
       "      <td>-0.139148</td>\n",
       "      <td>-0.110686</td>\n",
       "      <td>1.705140</td>\n",
       "      <td>0.215329</td>\n",
       "      <td>-0.208818</td>\n",
       "      <td>2024-12-05 12:34:50.116334</td>\n",
       "      <td>B6J2717</td>\n",
       "      <td>V2M</td>\n",
       "      <td>M</td>\n",
       "    </tr>\n",
       "    <tr>\n",
       "      <th>72524</th>\n",
       "      <td>2432.149659</td>\n",
       "      <td>42.790757</td>\n",
       "      <td>87.865</td>\n",
       "      <td>10.347816</td>\n",
       "      <td>1.930871</td>\n",
       "      <td>0.349747</td>\n",
       "      <td>-0.126554</td>\n",
       "      <td>1.619344</td>\n",
       "      <td>0.406937</td>\n",
       "      <td>-0.229001</td>\n",
       "      <td>2024-12-05 12:34:50.149659</td>\n",
       "      <td>B6J2717</td>\n",
       "      <td>V2M</td>\n",
       "      <td>M</td>\n",
       "    </tr>\n",
       "    <tr>\n",
       "      <th>72525</th>\n",
       "      <td>2432.182988</td>\n",
       "      <td>42.753320</td>\n",
       "      <td>87.749</td>\n",
       "      <td>10.346845</td>\n",
       "      <td>1.841692</td>\n",
       "      <td>0.217345</td>\n",
       "      <td>-0.135896</td>\n",
       "      <td>1.543790</td>\n",
       "      <td>0.355046</td>\n",
       "      <td>-0.240884</td>\n",
       "      <td>2024-12-05 12:34:50.182988</td>\n",
       "      <td>B6J2717</td>\n",
       "      <td>V2M</td>\n",
       "      <td>M</td>\n",
       "    </tr>\n",
       "  </tbody>\n",
       "</table>\n",
       "<p>72526 rows × 14 columns</p>\n",
       "</div>"
      ],
      "text/plain": [
       "         TimeStamp  filtered_470  filtered_560  filtered_410   470_dfF  \\\n",
       "0        15.011116     43.050089       106.269     11.223983 -1.475054   \n",
       "1        15.044446     43.024373       106.314     11.221655 -1.533527   \n",
       "2        15.077781     42.998491       106.036     11.216651 -1.592379   \n",
       "3        15.111111     42.972916       105.926     11.209201 -1.650530   \n",
       "4        15.144448     42.948724       105.630     11.202558 -1.705516   \n",
       "...            ...           ...           ...           ...       ...   \n",
       "72521  2432.049671     42.932277        87.326     10.357888  2.267982   \n",
       "72522  2432.083003     42.882033        87.165     10.352688  2.148297   \n",
       "72523  2432.116334     42.833270        87.437     10.349463  2.032139   \n",
       "72524  2432.149659     42.790757        87.865     10.347816  1.930871   \n",
       "72525  2432.182988     42.753320        87.749     10.346845  1.841692   \n",
       "\n",
       "        560_dfF   410_dfF     z_470     z_560     z_410  \\\n",
       "0      2.003618 -2.043206 -1.317243  1.204203 -2.942154   \n",
       "1      2.047336 -2.063057 -1.368800  1.224585 -2.970065   \n",
       "2      1.781016 -2.106259 -1.420692  1.100389 -3.030822   \n",
       "3      1.675952 -2.170807 -1.471964  1.051392 -3.121603   \n",
       "4      1.392350 -2.228321 -1.520444  0.919139 -3.202491   \n",
       "...         ...       ...       ...       ...       ...   \n",
       "72521 -0.266080 -0.029427  1.904949  0.165581 -0.105458   \n",
       "72522 -0.449876 -0.079582  1.803550  0.093548 -0.169254   \n",
       "72523 -0.139148 -0.110686  1.705140  0.215329 -0.208818   \n",
       "72524  0.349747 -0.126554  1.619344  0.406937 -0.229001   \n",
       "72525  0.217345 -0.135896  1.543790  0.355046 -0.240884   \n",
       "\n",
       "                             Time  mouseID Area Sex  \n",
       "0      2024-12-05 11:54:33.011116  B6J2717  V2M   M  \n",
       "1      2024-12-05 11:54:33.044446  B6J2717  V2M   M  \n",
       "2      2024-12-05 11:54:33.077781  B6J2717  V2M   M  \n",
       "3      2024-12-05 11:54:33.111111  B6J2717  V2M   M  \n",
       "4      2024-12-05 11:54:33.144448  B6J2717  V2M   M  \n",
       "...                           ...      ...  ...  ..  \n",
       "72521  2024-12-05 12:34:50.049671  B6J2717  V2M   M  \n",
       "72522  2024-12-05 12:34:50.083003  B6J2717  V2M   M  \n",
       "72523  2024-12-05 12:34:50.116334  B6J2717  V2M   M  \n",
       "72524  2024-12-05 12:34:50.149659  B6J2717  V2M   M  \n",
       "72525  2024-12-05 12:34:50.182988  B6J2717  V2M   M  \n",
       "\n",
       "[72526 rows x 14 columns]"
      ]
     },
     "execution_count": 23,
     "metadata": {},
     "output_type": "execute_result"
    }
   ],
   "source": [
    "pd.read_csv(str(photometry_path)+'/Processed_fluorescence.csv') #Processed_fluorescence.csv #Fluorescence.csv"
   ]
  },
  {
   "cell_type": "code",
   "execution_count": null,
   "id": "63ae09c1-ebcc-4b97-9490-dd15e8310de7",
   "metadata": {},
   "outputs": [],
   "source": []
  },
  {
   "cell_type": "code",
   "execution_count": 24,
   "id": "3f6cb3eb-66fa-4df6-8b56-3e26e1fa1e0c",
   "metadata": {},
   "outputs": [],
   "source": [
    "# from andrew:\n",
    "#Changed didgital output file\n",
    "h1_reader = harp.create_reader('harp_resources/h1-device.yml', epoch=harp.REFERENCE_EPOCH)\n",
    "h2_reader = harp.create_reader('harp_resources/h2-device.yml', epoch=harp.REFERENCE_EPOCH)\n",
    "session_data_reader = utils.SessionData(\"SessionSettings\")\n",
    "experiment_events_reader = utils.TimestampedCsvReader(\"ExperimentEvents\", columns=[\"Event\"])\n",
    "framecount_reader = utils.TimestampedCsvReader(\"OnixAnalogFrameCount\", columns=[\"Index\"])\n",
    "photometry_reader = utils.PhotometryReader(\"Processed_fluorescence\")\n",
    "video_reader = utils.Video(\"VideoData1\")\n",
    "onix_digital_reader = utils.TimestampedCsvReader(\"OnixDigital\", columns=[\"Clock\", \"HubClock\", \n",
    "                                                                         \"DigitalInputs0\",\n",
    "                                                                         \"DigitalInputs1\",\n",
    "                                                                         \"DigitalInputs2\",\n",
    "                                                                         \"DigitalInputs3\",\n",
    "                                                                         \"DigitalInputs4\",\n",
    "                                                                         \"DigitalInputs5\"\n",
    "                                                                         \"DigitalInputs6\",\n",
    "                                                                         \"DigitalInputs7\",\n",
    "                                                                         \"DigitalInputs8\",\n",
    "                                                                         \"Buttons\"])\n",
    "onix_harp_reader = utils.TimestampedCsvReader(\"OnixHarp\", columns=[\"Clock\", \"HubClock\", \"HarpTime\"])"
   ]
  },
  {
   "cell_type": "code",
   "execution_count": null,
   "id": "8f0db153-c7a6-428a-9666-7ade0695d205",
   "metadata": {},
   "outputs": [],
   "source": [
    "\n"
   ]
  },
  {
   "cell_type": "code",
   "execution_count": 25,
   "id": "7ccd5ff7-0f81-443b-9195-48e93efc1db7",
   "metadata": {},
   "outputs": [
    {
     "name": "stdout",
     "output_type": "stream",
     "text": [
      "DotMap(randomDelay=1.5, minumumDelay=0.1, haltGain=0.0, haltMotorGain=1.0, haltTime=2.0)\n"
     ]
    }
   ],
   "source": [
    "# read metadata\n",
    "session_settings = utils.load_2(session_data_reader, data_path)\n",
    "\n",
    "print(session_settings.iloc[0]['metadata'].blocks[0].haltProtocol)"
   ]
  },
  {
   "cell_type": "code",
   "execution_count": 26,
   "id": "9874856a-38eb-43e4-a563-ad640a92e5b3",
   "metadata": {
    "scrolled": true
   },
   "outputs": [
    {
     "name": "stdout",
     "output_type": "stream",
     "text": [
      "/Volumes/RanczLab/Nora_Cohort1_training/Visual_mismatch_day1/B6J2717/HarpDataH1/HarpDataH1_46_*.bin\n"
     ]
    },
    {
     "ename": "OverflowError",
     "evalue": "Python integer 4217616 out of bounds for uint8",
     "output_type": "error",
     "traceback": [
      "\u001b[0;31m---------------------------------------------------------------------------\u001b[0m",
      "\u001b[0;31mOverflowError\u001b[0m                             Traceback (most recent call last)",
      "Cell \u001b[0;32mIn[26], line 2\u001b[0m\n\u001b[1;32m      1\u001b[0m \u001b[38;5;66;03m# read harp streams, experiment events, video\u001b[39;00m\n\u001b[0;32m----> 2\u001b[0m flow_sensor \u001b[38;5;241m=\u001b[39m utils\u001b[38;5;241m.\u001b[39mload_harp(h1_reader\u001b[38;5;241m.\u001b[39mOpticalTrackingRead, h1_datafolder)\n\u001b[1;32m      3\u001b[0m camera_triggers \u001b[38;5;241m=\u001b[39m utils\u001b[38;5;241m.\u001b[39mload_harp(h1_reader\u001b[38;5;241m.\u001b[39mCam0Event, h1_datafolder)\n\u001b[1;32m      4\u001b[0m experiment_events \u001b[38;5;241m=\u001b[39m utils\u001b[38;5;241m.\u001b[39mload_2(experiment_events_reader, root_folder)\n",
      "File \u001b[0;32m~/Documents/GitHub/vestibular_vr_pipeline/harp_resources/utils.py:92\u001b[0m, in \u001b[0;36mload_harp\u001b[0;34m(reader, root)\u001b[0m\n\u001b[1;32m     90\u001b[0m pattern \u001b[38;5;241m=\u001b[39m \u001b[38;5;124mf\u001b[39m\u001b[38;5;124m\"\u001b[39m\u001b[38;5;132;01m{\u001b[39;00mroot\u001b[38;5;241m.\u001b[39mjoinpath(root\u001b[38;5;241m.\u001b[39mname)\u001b[38;5;132;01m}\u001b[39;00m\u001b[38;5;124m_\u001b[39m\u001b[38;5;132;01m{\u001b[39;00mreader\u001b[38;5;241m.\u001b[39mregister\u001b[38;5;241m.\u001b[39maddress\u001b[38;5;132;01m}\u001b[39;00m\u001b[38;5;124m_*.bin\u001b[39m\u001b[38;5;124m\"\u001b[39m\n\u001b[1;32m     91\u001b[0m \u001b[38;5;28mprint\u001b[39m(pattern)\n\u001b[0;32m---> 92\u001b[0m data \u001b[38;5;241m=\u001b[39m [reader\u001b[38;5;241m.\u001b[39mread(file) \u001b[38;5;28;01mfor\u001b[39;00m file \u001b[38;5;129;01min\u001b[39;00m glob(pattern)]\n\u001b[1;32m     93\u001b[0m \u001b[38;5;28;01mreturn\u001b[39;00m pd\u001b[38;5;241m.\u001b[39mconcat(data)\n",
      "File \u001b[0;32m~/opt/anaconda3/envs/aeon/lib/python3.12/site-packages/harp/reader.py:73\u001b[0m, in \u001b[0;36m_compose_parser.<locals>.parser\u001b[0;34m(file, columns, epoch, keep_type)\u001b[0m\n\u001b[1;32m     67\u001b[0m \u001b[38;5;28;01mdef\u001b[39;00m \u001b[38;5;21mparser\u001b[39m(\n\u001b[1;32m     68\u001b[0m     file: Optional[Union[\u001b[38;5;28mstr\u001b[39m, \u001b[38;5;28mbytes\u001b[39m, PathLike[Any], BinaryIO]] \u001b[38;5;241m=\u001b[39m \u001b[38;5;28;01mNone\u001b[39;00m,\n\u001b[1;32m     69\u001b[0m     columns: Optional[Axes] \u001b[38;5;241m=\u001b[39m \u001b[38;5;28;01mNone\u001b[39;00m,\n\u001b[1;32m     70\u001b[0m     epoch: Optional[datetime] \u001b[38;5;241m=\u001b[39m params\u001b[38;5;241m.\u001b[39mepoch,\n\u001b[1;32m     71\u001b[0m     keep_type: \u001b[38;5;28mbool\u001b[39m \u001b[38;5;241m=\u001b[39m params\u001b[38;5;241m.\u001b[39mkeep_type,\n\u001b[1;32m     72\u001b[0m ):\n\u001b[0;32m---> 73\u001b[0m     df \u001b[38;5;241m=\u001b[39m g(file, columns, epoch, keep_type)\n\u001b[1;32m     74\u001b[0m     result \u001b[38;5;241m=\u001b[39m f(df)\n\u001b[1;32m     75\u001b[0m     type_col \u001b[38;5;241m=\u001b[39m df\u001b[38;5;241m.\u001b[39mget(MessageType\u001b[38;5;241m.\u001b[39m\u001b[38;5;18m__name__\u001b[39m)\n",
      "File \u001b[0;32m~/opt/anaconda3/envs/aeon/lib/python3.12/site-packages/harp/reader.py:162\u001b[0m, in \u001b[0;36m_create_register_reader.<locals>.reader\u001b[0;34m(file, columns, epoch, keep_type)\u001b[0m\n\u001b[1;32m    159\u001b[0m \u001b[38;5;28;01mif\u001b[39;00m file \u001b[38;5;129;01mis\u001b[39;00m \u001b[38;5;28;01mNone\u001b[39;00m:\n\u001b[1;32m    160\u001b[0m     file \u001b[38;5;241m=\u001b[39m \u001b[38;5;124mf\u001b[39m\u001b[38;5;124m\"\u001b[39m\u001b[38;5;132;01m{\u001b[39;00mparams\u001b[38;5;241m.\u001b[39mpath\u001b[38;5;132;01m}\u001b[39;00m\u001b[38;5;124m_\u001b[39m\u001b[38;5;132;01m{\u001b[39;00mregister\u001b[38;5;241m.\u001b[39maddress\u001b[38;5;132;01m}\u001b[39;00m\u001b[38;5;124m.bin\u001b[39m\u001b[38;5;124m\"\u001b[39m\n\u001b[0;32m--> 162\u001b[0m data \u001b[38;5;241m=\u001b[39m read(\n\u001b[1;32m    163\u001b[0m     file,\n\u001b[1;32m    164\u001b[0m     address\u001b[38;5;241m=\u001b[39mregister\u001b[38;5;241m.\u001b[39maddress,\n\u001b[1;32m    165\u001b[0m     dtype\u001b[38;5;241m=\u001b[39mdtype(register\u001b[38;5;241m.\u001b[39mtype),\n\u001b[1;32m    166\u001b[0m     length\u001b[38;5;241m=\u001b[39mregister\u001b[38;5;241m.\u001b[39mlength,\n\u001b[1;32m    167\u001b[0m     columns\u001b[38;5;241m=\u001b[39mcolumns,\n\u001b[1;32m    168\u001b[0m     epoch\u001b[38;5;241m=\u001b[39mepoch,\n\u001b[1;32m    169\u001b[0m     keep_type\u001b[38;5;241m=\u001b[39mkeep_type,\n\u001b[1;32m    170\u001b[0m )\n\u001b[1;32m    171\u001b[0m \u001b[38;5;28;01mreturn\u001b[39;00m data\n",
      "File \u001b[0;32m~/opt/anaconda3/envs/aeon/lib/python3.12/site-packages/harp/io.py:85\u001b[0m, in \u001b[0;36mread\u001b[0;34m(file, address, dtype, length, columns, epoch, keep_type)\u001b[0m\n\u001b[1;32m     83\u001b[0m index \u001b[38;5;241m=\u001b[39m \u001b[38;5;28;01mNone\u001b[39;00m\n\u001b[1;32m     84\u001b[0m stride \u001b[38;5;241m=\u001b[39m data[\u001b[38;5;241m1\u001b[39m] \u001b[38;5;241m+\u001b[39m \u001b[38;5;241m2\u001b[39m\n\u001b[0;32m---> 85\u001b[0m nrows \u001b[38;5;241m=\u001b[39m \u001b[38;5;28mlen\u001b[39m(data) \u001b[38;5;241m/\u001b[39m\u001b[38;5;241m/\u001b[39m stride\n\u001b[1;32m     86\u001b[0m payloadtype \u001b[38;5;241m=\u001b[39m data[\u001b[38;5;241m4\u001b[39m]\n\u001b[1;32m     87\u001b[0m payloadoffset \u001b[38;5;241m=\u001b[39m \u001b[38;5;241m5\u001b[39m\n",
      "\u001b[0;31mOverflowError\u001b[0m: Python integer 4217616 out of bounds for uint8"
     ]
    }
   ],
   "source": [
    "# read harp streams, experiment events, video\n",
    "flow_sensor = utils.load_harp(h1_reader.OpticalTrackingRead, h1_datafolder)\n",
    "camera_triggers = utils.load_harp(h1_reader.Cam0Event, h1_datafolder)\n",
    "experiment_events = utils.load_2(experiment_events_reader, root_folder)\n",
    "video_data = utils.load_2(video_reader, root_folder)"
   ]
  },
  {
   "cell_type": "code",
   "execution_count": null,
   "id": "8d1dc1dd-77c0-4f81-a3b6-d54f72df514a",
   "metadata": {},
   "outputs": [],
   "source": []
  },
  {
   "cell_type": "markdown",
   "id": "512d7a05-8f3e-4e31-b01f-acc5ad7cfabf",
   "metadata": {},
   "source": [
    "# Bulk extraction\n",
    "## old data"
   ]
  },
  {
   "cell_type": "code",
   "execution_count": 2,
   "id": "bf4c8e6b",
   "metadata": {},
   "outputs": [],
   "source": [
    "#data_path = Path('/home/ikharitonov/RANCZLAB-NAS/data/ONIX/20240730_Mismatch_Experiment/MMclosed&Regular_120824/2024-08-12T16-51-16_B3M3')\n",
    "#photometry_path = Path('/home/ikharitonov/RANCZLAB-NAS/data/ONIX/20240730_Mismatch_Experiment/MMclosed&Regular_120824/photometry/B3M3_MMclosed&Regular_day1/2024_08_12-18_57_17')\n"
   ]
  },
  {
   "cell_type": "code",
   "execution_count": 1,
   "id": "66cd5a70-c238-4204-af1d-0bf7dde6ea8a",
   "metadata": {},
   "outputs": [],
   "source": [
    "import numpy as np\n",
    "from pathlib import Path\n",
    "import os\n",
    "import matplotlib.pyplot as plt\n",
    "import pandas as pd\n",
    "import harp\n",
    "\n",
    "from harp_resources import process, utils\n",
    "from sleap import load_and_process as lp"
   ]
  },
  {
   "cell_type": "code",
   "execution_count": 2,
   "id": "fa1035d1-27e7-4536-b72f-2950da7ff207",
   "metadata": {},
   "outputs": [],
   "source": [
    "rootdir = '/Volumes/RanczLab/20240730_Mismatch_Experiment/G8_MMclosed-and-open_070824' #Enter root path\n",
    "#rootdir = '/Volumes/RanczLab/20240730_Mismatch_Experiment/GRAB_MMclosed-and-Regular_220824'\n",
    "data_paths = []\n",
    "photometry_paths= []\n",
    "for dirpath, subdirs, files in os.walk(rootdir):\n",
    "    if 'ExperimentEvents' in dirpath:\n",
    "        data_paths.append(dirpath[:-17])\n",
    "    for x in files:\n",
    "        if 'Processed_fluorescence.csv' in x:\n",
    "            photometry_paths.append(dirpath)\n",
    "\n",
    "\n",
    "\n"
   ]
  },
  {
   "cell_type": "code",
   "execution_count": 3,
   "id": "489e48a5-02d6-409f-9948-d83c29c1d89d",
   "metadata": {},
   "outputs": [
    {
     "data": {
      "text/plain": [
       "['/Volumes/RanczLab/20240730_Mismatch_Experiment/G8_MMclosed-and-open_070824/2024-08-07T09-46-19_B2M5/photometry',\n",
       " '/Volumes/RanczLab/20240730_Mismatch_Experiment/G8_MMclosed-and-open_070824/2024-08-07T09-46-19_B2M5/photometry',\n",
       " '/Volumes/RanczLab/20240730_Mismatch_Experiment/G8_MMclosed-and-open_070824/2024-08-07T10-40-45_B2M4/photometry',\n",
       " '/Volumes/RanczLab/20240730_Mismatch_Experiment/G8_MMclosed-and-open_070824/2024-08-07T11-45-03_B3M3/photometry',\n",
       " '/Volumes/RanczLab/20240730_Mismatch_Experiment/G8_MMclosed-and-open_070824/2024-08-07T13-40-07_B3M1/photometry',\n",
       " '/Volumes/RanczLab/20240730_Mismatch_Experiment/G8_MMclosed-and-open_070824/2024-08-07T14-22-22_B3M2/photometry']"
      ]
     },
     "execution_count": 3,
     "metadata": {},
     "output_type": "execute_result"
    }
   ],
   "source": [
    "photometry_paths"
   ]
  },
  {
   "cell_type": "code",
   "execution_count": 4,
   "id": "fb7d1c01-b70a-470b-a321-7ce63a44f0d9",
   "metadata": {},
   "outputs": [
    {
     "data": {
      "text/plain": [
       "['/Volumes/RanczLab/20240730_Mismatch_Experiment/G8_MMclosed-and-open_070824/2024-08-07T09-46-19_B2M5',\n",
       " '/Volumes/RanczLab/20240730_Mismatch_Experiment/G8_MMclosed-and-open_070824/2024-08-07T10-40-45_B2M4',\n",
       " '/Volumes/RanczLab/20240730_Mismatch_Experiment/G8_MMclosed-and-open_070824/2024-08-07T11-45-03_B3M3',\n",
       " '/Volumes/RanczLab/20240730_Mismatch_Experiment/G8_MMclosed-and-open_070824/2024-08-07T13-40-07_B3M1',\n",
       " '/Volumes/RanczLab/20240730_Mismatch_Experiment/G8_MMclosed-and-open_070824/2024-08-07T14-22-22_B3M2']"
      ]
     },
     "execution_count": 4,
     "metadata": {},
     "output_type": "execute_result"
    }
   ],
   "source": [
    "data_paths"
   ]
  },
  {
   "cell_type": "code",
   "execution_count": 5,
   "id": "9c7abc82-a672-43f7-b855-882dff09d9e4",
   "metadata": {},
   "outputs": [],
   "source": [
    "def run_extraction_makeh5(data_path, photometry_path, make_h5 = False, eyes = False):\n",
    "    print(f'\\n Running extraction for {data_path.split('/')[-1][20:]} for session {data_path.split('/')[-2]}')\n",
    "    #data_path = Path(data_path)\n",
    "    #photometry_path = Path(photometry_path)\n",
    "    SessionSettings = utils.read_SessionSettings(Path(data_path), print_contents=True)\n",
    "    conversions = process.calculate_conversions_second_approach(Path(data_path), Path(photometry_path), verbose=False)\n",
    "    streams = utils.load_registers(Path(data_path))\n",
    "\n",
    "    Photometry = utils.read_fluorescence(Path(photometry_path))\n",
    "    Photometry['HARP Timestamps'] = conversions['photometry_to_harp_time'](Photometry['TimeStamp'])\n",
    "    \n",
    "    OnixAnalogClock = utils.read_OnixAnalogClock(Path(data_path))\n",
    "    OnixAnalogData = utils.read_OnixAnalogData(Path(data_path), binarise=True)\n",
    "    ExperimentEvents = utils.read_ExperimentEvents(Path(data_path)) \n",
    "    \n",
    "    photodiode_series = pd.Series(OnixAnalogData[:,0], index=conversions['onix_to_harp_timestamp'](OnixAnalogClock))\n",
    "\n",
    "    print('Adding Photometry, Eye Movements and Photodiode to the streams')\n",
    "    streams = process.reformat_and_add_many_streams(streams, Photometry, 'Photometry', ['CH1-410', 'CH1-470', 'CH1-560'], index_column_name='HARP Timestamps')\n",
    "    streams = process.add_stream(streams, 'ONIX', photodiode_series, 'Photodiode')\n",
    "    \n",
    "    \n",
    "    _ = process.get_timepoint_info(streams, print_all=True)\n",
    "    resampled_streams = process.pad_and_resample(streams, resampling_period='1 ms', method='linear')\n",
    "    _ = process.get_timepoint_info(resampled_streams, print_all=True)\n",
    "\n",
    "    print('Applying linear and angular conversion to Optical tracking sensor streams (cm / sec and degrees / sec)')\n",
    "    resampled_streams['H1']['OpticalTrackingRead0X(46)'] = process.running_unit_conversion(resampled_streams['H1']['OpticalTrackingRead0X(46)']*100)\n",
    "    resampled_streams['H1']['OpticalTrackingRead0Y(46)'] = process.rotation_unit_conversion(resampled_streams['H1']['OpticalTrackingRead0Y(46)'])\n",
    "        \n",
    "    print('Streams are extracted and can be used or made to h5')\n",
    "    if make_h5:\n",
    "        process.save_streams_as_h5(Path(data_path), resampled_streams, streams_to_save_pattern, SessionSetting)"
   ]
  },
  {
   "cell_type": "code",
   "execution_count": 6,
   "id": "832d161d-b85c-48f2-8746-9b70df1b9c69",
   "metadata": {},
   "outputs": [
    {
     "name": "stdout",
     "output_type": "stream",
     "text": [
      "\n",
      " Running extraction for B2M4 for session G8_MMclosed-and-open_070824\n",
      "{\n",
      "    \"seconds\": 685478.300256,\n",
      "    \"value\": {\n",
      "        \"motorSettings\": {\n",
      "            \"nominalPulseInterval\": 200,\n",
      "            \"initialPulseInterval\": 200,\n",
      "            \"pulseStepInterval\": 2,\n",
      "            \"pulsePeriod\": 10\n",
      "        },\n",
      "        \"blocks\": [\n",
      "            {\n",
      "                \"alias\": \"LinearMismatch\",\n",
      "                \"playbackFilePath\": \"\",\n",
      "                \"blockGainModifier\": 1.0,\n",
      "                \"flowXToVisualGain\": 0.0008,\n",
      "                \"flowYToVisualGain\": 0.0,\n",
      "                \"rotaryToVisualGain\": 0.0,\n",
      "                \"playbackToVisualGain\": 0.0,\n",
      "                \"stimulus\": {\n",
      "                    \"type\": 0,\n",
      "                    \"spatialFrequency\": 28.8,\n",
      "                    \"offset1\": -90.0,\n",
      "                    \"extent1\": 180.0,\n",
      "                    \"offset2\": 90.0,\n",
      "                    \"extent2\": 180.0,\n",
      "                    \"path\": \"\"\n",
      "                },\n",
      "                \"flowXToMotorGain\": 0.0,\n",
      "                \"flowYToMotorGain\": 0.0,\n",
      "                \"playbackToMotorGain\": 0.0,\n",
      "                \"totalRuntime\": 900.0,\n",
      "                \"haltProtocol\": {\n",
      "                    \"randomDelay\": 0.5,\n",
      "                    \"minumumDelay\": 0.1,\n",
      "                    \"haltTime\": 1.0,\n",
      "                    \"haltGain\": 1.0\n",
      "                },\n",
      "                \"flowXToRunGain\": 0.0008,\n",
      "                \"flowYToRunGain\": 0.0,\n",
      "                \"playbackToRunGain\": 0.0,\n",
      "                \"decayTimestep\": 0.0,\n",
      "                \"runThresholdDecay\": 0.0,\n",
      "                \"runThreshold\": 110.0,\n",
      "                \"haltProbability\": 0.4\n",
      "            },\n",
      "            {\n",
      "                \"alias\": \"LinearPlaybackMismatch\",\n",
      "                \"playbackFilePath\": \"Z:/data/ONIX/20240730_Mismatch_Experiment/playback_file_B2M4_5.csv\",\n",
      "                \"blockGainModifier\": 1.0,\n",
      "                \"flowXToVisualGain\": 0.0,\n",
      "                \"flowYToVisualGain\": 0.0,\n",
      "                \"rotaryToVisualGain\": 0.0,\n",
      "                \"playbackToVisualGain\": 0.0008,\n",
      "                \"stimulus\": {\n",
      "                    \"type\": 0,\n",
      "                    \"spatialFrequency\": 28.8,\n",
      "                    \"offset1\": -90.0,\n",
      "                    \"extent1\": 180.0,\n",
      "                    \"offset2\": 90.0,\n",
      "                    \"extent2\": 180.0,\n",
      "                    \"path\": \"\"\n",
      "                },\n",
      "                \"flowXToMotorGain\": 0.0,\n",
      "                \"flowYToMotorGain\": 0.0,\n",
      "                \"playbackToMotorGain\": 0.0,\n",
      "                \"totalRuntime\": 900.0,\n",
      "                \"haltProtocol\": {\n",
      "                    \"randomDelay\": 0.5,\n",
      "                    \"minumumDelay\": 0.1,\n",
      "                    \"haltTime\": 1.0,\n",
      "                    \"haltGain\": 1.0\n",
      "                },\n",
      "                \"flowXToRunGain\": 0.0,\n",
      "                \"flowYToRunGain\": 0.0,\n",
      "                \"playbackToRunGain\": 0.0008,\n",
      "                \"decayTimestep\": 0.0,\n",
      "                \"runThresholdDecay\": 0.0,\n",
      "                \"runThreshold\": 110.0,\n",
      "                \"haltProbability\": 0.4\n",
      "            }\n",
      "        ],\n",
      "        \"metadata\": {\n",
      "            \"runGain\": 1.0,\n",
      "            \"rootPath\": \"D:/TrialLogicTestData/\",\n",
      "            \"animalId\": \"B2M4\"\n",
      "        }\n",
      "    }\n",
      "}\n",
      "OnixAnalogClock loaded in 6.14 seconds.\n"
     ]
    },
    {
     "name": "stderr",
     "output_type": "stream",
     "text": [
      "/Users/hildeteigen/Documents/GitHub/vestibular_vr_pipeline/harp_resources/utils.py:151: UserWarning: Could not infer format, so each element will be parsed individually, falling back to `dateutil`. To ensure parsing is consistent and as-expected, please specify a format.\n",
      "  sorted_filenames = pd.to_datetime(pd.Series([x.split('_')[1].split('.')[0] for x in filenames])).sort_values()\n"
     ]
    },
    {
     "name": "stdout",
     "output_type": "stream",
     "text": [
      "\n",
      "WARNING: \"Unlucky\" dataset with delayed subscription to OnixAnalogClock in Bonsai. As a consequence, the starting part of photodiode data is not counted. See https://github.com/neurogears/vestibular-vr/issues/81 for more information.\n",
      "Shape of OnixAnalogClock == [250166000] shape of OnixAnalogFrameCount == [250168300].\n",
      "Cutting 2300 values from the beginning of OnixAnalogFrameCount. Data considered to be MISSING.\n",
      "\n"
     ]
    },
    {
     "name": "stderr",
     "output_type": "stream",
     "text": [
      "/Users/hildeteigen/Documents/GitHub/vestibular_vr_pipeline/harp_resources/utils.py:142: UserWarning: Could not infer format, so each element will be parsed individually, falling back to `dateutil`. To ensure parsing is consistent and as-expected, please specify a format.\n",
      "  sorted_filenames = pd.to_datetime(pd.Series([x.split('_')[1].split('.')[0] for x in filenames])).sort_values()\n"
     ]
    },
    {
     "name": "stdout",
     "output_type": "stream",
     "text": [
      "WARNING: \"Unlucky\" dataset with unmatching lengths of OnixDigital and Events.csv (photometry software events) logs. See https://github.com/ikharitonov/vestibular_vr_pipeline/issues/12 for more information.\n",
      "OnixDigital has 818 events and Events.csv has 650 events. Cutting to the minimum 650 events from the beggining, aligning by the end.\n",
      "\n",
      "Calculation of conversions finished in 92.65 seconds.\n",
      "Dataset 2024-08-07T10-40-45_B2M4 contains following registers:\n",
      "H1: [32, 33, 46]\n",
      "H2: [38, 39, 42]\n"
     ]
    },
    {
     "ename": "OverflowError",
     "evalue": "Python integer 1654991 out of bounds for uint8",
     "output_type": "error",
     "traceback": [
      "\u001b[0;31m---------------------------------------------------------------------------\u001b[0m",
      "\u001b[0;31mOverflowError\u001b[0m                             Traceback (most recent call last)",
      "Cell \u001b[0;32mIn[6], line 1\u001b[0m\n\u001b[0;32m----> 1\u001b[0m data_path, resampled_streams, streams_to_save_pattern \u001b[38;5;241m=\u001b[39mrun_extraction_makeh5(data_paths[\u001b[38;5;241m1\u001b[39m], photometry_paths[\u001b[38;5;241m1\u001b[39m])\n",
      "Cell \u001b[0;32mIn[5], line 7\u001b[0m, in \u001b[0;36mrun_extraction_makeh5\u001b[0;34m(data_path, photometry_path, make_h5)\u001b[0m\n\u001b[1;32m      5\u001b[0m SessionSettings \u001b[38;5;241m=\u001b[39m utils\u001b[38;5;241m.\u001b[39mread_SessionSettings(Path(data_path), print_contents\u001b[38;5;241m=\u001b[39m\u001b[38;5;28;01mTrue\u001b[39;00m)\n\u001b[1;32m      6\u001b[0m conversions \u001b[38;5;241m=\u001b[39m process\u001b[38;5;241m.\u001b[39mcalculate_conversions_second_approach(Path(data_path), Path(photometry_path), verbose\u001b[38;5;241m=\u001b[39m\u001b[38;5;28;01mFalse\u001b[39;00m)\n\u001b[0;32m----> 7\u001b[0m streams \u001b[38;5;241m=\u001b[39m utils\u001b[38;5;241m.\u001b[39mload_registers(Path(data_path))\n\u001b[1;32m      9\u001b[0m Photometry \u001b[38;5;241m=\u001b[39m utils\u001b[38;5;241m.\u001b[39mread_fluorescence(Path(photometry_path))\n\u001b[1;32m     10\u001b[0m Photometry[\u001b[38;5;124m'\u001b[39m\u001b[38;5;124mHARP Timestamps\u001b[39m\u001b[38;5;124m'\u001b[39m] \u001b[38;5;241m=\u001b[39m conversions[\u001b[38;5;124m'\u001b[39m\u001b[38;5;124mphotometry_to_harp_time\u001b[39m\u001b[38;5;124m'\u001b[39m](Photometry[\u001b[38;5;124m'\u001b[39m\u001b[38;5;124mTimeStamp\u001b[39m\u001b[38;5;124m'\u001b[39m])\n",
      "File \u001b[0;32m~/Documents/GitHub/vestibular_vr_pipeline/harp_resources/utils.py:276\u001b[0m, in \u001b[0;36mload_registers\u001b[0;34m(dataset_path)\u001b[0m\n\u001b[1;32m    274\u001b[0m h1_data_streams \u001b[38;5;241m=\u001b[39m {}\n\u001b[1;32m    275\u001b[0m \u001b[38;5;28;01mfor\u001b[39;00m register \u001b[38;5;129;01min\u001b[39;00m h1_dict\u001b[38;5;241m.\u001b[39mkeys():\n\u001b[0;32m--> 276\u001b[0m     data_stream \u001b[38;5;241m=\u001b[39m load(get_register_object(register, \u001b[38;5;124m'\u001b[39m\u001b[38;5;124mh1\u001b[39m\u001b[38;5;124m'\u001b[39m), dataset_path\u001b[38;5;241m/\u001b[39m\u001b[38;5;124m'\u001b[39m\u001b[38;5;124mHarpDataH1\u001b[39m\u001b[38;5;124m'\u001b[39m)\n\u001b[1;32m    277\u001b[0m     \u001b[38;5;28;01mif\u001b[39;00m data_stream\u001b[38;5;241m.\u001b[39mcolumns\u001b[38;5;241m.\u001b[39mshape[\u001b[38;5;241m0\u001b[39m] \u001b[38;5;241m>\u001b[39m \u001b[38;5;241m1\u001b[39m:\n\u001b[1;32m    278\u001b[0m         \u001b[38;5;28;01mfor\u001b[39;00m col_name \u001b[38;5;129;01min\u001b[39;00m data_stream\u001b[38;5;241m.\u001b[39mcolumns:\n",
      "File \u001b[0;32m~/Documents/GitHub/vestibular_vr_pipeline/harp_resources/utils.py:83\u001b[0m, in \u001b[0;36mload\u001b[0;34m(reader, root)\u001b[0m\n\u001b[1;32m     81\u001b[0m root \u001b[38;5;241m=\u001b[39m Path(root)\n\u001b[1;32m     82\u001b[0m pattern \u001b[38;5;241m=\u001b[39m \u001b[38;5;124mf\u001b[39m\u001b[38;5;124m\"\u001b[39m\u001b[38;5;132;01m{\u001b[39;00mroot\u001b[38;5;241m.\u001b[39mjoinpath(root\u001b[38;5;241m.\u001b[39mname)\u001b[38;5;132;01m}\u001b[39;00m\u001b[38;5;124m_\u001b[39m\u001b[38;5;132;01m{\u001b[39;00mreader\u001b[38;5;241m.\u001b[39mregister\u001b[38;5;241m.\u001b[39maddress\u001b[38;5;132;01m}\u001b[39;00m\u001b[38;5;124m_*.bin\u001b[39m\u001b[38;5;124m\"\u001b[39m\n\u001b[0;32m---> 83\u001b[0m data \u001b[38;5;241m=\u001b[39m [reader\u001b[38;5;241m.\u001b[39mread(file) \u001b[38;5;28;01mfor\u001b[39;00m file \u001b[38;5;129;01min\u001b[39;00m glob(pattern)]\n\u001b[1;32m     84\u001b[0m \u001b[38;5;28;01mreturn\u001b[39;00m pd\u001b[38;5;241m.\u001b[39mconcat(data)\n",
      "File \u001b[0;32m~/opt/anaconda3/envs/aeon/lib/python3.12/site-packages/harp/reader.py:162\u001b[0m, in \u001b[0;36m_create_register_reader.<locals>.reader\u001b[0;34m(file, columns, epoch, keep_type)\u001b[0m\n\u001b[1;32m    159\u001b[0m \u001b[38;5;28;01mif\u001b[39;00m file \u001b[38;5;129;01mis\u001b[39;00m \u001b[38;5;28;01mNone\u001b[39;00m:\n\u001b[1;32m    160\u001b[0m     file \u001b[38;5;241m=\u001b[39m \u001b[38;5;124mf\u001b[39m\u001b[38;5;124m\"\u001b[39m\u001b[38;5;132;01m{\u001b[39;00mparams\u001b[38;5;241m.\u001b[39mpath\u001b[38;5;132;01m}\u001b[39;00m\u001b[38;5;124m_\u001b[39m\u001b[38;5;132;01m{\u001b[39;00mregister\u001b[38;5;241m.\u001b[39maddress\u001b[38;5;132;01m}\u001b[39;00m\u001b[38;5;124m.bin\u001b[39m\u001b[38;5;124m\"\u001b[39m\n\u001b[0;32m--> 162\u001b[0m data \u001b[38;5;241m=\u001b[39m read(\n\u001b[1;32m    163\u001b[0m     file,\n\u001b[1;32m    164\u001b[0m     address\u001b[38;5;241m=\u001b[39mregister\u001b[38;5;241m.\u001b[39maddress,\n\u001b[1;32m    165\u001b[0m     dtype\u001b[38;5;241m=\u001b[39mdtype(register\u001b[38;5;241m.\u001b[39mtype),\n\u001b[1;32m    166\u001b[0m     length\u001b[38;5;241m=\u001b[39mregister\u001b[38;5;241m.\u001b[39mlength,\n\u001b[1;32m    167\u001b[0m     columns\u001b[38;5;241m=\u001b[39mcolumns,\n\u001b[1;32m    168\u001b[0m     epoch\u001b[38;5;241m=\u001b[39mepoch,\n\u001b[1;32m    169\u001b[0m     keep_type\u001b[38;5;241m=\u001b[39mkeep_type,\n\u001b[1;32m    170\u001b[0m )\n\u001b[1;32m    171\u001b[0m \u001b[38;5;28;01mreturn\u001b[39;00m data\n",
      "File \u001b[0;32m~/opt/anaconda3/envs/aeon/lib/python3.12/site-packages/harp/io.py:85\u001b[0m, in \u001b[0;36mread\u001b[0;34m(file, address, dtype, length, columns, epoch, keep_type)\u001b[0m\n\u001b[1;32m     83\u001b[0m index \u001b[38;5;241m=\u001b[39m \u001b[38;5;28;01mNone\u001b[39;00m\n\u001b[1;32m     84\u001b[0m stride \u001b[38;5;241m=\u001b[39m data[\u001b[38;5;241m1\u001b[39m] \u001b[38;5;241m+\u001b[39m \u001b[38;5;241m2\u001b[39m\n\u001b[0;32m---> 85\u001b[0m nrows \u001b[38;5;241m=\u001b[39m \u001b[38;5;28mlen\u001b[39m(data) \u001b[38;5;241m/\u001b[39m\u001b[38;5;241m/\u001b[39m stride\n\u001b[1;32m     86\u001b[0m payloadtype \u001b[38;5;241m=\u001b[39m data[\u001b[38;5;241m4\u001b[39m]\n\u001b[1;32m     87\u001b[0m payloadoffset \u001b[38;5;241m=\u001b[39m \u001b[38;5;241m5\u001b[39m\n",
      "\u001b[0;31mOverflowError\u001b[0m: Python integer 1654991 out of bounds for uint8"
     ]
    }
   ],
   "source": [
    "data_path, resampled_streams, streams_to_save_pattern =run_extraction_makeh5(data_paths[1], photometry_paths[1]) \n"
   ]
  },
  {
   "cell_type": "markdown",
   "id": "dafa5518",
   "metadata": {},
   "source": [
    "## Loading and Synchronisation "
   ]
  },
  {
   "cell_type": "code",
   "execution_count": 17,
   "id": "7083b9a2-423a-45f6-9b67-35d62572931b",
   "metadata": {},
   "outputs": [
    {
     "data": {
      "text/plain": [
       "'/Volumes/RanczLab/20240730_Mismatch_Experiment/G8_MMclosed-and-open_070824/2024-08-07T11-45-03_B3M3/photometry'"
      ]
     },
     "execution_count": 17,
     "metadata": {},
     "output_type": "execute_result"
    }
   ],
   "source": [
    "photometry_path = Path(photometry_paths[3])\n",
    "data_path = Path(data_paths[3])\n",
    "photometry_paths[3]"
   ]
  },
  {
   "cell_type": "code",
   "execution_count": 10,
   "id": "412b506b-1180-498a-9cc5-6b00245b368a",
   "metadata": {},
   "outputs": [],
   "source": [
    "photometry_path = Path('/Volumes/RanczLab/Photometry_recordings/August_Mismatch_Experiment_G8m/B3M3_MMclosed_and_Regular_day2')\n",
    "data_path = Path('/Volumes/RanczLab/20240730_Mismatch_Experiment/G8_MMclosed-and-regular_130824/2024-08-13T12-53-01_B3M3')"
   ]
  },
  {
   "cell_type": "code",
   "execution_count": 32,
   "id": "fb2e8d32-a745-484d-870e-7e984b66c13e",
   "metadata": {},
   "outputs": [],
   "source": [
    "photometry_path = Path('/Volumes/RanczLab/Photometry_recordings/August_Mismatch_Experiment_G8m/MM_closed-and-open_day2/B2M4/photometry')\n",
    "data_path = Path('/Volumes/RanczLab/20240730_Mismatch_Experiment/G8_MMclosed-and-open_080824/2024-08-08T09-20-54_B2M4')\n",
    "#works"
   ]
  },
  {
   "cell_type": "code",
   "execution_count": 33,
   "id": "6cebb421",
   "metadata": {},
   "outputs": [
    {
     "name": "stdout",
     "output_type": "stream",
     "text": [
      "OnixAnalogClock loaded in 3.86 seconds.\n"
     ]
    },
    {
     "name": "stderr",
     "output_type": "stream",
     "text": [
      "/Users/hildeteigen/Documents/GitHub/vestibular_vr_pipeline/harp_resources/utils.py:153: UserWarning: Could not infer format, so each element will be parsed individually, falling back to `dateutil`. To ensure parsing is consistent and as-expected, please specify a format.\n",
      "  sorted_filenames = pd.to_datetime(pd.Series([x.split('_')[1].split('.')[0] for x in filenames])).sort_values()\n"
     ]
    },
    {
     "name": "stdout",
     "output_type": "stream",
     "text": [
      "\n",
      "WARNING: \"Unlucky\" dataset with delayed subscription to OnixAnalogClock in Bonsai. As a consequence, the starting part of photodiode data is not counted. See https://github.com/neurogears/vestibular-vr/issues/81 for more information.\n",
      "Shape of OnixAnalogClock == [156933700] shape of OnixAnalogFrameCount == [156935900].\n",
      "Cutting 2200 values from the beginning of OnixAnalogFrameCount. Data considered to be MISSING.\n",
      "\n"
     ]
    },
    {
     "name": "stderr",
     "output_type": "stream",
     "text": [
      "/Users/hildeteigen/Documents/GitHub/vestibular_vr_pipeline/harp_resources/utils.py:144: UserWarning: Could not infer format, so each element will be parsed individually, falling back to `dateutil`. To ensure parsing is consistent and as-expected, please specify a format.\n",
      "  sorted_filenames = pd.to_datetime(pd.Series([x.split('_')[1].split('.')[0] for x in filenames])).sort_values()\n"
     ]
    },
    {
     "ename": "KeyError",
     "evalue": "'TimeStamp'",
     "output_type": "error",
     "traceback": [
      "\u001b[0;31m---------------------------------------------------------------------------\u001b[0m",
      "\u001b[0;31mKeyError\u001b[0m                                  Traceback (most recent call last)",
      "File \u001b[0;32m~/opt/anaconda3/envs/aeon/lib/python3.12/site-packages/pandas/core/indexes/base.py:3805\u001b[0m, in \u001b[0;36mIndex.get_loc\u001b[0;34m(self, key)\u001b[0m\n\u001b[1;32m   3804\u001b[0m \u001b[38;5;28;01mtry\u001b[39;00m:\n\u001b[0;32m-> 3805\u001b[0m     \u001b[38;5;28;01mreturn\u001b[39;00m \u001b[38;5;28mself\u001b[39m\u001b[38;5;241m.\u001b[39m_engine\u001b[38;5;241m.\u001b[39mget_loc(casted_key)\n\u001b[1;32m   3806\u001b[0m \u001b[38;5;28;01mexcept\u001b[39;00m \u001b[38;5;167;01mKeyError\u001b[39;00m \u001b[38;5;28;01mas\u001b[39;00m err:\n",
      "File \u001b[0;32mindex.pyx:167\u001b[0m, in \u001b[0;36mpandas._libs.index.IndexEngine.get_loc\u001b[0;34m()\u001b[0m\n",
      "File \u001b[0;32mindex.pyx:196\u001b[0m, in \u001b[0;36mpandas._libs.index.IndexEngine.get_loc\u001b[0;34m()\u001b[0m\n",
      "File \u001b[0;32mpandas/_libs/hashtable_class_helper.pxi:7081\u001b[0m, in \u001b[0;36mpandas._libs.hashtable.PyObjectHashTable.get_item\u001b[0;34m()\u001b[0m\n",
      "File \u001b[0;32mpandas/_libs/hashtable_class_helper.pxi:7089\u001b[0m, in \u001b[0;36mpandas._libs.hashtable.PyObjectHashTable.get_item\u001b[0;34m()\u001b[0m\n",
      "\u001b[0;31mKeyError\u001b[0m: 'TimeStamp'",
      "\nThe above exception was the direct cause of the following exception:\n",
      "\u001b[0;31mKeyError\u001b[0m                                  Traceback (most recent call last)",
      "Cell \u001b[0;32mIn[33], line 1\u001b[0m\n\u001b[0;32m----> 1\u001b[0m conversions \u001b[38;5;241m=\u001b[39m process\u001b[38;5;241m.\u001b[39mcalculate_conversions_second_approach(data_path, photometry_path, verbose\u001b[38;5;241m=\u001b[39m\u001b[38;5;28;01mFalse\u001b[39;00m)\n",
      "File \u001b[0;32m~/Documents/GitHub/vestibular_vr_pipeline/harp_resources/process.py:300\u001b[0m, in \u001b[0;36mcalculate_conversions_second_approach\u001b[0;34m(data_path, photometry_path, verbose)\u001b[0m\n\u001b[1;32m    297\u001b[0m PhotometryEvents \u001b[38;5;241m=\u001b[39m utils\u001b[38;5;241m.\u001b[39mread_fluorescence_events(photometry_path)\n\u001b[1;32m    299\u001b[0m onix_digital_array \u001b[38;5;241m=\u001b[39m OnixDigital[\u001b[38;5;124m\"\u001b[39m\u001b[38;5;124mValue.Clock\u001b[39m\u001b[38;5;124m\"\u001b[39m]\u001b[38;5;241m.\u001b[39mvalues\n\u001b[0;32m--> 300\u001b[0m photometry_events_array \u001b[38;5;241m=\u001b[39m PhotometryEvents[\u001b[38;5;124m'\u001b[39m\u001b[38;5;124mTimeStamp\u001b[39m\u001b[38;5;124m'\u001b[39m]\u001b[38;5;241m.\u001b[39mvalues\n\u001b[1;32m    302\u001b[0m \u001b[38;5;66;03m# Handling the mismatching lengths error\u001b[39;00m\n\u001b[1;32m    303\u001b[0m \u001b[38;5;28;01mif\u001b[39;00m photometry_events_array\u001b[38;5;241m.\u001b[39mshape[\u001b[38;5;241m0\u001b[39m] \u001b[38;5;241m!=\u001b[39m onix_digital_array\u001b[38;5;241m.\u001b[39mshape[\u001b[38;5;241m0\u001b[39m]:\n",
      "File \u001b[0;32m~/opt/anaconda3/envs/aeon/lib/python3.12/site-packages/pandas/core/frame.py:4102\u001b[0m, in \u001b[0;36mDataFrame.__getitem__\u001b[0;34m(self, key)\u001b[0m\n\u001b[1;32m   4100\u001b[0m \u001b[38;5;28;01mif\u001b[39;00m \u001b[38;5;28mself\u001b[39m\u001b[38;5;241m.\u001b[39mcolumns\u001b[38;5;241m.\u001b[39mnlevels \u001b[38;5;241m>\u001b[39m \u001b[38;5;241m1\u001b[39m:\n\u001b[1;32m   4101\u001b[0m     \u001b[38;5;28;01mreturn\u001b[39;00m \u001b[38;5;28mself\u001b[39m\u001b[38;5;241m.\u001b[39m_getitem_multilevel(key)\n\u001b[0;32m-> 4102\u001b[0m indexer \u001b[38;5;241m=\u001b[39m \u001b[38;5;28mself\u001b[39m\u001b[38;5;241m.\u001b[39mcolumns\u001b[38;5;241m.\u001b[39mget_loc(key)\n\u001b[1;32m   4103\u001b[0m \u001b[38;5;28;01mif\u001b[39;00m is_integer(indexer):\n\u001b[1;32m   4104\u001b[0m     indexer \u001b[38;5;241m=\u001b[39m [indexer]\n",
      "File \u001b[0;32m~/opt/anaconda3/envs/aeon/lib/python3.12/site-packages/pandas/core/indexes/base.py:3812\u001b[0m, in \u001b[0;36mIndex.get_loc\u001b[0;34m(self, key)\u001b[0m\n\u001b[1;32m   3807\u001b[0m     \u001b[38;5;28;01mif\u001b[39;00m \u001b[38;5;28misinstance\u001b[39m(casted_key, \u001b[38;5;28mslice\u001b[39m) \u001b[38;5;129;01mor\u001b[39;00m (\n\u001b[1;32m   3808\u001b[0m         \u001b[38;5;28misinstance\u001b[39m(casted_key, abc\u001b[38;5;241m.\u001b[39mIterable)\n\u001b[1;32m   3809\u001b[0m         \u001b[38;5;129;01mand\u001b[39;00m \u001b[38;5;28many\u001b[39m(\u001b[38;5;28misinstance\u001b[39m(x, \u001b[38;5;28mslice\u001b[39m) \u001b[38;5;28;01mfor\u001b[39;00m x \u001b[38;5;129;01min\u001b[39;00m casted_key)\n\u001b[1;32m   3810\u001b[0m     ):\n\u001b[1;32m   3811\u001b[0m         \u001b[38;5;28;01mraise\u001b[39;00m InvalidIndexError(key)\n\u001b[0;32m-> 3812\u001b[0m     \u001b[38;5;28;01mraise\u001b[39;00m \u001b[38;5;167;01mKeyError\u001b[39;00m(key) \u001b[38;5;28;01mfrom\u001b[39;00m \u001b[38;5;21;01merr\u001b[39;00m\n\u001b[1;32m   3813\u001b[0m \u001b[38;5;28;01mexcept\u001b[39;00m \u001b[38;5;167;01mTypeError\u001b[39;00m:\n\u001b[1;32m   3814\u001b[0m     \u001b[38;5;66;03m# If we have a listlike key, _check_indexing_error will raise\u001b[39;00m\n\u001b[1;32m   3815\u001b[0m     \u001b[38;5;66;03m#  InvalidIndexError. Otherwise we fall through and re-raise\u001b[39;00m\n\u001b[1;32m   3816\u001b[0m     \u001b[38;5;66;03m#  the TypeError.\u001b[39;00m\n\u001b[1;32m   3817\u001b[0m     \u001b[38;5;28mself\u001b[39m\u001b[38;5;241m.\u001b[39m_check_indexing_error(key)\n",
      "\u001b[0;31mKeyError\u001b[0m: 'TimeStamp'"
     ]
    }
   ],
   "source": [
    "conversions = process.calculate_conversions_second_approach(data_path, photometry_path, verbose=False)\n",
    "# After hardware ONIX clock implementation - this will have to be adapted\n",
    "# Only photometry will need to be converted"
   ]
  },
  {
   "cell_type": "code",
   "execution_count": null,
   "id": "ae30fa30",
   "metadata": {},
   "outputs": [],
   "source": [
    "streams = utils.load_registers(data_path)\n",
    "\n",
    "Photometry = utils.read_fluorescence(photometry_path)\n",
    "Photometry['HARP Timestamps'] = conversions['photometry_to_harp_time'](Photometry['TimeStamp'])\n",
    "\n",
    "OnixAnalogClock = utils.read_OnixAnalogClock(data_path)\n",
    "OnixAnalogData = utils.read_OnixAnalogData(data_path, binarise=True)\n",
    "ExperimentEvents = utils.read_ExperimentEvents(data_path) \n",
    "\n",
    "\n",
    "\n",
    "photodiode_series = pd.Series(OnixAnalogData[:,0], index=conversions['onix_to_harp_timestamp'](OnixAnalogClock))"
   ]
  },
  {
   "cell_type": "code",
   "execution_count": null,
   "id": "6c7f27e4",
   "metadata": {},
   "outputs": [],
   "source": [
    "# Adding Photometry, Eye Movements and Photodiode to the streams\n",
    "streams = process.reformat_and_add_many_streams(streams, Photometry, 'Photometry', ['CH1-410', 'CH1-470', 'CH1-560'], index_column_name='HARP Timestamps')\n",
    "streams = process.add_stream(streams, 'ONIX', photodiode_series, 'Photodiode')"
   ]
  },
  {
   "cell_type": "code",
   "execution_count": null,
   "id": "be147909",
   "metadata": {
    "scrolled": true
   },
   "outputs": [],
   "source": [
    "_ = process.get_timepoint_info(streams, print_all=True)\n",
    "resampled_streams = process.pad_and_resample(streams, resampling_period='1 ms', method='linear')\n",
    "_ = process.get_timepoint_info(resampled_streams, print_all=True)"
   ]
  },
  {
   "cell_type": "code",
   "execution_count": null,
   "id": "958b3c55",
   "metadata": {},
   "outputs": [],
   "source": [
    "# Applying linear and angular conversion to Optical tracking sensor streams\n",
    "# OpticalTrackingRead0X(46) converted to centimeters per second\n",
    "# OpticalTrackingRead0Y(46) covnerted to degrees per second\n",
    "resampled_streams['H1']['OpticalTrackingRead0X(46)'] = process.running_unit_conversion(resampled_streams['H1']['OpticalTrackingRead0X(46)']*100)\n",
    "resampled_streams['H1']['OpticalTrackingRead0Y(46)'] = process.rotation_unit_conversion(resampled_streams['H1']['OpticalTrackingRead0Y(46)'])"
   ]
  },
  {
   "cell_type": "code",
   "execution_count": null,
   "id": "21b9c28b-1b37-4d22-b271-a9278c06d193",
   "metadata": {},
   "outputs": [],
   "source": [
    "print(type(resampled_streams['Photometry']['CH1-470']))\n",
    "resampled_streams['Photometry']['CH1-470']"
   ]
  },
  {
   "cell_type": "code",
   "execution_count": null,
   "id": "26535f9d",
   "metadata": {},
   "outputs": [],
   "source": [
    "streams_to_save_pattern = {'H1': ['OpticalTrackingRead0X(46)', 'OpticalTrackingRead0Y(46)'], 'H2': ['Encoder(38)'], 'Photometry': ['CH1-410', 'CH1-470', 'CH1-560'], 'ONIX': ['Photodiode']}\n",
    "streams_to_save_pattern\n"
   ]
  },
  {
   "cell_type": "code",
   "execution_count": null,
   "id": "76c487f3-6c35-41ff-8958-4361347e49b0",
   "metadata": {},
   "outputs": [],
   "source": []
  }
 ],
 "metadata": {
  "kernelspec": {
   "display_name": "aeon",
   "language": "python",
   "name": "aeon"
  },
  "language_info": {
   "codemirror_mode": {
    "name": "ipython",
    "version": 3
   },
   "file_extension": ".py",
   "mimetype": "text/x-python",
   "name": "python",
   "nbconvert_exporter": "python",
   "pygments_lexer": "ipython3",
   "version": "3.12.2"
  }
 },
 "nbformat": 4,
 "nbformat_minor": 5
}
