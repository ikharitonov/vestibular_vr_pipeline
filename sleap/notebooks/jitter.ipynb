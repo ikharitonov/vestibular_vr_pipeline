{
 "cells": [
  {
   "cell_type": "code",
   "execution_count": null,
   "id": "0",
   "metadata": {},
   "outputs": [],
   "source": [
    "import numpy as np\n",
    "import matplotlib.pyplot as plt\n",
    "import pandas as pd\n",
    "from scipy import signal\n",
    "from scipy.ndimage import median_filter"
   ]
  },
  {
   "cell_type": "code",
   "execution_count": null,
   "id": "1",
   "metadata": {},
   "outputs": [],
   "source": [
    "path = '/home/ikharitonov/Desktop/sleap_training/second_ellipse.003_20204321_343_5.analysis.csv'\n",
    "df = pd.read_csv(path)\n",
    "df"
   ]
  },
  {
   "cell_type": "code",
   "execution_count": null,
   "id": "2",
   "metadata": {},
   "outputs": [],
   "source": [
    "points = ['left', 'right', 'center', 'p1', 'p2', 'p3', 'p4', 'p5', 'p6', 'p7', 'p8']"
   ]
  },
  {
   "cell_type": "code",
   "execution_count": null,
   "id": "3",
   "metadata": {},
   "outputs": [],
   "source": [
    "lll = []\n",
    "for p in points:\n",
    "    lll = lll + df[f'{p}.score'].to_list()\n",
    "    \n",
    "plt.hist(lll, bins=50)\n",
    "plt.xlabel('estimated point scores')\n",
    "plt.show()"
   ]
  },
  {
   "cell_type": "code",
   "execution_count": null,
   "id": "4",
   "metadata": {},
   "outputs": [],
   "source": [
    "def moving_average_smoothing(X,k):\n",
    "    S = np.zeros(X.shape[0])\n",
    "    for t in range(X.shape[0]):\n",
    "        if t < k:\n",
    "            S[t] = np.mean(X[:t+1])\n",
    "        else:\n",
    "            S[t] = np.sum(X[t-k:t])/k\n",
    "    return S"
   ]
  },
  {
   "cell_type": "code",
   "execution_count": null,
   "id": "5",
   "metadata": {},
   "outputs": [],
   "source": [
    "plt.plot(df['left.x'])\n",
    "plt.plot(moving_average_smoothing(df['left.x'], 5))\n",
    "plt.xlim([1000,1500])\n",
    "plt.show()"
   ]
  },
  {
   "cell_type": "code",
   "execution_count": null,
   "id": "6",
   "metadata": {},
   "outputs": [],
   "source": [
    "sos = signal.butter(10, 10, 'lp', fs=207.76, output='sos')\n",
    "filtered = signal.sosfilt(sos, df['left.x'])\n",
    "\n",
    "plt.plot(df['left.x'])\n",
    "plt.plot(filtered)\n",
    "plt.xlim([1000,1500])\n",
    "plt.ylim([28,40])\n",
    "plt.show()"
   ]
  },
  {
   "cell_type": "code",
   "execution_count": null,
   "id": "7",
   "metadata": {},
   "outputs": [],
   "source": [
    "plt.plot(df['left.x'])\n",
    "plt.plot(median_filter(df['left.x'], size=20))\n",
    "plt.xlim([1000,1500])\n",
    "plt.show()"
   ]
  },
  {
   "cell_type": "code",
   "execution_count": null,
   "id": "8",
   "metadata": {},
   "outputs": [],
   "source": [
    "plt.figure(figsize=(10,5))\n",
    "plt.psd(df['left.x'], Fs=207.76)\n",
    "plt.psd(moving_average_smoothing(df['left.x'], 5), Fs=207.76)\n",
    "plt.psd(filtered, Fs=207.76)\n",
    "plt.psd(median_filter(df['left.x'], size=20), Fs=207.76)\n",
    "plt.legend(['Raw', 'Moving Average', 'Lowpass', 'Median Filter'])\n",
    "plt.show()"
   ]
  },
  {
   "cell_type": "code",
   "execution_count": null,
   "id": "9",
   "metadata": {},
   "outputs": [],
   "source": []
  }
 ],
 "metadata": {
  "kernelspec": {
   "display_name": "Python [conda env:phy2]",
   "language": "python",
   "name": "conda-env-phy2-py"
  },
  "language_info": {
   "codemirror_mode": {
    "name": "ipython",
    "version": 3
   },
   "file_extension": ".py",
   "mimetype": "text/x-python",
   "name": "python",
   "nbconvert_exporter": "python",
   "pygments_lexer": "ipython3",
   "version": "3.11.7"
  }
 },
 "nbformat": 4,
 "nbformat_minor": 5
}
