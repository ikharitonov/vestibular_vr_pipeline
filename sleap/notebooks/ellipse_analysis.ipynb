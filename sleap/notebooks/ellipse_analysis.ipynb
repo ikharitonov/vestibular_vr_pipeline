{
 "cells": [
  {
   "cell_type": "code",
   "execution_count": null,
   "id": "0",
   "metadata": {},
   "outputs": [],
   "source": [
    "import numpy as np\n",
    "import pandas as pd\n",
    "import matplotlib.pyplot as plt\n",
    "from ellipse import LsqEllipse\n",
    "from vestibular_vr_pipeline.sleap import load_and_process as lp\n",
    "from scipy.ndimage import median_filter"
   ]
  },
  {
   "cell_type": "code",
   "execution_count": null,
   "id": "1",
   "metadata": {},
   "outputs": [],
   "source": [
    "path = '/home/ikharitonov/RANCZLAB-NAS/data/ONIX/20240730_Mismatch_Experiment/training_day4/2024-08-02T12-25-55_B3M3/VideoData2/'\n",
    "file = 'VideoData2_1904-01-03T23-00-00.sleap.csv'\n",
    "df = lp.load_df(path+file)\n",
    "df = df.drop(columns=['track'])\n",
    "df"
   ]
  },
  {
   "cell_type": "code",
   "execution_count": null,
   "id": "2",
   "metadata": {},
   "outputs": [],
   "source": [
    "columns_of_interest = ['left.x','left.y','center.x','center.y','right.x','right.y','p1.x','p1.y','p2.x','p2.y','p3.x','p3.y','p4.x','p4.y','p5.x','p5.y','p6.x','p6.y','p7.x','p7.y','p8.x','p8.y']\n",
    "coordinates_dict = lp.get_coordinates_dict(df, columns_of_interest)"
   ]
  },
  {
   "cell_type": "code",
   "execution_count": null,
   "id": "3",
   "metadata": {},
   "outputs": [],
   "source": [
    "plt.scatter(coordinates_dict['left.x'], coordinates_dict['left.y'])\n",
    "plt.scatter(coordinates_dict['right.x'], coordinates_dict['right.y'])\n",
    "plt.show()"
   ]
  },
  {
   "cell_type": "code",
   "execution_count": null,
   "id": "4",
   "metadata": {},
   "outputs": [],
   "source": [
    "theta = lp.find_horizontal_axis_angle(df, 'left', 'center')\n",
    "theta"
   ]
  },
  {
   "cell_type": "code",
   "execution_count": null,
   "id": "5",
   "metadata": {},
   "outputs": [],
   "source": [
    "center_point = lp.get_left_right_center_point(coordinates_dict)\n",
    "center_point"
   ]
  },
  {
   "cell_type": "code",
   "execution_count": null,
   "id": "6",
   "metadata": {},
   "outputs": [],
   "source": [
    "columns_of_interest = ['left', 'right', 'center', 'p1', 'p2', 'p3', 'p4', 'p5', 'p6', 'p7', 'p8']\n",
    "remformatted_coordinates_dict = lp.get_reformatted_coordinates_dict(coordinates_dict, columns_of_interest)\n",
    "centered_coordinates_dict = lp.get_centered_coordinates_dict(remformatted_coordinates_dict, center_point)\n",
    "rotated_coordinates_dict = lp.get_rotated_coordinates_dict(centered_coordinates_dict, theta)"
   ]
  },
  {
   "cell_type": "code",
   "execution_count": null,
   "id": "7",
   "metadata": {},
   "outputs": [],
   "source": [
    "plt.title('Centering and alignment')\n",
    "\n",
    "plt.scatter(remformatted_coordinates_dict['left'][:,0], remformatted_coordinates_dict['left'][:,1], s=2, alpha=0.5)\n",
    "plt.scatter(remformatted_coordinates_dict['right'][:,0], remformatted_coordinates_dict['right'][:,1], s=2, alpha=0.5)\n",
    "\n",
    "plt.scatter(centered_coordinates_dict['left'][:,0], centered_coordinates_dict['left'][:,1], s=2, alpha=0.5)\n",
    "plt.scatter(centered_coordinates_dict['right'][:,0], centered_coordinates_dict['right'][:,1], s=2, alpha=0.5)\n",
    "\n",
    "\n",
    "plt.scatter(rotated_coordinates_dict['left'][:,0], rotated_coordinates_dict['left'][:,1], s=2, alpha=0.5)\n",
    "plt.scatter(rotated_coordinates_dict['right'][:,0], rotated_coordinates_dict['right'][:,1], s=2, alpha=0.5)\n",
    "\n",
    "plt.scatter(center_point[0], center_point[1], s=50, c='black')\n",
    "plt.scatter(0, 0, s=50, c='black')\n",
    "plt.arrow(center_point[0], center_point[1], -center_point[0], -center_point[1], length_includes_head=True, head_width=10, color='black')\n",
    "\n",
    "plt.legend(['left original', 'right original', 'left centered', 'right centered', 'left rotated', 'right rotated'])\n",
    "plt.xlabel('X')\n",
    "plt.ylabel('Y')\n",
    "plt.grid()\n",
    "plt.show()"
   ]
  },
  {
   "cell_type": "code",
   "execution_count": null,
   "id": "8",
   "metadata": {},
   "outputs": [],
   "source": [
    "for point, arr in centered_coordinates_dict.items():\n",
    "    plt.scatter(arr[:,0], arr[:,1], c='blue', alpha=0.5)\n",
    "\n",
    "for point, arr in rotated_coordinates_dict.items():\n",
    "    plt.scatter(arr[:,0], arr[:,1], c='orange', alpha=0.5)\n",
    "\n",
    "plt.grid()\n",
    "plt.show()"
   ]
  },
  {
   "cell_type": "code",
   "execution_count": null,
   "id": "9",
   "metadata": {},
   "outputs": [],
   "source": [
    "ellipse_parameters_data, ellipse_center_points_data = lp.get_fitted_ellipse_parameters(rotated_coordinates_dict, ['p1', 'p2', 'p3', 'p4', 'p5', 'p6', 'p7', 'p8'])"
   ]
  },
  {
   "cell_type": "code",
   "execution_count": null,
   "id": "10",
   "metadata": {},
   "outputs": [],
   "source": [
    "a = 0\n",
    "b = 600\n",
    "plt.figure(figsize=(10,5))\n",
    "plt.title('SLEAP vs fitted ellipse comparison')\n",
    "plt.plot(rotated_coordinates_dict['center'][a:b,0])\n",
    "plt.plot(ellipse_center_points_data[a:b,0])\n",
    "# plt.plot(moving_average_smoothing(ellipse_center_points_data[a:b,0], 10))\n",
    "# plt.plot(median_filter(ellipse_center_points_data[a:b,0], size=10))\n",
    "# plt.legend(['SLEAP center', 'Fitted ellipse center', '5 point moving average fitted ellipse', 'Size 5 median filter fitted ellipse'])\n",
    "plt.legend(['SLEAP center', 'Fitted ellipse center'])\n",
    "plt.xlabel('frame')\n",
    "plt.ylabel('x')\n",
    "plt.show()"
   ]
  },
  {
   "cell_type": "code",
   "execution_count": null,
   "id": "11",
   "metadata": {},
   "outputs": [],
   "source": [
    "a = 3200\n",
    "b = 3400\n",
    "plt.figure(figsize=(10,5))\n",
    "plt.title('SLEAP vs fitted ellipse comparison')\n",
    "plt.plot(rotated_coordinates_dict['center'][a:b,0])\n",
    "plt.plot(ellipse_center_points_data[a:b,0])\n",
    "# plt.plot(moving_average_smoothing(ellipse_center_points_data[a:b,0], 10))\n",
    "# plt.plot(median_filter(ellipse_center_points_data[a:b,0], size=10))\n",
    "# plt.legend(['SLEAP center', 'Fitted ellipse center', '5 point moving average fitted ellipse', 'Size 5 median filter fitted ellipse'])\n",
    "plt.legend(['SLEAP center', 'Fitted ellipse center'])\n",
    "plt.xlabel('frame')\n",
    "plt.ylabel('x')\n",
    "plt.show()"
   ]
  },
  {
   "cell_type": "code",
   "execution_count": null,
   "id": "12",
   "metadata": {},
   "outputs": [],
   "source": []
  }
 ],
 "metadata": {
  "kernelspec": {
   "display_name": "Python [conda env:phy2]",
   "language": "python",
   "name": "conda-env-phy2-py"
  },
  "language_info": {
   "codemirror_mode": {
    "name": "ipython",
    "version": 3
   },
   "file_extension": ".py",
   "mimetype": "text/x-python",
   "name": "python",
   "nbconvert_exporter": "python",
   "pygments_lexer": "ipython3",
   "version": "3.11.7"
  }
 },
 "nbformat": 4,
 "nbformat_minor": 5
}
