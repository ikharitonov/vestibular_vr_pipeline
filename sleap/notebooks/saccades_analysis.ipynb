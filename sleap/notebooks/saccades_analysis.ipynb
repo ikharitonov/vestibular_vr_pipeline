{
 "cells": [
  {
   "cell_type": "code",
   "execution_count": null,
   "id": "0",
   "metadata": {
    "tags": []
   },
   "outputs": [],
   "source": [
    "import pandas as pd\n",
    "import matplotlib.pyplot as plt\n",
    "import numpy as np\n",
    "from scipy.stats import iqr"
   ]
  },
  {
   "cell_type": "code",
   "execution_count": null,
   "id": "1",
   "metadata": {
    "tags": []
   },
   "outputs": [],
   "source": [
    "# path = 'C:\\\\Users\\\\sarfi\\\\Desktop\\\\second_ellipse.003_20204321_343_5.analysis.csv'\n",
    "path = '/home/ikharitonov/Desktop/sleap_training/second_ellipse.003_20204321_343_5.analysis.csv'\n",
    "df = pd.read_csv(path)\n",
    "df"
   ]
  },
  {
   "cell_type": "code",
   "execution_count": null,
   "id": "2",
   "metadata": {
    "tags": []
   },
   "outputs": [],
   "source": [
    "df.columns"
   ]
  },
  {
   "cell_type": "code",
   "execution_count": null,
   "id": "3",
   "metadata": {},
   "outputs": [],
   "source": [
    "columns_of_interest = ['left.x','left.y','center.x','center.y','right.x','right.y','p1.x','p1.y','p2.x','p2.y','p3.x','p3.y','p4.x','p4.y','p5.x','p5.y','p6.x','p6.y','p7.x','p7.y','p8.x','p8.y']\n",
    "active_points = ['center', 'p1', 'p2', 'p3', 'p4', 'p5', 'p6', 'p7', 'p8']\n",
    "active_points_x = ['center.x','p1.x','p2.x','p3.x','p4.x','p5.x','p6.x','p7.x','p8.x']\n",
    "active_points_y = ['center.y','p1.y','p2.y','p3.y','p4.y','p5.y','p6.y','p7.y','p8.y']"
   ]
  },
  {
   "cell_type": "markdown",
   "id": "4",
   "metadata": {},
   "source": [
    "## Processing data"
   ]
  },
  {
   "cell_type": "code",
   "execution_count": null,
   "id": "5",
   "metadata": {},
   "outputs": [],
   "source": [
    "coordinates_dict = {key:df[key].to_numpy() for key in columns_of_interest}"
   ]
  },
  {
   "cell_type": "code",
   "execution_count": null,
   "id": "6",
   "metadata": {},
   "outputs": [],
   "source": [
    "displacements_dict = {k:np.diff(v) for k, v in coordinates_dict.items()} # in [displacement] = [pixels / frame]"
   ]
  },
  {
   "cell_type": "code",
   "execution_count": null,
   "id": "7",
   "metadata": {},
   "outputs": [],
   "source": [
    "displacements_dict"
   ]
  },
  {
   "cell_type": "code",
   "execution_count": null,
   "id": "8",
   "metadata": {},
   "outputs": [],
   "source": [
    "# Calculating mean displacement between left and right reference points (horizontal and vertical components separately)\n",
    "mean_reference_x = np.stack((displacements_dict['left.x'], displacements_dict['right.x'])).mean(axis=0)\n",
    "mean_reference_y = np.stack((displacements_dict['left.y'], displacements_dict['right.y'])).mean(axis=0)\n",
    "mean_reference_x.shape"
   ]
  },
  {
   "cell_type": "code",
   "execution_count": null,
   "id": "9",
   "metadata": {},
   "outputs": [],
   "source": [
    "# Subtracting the displacement of the reference points at each frame\n",
    "reference_subtraced_displacements_dict = {k:displacements_dict[k]-mean_reference_x for k in active_points_x} | {k:displacements_dict[k]-mean_reference_y for k in active_points_y} # joining the horizontal and vertical dictionaries into one"
   ]
  },
  {
   "cell_type": "code",
   "execution_count": null,
   "id": "10",
   "metadata": {},
   "outputs": [],
   "source": [
    "# Info plots\n",
    "fig, ax = plt.subplots(nrows=2, ncols=2, figsize=(10,10))\n",
    "fig.suptitle('How much reference point displacement is subtracted?')\n",
    "\n",
    "ax[0][0].plot(displacements_dict['left.x'])\n",
    "ax[0][0].plot(displacements_dict['right.x'])\n",
    "ax[0][0].plot(mean_reference_x)\n",
    "ax[0][0].set_xlim([0,100])\n",
    "ax[0][0].legend(['left x displacement', 'right x displacement', 'mean x displacement'])\n",
    "ax[0][0].set_xlabel('frame')\n",
    "ax[0][0].set_ylabel('displacement [pixels / frame]')\n",
    "\n",
    "ax[0][1].hist(mean_reference_x, bins=50)\n",
    "ax[0][1].set_xlabel('displacement [pixels / frame]')\n",
    "ax[0][1].set_ylabel('count')\n",
    "\n",
    "\n",
    "\n",
    "ax[1][0].plot(displacements_dict['left.y'])\n",
    "ax[1][0].plot(displacements_dict['right.y'])\n",
    "ax[1][0].plot(mean_reference_y)\n",
    "ax[1][0].set_xlim([0,100])\n",
    "ax[1][0].legend(['left y displacement', 'right y displacement', 'mean y displacement'])\n",
    "ax[1][0].set_xlabel('frame')\n",
    "ax[1][0].set_ylabel('displacement [pixels / frame]')\n",
    "\n",
    "ax[1][1].hist(mean_reference_y, bins=50)\n",
    "ax[1][1].set_xlabel('displacement [pixels / frame]')\n",
    "ax[1][1].set_ylabel('count')\n",
    "\n",
    "plt.tight_layout()\n",
    "plt.show()"
   ]
  },
  {
   "cell_type": "code",
   "execution_count": null,
   "id": "11",
   "metadata": {},
   "outputs": [],
   "source": [
    "point = 'center'\n",
    "plt.figure()\n",
    "plt.title(f\"Referenced displacement field of '{point}' point\")\n",
    "plt.scatter(reference_subtraced_displacements_dict[f'{point}.x'], reference_subtraced_displacements_dict[f'{point}.y'], s=0.25)\n",
    "plt.xlabel('displacement in x [pixels / frame]')\n",
    "plt.ylabel('displacement in y [pixels / frame]')\n",
    "plt.grid()\n",
    "plt.show()"
   ]
  },
  {
   "cell_type": "code",
   "execution_count": null,
   "id": "12",
   "metadata": {},
   "outputs": [],
   "source": [
    "def recalculated_coordinates(point_name):\n",
    "    # Recalculates coordinates of a point at each frame, applying the referenced displacements to the coordinates of the very first frame.\n",
    "    out_array = np.zeros(reference_subtraced_displacements_dict[point_name].shape[0]+1)\n",
    "    out_array[0] = df[point_name].to_numpy()[0]\n",
    "    for i, disp in enumerate(reference_subtraced_displacements_dict[point_name]):\n",
    "        out_array[i+1] = out_array[i] + disp\n",
    "        \n",
    "    return out_array\n",
    "\n",
    "reference_subtraced_coordinates_dict = {p:recalculated_coordinates(p) for p in active_points_x + active_points_y}"
   ]
  },
  {
   "cell_type": "code",
   "execution_count": null,
   "id": "13",
   "metadata": {},
   "outputs": [],
   "source": [
    "reference_subtraced_coordinates_dict"
   ]
  },
  {
   "cell_type": "markdown",
   "id": "14",
   "metadata": {},
   "source": [
    "## Plotting"
   ]
  },
  {
   "cell_type": "code",
   "execution_count": null,
   "id": "15",
   "metadata": {},
   "outputs": [],
   "source": [
    "plt.figure(figsize=(12,12))\n",
    "plt.title(\"All positions all active points\")\n",
    "for point in active_points:\n",
    "    plt.scatter(reference_subtraced_coordinates_dict[f'{point}.x'], reference_subtraced_coordinates_dict[f'{point}.y'], s=0.25)\n",
    "plt.xlabel('X')\n",
    "plt.ylabel('Y')\n",
    "plt.legend(active_points)\n",
    "plt.grid()\n",
    "plt.show()"
   ]
  },
  {
   "cell_type": "code",
   "execution_count": null,
   "id": "16",
   "metadata": {},
   "outputs": [],
   "source": [
    "# %matplotlib notebook\n",
    "\n",
    "# def update_annot(ind,event):\n",
    "#     annot.xy = (x[ind], y[ind])\n",
    "#     text = f'hello world {ind}'\n",
    "#     annot.set_text(text)\n",
    "#     annot.get_bbox_patch().set_alpha(0.6)\n",
    "\n",
    "# def on_pick(event):\n",
    "#     print(event)\n",
    "#     ind = int(event.ind)\n",
    "#     print(f\"Index of picked point: {ind}\")\n",
    "#     vis = annot.get_visible()\n",
    "#     update_annot(ind,event)\n",
    "#     annot.set_visible(True)\n",
    "#     fig.canvas.draw_idle()\n",
    "# #     time.sleep(5)\n",
    "# #     annot.set_visible(False)\n",
    "# #     fig.canvas.draw_idle()\n",
    "\n",
    "# # Defining data normalisation and colormap\n",
    "# # norm = matplotlib.colors.Normalize(vmin=min(self.proj_metric), vmax=max(self.proj_metric))\n",
    "# # cmap = matplotlib.cm.get_cmap('viridis')\n",
    "\n",
    "# fig,ax = plt.subplots(figsize=(10,10))\n",
    "\n",
    "# # plt.title(f'{self.parameters[\"projection_type\"]} {self.parameters[\"area\"]} hem={self.parameters[\"hemisphere_id\"]} inj_vol_thresh={self.parameters[\"injection_volume_threshold\"]} target_vol_thresh={self.parameters[\"projection_volume_threshold\"]} {self.parameters[\"projection_metric\"]}')\n",
    "\n",
    "# # plt.imshow(self.annot_vol[:,400,:], cmap='gray', aspect='equal', vmin=0, vmax=2000)\n",
    "\n",
    "# # norm = matplotlib.colors.Normalize(vmin=min(self.proj_metric), vmax=max(self.proj_metric))\n",
    "\n",
    "# point='p3'\n",
    "# x = reference_subtraced_coordinates_dict[f'{point}.x']\n",
    "# y = reference_subtraced_coordinates_dict[f'{point}.y']\n",
    "# # z = norm(self.proj_metric)\n",
    "\n",
    "# # sc = plt.scatter(x, y, c=z, s=50, cmap=cmap, picker=True)\n",
    "# sc = plt.scatter(x, y, s=2, picker=True)\n",
    "\n",
    "# plt.colorbar()\n",
    "\n",
    "# annot = ax.annotate(\"\", xy=(0,0), xytext=(20,20),textcoords=\"offset points\",\n",
    "#                     bbox=dict(boxstyle=\"round\", fc=\"w\"),\n",
    "#                     arrowprops=dict(arrowstyle=\"->\"))\n",
    "# annot.set_visible(False)\n",
    "\n",
    "# fig.canvas.mpl_connect('pick_event', on_pick)\n",
    "\n",
    "# plt.tight_layout()\n",
    "# plt.show()"
   ]
  },
  {
   "cell_type": "code",
   "execution_count": null,
   "id": "17",
   "metadata": {},
   "outputs": [],
   "source": [
    "# p3 red bottom tail potential outlier point IDs:\n",
    "# 145 18 174 290 272 252 242 231 216 234 264\n",
    "\n",
    "point = 'p3'\n",
    "plt.plot(reference_subtraced_coordinates_dict[f'{point}.x'][:300])\n",
    "# plt.gca().vline(216)\n",
    "plt.axvline(216, color='k', linestyle='solid')\n",
    "plt.show()"
   ]
  },
  {
   "cell_type": "code",
   "execution_count": null,
   "id": "18",
   "metadata": {},
   "outputs": [],
   "source": [
    "point = 'center'\n",
    "\n",
    "plt.figure(figsize=(9,6))\n",
    "plt.title('Comparsion of processed vs. original coordinates')\n",
    "plt.scatter(reference_subtraced_coordinates_dict[f'{point}.x'], reference_subtraced_coordinates_dict[f'{point}.y'], s=0.25)\n",
    "plt.scatter(df[f'{point}.x'], df[f'{point}.y'], s=0.25)\n",
    "plt.xlabel('X')\n",
    "plt.ylabel('Y')\n",
    "plt.legend([f\"Referenced and recalculated '{point}' point\", f\"Original '{point}' point\"])\n",
    "plt.grid()\n",
    "plt.show()\n",
    "\n",
    "plt.figure(figsize=(9,6))\n",
    "plt.title(f'{point}.x')\n",
    "plt.plot(reference_subtraced_coordinates_dict[f'{point}.x'])\n",
    "plt.plot(df[f'{point}.x'])\n",
    "plt.xlabel('Movie frame')\n",
    "plt.ylabel('X')\n",
    "plt.legend([f\"Referenced and recalculated '{point}' point\", f\"Original '{point}' point\"])\n",
    "plt.show()\n",
    "\n",
    "plt.figure(figsize=(9,6))\n",
    "plt.title(f'{point}.y')\n",
    "plt.plot(reference_subtraced_coordinates_dict[f'{point}.y'])\n",
    "plt.plot(df[f'{point}.y'])\n",
    "plt.xlabel('Movie frame')\n",
    "plt.ylabel('Y')\n",
    "plt.legend([f\"Referenced and recalculated '{point}' point\", f\"Original '{point}' point\"])\n",
    "plt.show()"
   ]
  },
  {
   "cell_type": "markdown",
   "id": "19",
   "metadata": {},
   "source": [
    "## Finding a horizontal axis"
   ]
  },
  {
   "cell_type": "code",
   "execution_count": null,
   "id": "20",
   "metadata": {},
   "outputs": [],
   "source": [
    "np.hstack([df[f'{point}.x'].to_numpy(), df[f'{point}.y'].to_numpy()])"
   ]
  },
  {
   "cell_type": "code",
   "execution_count": null,
   "id": "21",
   "metadata": {},
   "outputs": [],
   "source": [
    "point = 'center'\n",
    "\n",
    "# line_fn = np.polyfit(reference_subtraced_coordinates_dict[f'{point}.x'], reference_subtraced_coordinates_dict[f'{point}.y'], 1)\n",
    "line_fn = np.polyfit(np.hstack([df[f'left.x'].to_numpy(), df[f'center.x'].to_numpy()]), np.hstack([df[f'left.y'].to_numpy(), df[f'center.y'].to_numpy()]), 1)\n",
    "line_fn = np.poly1d(line_fn)"
   ]
  },
  {
   "cell_type": "code",
   "execution_count": null,
   "id": "22",
   "metadata": {},
   "outputs": [],
   "source": [
    "print(f'Found a linear fit with slope {line_fn[1]} and y-intercept {line_fn[0]}')"
   ]
  },
  {
   "cell_type": "code",
   "execution_count": null,
   "id": "23",
   "metadata": {},
   "outputs": [],
   "source": [
    "\"{:.2f}\".format(line_fn[1])"
   ]
  },
  {
   "cell_type": "code",
   "execution_count": null,
   "id": "24",
   "metadata": {},
   "outputs": [],
   "source": [
    "plt.figure(figsize=(9,6))\n",
    "plt.title(f\"Linear fit for '{point}' point\")\n",
    "# plt.scatter(reference_subtraced_coordinates_dict[f'{point}.x'], reference_subtraced_coordinates_dict[f'{point}.y'], s=0.25)\n",
    "plt.scatter(df[f'{point}.x'], df[f'{point}.y'], s=0.25)\n",
    "\n",
    "current_xlim, current_ylim = plt.gca().get_xlim(), plt.gca().get_ylim()\n",
    "plt.plot(current_xlim, line_fn(current_xlim), c='orange')\n",
    "# plt.xlim(current_xlim)\n",
    "# plt.ylim(current_ylim)\n",
    "\n",
    "plt.xlabel('X')\n",
    "plt.ylabel('Y')\n",
    "plt.legend([f\"Referenced and recalculated '{point}' point\", f'Linear fit y = {\"{:.3f}\".format(line_fn[1])}x + {\"{:.2f}\".format(line_fn[0])}'])\n",
    "plt.grid()\n",
    "plt.show()"
   ]
  },
  {
   "cell_type": "markdown",
   "id": "25",
   "metadata": {},
   "source": [
    "## Alignment"
   ]
  },
  {
   "cell_type": "code",
   "execution_count": null,
   "id": "26",
   "metadata": {},
   "outputs": [],
   "source": [
    "# point1 = np.array([0, line_fn(0)])\n",
    "# m = line_fn[1]\n",
    "# c = line_fn[0]\n",
    "# point2 = np.array([-c/m, 0])\n",
    "# vec = point2 - point1\n",
    "# vec = vec / np.linalg.norm(vec)\n",
    "\n",
    "# print(point1)\n",
    "# print(point2)\n",
    "# print(vec)\n",
    "\n",
    "# test_arr = np.stack([reference_subtraced_displacements_dict[f'{point}.x'], reference_subtraced_displacements_dict[f'{point}.y']], axis=1)"
   ]
  },
  {
   "cell_type": "code",
   "execution_count": null,
   "id": "27",
   "metadata": {},
   "outputs": [],
   "source": [
    "points = np.stack([reference_subtraced_coordinates_dict[f'{point}.x'], reference_subtraced_coordinates_dict[f'{point}.y']], axis=1)\n",
    "points.shape"
   ]
  },
  {
   "cell_type": "code",
   "execution_count": null,
   "id": "28",
   "metadata": {},
   "outputs": [],
   "source": [
    "mean_center_coord = points.mean(axis=0)\n",
    "centered_points = points.copy()\n",
    "centered_points[:,0] = centered_points[:,0] - mean_center_coord[0]\n",
    "centered_points[:,1] = centered_points[:,1] - mean_center_coord[1]"
   ]
  },
  {
   "cell_type": "code",
   "execution_count": null,
   "id": "29",
   "metadata": {},
   "outputs": [],
   "source": [
    "plt.figure(figsize=(9,6))\n",
    "plt.title(f\"Applying centering for '{point}' point\")\n",
    "plt.scatter(centered_points[:,0], centered_points[:,1], s=0.25)\n",
    "plt.xlabel('X')\n",
    "plt.ylabel('Y')\n",
    "plt.legend([f\"Referenced and recalculated '{point}' point\", f\"Rotated '{point}' point\"])\n",
    "plt.grid()\n",
    "plt.show()"
   ]
  },
  {
   "cell_type": "code",
   "execution_count": null,
   "id": "30",
   "metadata": {},
   "outputs": [],
   "source": [
    "centered_points"
   ]
  },
  {
   "cell_type": "code",
   "execution_count": null,
   "id": "31",
   "metadata": {},
   "outputs": [],
   "source": [
    "theta = np.arctan(line_fn[1])\n",
    "\n",
    "def rotate_points(points, theta):\n",
    "    rotation_matrix = np.array([\n",
    "        [np.cos(theta), -np.sin(theta)],\n",
    "        [np.sin(theta), np.cos(theta)]\n",
    "    ])\n",
    "    rotated_points = points.dot(rotation_matrix.T)\n",
    "    return rotated_points\n",
    "\n",
    "rotated_points = rotate_points(centered_points, -theta)\n",
    "rotated_points.shape"
   ]
  },
  {
   "cell_type": "code",
   "execution_count": null,
   "id": "32",
   "metadata": {},
   "outputs": [],
   "source": [
    "theta"
   ]
  },
  {
   "cell_type": "code",
   "execution_count": null,
   "id": "33",
   "metadata": {},
   "outputs": [],
   "source": [
    "plt.figure(figsize=(9,6))\n",
    "plt.title(f\"Applying a {'{:.3f}'.format(abs(theta*(180/np.pi)))} deg rotation for '{point}' point\")\n",
    "plt.scatter(centered_points[:,0], centered_points[:,1], s=0.25)\n",
    "plt.scatter(rotated_points[:,0], rotated_points[:,1], s=0.25)\n",
    "plt.xlabel('X')\n",
    "plt.ylabel('Y')\n",
    "plt.legend([f\"Referenced and recalculated '{point}' point\", f\"Rotated '{point}' point\"])\n",
    "plt.grid()\n",
    "plt.show()"
   ]
  },
  {
   "cell_type": "code",
   "execution_count": null,
   "id": "34",
   "metadata": {},
   "outputs": [],
   "source": [
    "plt.figure(figsize=(12,12))\n",
    "plt.title(\"All positions all active points\")\n",
    "for point in active_points:\n",
    "    temp_points = np.stack([reference_subtraced_coordinates_dict[f'{point}.x'], reference_subtraced_coordinates_dict[f'{point}.y']], axis=1) \n",
    "    temp_mean_center_coord = temp_points.mean(axis=0)\n",
    "    centered_points = temp_points.copy()\n",
    "    centered_points[:,0] = centered_points[:,0] - mean_center_coord[0]\n",
    "    centered_points[:,1] = centered_points[:,1] - mean_center_coord[1]\n",
    "    rotated_points = rotate_points(centered_points, -theta)\n",
    "#     plt.scatter(reference_subtraced_coordinates_dict[f'{point}.x'], reference_subtraced_coordinates_dict[f'{point}.y'], s=0.25)\n",
    "    plt.scatter(temp_points[:,0], temp_points[:,1], s=0.25, alpha=0.75, c='blue')\n",
    "    plt.scatter(rotated_points[:,0] + mean_center_coord[0], rotated_points[:,1] + mean_center_coord[1], s=0.25, alpha=0.75, c='orange')\n",
    "plt.xlabel('X')\n",
    "plt.ylabel('Y')\n",
    "plt.legend(['Original', 'Rotated'])\n",
    "plt.grid()\n",
    "plt.show()"
   ]
  },
  {
   "cell_type": "markdown",
   "id": "35",
   "metadata": {},
   "source": [
    "## Smoothing"
   ]
  },
  {
   "cell_type": "code",
   "execution_count": null,
   "id": "36",
   "metadata": {},
   "outputs": [],
   "source": [
    "def moving_avarage_smoothing(X,k):\n",
    "    S = np.zeros(X.shape[0])\n",
    "    for t in range(X.shape[0]):\n",
    "        if t < k:\n",
    "            S[t] = np.mean(X[:t+1])\n",
    "        else:\n",
    "            S[t] = np.sum(X[t-k:t])/k\n",
    "    return S\n",
    "\n",
    "def get_rotated_points(point_name, theta):\n",
    "    temp_points = np.stack([reference_subtraced_coordinates_dict[f'{point_name}.x'], reference_subtraced_coordinates_dict[f'{point_name}.y']], axis=1)\n",
    "    temp_mean_center_coord = temp_points.mean(axis=0)\n",
    "    centered_points = temp_points.copy()\n",
    "    centered_points[:,0] = centered_points[:,0] - mean_center_coord[0]\n",
    "    centered_points[:,1] = centered_points[:,1] - mean_center_coord[1]\n",
    "    rotated_points = rotate_points(centered_points, theta)\n",
    "    rotated_points[:,0] = rotated_points[:,0] + mean_center_coord[0]\n",
    "    rotated_points[:,1] = rotated_points[:,1] + mean_center_coord[1]\n",
    "    return rotated_points"
   ]
  },
  {
   "cell_type": "code",
   "execution_count": null,
   "id": "37",
   "metadata": {},
   "outputs": [],
   "source": [
    "point = 'center'\n",
    "rotated_points = get_rotated_points(point, -theta)"
   ]
  },
  {
   "cell_type": "code",
   "execution_count": null,
   "id": "38",
   "metadata": {},
   "outputs": [],
   "source": [
    "period = 1 / 207.76\n",
    "t_coords = np.linspace(0, rotated_points.shape[0] * period, rotated_points.shape[0])\n",
    "t_disps = np.linspace(0, rotated_points.shape[0] * period, rotated_points.shape[0]-1)"
   ]
  },
  {
   "cell_type": "code",
   "execution_count": null,
   "id": "39",
   "metadata": {},
   "outputs": [],
   "source": [
    "plt.figure(figsize=(15,5))\n",
    "plt.title(f\"Original '{point}' point X coordinate\")\n",
    "plt.plot(t_coords, rotated_points[:,0])\n",
    "plt.xlim([5300 * period, 5600 * period])\n",
    "plt.xlabel('seconds')\n",
    "plt.ylabel('X')\n",
    "plt.show()"
   ]
  },
  {
   "cell_type": "code",
   "execution_count": null,
   "id": "40",
   "metadata": {},
   "outputs": [],
   "source": [
    "plt.figure(figsize=(15,5))\n",
    "plt.title(f\"Smoothed '{point}' point X coordinate\")\n",
    "plt.plot(t_coords, moving_avarage_smoothing(rotated_points[:,0], 5))\n",
    "plt.xlim([5300 * period, 5600 * period])\n",
    "plt.xlabel('seconds')\n",
    "plt.ylabel('X')\n",
    "plt.show()"
   ]
  },
  {
   "cell_type": "code",
   "execution_count": null,
   "id": "41",
   "metadata": {},
   "outputs": [],
   "source": [
    "plt.figure(figsize=(15,5))\n",
    "plt.title(f\"Original '{point}' point X coordinate\")\n",
    "plt.plot(t_coords, rotated_points[:,0])\n",
    "plt.xlabel('seconds')\n",
    "plt.ylabel('X')\n",
    "plt.show()"
   ]
  },
  {
   "cell_type": "code",
   "execution_count": null,
   "id": "42",
   "metadata": {},
   "outputs": [],
   "source": [
    "plt.figure(figsize=(15,5))\n",
    "plt.title(f\"Smoothed '{point}' point X coordinate\")\n",
    "plt.plot(t_coords, moving_avarage_smoothing(rotated_points[:,0], 5))\n",
    "plt.xlabel('seconds')\n",
    "plt.ylabel('X')\n",
    "plt.show()"
   ]
  },
  {
   "cell_type": "code",
   "execution_count": null,
   "id": "43",
   "metadata": {},
   "outputs": [],
   "source": [
    "plt.figure(figsize=(15,5))\n",
    "plt.title(f\"Original '{point}' point X displacement\")\n",
    "plt.plot(t_disps, np.diff(rotated_points[:,0]) * (1/period))\n",
    "plt.xlabel('seconds')\n",
    "plt.ylabel('displacement (pixels / second)')\n",
    "plt.show()"
   ]
  },
  {
   "cell_type": "code",
   "execution_count": null,
   "id": "44",
   "metadata": {},
   "outputs": [],
   "source": [
    "plt.figure(figsize=(15,5))\n",
    "plt.title(f\"Smoothed '{point}' point X displacement\")\n",
    "# plt.plot(moving_avarage_smoothing(rotated_points[:,0], 5))\n",
    "plt.plot(t_disps, moving_avarage_smoothing(np.diff(rotated_points[:,0]) * (1/period), 5))\n",
    "plt.xlabel('seconds')\n",
    "plt.ylabel('displacement (pixels / second)')\n",
    "plt.show()"
   ]
  },
  {
   "cell_type": "code",
   "execution_count": null,
   "id": "45",
   "metadata": {},
   "outputs": [],
   "source": [
    "plt.figure(figsize=(15,5))\n",
    "plt.title(f\"Original '{point}' point X coordinate\")\n",
    "plt.plot(t_coords, rotated_points[:,0])\n",
    "plt.xlim([5000 * period,10000 * period])\n",
    "plt.xlabel('seconds')\n",
    "plt.ylabel('X')\n",
    "plt.show()"
   ]
  },
  {
   "cell_type": "code",
   "execution_count": null,
   "id": "46",
   "metadata": {},
   "outputs": [],
   "source": [
    "plt.figure(figsize=(15,5))\n",
    "plt.title(f\"Smoothed '{point}' point X coordinate\")\n",
    "plt.plot(t_coords, moving_avarage_smoothing(rotated_points[:,0], 5))\n",
    "# plt.xlim([5000 * period,10000 * period])\n",
    "plt.xlabel('seconds')\n",
    "plt.ylabel('X')\n",
    "plt.show()"
   ]
  },
  {
   "cell_type": "code",
   "execution_count": null,
   "id": "47",
   "metadata": {},
   "outputs": [],
   "source": [
    "plt.figure(figsize=(15,5))\n",
    "plt.title(f\"Smoothed '{point}' point Y coordinate\")\n",
    "plt.plot(t_coords, moving_avarage_smoothing(rotated_points[:,1], 5))\n",
    "# plt.xlim([5000 * period,10000 * period])\n",
    "plt.xlabel('seconds')\n",
    "plt.ylabel('Y')\n",
    "plt.show()"
   ]
  },
  {
   "cell_type": "markdown",
   "id": "48",
   "metadata": {},
   "source": [
    "## Saccade detection"
   ]
  },
  {
   "cell_type": "code",
   "execution_count": null,
   "id": "49",
   "metadata": {},
   "outputs": [],
   "source": [
    "# Prototype for detection code that uses a local STD-based threshold for a sliding window.\n",
    "\n",
    "# window_size = 50\n",
    "# std_multiplier_threshold = 3\n",
    "\n",
    "# for i in range(window_size, rotated_points.shape[0]):\n",
    "#     data_window = rotated_points[i-window_size:i, 0]\n",
    "# #     inds = np.where(np.logical_or(data_window.any() > data_window.mean()+data_window.std()*std_multiplier_threshold, data_window.any() < data_window.mean()-data_window.std()*std_multiplier_threshold))\n",
    "# #     inds = np.where(np.logical_or(data_window > data_window.mean()+data_window.std()*std_multiplier_threshold, data_window < data_window.mean()-data_window.std()*std_multiplier_threshold))\n",
    "#     lower_threshold = data_window.mean()-data_window.std()*std_multiplier_threshold\n",
    "#     upper_threshold = data_window.mean()+data_window.std()*std_multiplier_threshold\n",
    "#     inds = np.where((data_window < lower_threshold) | (data_window > upper_threshold))[0]\n",
    "#     inds = inds + (i-window_size)\n",
    "#     print(inds)\n",
    "# #     if data_window.any() > upper_threshold: print(3333)\n",
    "# #     if data_window.any() < data_window.mean()-data_window.std()*std_multiplier_threshold:\n",
    "# #         print(123)\n",
    "# #     if data_window.any() > data_window.mean()+data_window.std()*std_multiplier_threshold or data_window.any() < data_window.mean()-data_window.std()*std_multiplier_threshold:\n",
    "# #         print(123)"
   ]
  },
  {
   "cell_type": "code",
   "execution_count": null,
   "id": "50",
   "metadata": {},
   "outputs": [],
   "source": [
    "plt.hist(moving_avarage_smoothing(np.diff(rotated_points[:,0]) * (1/period), 5), bins=59)\n",
    "plt.xlabel('displacement (pixels / second)')\n",
    "plt.show()"
   ]
  },
  {
   "cell_type": "code",
   "execution_count": null,
   "id": "51",
   "metadata": {},
   "outputs": [],
   "source": [
    "point='center'"
   ]
  },
  {
   "cell_type": "code",
   "execution_count": null,
   "id": "52",
   "metadata": {},
   "outputs": [],
   "source": [
    "plt.figure(figsize=(15,5))\n",
    "plt.title(f\"Take the following smoothed '{point}' point X coordinate time series\")\n",
    "plt.plot(t_coords, moving_avarage_smoothing(rotated_points[:,0], 5))\n",
    "plt.xlim([5000 * period,10000 * period])\n",
    "plt.xlabel('seconds')\n",
    "plt.ylabel('X')\n",
    "plt.show()"
   ]
  },
  {
   "cell_type": "code",
   "execution_count": null,
   "id": "53",
   "metadata": {},
   "outputs": [],
   "source": [
    "plt.figure(figsize=(15,5))\n",
    "plt.title(f\"Visualise a threshold of +/- 200 pixels/s for corresponding displacement time series\")\n",
    "plt.plot(t_disps, moving_avarage_smoothing(np.diff(rotated_points[:,0]) * (1/period), 5))\n",
    "plt.xlim([5000 * period,10000 * period])\n",
    "plt.xlabel('seconds')\n",
    "plt.ylabel('displacement (pixels / second)')\n",
    "plt.axhline(200, c='red')\n",
    "plt.axhline(-200, c='red')\n",
    "plt.show()"
   ]
  },
  {
   "cell_type": "code",
   "execution_count": null,
   "id": "54",
   "metadata": {},
   "outputs": [],
   "source": [
    "displacement_time_series = np.diff(rotated_points[:,0]) * (1/period)\n",
    "smoothed_time_series = moving_avarage_smoothing(displacement_time_series, 5)\n",
    "\n",
    "# threshold = 200\n",
    "threshold = displacement_time_series.mean() + displacement_time_series.std() * 3\n",
    "\n",
    "# detected_peaks_inds = np.where(np.abs(smoothed_time_series) > threshold)[0]\n",
    "detected_peaks_inds = np.where(np.abs(displacement_time_series) > threshold)[0]\n",
    "detected_peaks_inds.shape"
   ]
  },
  {
   "cell_type": "code",
   "execution_count": null,
   "id": "55",
   "metadata": {},
   "outputs": [],
   "source": [
    "plt.figure(figsize=(15,5))\n",
    "plt.title(f\"Visualise a threshold of +/- {threshold} pixels/s for corresponding displacement time series\")\n",
    "# plt.plot(t_disps, smoothed_time_series)\n",
    "plt.plot(t_disps, displacement_time_series)\n",
    "\n",
    "# plt.scatter(detected_peaks_inds * period, smoothed_time_series[detected_peaks_inds], c='green')\n",
    "plt.scatter(detected_peaks_inds * period, displacement_time_series[detected_peaks_inds], c='green')\n",
    "\n",
    "plt.xlim([5000 * period,10000 * period])\n",
    "plt.xlabel('seconds')\n",
    "plt.ylabel('displacement (pixels / second)')\n",
    "plt.axhline(threshold, c='red')\n",
    "plt.axhline(-threshold, c='red')\n",
    "plt.show()"
   ]
  },
  {
   "cell_type": "code",
   "execution_count": null,
   "id": "56",
   "metadata": {},
   "outputs": [],
   "source": [
    "plt.figure(figsize=(15,5))\n",
    "plt.title(f\"Visualise a threshold of +/- 200 pixels/s for corresponding displacement time series\")\n",
    "# plt.plot(t_disps, smoothed_time_series)\n",
    "plt.plot(t_disps, displacement_time_series)\n",
    "\n",
    "# plt.scatter(detected_peaks_inds * period, smoothed_time_series[detected_peaks_inds], c='green')\n",
    "plt.scatter(detected_peaks_inds * period, displacement_time_series[detected_peaks_inds], c='green')\n",
    "\n",
    "plt.xlim([26,26.8])\n",
    "plt.xlabel('seconds')\n",
    "plt.ylabel('displacement (pixels / second)')\n",
    "plt.axhline(threshold, c='red')\n",
    "plt.axhline(-threshold, c='red')\n",
    "plt.show()"
   ]
  },
  {
   "cell_type": "code",
   "execution_count": null,
   "id": "57",
   "metadata": {},
   "outputs": [],
   "source": [
    "def find_sequential_groups(arr):\n",
    "    groups = []\n",
    "    current_group = [arr[0]]\n",
    "    \n",
    "    for i in range(1, len(arr)):\n",
    "        if arr[i] == arr[i-1] + 1:\n",
    "            current_group.append(arr[i])\n",
    "        else:\n",
    "            groups.append(current_group)\n",
    "            current_group = [arr[i]]\n",
    "    groups.append(current_group)\n",
    "    \n",
    "    return groups"
   ]
  },
  {
   "cell_type": "code",
   "execution_count": null,
   "id": "58",
   "metadata": {},
   "outputs": [],
   "source": [
    "print(detected_peaks_inds)"
   ]
  },
  {
   "cell_type": "code",
   "execution_count": null,
   "id": "59",
   "metadata": {},
   "outputs": [],
   "source": [
    "sequential_groups = find_sequential_groups(detected_peaks_inds)\n",
    "print(sequential_groups)"
   ]
  },
  {
   "cell_type": "code",
   "execution_count": null,
   "id": "60",
   "metadata": {},
   "outputs": [],
   "source": [
    "# prototyping max amplitude sample selection\n",
    "print(sequential_groups[1])\n",
    "print(displacement_time_series[sequential_groups[1]])\n",
    "print(displacement_time_series[485:490])\n",
    "max_amplitude_relative_ind = np.abs(displacement_time_series[sequential_groups[1]]).argmax()\n",
    "print(max_amplitude_relative_ind)\n",
    "max_amplitude_ind = sequential_groups[1][max_amplitude_relative_ind]\n",
    "print(max_amplitude_ind)\n",
    "max_amplitude_value = displacement_time_series[max_amplitude_ind]\n",
    "print(max_amplitude_value)"
   ]
  },
  {
   "cell_type": "code",
   "execution_count": null,
   "id": "61",
   "metadata": {},
   "outputs": [],
   "source": [
    "# Collecting max value deteceted saccades\n",
    "# into a nested list = [[saccade_0_index, saccade_0_velocity_amplitude], [saccade_1_index, saccade_1_velocity_amplitude], ...]\n",
    "detected_max_saccades = []\n",
    "\n",
    "for group in find_sequential_groups(detected_peaks_inds):\n",
    "    max_amplitude_relative_ind = np.abs(displacement_time_series[group]).argmax()\n",
    "    max_amplitude_ind = group[max_amplitude_relative_ind]\n",
    "    max_amplitude_value = displacement_time_series[max_amplitude_ind]\n",
    "    detected_max_saccades.append([max_amplitude_ind, max_amplitude_value])\n",
    "\n",
    "detected_max_saccades = np.array(detected_max_saccades)\n",
    "print(detected_max_saccades.shape)\n",
    "detected_max_saccades"
   ]
  },
  {
   "cell_type": "code",
   "execution_count": null,
   "id": "62",
   "metadata": {},
   "outputs": [],
   "source": [
    "plt.hist(detected_max_saccades[:,1], bins=20)\n",
    "plt.xlabel('detected saccade velocity [pixels / second]')\n",
    "plt.show()"
   ]
  },
  {
   "cell_type": "code",
   "execution_count": null,
   "id": "63",
   "metadata": {},
   "outputs": [],
   "source": [
    "plt.figure(figsize=(15,5))\n",
    "plt.title(f\"Visualise a threshold of +/- {threshold} pixels/s for corresponding displacement time series\")\n",
    "plt.plot(t_disps, displacement_time_series)\n",
    "\n",
    "plt.scatter(detected_max_saccades[:,0] * period, detected_max_saccades[:,1], c='green')\n",
    "\n",
    "plt.xlim([5000 * period,10000 * period])\n",
    "plt.xlabel('seconds')\n",
    "plt.ylabel('displacement (pixels / second)')\n",
    "plt.axhline(threshold, c='red')\n",
    "plt.axhline(-threshold, c='red')\n",
    "plt.show()"
   ]
  },
  {
   "cell_type": "code",
   "execution_count": null,
   "id": "64",
   "metadata": {},
   "outputs": [],
   "source": [
    "plt.figure(figsize=(15,5))\n",
    "plt.title(f\"Comparison of smoothed and original velocity time series\")\n",
    "plt.plot(t_disps, smoothed_time_series)\n",
    "plt.plot(t_disps, displacement_time_series)\n",
    "\n",
    "plt.scatter(detected_max_saccades[:,0] * period, detected_max_saccades[:,1], c='green')\n",
    "\n",
    "plt.xlim([26,26.8])\n",
    "plt.xlabel('seconds')\n",
    "plt.ylabel('displacement (pixels / second)')\n",
    "plt.axhline(threshold, c='red')\n",
    "plt.axhline(-threshold, c='red')\n",
    "plt.legend(['Smoothed', 'Original'])\n",
    "plt.show()"
   ]
  },
  {
   "cell_type": "code",
   "execution_count": null,
   "id": "65",
   "metadata": {},
   "outputs": [],
   "source": [
    "# 1) smoothing\n",
    "# 2) saccade detection and amplitude plot\n",
    "# 3) ellipse fitting"
   ]
  },
  {
   "cell_type": "markdown",
   "id": "66",
   "metadata": {},
   "source": [
    "## Ellipse fitting"
   ]
  },
  {
   "cell_type": "code",
   "execution_count": null,
   "id": "67",
   "metadata": {},
   "outputs": [],
   "source": [
    "pupil_points = ['p1', 'p2', 'p3', 'p4', 'p5', 'p6', 'p7', 'p8']"
   ]
  },
  {
   "cell_type": "code",
   "execution_count": null,
   "id": "68",
   "metadata": {},
   "outputs": [],
   "source": [
    "rotated_points = {point: get_rotated_points(point, -theta) for point in pupil_points}"
   ]
  },
  {
   "cell_type": "code",
   "execution_count": null,
   "id": "69",
   "metadata": {},
   "outputs": [],
   "source": [
    "def get_eight_points_at_time(data_dict, point_name_list, t):\n",
    "    points_coord_data = []\n",
    "    for point in point_name_list:\n",
    "        points_coord_data.append(data_dict[point][t,:])\n",
    "    return np.stack(points_coord_data, axis=0)\n",
    "get_eight_points_at_time(rotated_points, pupil_points, 1000).shape"
   ]
  },
  {
   "cell_type": "code",
   "execution_count": null,
   "id": "70",
   "metadata": {},
   "outputs": [],
   "source": [
    "rotated_points['p1'].shape"
   ]
  },
  {
   "cell_type": "code",
   "execution_count": null,
   "id": "71",
   "metadata": {},
   "outputs": [],
   "source": [
    "times = [100, 1000, 5000]\n",
    "colors = ['blue', 'orange', 'green']\n",
    "\n",
    "for i in range(3):\n",
    "    for point, data in rotated_points.items():\n",
    "        plt.scatter(data[times[i], 0], data[times[i], 1], c=colors[i])\n",
    "\n",
    "plt.xlabel('X')\n",
    "plt.ylabel('Y')\n",
    "plt.title('Pupil points at three different times')\n",
    "plt.show()"
   ]
  },
  {
   "cell_type": "code",
   "execution_count": null,
   "id": "72",
   "metadata": {},
   "outputs": [],
   "source": [
    "from ellipse import LsqEllipse\n",
    "# https://github.com/bdhammel/least-squares-ellipse-fitting"
   ]
  },
  {
   "cell_type": "code",
   "execution_count": null,
   "id": "73",
   "metadata": {},
   "outputs": [],
   "source": [
    "# Collecting parameters of the fitted ellipse into an array over the whole recording\n",
    "# ellipse_parameters_data contents = (width, height, phi)\n",
    "# ellipse_center_points_data = (center_x, center_y)\n",
    "ellipse_parameters_data = []\n",
    "ellipse_center_points_data = []\n",
    "for t in range(rotated_points['p1'].shape[0]):\n",
    "    reg = LsqEllipse().fit(get_eight_points_at_time(rotated_points, pupil_points, t))\n",
    "    center, width, height, phi = reg.as_parameters()\n",
    "    ellipse_parameters_data.append([width, height, phi])\n",
    "    ellipse_center_points_data.append(center)\n",
    "ellipse_parameters_data = np.array(ellipse_parameters_data)\n",
    "ellipse_center_points_data = np.array(ellipse_center_points_data)"
   ]
  },
  {
   "cell_type": "code",
   "execution_count": null,
   "id": "74",
   "metadata": {},
   "outputs": [],
   "source": [
    "plt.title('Width of the fitted ellipse')\n",
    "plt.plot(ellipse_parameters_data[:, 0])\n",
    "plt.xlabel('Frame')\n",
    "plt.ylabel('width [pixels]')\n",
    "plt.show()\n",
    "\n",
    "plt.title('Height of the fitted ellipse')\n",
    "plt.plot(ellipse_parameters_data[:, 1])\n",
    "plt.xlabel('Frame')\n",
    "plt.ylabel('height [pixels]')\n",
    "plt.show()\n",
    "\n",
    "plt.title('Angle of the fitted ellipse')\n",
    "plt.plot(ellipse_parameters_data[:, 2])\n",
    "plt.xlabel('Frame')\n",
    "plt.ylabel('angle [radians]')\n",
    "plt.show()"
   ]
  },
  {
   "cell_type": "code",
   "execution_count": null,
   "id": "75",
   "metadata": {},
   "outputs": [],
   "source": [
    "plt.title('Width of the fitted ellipse')\n",
    "plt.plot(ellipse_parameters_data[:, 0] / ellipse_parameters_data[:, 1])\n",
    "plt.xlabel('Frame')\n",
    "plt.ylabel('width [pixels]')\n",
    "plt.show()"
   ]
  },
  {
   "cell_type": "code",
   "execution_count": null,
   "id": "76",
   "metadata": {},
   "outputs": [],
   "source": [
    "help(LsqEllipse)"
   ]
  },
  {
   "cell_type": "code",
   "execution_count": null,
   "id": "77",
   "metadata": {},
   "outputs": [],
   "source": []
  }
 ],
 "metadata": {
  "kernelspec": {
   "display_name": "Python [conda env:phy2]",
   "language": "python",
   "name": "conda-env-phy2-py"
  },
  "language_info": {
   "codemirror_mode": {
    "name": "ipython",
    "version": 3
   },
   "file_extension": ".py",
   "mimetype": "text/x-python",
   "name": "python",
   "nbconvert_exporter": "python",
   "pygments_lexer": "ipython3",
   "version": "3.11.7"
  }
 },
 "nbformat": 4,
 "nbformat_minor": 5
}
