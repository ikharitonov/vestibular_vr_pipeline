{
 "cells": [
  {
   "cell_type": "code",
   "execution_count": 1,
   "id": "8117d03a-88c0-4801-a040-7182e8a1aa60",
   "metadata": {},
   "outputs": [],
   "source": [
    "import os\n",
    "import pandas as pd\n",
    "from pathlib import Path\n",
    "from harp_resources import process, utils\n",
    "from analysis_functions import *"
   ]
  },
  {
   "cell_type": "code",
   "execution_count": 2,
   "id": "cf0c5c95-b2cf-42fa-8728-1c541f0bd31e",
   "metadata": {},
   "outputs": [],
   "source": [
    "mouse_info = {'B2M1': {'sex': 'M', 'area': 'V2M'},\n",
    "              'B2M4': {'sex': 'M', 'area': 'V2M'},\n",
    "              'B2M5': {'sex': 'M', 'area': 'V2M'},\n",
    "              'B2M6': {'sex': 'M', 'area': 'V2M'},\n",
    "              'B3M1': {'sex': 'M', 'area': 'V2M'},\n",
    "              'B3M2': {'sex': 'M', 'area': 'V2M'},\n",
    "              'B3M3': {'sex': 'F', 'area': 'V1'},\n",
    "              'B3M4': {'sex': 'M', 'area': 'V2M'},\n",
    "              'B3M5': {'sex': 'M', 'area': 'V2M'},\n",
    "              'B3M6': {'sex': 'F', 'area': 'V2M'},\n",
    "              'B3M7': {'sex': 'F', 'area': 'V2M'},\n",
    "              'B3M8': {'sex': 'F', 'area': 'V2M'},\n",
    "             }\n",
    "\n",
    "session_info = {'220824': 'day1',\n",
    "                '230824': 'day2',\n",
    "                '190824': 'day1',\n",
    "                '200824': 'day2',\n",
    "                '120824': 'day1',\n",
    "                '130824': 'day2',\n",
    "                '070824': 'day1',\n",
    "                '080824': 'day2',\n",
    "               }"
   ]
  },
  {
   "cell_type": "markdown",
   "id": "c5354c9b-ce18-4f36-9966-679ad1ccb8a9",
   "metadata": {},
   "source": [
    "## Defining paths for grab or G8"
   ]
  },
  {
   "cell_type": "code",
   "execution_count": 3,
   "id": "9fa2bb80-e208-4810-901d-de4f2a687de5",
   "metadata": {},
   "outputs": [],
   "source": [
    "rootdir = '/Volumes/RanczLab/20240730_Mismatch_Experiment/GRAB_MMclosed-and-open_190824' #Enter root path\n",
    "h5_paths = []\n",
    "eventpaths = []\n",
    "for dirpath, subdirs, files in os.walk(rootdir):\n",
    "    for x in files:\n",
    "        if '.h5' in x:\n",
    "            eventpaths.append(dirpath)\n",
    "            h5_paths.append(dirpath+'/'+x)"
   ]
  },
  {
   "cell_type": "markdown",
   "id": "82f059e7-c35e-4c7b-b10b-80fec3b14582",
   "metadata": {},
   "source": [
    "### Loading data streams"
   ]
  },
  {
   "cell_type": "code",
   "execution_count": 4,
   "id": "1118c69b-7578-4171-9407-a7f0b87d6514",
   "metadata": {},
   "outputs": [
    {
     "name": "stdout",
     "output_type": "stream",
     "text": [
      "reconstructing streams for mouse B2M6, from session folder: GRAB_MMclosed-and-open_190824\n",
      "  --> B2M6 streams reconstructed and added to dictionary \n",
      "\n",
      "reconstructing streams for mouse B3M8, from session folder: GRAB_MMclosed-and-open_190824\n",
      "  --> B3M8 streams reconstructed and added to dictionary \n",
      "\n",
      "reconstructing streams for mouse B3M7, from session folder: GRAB_MMclosed-and-open_190824\n",
      "  --> B3M7 streams reconstructed and added to dictionary \n",
      "\n",
      "reconstructing streams for mouse B3M6, from session folder: GRAB_MMclosed-and-open_190824\n",
      "  --> B3M6 streams reconstructed and added to dictionary \n",
      "\n",
      "reconstructing streams for mouse B3M4, from session folder: GRAB_MMclosed-and-open_190824\n",
      "  --> B3M4 streams reconstructed and added to dictionary \n",
      "\n"
     ]
    }
   ],
   "source": [
    "stream_dict_dict = load_h5_streams_to_dict(h5_paths)"
   ]
  },
  {
   "cell_type": "code",
   "execution_count": 14,
   "id": "9b38fb9c-7e93-4fd7-b64d-0205ab8388ac",
   "metadata": {},
   "outputs": [
    {
     "data": {
      "text/plain": [
       "False"
      ]
     },
     "execution_count": 14,
     "metadata": {},
     "output_type": "execute_result"
    }
   ],
   "source": [
    "'SleapVideoData2' in stream_dict_dict['B2M6']"
   ]
  },
  {
   "cell_type": "code",
   "execution_count": 15,
   "id": "965c71ad-6f14-4954-af0a-e3a664324e5d",
   "metadata": {},
   "outputs": [
    {
     "name": "stdout",
     "output_type": "stream",
     "text": [
      "There was no eye movement data available for  B2M6\n",
      "There was no eye movement data available for  B3M8\n",
      "There was no eye movement data available for  B3M7\n",
      "There was no eye movement data available for  B3M6\n",
      "There was no eye movement data available for  B3M4\n"
     ]
    }
   ],
   "source": [
    "data_dict = {}\n",
    "for mouse, streamdict in stream_dict_dict.items():\n",
    "    #Getting fluorescence traces\n",
    "    fluorescence = streamdict['Photometry']['470_dfF'] #Using '470_dfF' only\n",
    "\n",
    "    #Getting mouse movement data and converting to cm / second\n",
    "    movementX = process.running_unit_conversion(streamdict['H1']['OpticalTrackingRead0X(46)'])*100\n",
    "    movementY = process.running_unit_conversion(streamdict['H1']['OpticalTrackingRead0Y(46)'])*100\n",
    "\n",
    "    #Getting eye movements and pupil diameter\n",
    "    if 'SleapVideoData2' in streamdict:\n",
    "        eye_center_x = streamdict['SleapVideoData2']['Ellipse.Center.X']\n",
    "        eye_center_y = streamdict['SleapVideoData2']['Ellipse.Center.Y']\n",
    "        eye_diameter = streamdict['SleapVideoData2']['Ellipse.Diameter']\n",
    "    else: \n",
    "        print('There was no eye movement data available for ', mouse)\n",
    "\n",
    "    #Getting visual stimuli event times\n",
    "    event = streamdict['ONIX']['Photodiode']\n",
    "    \n",
    "    time = movementX.index - movementX.index[0]\n",
    "    \n",
    "    dict = {'470_dfF': fluorescence, 'movementX': movementX, 'movementY': movementY, 'event': event,\n",
    "        'Seconds': time}\n",
    "    #dict = {'470_dfF': fluorescence, 'movementX': movementX, 'movementY': movementY, 'event': event,\n",
    "     #   'TimeStamp': time, 'eye_x': eye_center_x, 'eye_y': eye_center_y, 'pupil_diameter': eye_diameter}\n",
    "\n",
    "    df = pd.DataFrame(dict)\n",
    "\n",
    "    #Reversing, so that a halt appearst when 'event'==True\n",
    "    df['event'] = ~df['event']\n",
    "    \n",
    "    df.reset_index(inplace=False)\n",
    "    \n",
    "    data_dict[mouse] = df"
   ]
  },
  {
   "cell_type": "code",
   "execution_count": 16,
   "id": "6d3f5d8f-5d3c-4535-8680-cb3229bba94c",
   "metadata": {},
   "outputs": [
    {
     "data": {
      "text/html": [
       "<div>\n",
       "<style scoped>\n",
       "    .dataframe tbody tr th:only-of-type {\n",
       "        vertical-align: middle;\n",
       "    }\n",
       "\n",
       "    .dataframe tbody tr th {\n",
       "        vertical-align: top;\n",
       "    }\n",
       "\n",
       "    .dataframe thead th {\n",
       "        text-align: right;\n",
       "    }\n",
       "</style>\n",
       "<table border=\"1\" class=\"dataframe\">\n",
       "  <thead>\n",
       "    <tr style=\"text-align: right;\">\n",
       "      <th></th>\n",
       "      <th>470_dfF</th>\n",
       "      <th>movementX</th>\n",
       "      <th>movementY</th>\n",
       "      <th>event</th>\n",
       "      <th>Seconds</th>\n",
       "    </tr>\n",
       "  </thead>\n",
       "  <tbody>\n",
       "    <tr>\n",
       "      <th>95487.9626</th>\n",
       "      <td>0.000000</td>\n",
       "      <td>0.000000</td>\n",
       "      <td>0.000000</td>\n",
       "      <td>True</td>\n",
       "      <td>0.0000</td>\n",
       "    </tr>\n",
       "    <tr>\n",
       "      <th>95487.9627</th>\n",
       "      <td>0.000342</td>\n",
       "      <td>0.000743</td>\n",
       "      <td>0.000203</td>\n",
       "      <td>True</td>\n",
       "      <td>0.0001</td>\n",
       "    </tr>\n",
       "    <tr>\n",
       "      <th>95487.9628</th>\n",
       "      <td>0.000683</td>\n",
       "      <td>0.001486</td>\n",
       "      <td>0.000405</td>\n",
       "      <td>True</td>\n",
       "      <td>0.0002</td>\n",
       "    </tr>\n",
       "    <tr>\n",
       "      <th>95487.9629</th>\n",
       "      <td>0.001025</td>\n",
       "      <td>0.002228</td>\n",
       "      <td>0.000608</td>\n",
       "      <td>True</td>\n",
       "      <td>0.0003</td>\n",
       "    </tr>\n",
       "    <tr>\n",
       "      <th>95487.9630</th>\n",
       "      <td>0.001366</td>\n",
       "      <td>0.002971</td>\n",
       "      <td>0.000811</td>\n",
       "      <td>True</td>\n",
       "      <td>0.0004</td>\n",
       "    </tr>\n",
       "    <tr>\n",
       "      <th>...</th>\n",
       "      <td>...</td>\n",
       "      <td>...</td>\n",
       "      <td>...</td>\n",
       "      <td>...</td>\n",
       "      <td>...</td>\n",
       "    </tr>\n",
       "    <tr>\n",
       "      <th>97423.4075</th>\n",
       "      <td>0.000052</td>\n",
       "      <td>0.000268</td>\n",
       "      <td>-0.000061</td>\n",
       "      <td>False</td>\n",
       "      <td>1935.4449</td>\n",
       "    </tr>\n",
       "    <tr>\n",
       "      <th>97423.4076</th>\n",
       "      <td>0.000039</td>\n",
       "      <td>0.000201</td>\n",
       "      <td>-0.000046</td>\n",
       "      <td>False</td>\n",
       "      <td>1935.4450</td>\n",
       "    </tr>\n",
       "    <tr>\n",
       "      <th>97423.4077</th>\n",
       "      <td>0.000026</td>\n",
       "      <td>0.000134</td>\n",
       "      <td>-0.000031</td>\n",
       "      <td>False</td>\n",
       "      <td>1935.4451</td>\n",
       "    </tr>\n",
       "    <tr>\n",
       "      <th>97423.4078</th>\n",
       "      <td>0.000013</td>\n",
       "      <td>0.000067</td>\n",
       "      <td>-0.000015</td>\n",
       "      <td>False</td>\n",
       "      <td>1935.4452</td>\n",
       "    </tr>\n",
       "    <tr>\n",
       "      <th>97423.4079</th>\n",
       "      <td>0.000000</td>\n",
       "      <td>0.000000</td>\n",
       "      <td>0.000000</td>\n",
       "      <td>False</td>\n",
       "      <td>1935.4453</td>\n",
       "    </tr>\n",
       "  </tbody>\n",
       "</table>\n",
       "<p>19354454 rows × 5 columns</p>\n",
       "</div>"
      ],
      "text/plain": [
       "             470_dfF  movementX  movementY  event    Seconds\n",
       "95487.9626  0.000000   0.000000   0.000000   True     0.0000\n",
       "95487.9627  0.000342   0.000743   0.000203   True     0.0001\n",
       "95487.9628  0.000683   0.001486   0.000405   True     0.0002\n",
       "95487.9629  0.001025   0.002228   0.000608   True     0.0003\n",
       "95487.9630  0.001366   0.002971   0.000811   True     0.0004\n",
       "...              ...        ...        ...    ...        ...\n",
       "97423.4075  0.000052   0.000268  -0.000061  False  1935.4449\n",
       "97423.4076  0.000039   0.000201  -0.000046  False  1935.4450\n",
       "97423.4077  0.000026   0.000134  -0.000031  False  1935.4451\n",
       "97423.4078  0.000013   0.000067  -0.000015  False  1935.4452\n",
       "97423.4079  0.000000   0.000000   0.000000  False  1935.4453\n",
       "\n",
       "[19354454 rows x 5 columns]"
      ]
     },
     "execution_count": 16,
     "metadata": {},
     "output_type": "execute_result"
    }
   ],
   "source": [
    "data_dict['B3M7']"
   ]
  },
  {
   "cell_type": "markdown",
   "id": "d93e3cda-f0bc-4162-9c4e-831f0a2dc7e2",
   "metadata": {},
   "source": [
    "### Loading Experiment events and session info"
   ]
  },
  {
   "cell_type": "code",
   "execution_count": 17,
   "id": "12dbd981-0803-44d1-9699-152e8ce90770",
   "metadata": {},
   "outputs": [],
   "source": [
    "event_dict = {}\n",
    "for eventpath in eventpaths:\n",
    "    ExpEvents = read_ExperimentEvents(Path(eventpath))\n",
    "    ExpEvents.set_index('Seconds', inplace = True)\n",
    "    ExpEvents.index = ExpEvents.index.round(4)\n",
    "    name = eventpath.split('/')[-1][-4:]\n",
    "    ExpEvents['experiment'] = eventpath.split('/')[-2].split('_')[1]\n",
    "    for key, item in session_info.items():\n",
    "        if key in eventpath.split('/')[-2]:\n",
    "            ExpEvents['session']=item\n",
    "    event_dict[name] = ExpEvents\n"
   ]
  },
  {
   "cell_type": "markdown",
   "id": "adc03e74-91ee-4cc0-b4a3-3413cc623055",
   "metadata": {},
   "source": [
    "### Adding events (and non-events) and session info to data"
   ]
  },
  {
   "cell_type": "code",
   "execution_count": 18,
   "id": "38de17f2-4255-40df-854f-4fc135881f0c",
   "metadata": {},
   "outputs": [
    {
     "data": {
      "text/html": [
       "<div>\n",
       "<style scoped>\n",
       "    .dataframe tbody tr th:only-of-type {\n",
       "        vertical-align: middle;\n",
       "    }\n",
       "\n",
       "    .dataframe tbody tr th {\n",
       "        vertical-align: top;\n",
       "    }\n",
       "\n",
       "    .dataframe thead th {\n",
       "        text-align: right;\n",
       "    }\n",
       "</style>\n",
       "<table border=\"1\" class=\"dataframe\">\n",
       "  <thead>\n",
       "    <tr style=\"text-align: right;\">\n",
       "      <th></th>\n",
       "      <th>Value</th>\n",
       "      <th>experiment</th>\n",
       "      <th>session</th>\n",
       "    </tr>\n",
       "    <tr>\n",
       "      <th>Seconds</th>\n",
       "      <th></th>\n",
       "      <th></th>\n",
       "      <th></th>\n",
       "    </tr>\n",
       "  </thead>\n",
       "  <tbody>\n",
       "    <tr>\n",
       "      <th>98993.4863</th>\n",
       "      <td>LinearPlaybackMismatch block started</td>\n",
       "      <td>MMclosed-and-open</td>\n",
       "      <td>day1</td>\n",
       "    </tr>\n",
       "  </tbody>\n",
       "</table>\n",
       "</div>"
      ],
      "text/plain": [
       "                                           Value         experiment session\n",
       "Seconds                                                                    \n",
       "98993.4863  LinearPlaybackMismatch block started  MMclosed-and-open    day1"
      ]
     },
     "execution_count": 18,
     "metadata": {},
     "output_type": "execute_result"
    }
   ],
   "source": [
    "event_dict['B3M6'].loc[event_dict['B3M6'].Value == 'LinearPlaybackMismatch block started']"
   ]
  },
  {
   "cell_type": "code",
   "execution_count": 23,
   "id": "1c357484-48cc-4a19-9006-244a395efe1b",
   "metadata": {},
   "outputs": [
    {
     "name": "stdout",
     "output_type": "stream",
     "text": [
      "Pre-existing ExperimentEvents column was replaces with new for B2M6\n",
      "Pre-existing ExperimentEvents column was replaces with new for B3M8\n",
      "Pre-existing ExperimentEvents column was replaces with new for B3M7\n",
      "Pre-existing ExperimentEvents column was replaces with new for B3M6\n",
      "Pre-existing ExperimentEvents column was replaces with new for B3M4\n"
     ]
    }
   ],
   "source": [
    "data_dict = add_experiment_events(data_dict, event_dict,mouse_info)"
   ]
  },
  {
   "cell_type": "code",
   "execution_count": 26,
   "id": "6f17b943-2b93-411a-aacd-cd47217ca8fc",
   "metadata": {},
   "outputs": [
    {
     "data": {
      "text/plain": [
       "array([nan, 'Sync signal started', 'LinearMismatch block started',\n",
       "       'Homing platform', 'Wait for run threshold...',\n",
       "       'Halt delay: 0.597427398570547s', 'Apply halt: 1s',\n",
       "       'Halt delay: 0.555732677344108s', 'Halt delay: 0.435164502419142s',\n",
       "       'Halt delay: 0.567310379709727s', 'Halt delay: 0.288090241834563s',\n",
       "       'Halt delay: 0.512158285692408s', 'Halt delay: 0.537869750167183s',\n",
       "       'Halt delay: 0.324849802313768s', 'Halt delay: 0.127083636506965s',\n",
       "       'Halt delay: 0.273953280166701s', 'Halt delay: 0.285591537824642s',\n",
       "       'Halt delay: 0.380470190467532s', 'Halt delay: 0.329870850327365s',\n",
       "       'Halt delay: 0.174229225318054s', 'Halt delay: 0.29355418961195s',\n",
       "       'Halt delay: 0.377370904235808s', 'Halt delay: 0.590421244171644s',\n",
       "       'Halt delay: 0.262138870759932s', 'Halt delay: 0.11783661335606s',\n",
       "       'Halt delay: 0.180272276690357s', 'Halt delay: 0.350562733155937s',\n",
       "       'Halt delay: 0.266652444827674s', 'Halt delay: 0.57921669458934s',\n",
       "       'Halt delay: 0.198637718753255s', 'Halt delay: 0.490272396565542s',\n",
       "       'Halt delay: 0.117307148788733s', 'Halt delay: 0.333420857104203s',\n",
       "       'Halt delay: 0.598344982274969s', 'Halt delay: 0.290089333192487s',\n",
       "       'Halt delay: 0.228638440802991s', 'Halt delay: 0.382520871973839s',\n",
       "       'Halt delay: 0.22426284496871s', 'Halt delay: 0.431093598544176s',\n",
       "       'Halt delay: 0.133228955712742s', 'Halt delay: 0.189768503368724s',\n",
       "       'Halt delay: 0.115768702847775s', 'Halt delay: 0.137273658224043s',\n",
       "       'Halt delay: 0.399199895374104s', 'Halt delay: 0.157778242536717s',\n",
       "       'Halt delay: 0.414609723079302s', 'Halt delay: 0.388770890230672s',\n",
       "       'Halt delay: 0.405529850677368s', 'Halt delay: 0.1224744645052s',\n",
       "       'Halt delay: 0.472811584441369s', 'Halt delay: 0.208208125274725s',\n",
       "       'Halt delay: 0.117555133214945s', 'Halt delay: 0.385877943870555s',\n",
       "       'Halt delay: 0.239113615098928s', 'Halt delay: 0.316616321688805s',\n",
       "       'Halt delay: 0.199989635450761s', 'Halt delay: 0.124209472129219s',\n",
       "       'Halt delay: 0.488414262974828s', 'Halt delay: 0.105849441516143s',\n",
       "       'Halt delay: 0.520445701070337s', 'Halt delay: 0.505768636803035s',\n",
       "       'Halt delay: 0.430774953742872s', 'Halt delay: 0.576515982754769s',\n",
       "       'Halt delay: 0.336526783665887s', 'Halt delay: 0.177037983144186s',\n",
       "       'Halt delay: 0.27078309304583s',\n",
       "       'LinearPlaybackMismatch block started',\n",
       "       'Halt delay: 0.207753385607038s', 'Halt delay: 0.515308800486526s',\n",
       "       'Halt delay: 0.284684204954973s', 'Halt delay: 0.466150831741351s',\n",
       "       'Halt delay: 0.328649885732983s', 'Halt delay: 0.430202437858192s',\n",
       "       'Halt delay: 0.214085111354517s', 'Halt delay: 0.336374221852223s',\n",
       "       'Halt delay: 0.334628453494342s', 'Block timer elapsed'],\n",
       "      dtype=object)"
      ]
     },
     "execution_count": 26,
     "metadata": {},
     "output_type": "execute_result"
    }
   ],
   "source": [
    "data_dict['B3M6'].ExperimentEvents.unique()"
   ]
  },
  {
   "cell_type": "code",
   "execution_count": 32,
   "id": "4ac4548c-4e63-46a9-9844-5f376fca6c73",
   "metadata": {},
   "outputs": [
    {
     "name": "stdout",
     "output_type": "stream",
     "text": [
      "No_halt events added to B2M6\n",
      "Correct number of no-halt events for B2M6\n",
      "No_halt events added to B3M8\n",
      "Correct number of no-halt events for B3M8\n",
      "No_halt events added to B3M7\n",
      "Correct number of no-halt events for B3M7\n",
      "No_halt events added to B3M6\n",
      "Correct number of no-halt events for B3M6\n",
      "No_halt events added to B3M4\n",
      "Correct number of no-halt events for B3M4\n"
     ]
    }
   ],
   "source": [
    "data_dict = add_no_halt_column(data_dict, event_dict)"
   ]
  },
  {
   "cell_type": "code",
   "execution_count": 43,
   "id": "ce12ceba-dadd-4f6f-bcfa-5b106a77db01",
   "metadata": {},
   "outputs": [
    {
     "name": "stdout",
     "output_type": "stream",
     "text": [
      "updating data for  B2M6\n",
      "LinearMismatch_block\n",
      "LinearPlaybackMismatch_block\n",
      "updating data for  B3M8\n",
      "LinearMismatch_block\n",
      "LinearPlaybackMismatch_block\n",
      "updating data for  B3M7\n",
      "LinearMismatch_block\n",
      "LinearPlaybackMismatch_block\n",
      "updating data for  B3M6\n",
      "LinearMismatch_block\n",
      "LinearPlaybackMismatch_block\n",
      "updating data for  B3M4\n",
      "LinearMismatch_block\n",
      "LinearPlaybackMismatch_block\n"
     ]
    }
   ],
   "source": [
    "for name, df in data_dict.items():\n",
    "    print('updating data for ', name)\n",
    "    blocks_added_df = add_block_columns(df, event_dict[name])\n",
    "    blocks_added_df.replace({})\n",
    "    data_dict[name] = blocks_added_df\n",
    "\n",
    "check_block_overlap(data_dict)"
   ]
  },
  {
   "cell_type": "code",
   "execution_count": 57,
   "id": "f27d3988-4457-4be1-a80e-f190ad5e1626",
   "metadata": {},
   "outputs": [],
   "source": [
    "def downsample_data(df, time_col='Seconds', interval=0.001):\n",
    "    # Convert the Seconds column to a TimedeltaIndex\n",
    "    df = df.set_index(pd.to_timedelta(df[time_col], unit='s'))\n",
    "\n",
    "    # Define aggregation functions for all possible columns\n",
    "    aggregation_functions = {\n",
    "        '470_dfF': 'mean',\n",
    "        'movementX': 'mean',\n",
    "        'movementY': 'mean',\n",
    "        'event': 'any',\n",
    "        'ExperimentEvents': lambda x: x.dropna().iloc[0] if not x.dropna().empty else None,\n",
    "        'Experiment': 'first',\n",
    "        'Session': 'first',\n",
    "        'mouseID': 'first',\n",
    "        'sex': 'first',\n",
    "        'area': 'first',\n",
    "        'No_halt': 'any',\n",
    "        'LinearMismatch_block': 'any',\n",
    "        'LinearPlaybackMismatch_block': 'any',\n",
    "        'LinearRegular_block': 'any'\n",
    "    }\n",
    "\n",
    "    # Filter aggregation_functions to only include columns present in df\n",
    "    aggregation_functions = {key: func for key, func in aggregation_functions.items() if key in df.columns}\n",
    "\n",
    "    # Resample with the specified interval and apply the filtered aggregations\n",
    "    downsampled_df = df.resample(f'{interval}s').agg(aggregation_functions)\n",
    "\n",
    "    # Reset the index to make the Seconds column normal again\n",
    "    downsampled_df = downsampled_df.reset_index()\n",
    "    downsampled_df[time_col] = downsampled_df[time_col].dt.total_seconds()  # Convert Timedelta back to seconds\n",
    "\n",
    "    # Forward fill for categorical columns if needed, only if they exist in downsampled_df\n",
    "    categorical_cols = ['Experiment', 'Session', 'mouseID', 'sex', 'area']\n",
    "    for col in categorical_cols:\n",
    "        if col in downsampled_df.columns:\n",
    "            downsampled_df[col] = downsampled_df[col].ffill()\n",
    "\n",
    "    # Remove consecutive duplicate values in the 'ExperimentEvents' column, if it exists\n",
    "    if 'ExperimentEvents' in downsampled_df.columns:\n",
    "        downsampled_df['ExperimentEvents'] = downsampled_df['ExperimentEvents'].where(\n",
    "            downsampled_df['ExperimentEvents'] != downsampled_df['ExperimentEvents'].shift()\n",
    "        )\n",
    "\n",
    "    return downsampled_df\n",
    "\n"
   ]
  },
  {
   "cell_type": "code",
   "execution_count": 58,
   "id": "5a63dc6d-5956-44f2-99bd-8f2a6062ab96",
   "metadata": {},
   "outputs": [],
   "source": [
    "def test_event_numbers(downsampled_data, original_data, mouse):\n",
    "    nohalt_down = len(downsampled_data.loc[downsampled_data['No_halt']==True])\n",
    "    nohalt_original = len(original_data.loc[original_data['No_halt']==True])\n",
    "    if nohalt_down != nohalt_original:\n",
    "        print(f'mouse{mouse}')\n",
    "        print(f'There are actually {nohalt_original} no-halts, but the downsampled data only contains {nohalt_down}')\n",
    "    \n",
    "    "
   ]
  },
  {
   "cell_type": "code",
   "execution_count": null,
   "id": "3429171b-e749-4ca6-a84a-9f5fcfea52f5",
   "metadata": {},
   "outputs": [],
   "source": [
    "'''downsampled_dict = {}\n",
    "for mouse, mouse_df in data_dict.items():\n",
    "    downsampled_df = downsample_data(mouse_df, time_col='Seconds', interval=0.001)\n",
    "    downsampled_dict[mouse]=downsampled_df\n",
    "    test_event_numbers(downsampled_df, mouse_df, mouse)\n",
    "    '''\n",
    "mouse = 'B3M6'\n",
    "downsampled_df = downsample_data(data_dict[mouse], time_col='Seconds', interval=0.001)\n",
    "test_event_numbers(downsampled_df, data_dict[mouse], mouse)"
   ]
  },
  {
   "cell_type": "code",
   "execution_count": null,
   "id": "211dd0c1-8344-4a47-93c2-fc1d1afb3952",
   "metadata": {},
   "outputs": [],
   "source": [
    "from matplotlib import pyplot as plt\n",
    "plt.scatter(downsampled_df['Seconds'].loc[downsampled_df['event']==True], downsampled_df['470_dfF'].loc[downsampled_df['event']==True])"
   ]
  },
  {
   "cell_type": "code",
   "execution_count": null,
   "id": "14c4111f-491f-406f-a038-408fe938ce28",
   "metadata": {},
   "outputs": [],
   "source": [
    "\n",
    "downsampled_df.ExperimentEvents.unique()#.loc[downsampled_df.No_halt==True]\n"
   ]
  },
  {
   "cell_type": "code",
   "execution_count": null,
   "id": "79d2ca9c-41a7-439d-9ee7-e0261b919507",
   "metadata": {},
   "outputs": [],
   "source": [
    "downsampled_df#.loc[downsampled_df.No_halt==True]\n",
    "\n",
    "downsampled_df.ExperimentEvents.unique()#.loc[downsampled_df.No_halt==True]\n",
    "downsampled_df.loc[downsampled_df.ExperimentEvents=='Apply halt: 1s']\n"
   ]
  },
  {
   "cell_type": "code",
   "execution_count": null,
   "id": "e861b95b-c014-479c-b027-14e67de8cc12",
   "metadata": {},
   "outputs": [],
   "source": [
    "downsampled_df.loc[downsampled_df.Seconds >87.4]"
   ]
  },
  {
   "cell_type": "code",
   "execution_count": null,
   "id": "e5a65be3-268c-46a2-a6da-295a2934cc84",
   "metadata": {},
   "outputs": [],
   "source": [
    "downsampled_df.loc[downsampled_df.event ==True]"
   ]
  },
  {
   "cell_type": "code",
   "execution_count": null,
   "id": "f171bb52-31d5-4b53-aa76-51d91a4162ba",
   "metadata": {},
   "outputs": [],
   "source": [
    "#Data = process.pooling_data(data_dict)\n"
   ]
  },
  {
   "cell_type": "code",
   "execution_count": null,
   "id": "5a86135f-fffd-4c06-81c8-32ccf2eb7d01",
   "metadata": {},
   "outputs": [],
   "source": [
    "Data = Data.reset_index()\n",
    "Data = Data.drop(columns=['level_0'])  # Assuming the column name is 'level_0' after reset_index()\n",
    "Data = Data.set_index('level_1')  # 'level_1' will be the numeric index part\n",
    "Data.index.name = 'Time'"
   ]
  },
  {
   "cell_type": "code",
   "execution_count": null,
   "id": "1ff9bde1-27cb-409f-8f1f-52a4502d663c",
   "metadata": {},
   "outputs": [],
   "source": []
  },
  {
   "cell_type": "code",
   "execution_count": null,
   "id": "84dca954-f381-406b-bcc7-e8dc0a379acf",
   "metadata": {},
   "outputs": [],
   "source": [
    "import matplotlib.pyplot as plt\n",
    "\n",
    "plt.plot()"
   ]
  },
  {
   "cell_type": "code",
   "execution_count": null,
   "id": "56d1ef5c-1f79-4c2e-925e-4bd780eebaf2",
   "metadata": {},
   "outputs": [],
   "source": [
    "#20240730_Mismatch_Experiment/GRAB_MMclosed-and-open_190824'\n",
    "#Data.to_csv('GRAB_MMclosed_open_session1.csv', index=False)"
   ]
  },
  {
   "cell_type": "code",
   "execution_count": null,
   "id": "74e4d3d6-2b17-45d3-89cc-b451c9486669",
   "metadata": {},
   "outputs": [],
   "source": [
    "B3M7 = Data.loc[Data.mouseID=='B3M7']"
   ]
  },
  {
   "cell_type": "code",
   "execution_count": null,
   "id": "b9335000-5f21-4178-b3f5-f79dd0e4bdf3",
   "metadata": {},
   "outputs": [],
   "source": [
    "B3M4 = Data.loc[Data.mouseID=='B3M4']"
   ]
  },
  {
   "cell_type": "code",
   "execution_count": null,
   "id": "9345ecaa-a8c8-4fd3-98bc-a91da6604bd3",
   "metadata": {},
   "outputs": [],
   "source": [
    "B3M4.loc[B3M4.ExperimentEvents == 'Block timer elapsed']"
   ]
  },
  {
   "cell_type": "code",
   "execution_count": null,
   "id": "d2d0b117-e566-4897-893f-ea1f534c3e26",
   "metadata": {},
   "outputs": [],
   "source": [
    "\n",
    "B3M4.loc[B3M4.LinearPlaybackMismatch_block == True]"
   ]
  },
  {
   "cell_type": "code",
   "execution_count": null,
   "id": "450c9d99-3920-4e03-8253-a9bbbee550ff",
   "metadata": {},
   "outputs": [],
   "source": []
  }
 ],
 "metadata": {
  "kernelspec": {
   "display_name": "aeon",
   "language": "python",
   "name": "aeon"
  },
  "language_info": {
   "codemirror_mode": {
    "name": "ipython",
    "version": 3
   },
   "file_extension": ".py",
   "mimetype": "text/x-python",
   "name": "python",
   "nbconvert_exporter": "python",
   "pygments_lexer": "ipython3",
   "version": "3.12.7"
  }
 },
 "nbformat": 4,
 "nbformat_minor": 5
}
