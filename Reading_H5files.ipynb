{
 "cells": [
  {
   "cell_type": "code",
   "execution_count": 1,
   "id": "8117d03a-88c0-4801-a040-7182e8a1aa60",
   "metadata": {},
   "outputs": [],
   "source": [
    "import os\n",
    "import pandas as pd\n",
    "from pathlib import Path\n",
    "from harp_resources import process, utils\n",
    "from analysis_functions import *"
   ]
  },
  {
   "cell_type": "code",
   "execution_count": 2,
   "id": "cf0c5c95-b2cf-42fa-8728-1c541f0bd31e",
   "metadata": {},
   "outputs": [],
   "source": [
    "mouse_info = {'B2M1': {'sex': 'M', 'area': 'V2M'},\n",
    "              'B2M4': {'sex': 'M', 'area': 'V2M'},\n",
    "              'B2M5': {'sex': 'M', 'area': 'V2M'},\n",
    "              'B2M6': {'sex': 'M', 'area': 'V2M'},\n",
    "              'B3M1': {'sex': 'M', 'area': 'V2M'},\n",
    "              'B3M2': {'sex': 'M', 'area': 'V2M'},\n",
    "              'B3M3': {'sex': 'F', 'area': 'V1'},\n",
    "              'B3M4': {'sex': 'M', 'area': 'V2M'},\n",
    "              'B3M5': {'sex': 'M', 'area': 'V2M'},\n",
    "              'B3M6': {'sex': 'F', 'area': 'V2M'},\n",
    "              'B3M7': {'sex': 'F', 'area': 'V2M'},\n",
    "              'B3M8': {'sex': 'F', 'area': 'V2M'},\n",
    "              'B0M0': {'sex': 'F', 'area': 'V2M'},\n",
    "             }\n",
    "\n",
    "session_info = {'220824': 'day1',\n",
    "                '230824': 'day2',\n",
    "                '190824': 'day1',\n",
    "                '200824': 'day2',\n",
    "                '120824': 'day1',\n",
    "                '130824': 'day2',\n",
    "                '070824': 'day1',\n",
    "                '080824': 'day2',\n",
    "               }"
   ]
  },
  {
   "cell_type": "markdown",
   "id": "c5354c9b-ce18-4f36-9966-679ad1ccb8a9",
   "metadata": {},
   "source": [
    "## Defining paths for grab or G8"
   ]
  },
  {
   "cell_type": "code",
   "execution_count": 3,
   "id": "9fa2bb80-e208-4810-901d-de4f2a687de5",
   "metadata": {},
   "outputs": [],
   "source": [
    "rootdir = '/Volumes/RanczLab/20240730_Mismatch_Experiment/G8_MMclosed-and-open_080824' #Enter root path\n",
    "h5_paths = []\n",
    "eventpaths = []\n",
    "for dirpath, subdirs, files in os.walk(rootdir):\n",
    "    for x in files:\n",
    "        if '.h5' in x:\n",
    "            eventpaths.append(dirpath)\n",
    "            h5_paths.append(dirpath+'/'+x)"
   ]
  },
  {
   "cell_type": "code",
   "execution_count": 29,
   "id": "9ccaf4bf-1ae2-4243-8a66-a076181ddfc0",
   "metadata": {},
   "outputs": [],
   "source": [
    "# Expression unit testing\n",
    "h5_paths = ['/Volumes/RanczLab/20240730_Mismatch_Experiment/Fake_data_080824/Test_streams_B0M0/resampled_streams_Test_streams_B0M0.h5']\n",
    "eventpaths = ['/Volumes/RanczLab/20240730_Mismatch_Experiment/Fake_data_080824/Test_streams_B0M0']"
   ]
  },
  {
   "cell_type": "markdown",
   "id": "82f059e7-c35e-4c7b-b10b-80fec3b14582",
   "metadata": {},
   "source": [
    "### Loading data streams"
   ]
  },
  {
   "cell_type": "code",
   "execution_count": 30,
   "id": "7436a063-be5b-40ad-9a42-960b095a15c0",
   "metadata": {},
   "outputs": [],
   "source": [
    "\n",
    "import numpy as np\n",
    "def load_h5_streams_to_dict(data_paths):\n",
    "    '''\n",
    "    Takes list of H5 file paths and, loads streams into dictionary, and save to dictionary named by mouse ID\n",
    "    '''\n",
    "    reconstructed_dict = {}  # Dictionary to save streams\n",
    "    \n",
    "    for input_file in data_paths:\n",
    "        name = input_file.split('/')[-1][-7:-3]  # Extract mouse ID from file name\n",
    "        \n",
    "        if not os.path.exists(input_file):\n",
    "            print(f'ERROR: {input_file} does not exist.')\n",
    "            return None\n",
    "        \n",
    "        with h5py.File(input_file, 'r') as h5file:\n",
    "            print(f'reconstructing streams for mouse {name}, from session folder: {input_file.split(\"/\")[-3]}')\n",
    "            \n",
    "            common_index = h5file['HARP_timestamps'][:]\n",
    "            reconstructed_streams = {}\n",
    "            \n",
    "            for source_name in h5file.keys():\n",
    "                if source_name == 'HARP_timestamps':\n",
    "                    continue\n",
    "                \n",
    "                reconstructed_streams[source_name] = {}\n",
    "                source_group = h5file[source_name]\n",
    "                \n",
    "                for stream_name in source_group.keys():\n",
    "                    stream_data = source_group[stream_name][:]\n",
    "                    length_difference = len(common_index) - len(stream_data)\n",
    "                    \n",
    "                    # Pad or truncate to match common_index length\n",
    "                    if len(stream_data) < len(common_index):\n",
    "                        padding = np.full(len(common_index) - len(stream_data), np.nan)\n",
    "                        stream_data = np.concatenate([stream_data, padding])\n",
    "                        print(f\"{source_name} - {stream_name}: Length difference: {length_difference}\")\n",
    "                        print(f\"missing data, advicable to ensure correct alignment \\n \")\n",
    "                    elif len(stream_data) > len(common_index):\n",
    "                        stream_data = stream_data[:len(common_index)]\n",
    "                    \n",
    "                    reconstructed_streams[source_name][stream_name] = pd.Series(data=stream_data, index=common_index)\n",
    "                \n",
    "        reconstructed_dict[name] = reconstructed_streams\n",
    "        print(f'  --> {name} streams reconstructed and added to dictionary \\n')\n",
    "    \n",
    "    return reconstructed_dict\n",
    "\n",
    "\n"
   ]
  },
  {
   "cell_type": "code",
   "execution_count": 31,
   "id": "1118c69b-7578-4171-9407-a7f0b87d6514",
   "metadata": {},
   "outputs": [
    {
     "name": "stdout",
     "output_type": "stream",
     "text": [
      "reconstructing streams for mouse B0M0, from session folder: Fake_data_080824\n",
      "  --> B0M0 streams reconstructed and added to dictionary \n",
      "\n"
     ]
    }
   ],
   "source": [
    "stream_dict_dict = load_h5_streams_to_dict(h5_paths)"
   ]
  },
  {
   "cell_type": "code",
   "execution_count": 32,
   "id": "081a6114-d153-478e-a868-a74948368f30",
   "metadata": {},
   "outputs": [
    {
     "data": {
      "text/plain": [
       "{'H1': {'OpticalTrackingRead0X(46)': 762869.6790    0.000000\n",
       "  762869.6791    0.000010\n",
       "  762869.6792    0.000021\n",
       "  762869.6793    0.000031\n",
       "  762869.6794    0.000042\n",
       "                   ...   \n",
       "  765063.2686   -0.367112\n",
       "  765063.2687   -0.367121\n",
       "  765063.2688   -0.367131\n",
       "  765063.2689   -0.367141\n",
       "  765063.2690   -0.367151\n",
       "  Length: 21935901, dtype: float64,\n",
       "  'OpticalTrackingRead0Y(46)': 762869.6790    0.0\n",
       "  762869.6791    1.0\n",
       "  762869.6792    1.0\n",
       "  762869.6793    1.0\n",
       "  762869.6794    1.0\n",
       "                ... \n",
       "  765063.2686    0.0\n",
       "  765063.2687    0.0\n",
       "  765063.2688    0.0\n",
       "  765063.2689    0.0\n",
       "  765063.2690    0.0\n",
       "  Length: 21935901, dtype: float64},\n",
       " 'H2': {},\n",
       " 'ONIX': {'Photodiode': 762869.6790    True\n",
       "  762869.6791    True\n",
       "  762869.6792    True\n",
       "  762869.6793    True\n",
       "  762869.6794    True\n",
       "                 ... \n",
       "  765063.2686    True\n",
       "  765063.2687    True\n",
       "  765063.2688    True\n",
       "  765063.2689    True\n",
       "  765063.2690    True\n",
       "  Length: 21935901, dtype: bool},\n",
       " 'Photometry': {'CH1-470': 762869.6790    0.000000\n",
       "  762869.6791    0.000008\n",
       "  762869.6792    0.000016\n",
       "  762869.6793    0.000024\n",
       "  762869.6794    0.000031\n",
       "                   ...   \n",
       "  765063.2686    0.482469\n",
       "  765063.2687    0.482462\n",
       "  765063.2688    0.482456\n",
       "  765063.2689    0.482449\n",
       "  765063.2690    0.482442\n",
       "  Length: 21935901, dtype: float64}}"
      ]
     },
     "execution_count": 32,
     "metadata": {},
     "output_type": "execute_result"
    }
   ],
   "source": [
    "stream_dict_dict['B0M0']"
   ]
  },
  {
   "cell_type": "code",
   "execution_count": 33,
   "id": "66c3fe03-72f3-4014-869b-08ab757dfa14",
   "metadata": {},
   "outputs": [],
   "source": [
    "#Make a cut_info dict for the mouse with missing data\n",
    "#cut_info = {'B2M5': 521, 'B3M2':174}"
   ]
  },
  {
   "cell_type": "code",
   "execution_count": 34,
   "id": "965c71ad-6f14-4954-af0a-e3a664324e5d",
   "metadata": {},
   "outputs": [],
   "source": [
    "def make_dataframes(stream_dict_dict, cut_info = {}):\n",
    "    data_dict = {}\n",
    "    for mouse, streamdict in stream_dict_dict.items():\n",
    "        \n",
    "        print(f'\\n--Making dataframe for {mouse}--')\n",
    "        #Getting fluorescence traces\n",
    "        try: \n",
    "            fluorescence = streamdict['Photometry']['470_dfF'] #Using '470_dfF' only\n",
    "        except KeyError:\n",
    "            fluorescence = streamdict['Photometry']['CH1-470']\n",
    "        print('flourescence 470 extracted')\n",
    "    \n",
    "        #Getting mouse movement data and converting to cm / second\n",
    "        movementX = process.running_unit_conversion(streamdict['H1']['OpticalTrackingRead0X(46)'])*100\n",
    "        movementY = process.running_unit_conversion(streamdict['H1']['OpticalTrackingRead0Y(46)'])*100\n",
    "        print('movement on x and Y axis extracted')\n",
    "    \n",
    "        #Getting eye movements and pupil diameter\n",
    "        if 'SleapVideoData2' in streamdict:\n",
    "            eye_center_x = streamdict['SleapVideoData2']['Ellipse.Center.X']\n",
    "            eye_center_y = streamdict['SleapVideoData2']['Ellipse.Center.Y']\n",
    "            eye_diameter = streamdict['SleapVideoData2']['Ellipse.Diameter']\n",
    "            print('eye movement data extracted')\n",
    "        else: \n",
    "            print('There was no eye movement data available for ', mouse)\n",
    "    \n",
    "        #Getting visual stimuli event times\n",
    "        event = streamdict['ONIX']['Photodiode']\n",
    "        print('photdiode halt info extracted')\n",
    "        \n",
    "        time = movementX.index - movementX.index[0]\n",
    "        print('time in seconds from 0 extracted form X direction movement')\n",
    "        \n",
    "        dict = {'470_dfF': fluorescence, 'movementX': movementX, 'movementY': movementY, 'event': event,\n",
    "            'Seconds': time}\n",
    "        #dict = {'470_dfF': fluorescence, 'movementX': movementX, 'movementY': movementY, 'event': event,\n",
    "         #   'TimeStamp': time, 'eye_x': eye_center_x, 'eye_y': eye_center_y, 'pupil_diameter': eye_diameter}\n",
    "        \n",
    "        df = pd.DataFrame(dict)\n",
    "        print('dataframe created with columns: ', df.columns)\n",
    "        #if mouse in cut_info:\n",
    "            #df = df.iloc[:-cut_info[mouse]]\n",
    "        \n",
    "        df['event'] = df['event'].astype(bool) #In case column is not bool\n",
    "        #Reversing, so that a halt appearst when 'event'==True\n",
    "        df['event'] = ~df['event']\n",
    "        print('Event column as bool, True values corresponding to halts')\n",
    "        \n",
    "        df.reset_index(inplace=False)\n",
    "        \n",
    "        data_dict[mouse]= df\n",
    "    return data_dict"
   ]
  },
  {
   "cell_type": "code",
   "execution_count": 35,
   "id": "52628a73-cb79-4080-a44a-007f4143e2ba",
   "metadata": {},
   "outputs": [
    {
     "name": "stdout",
     "output_type": "stream",
     "text": [
      "\n",
      "--Making dataframe for B0M0--\n",
      "flourescence 470 extracted\n",
      "movement on x and Y axis extracted\n",
      "There was no eye movement data available for  B0M0\n",
      "photdiode halt info extracted\n",
      "time in seconds from 0 extracted form X direction movement\n",
      "dataframe created with columns:  Index(['470_dfF', 'movementX', 'movementY', 'event', 'Seconds'], dtype='object')\n",
      "Event column as bool, True values corresponding to halts\n"
     ]
    }
   ],
   "source": [
    "data_dict = make_dataframes(stream_dict_dict )\n",
    "names = [name for name in data_dict]"
   ]
  },
  {
   "cell_type": "code",
   "execution_count": 36,
   "id": "b02d2b01-2c45-4a13-a26b-3fef9633e57d",
   "metadata": {},
   "outputs": [
    {
     "data": {
      "text/plain": [
       "{'B0M0':               470_dfF     movementX  movementY  event    Seconds\n",
       " 762869.6790  0.000000  0.000000e+00   0.000000  False     0.0000\n",
       " 762869.6791  0.000008  2.216568e-07   0.021167  False     0.0001\n",
       " 762869.6792  0.000016  4.433136e-07   0.021167  False     0.0002\n",
       " 762869.6793  0.000024  6.649704e-07   0.021167  False     0.0003\n",
       " 762869.6794  0.000031  8.866273e-07   0.021167  False     0.0004\n",
       " ...               ...           ...        ...    ...        ...\n",
       " 765063.2686  0.482469 -7.770532e-03   0.000000  False  2193.5896\n",
       " 765063.2687  0.482462 -7.770738e-03   0.000000  False  2193.5897\n",
       " 765063.2688  0.482456 -7.770944e-03   0.000000  False  2193.5898\n",
       " 765063.2689  0.482449 -7.771150e-03   0.000000  False  2193.5899\n",
       " 765063.2690  0.482442 -7.771356e-03   0.000000  False  2193.5900\n",
       " \n",
       " [21935901 rows x 5 columns]}"
      ]
     },
     "execution_count": 36,
     "metadata": {},
     "output_type": "execute_result"
    }
   ],
   "source": [
    "data_dict"
   ]
  },
  {
   "cell_type": "code",
   "execution_count": 37,
   "id": "78df9f4f-74f9-489f-81db-f131ff2c4c72",
   "metadata": {},
   "outputs": [
    {
     "name": "stdout",
     "output_type": "stream",
     "text": [
      "for B0M0 the True values makes up 4.00 % of the total df lenght\n"
     ]
    }
   ],
   "source": [
    "for mouse, df in data_dict.items():\n",
    "    percent_true = (len(df.loc[df['event']==True])*100)/len(df)\n",
    "    print(f'for {mouse} the True values makes up {percent_true:.2f} % of the total df lenght' )\n",
    "    if percent_true > 50:\n",
    "        print('This is more than 50 %, which may be too much, consider inversing True/False or check experiment protocol for mouse')"
   ]
  },
  {
   "cell_type": "markdown",
   "id": "d93e3cda-f0bc-4162-9c4e-831f0a2dc7e2",
   "metadata": {},
   "source": [
    "### Loading Experiment events and session info"
   ]
  },
  {
   "cell_type": "code",
   "execution_count": 38,
   "id": "12dbd981-0803-44d1-9699-152e8ce90770",
   "metadata": {},
   "outputs": [
    {
     "data": {
      "text/plain": [
       "{'B0M0':                                               Value experiment session\n",
       " Seconds                                                               \n",
       " 762923.6063    LinearPlaybackMismatch block started       data    day2\n",
       " 763076.0002                                 No_halt       data    day2\n",
       " 763245.5452                                 No_halt       data    day2\n",
       " 763278.8302                                 No_halt       data    day2\n",
       " 763331.7740                                 No_halt       data    day2\n",
       " 763419.2249                     Block timer elapsed       data    day2\n",
       " 763532.1606                                 No_halt       data    day2\n",
       " 763636.2875                                 No_halt       data    day2\n",
       " 763908.3264                                 No_halt       data    day2\n",
       " 764000.3319                                 No_halt       data    day2\n",
       " 764004.8799                                 No_halt       data    day2\n",
       " 764079.0664                                 No_halt       data    day2\n",
       " 764083.1707                                 No_halt       data    day2\n",
       " 764202.6858                                 No_halt       data    day2\n",
       " 764282.3876                                 No_halt       data    day2\n",
       " 764444.5957                                 No_halt       data    day2\n",
       " 764635.6733                                 No_halt       data    day2\n",
       " 764832.0543  LinearClosedloopMismatch block started       data    day2\n",
       " 763037.0704  LinearClosedloopMismatch block started       data    day2\n",
       " 763233.2890                                 No_halt       data    day2\n",
       " 763276.1686                     Block timer elapsed       data    day2\n",
       " 763378.9777                                 No_halt       data    day2\n",
       " 763398.5816    LinearPlaybackMismatch block started       data    day2\n",
       " 763675.9823                                 No_halt       data    day2\n",
       " 763748.3880                                 No_halt       data    day2\n",
       " 763759.3889                                 No_halt       data    day2\n",
       " 763761.1914                                 No_halt       data    day2\n",
       " 763800.1941                                 No_halt       data    day2\n",
       " 763950.9636                                 No_halt       data    day2\n",
       " 763969.4980                                 No_halt       data    day2\n",
       " 764252.0133                                 No_halt       data    day2\n",
       " 764317.6939                                 No_halt       data    day2\n",
       " 764357.7506                                 No_halt       data    day2\n",
       " 764430.4983                                 No_halt       data    day2\n",
       " 764488.8463                                 No_halt       data    day2\n",
       " 764582.8971                                 No_halt       data    day2}"
      ]
     },
     "execution_count": 38,
     "metadata": {},
     "output_type": "execute_result"
    }
   ],
   "source": [
    "event_dict = {}\n",
    "for eventpath in eventpaths:\n",
    "    ExpEvents = read_ExperimentEvents(Path(eventpath))\n",
    "    ExpEvents.set_index('Seconds', inplace = True)\n",
    "    ExpEvents.index = ExpEvents.index.round(4)\n",
    "    name = eventpath.split('/')[-1][-4:]\n",
    "    ExpEvents['experiment'] = eventpath.split('/')[-2].split('_')[1]\n",
    "    for key, item in session_info.items():\n",
    "        if key in eventpath.split('/')[-2]:\n",
    "            ExpEvents['session']=item\n",
    "    event_dict[name] = ExpEvents\n",
    "event_dict"
   ]
  },
  {
   "cell_type": "markdown",
   "id": "adc03e74-91ee-4cc0-b4a3-3413cc623055",
   "metadata": {},
   "source": [
    "### Adding events (and non-events) and session info to data"
   ]
  },
  {
   "cell_type": "code",
   "execution_count": 40,
   "id": "1c357484-48cc-4a19-9006-244a395efe1b",
   "metadata": {},
   "outputs": [
    {
     "ename": "ValueError",
     "evalue": "right keys must be sorted",
     "output_type": "error",
     "traceback": [
      "\u001b[0;31m---------------------------------------------------------------------------\u001b[0m",
      "\u001b[0;31mValueError\u001b[0m                                Traceback (most recent call last)",
      "Cell \u001b[0;32mIn[40], line 1\u001b[0m\n\u001b[0;32m----> 1\u001b[0m data_dict \u001b[38;5;241m=\u001b[39m add_experiment_events(data_dict, event_dict,mouse_info)\n",
      "File \u001b[0;32m~/Documents/GitHub/vestibular_vr_pipeline/analysis_functions.py:89\u001b[0m, in \u001b[0;36madd_experiment_events\u001b[0;34m(data_dict, events_dict, mouse_info)\u001b[0m\n\u001b[1;32m     86\u001b[0m event_df \u001b[38;5;241m=\u001b[39m events_dict[mouse_key]\n\u001b[1;32m     88\u001b[0m \u001b[38;5;66;03m# Perform a merge_asof on the index to add 'Value' as 'ExperimentEvents' with backward matching\u001b[39;00m\n\u001b[0;32m---> 89\u001b[0m main_df \u001b[38;5;241m=\u001b[39m pd\u001b[38;5;241m.\u001b[39mmerge_asof(\n\u001b[1;32m     90\u001b[0m     main_df\u001b[38;5;241m.\u001b[39msort_index(),\n\u001b[1;32m     91\u001b[0m     event_df[[\u001b[38;5;124m'\u001b[39m\u001b[38;5;124mValue\u001b[39m\u001b[38;5;124m'\u001b[39m]],  \u001b[38;5;66;03m# Only select the 'Value' column from event_df\u001b[39;00m\n\u001b[1;32m     92\u001b[0m     left_index\u001b[38;5;241m=\u001b[39m\u001b[38;5;28;01mTrue\u001b[39;00m,\n\u001b[1;32m     93\u001b[0m     right_index\u001b[38;5;241m=\u001b[39m\u001b[38;5;28;01mTrue\u001b[39;00m,\n\u001b[1;32m     94\u001b[0m     direction\u001b[38;5;241m=\u001b[39m\u001b[38;5;124m'\u001b[39m\u001b[38;5;124mbackward\u001b[39m\u001b[38;5;124m'\u001b[39m,\n\u001b[1;32m     95\u001b[0m     tolerance\u001b[38;5;241m=\u001b[39m\u001b[38;5;241m0\u001b[39m  \u001b[38;5;66;03m# Adjust tolerance for matching on the index\u001b[39;00m\n\u001b[1;32m     96\u001b[0m )\n\u001b[1;32m     98\u001b[0m \u001b[38;5;66;03m# Rename the 'Value' column to 'ExperimentEvents'\u001b[39;00m\n\u001b[1;32m     99\u001b[0m \u001b[38;5;28;01mif\u001b[39;00m \u001b[38;5;124m'\u001b[39m\u001b[38;5;124mExperimentEvents\u001b[39m\u001b[38;5;124m'\u001b[39m \u001b[38;5;129;01min\u001b[39;00m main_df\u001b[38;5;241m.\u001b[39mcolumns:\n",
      "File \u001b[0;32m~/opt/anaconda3/envs/aeon/lib/python3.12/site-packages/pandas/core/reshape/merge.py:708\u001b[0m, in \u001b[0;36mmerge_asof\u001b[0;34m(left, right, on, left_on, right_on, left_index, right_index, by, left_by, right_by, suffixes, tolerance, allow_exact_matches, direction)\u001b[0m\n\u001b[1;32m    456\u001b[0m \u001b[38;5;250m\u001b[39m\u001b[38;5;124;03m\"\"\"\u001b[39;00m\n\u001b[1;32m    457\u001b[0m \u001b[38;5;124;03mPerform a merge by key distance.\u001b[39;00m\n\u001b[1;32m    458\u001b[0m \n\u001b[0;32m   (...)\u001b[0m\n\u001b[1;32m    689\u001b[0m \u001b[38;5;124;03m4 2016-05-25 13:30:00.048   AAPL   98.00       100     NaN     NaN\u001b[39;00m\n\u001b[1;32m    690\u001b[0m \u001b[38;5;124;03m\"\"\"\u001b[39;00m\n\u001b[1;32m    691\u001b[0m op \u001b[38;5;241m=\u001b[39m _AsOfMerge(\n\u001b[1;32m    692\u001b[0m     left,\n\u001b[1;32m    693\u001b[0m     right,\n\u001b[0;32m   (...)\u001b[0m\n\u001b[1;32m    706\u001b[0m     direction\u001b[38;5;241m=\u001b[39mdirection,\n\u001b[1;32m    707\u001b[0m )\n\u001b[0;32m--> 708\u001b[0m \u001b[38;5;28;01mreturn\u001b[39;00m op\u001b[38;5;241m.\u001b[39mget_result()\n",
      "File \u001b[0;32m~/opt/anaconda3/envs/aeon/lib/python3.12/site-packages/pandas/core/reshape/merge.py:1926\u001b[0m, in \u001b[0;36m_OrderedMerge.get_result\u001b[0;34m(self, copy)\u001b[0m\n\u001b[1;32m   1925\u001b[0m \u001b[38;5;28;01mdef\u001b[39;00m \u001b[38;5;21mget_result\u001b[39m(\u001b[38;5;28mself\u001b[39m, copy: \u001b[38;5;28mbool\u001b[39m \u001b[38;5;241m|\u001b[39m \u001b[38;5;28;01mNone\u001b[39;00m \u001b[38;5;241m=\u001b[39m \u001b[38;5;28;01mTrue\u001b[39;00m) \u001b[38;5;241m-\u001b[39m\u001b[38;5;241m>\u001b[39m DataFrame:\n\u001b[0;32m-> 1926\u001b[0m     join_index, left_indexer, right_indexer \u001b[38;5;241m=\u001b[39m \u001b[38;5;28mself\u001b[39m\u001b[38;5;241m.\u001b[39m_get_join_info()\n\u001b[1;32m   1928\u001b[0m     left_join_indexer: npt\u001b[38;5;241m.\u001b[39mNDArray[np\u001b[38;5;241m.\u001b[39mintp] \u001b[38;5;241m|\u001b[39m \u001b[38;5;28;01mNone\u001b[39;00m\n\u001b[1;32m   1929\u001b[0m     right_join_indexer: npt\u001b[38;5;241m.\u001b[39mNDArray[np\u001b[38;5;241m.\u001b[39mintp] \u001b[38;5;241m|\u001b[39m \u001b[38;5;28;01mNone\u001b[39;00m\n",
      "File \u001b[0;32m~/opt/anaconda3/envs/aeon/lib/python3.12/site-packages/pandas/core/reshape/merge.py:1151\u001b[0m, in \u001b[0;36m_MergeOperation._get_join_info\u001b[0;34m(self)\u001b[0m\n\u001b[1;32m   1147\u001b[0m     join_index, right_indexer, left_indexer \u001b[38;5;241m=\u001b[39m _left_join_on_index(\n\u001b[1;32m   1148\u001b[0m         right_ax, left_ax, \u001b[38;5;28mself\u001b[39m\u001b[38;5;241m.\u001b[39mright_join_keys, sort\u001b[38;5;241m=\u001b[39m\u001b[38;5;28mself\u001b[39m\u001b[38;5;241m.\u001b[39msort\n\u001b[1;32m   1149\u001b[0m     )\n\u001b[1;32m   1150\u001b[0m \u001b[38;5;28;01melse\u001b[39;00m:\n\u001b[0;32m-> 1151\u001b[0m     (left_indexer, right_indexer) \u001b[38;5;241m=\u001b[39m \u001b[38;5;28mself\u001b[39m\u001b[38;5;241m.\u001b[39m_get_join_indexers()\n\u001b[1;32m   1153\u001b[0m     \u001b[38;5;28;01mif\u001b[39;00m \u001b[38;5;28mself\u001b[39m\u001b[38;5;241m.\u001b[39mright_index:\n\u001b[1;32m   1154\u001b[0m         \u001b[38;5;28;01mif\u001b[39;00m \u001b[38;5;28mlen\u001b[39m(\u001b[38;5;28mself\u001b[39m\u001b[38;5;241m.\u001b[39mleft) \u001b[38;5;241m>\u001b[39m \u001b[38;5;241m0\u001b[39m:\n",
      "File \u001b[0;32m~/opt/anaconda3/envs/aeon/lib/python3.12/site-packages/pandas/core/reshape/merge.py:2239\u001b[0m, in \u001b[0;36m_AsOfMerge._get_join_indexers\u001b[0;34m(self)\u001b[0m\n\u001b[1;32m   2237\u001b[0m \u001b[38;5;66;03m# initial type conversion as needed\u001b[39;00m\n\u001b[1;32m   2238\u001b[0m left_values \u001b[38;5;241m=\u001b[39m \u001b[38;5;28mself\u001b[39m\u001b[38;5;241m.\u001b[39m_convert_values_for_libjoin(left_values, \u001b[38;5;124m\"\u001b[39m\u001b[38;5;124mleft\u001b[39m\u001b[38;5;124m\"\u001b[39m)\n\u001b[0;32m-> 2239\u001b[0m right_values \u001b[38;5;241m=\u001b[39m \u001b[38;5;28mself\u001b[39m\u001b[38;5;241m.\u001b[39m_convert_values_for_libjoin(right_values, \u001b[38;5;124m\"\u001b[39m\u001b[38;5;124mright\u001b[39m\u001b[38;5;124m\"\u001b[39m)\n\u001b[1;32m   2241\u001b[0m \u001b[38;5;66;03m# a \"by\" parameter requires special handling\u001b[39;00m\n\u001b[1;32m   2242\u001b[0m \u001b[38;5;28;01mif\u001b[39;00m \u001b[38;5;28mself\u001b[39m\u001b[38;5;241m.\u001b[39mleft_by \u001b[38;5;129;01mis\u001b[39;00m \u001b[38;5;129;01mnot\u001b[39;00m \u001b[38;5;28;01mNone\u001b[39;00m:\n\u001b[1;32m   2243\u001b[0m     \u001b[38;5;66;03m# remove 'on' parameter from values if one existed\u001b[39;00m\n",
      "File \u001b[0;32m~/opt/anaconda3/envs/aeon/lib/python3.12/site-packages/pandas/core/reshape/merge.py:2182\u001b[0m, in \u001b[0;36m_AsOfMerge._convert_values_for_libjoin\u001b[0;34m(self, values, side)\u001b[0m\n\u001b[1;32m   2180\u001b[0m     \u001b[38;5;28;01mif\u001b[39;00m isna(values)\u001b[38;5;241m.\u001b[39many():\n\u001b[1;32m   2181\u001b[0m         \u001b[38;5;28;01mraise\u001b[39;00m \u001b[38;5;167;01mValueError\u001b[39;00m(\u001b[38;5;124mf\u001b[39m\u001b[38;5;124m\"\u001b[39m\u001b[38;5;124mMerge keys contain null values on \u001b[39m\u001b[38;5;132;01m{\u001b[39;00mside\u001b[38;5;132;01m}\u001b[39;00m\u001b[38;5;124m side\u001b[39m\u001b[38;5;124m\"\u001b[39m)\n\u001b[0;32m-> 2182\u001b[0m     \u001b[38;5;28;01mraise\u001b[39;00m \u001b[38;5;167;01mValueError\u001b[39;00m(\u001b[38;5;124mf\u001b[39m\u001b[38;5;124m\"\u001b[39m\u001b[38;5;132;01m{\u001b[39;00mside\u001b[38;5;132;01m}\u001b[39;00m\u001b[38;5;124m keys must be sorted\u001b[39m\u001b[38;5;124m\"\u001b[39m)\n\u001b[1;32m   2184\u001b[0m \u001b[38;5;28;01mif\u001b[39;00m \u001b[38;5;28misinstance\u001b[39m(values, ArrowExtensionArray):\n\u001b[1;32m   2185\u001b[0m     values \u001b[38;5;241m=\u001b[39m values\u001b[38;5;241m.\u001b[39m_maybe_convert_datelike_array()\n",
      "\u001b[0;31mValueError\u001b[0m: right keys must be sorted"
     ]
    }
   ],
   "source": [
    "data_dict = add_experiment_events(data_dict, event_dict,mouse_info)"
   ]
  },
  {
   "cell_type": "code",
   "execution_count": 15,
   "id": "6f17b943-2b93-411a-aacd-cd47217ca8fc",
   "metadata": {},
   "outputs": [
    {
     "data": {
      "text/plain": [
       "array([nan, 'LinearClosedloopMismatch block started', 'No_halt',\n",
       "       'Block timer elapsed', 'LinearPlaybackMismatch block started'],\n",
       "      dtype=object)"
      ]
     },
     "execution_count": 15,
     "metadata": {},
     "output_type": "execute_result"
    }
   ],
   "source": [
    "data_dict[names[0]].ExperimentEvents.unique() #Check random mouse to see what events are present"
   ]
  },
  {
   "cell_type": "code",
   "execution_count": 16,
   "id": "4ac4548c-4e63-46a9-9844-5f376fca6c73",
   "metadata": {},
   "outputs": [
    {
     "name": "stderr",
     "output_type": "stream",
     "text": [
      "/Users/hildeteigen/Documents/GitHub/vestibular_vr_pipeline/analysis_functions.py:145: FutureWarning: Downcasting object dtype arrays on .fillna, .ffill, .bfill is deprecated and will change in a future version. Call result.infer_objects(copy=False) instead. To opt-in to the future behavior, set `pd.set_option('future.no_silent_downcasting', True)`\n",
      "  main_df['No_halt'] = merged_df['Value'].fillna(False) == 'No halt'\n"
     ]
    },
    {
     "name": "stdout",
     "output_type": "stream",
     "text": [
      "No_halt events added to B0M0\n",
      "  Correct number of no-halt events for B0M0\n",
      "\n"
     ]
    }
   ],
   "source": [
    "data_dict = add_no_halt_column(data_dict, event_dict)"
   ]
  },
  {
   "cell_type": "markdown",
   "id": "3b631055-fe3d-4483-acac-7a3b380522f4",
   "metadata": {},
   "source": [
    "#### Add block columns"
   ]
  },
  {
   "cell_type": "code",
   "execution_count": 17,
   "id": "ce12ceba-dadd-4f6f-bcfa-5b106a77db01",
   "metadata": {},
   "outputs": [
    {
     "name": "stdout",
     "output_type": "stream",
     "text": [
      "updating data for  B0M0\n",
      "For B0M0: No overlapping True values, and each _block column has at least one True value\n"
     ]
    }
   ],
   "source": [
    "for name, df in data_dict.items():\n",
    "    print('updating data for ', name)\n",
    "    blocks_added_df = add_block_columns(df, event_dict[name])\n",
    "    blocks_added_df.replace({})\n",
    "    data_dict[name] = blocks_added_df\n",
    "\n",
    "check_block_overlap(data_dict)"
   ]
  },
  {
   "cell_type": "code",
   "execution_count": 18,
   "id": "f27d3988-4457-4be1-a80e-f190ad5e1626",
   "metadata": {},
   "outputs": [],
   "source": [
    "def downsample_data(df, time_col='Seconds', interval=0.001):\n",
    "    # Convert the Seconds column to a TimedeltaIndex\n",
    "    df = df.set_index(pd.to_timedelta(df[time_col], unit='s'))\n",
    "\n",
    "    # Define aggregation functions for all possible columns\n",
    "    aggregation_functions = {\n",
    "        '470_dfF': 'mean',\n",
    "        'movementX': 'mean',\n",
    "        'movementY': 'mean',\n",
    "        'event': 'any',\n",
    "        'ExperimentEvents': lambda x: x.dropna().iloc[0] if not x.dropna().empty else None,\n",
    "        'Experiment': 'first',\n",
    "        'Session': 'first',\n",
    "        'mouseID': 'first',\n",
    "        'sex': 'first',\n",
    "        'area': 'first',\n",
    "        'No_halt': 'any',\n",
    "        'LinearMismatch_block': 'any',\n",
    "        'LinearPlaybackMismatch_block': 'any',\n",
    "        'LinearRegular_block': 'any'\n",
    "    }\n",
    "\n",
    "    # Filter aggregation_functions to only include columns present in df\n",
    "    aggregation_functions = {key: func for key, func in aggregation_functions.items() if key in df.columns}\n",
    "\n",
    "    # Resample with the specified interval and apply the filtered aggregations\n",
    "    downsampled_df = df.resample(f'{interval}s').agg(aggregation_functions)\n",
    "\n",
    "    # Reset the index to make the Seconds column normal again\n",
    "    downsampled_df = downsampled_df.reset_index()\n",
    "    downsampled_df[time_col] = downsampled_df[time_col].dt.total_seconds()  # Convert Timedelta back to seconds\n",
    "\n",
    "    # Forward fill for categorical columns if needed, only if they exist in downsampled_df\n",
    "    categorical_cols = ['Experiment', 'Session', 'mouseID', 'sex', 'area']\n",
    "    for col in categorical_cols:\n",
    "        if col in downsampled_df.columns:\n",
    "            downsampled_df[col] = downsampled_df[col].ffill()\n",
    "\n",
    "    # Remove consecutive duplicate values in the 'ExperimentEvents' column, if it exists\n",
    "    if 'ExperimentEvents' in downsampled_df.columns:\n",
    "        downsampled_df['ExperimentEvents'] = downsampled_df['ExperimentEvents'].where(\n",
    "            downsampled_df['ExperimentEvents'] != downsampled_df['ExperimentEvents'].shift()\n",
    "        )\n",
    "\n",
    "    return downsampled_df\n",
    "\n"
   ]
  },
  {
   "cell_type": "code",
   "execution_count": 19,
   "id": "5a63dc6d-5956-44f2-99bd-8f2a6062ab96",
   "metadata": {},
   "outputs": [],
   "source": [
    "def test_event_numbers(downsampled_data, original_data, mouse):\n",
    "    nohalt_down = len(downsampled_data.loc[downsampled_data['No_halt']==True])\n",
    "    nohalt_original = len(original_data.loc[original_data['No_halt']==True])\n",
    "    if nohalt_down != nohalt_original:\n",
    "        print(f'mouse{mouse}')\n",
    "        print(f'There are actually {nohalt_original} no-halts, but the downsampled data only contains {nohalt_down}')\n",
    "        print('Should re-run the downsampling. Try changing interval lenght. Othewise, consider not downsampling\\n')\n",
    "    if nohalt_down == nohalt_original:\n",
    "        print(f'mouse{mouse}')\n",
    "        print(f'There are {nohalt_original} no-halts, and downsampled data contains {nohalt_down}\\n')\n",
    "    \n",
    "    "
   ]
  },
  {
   "cell_type": "code",
   "execution_count": 20,
   "id": "3429171b-e749-4ca6-a84a-9f5fcfea52f5",
   "metadata": {},
   "outputs": [
    {
     "name": "stdout",
     "output_type": "stream",
     "text": [
      "mouseB0M0\n",
      "There are 0 no-halts, and downsampled data contains 0\n",
      "\n"
     ]
    }
   ],
   "source": [
    "downsampled_dict = {}\n",
    "for mouse, df in data_dict.items():\n",
    "    downsampled_df = downsample_data(data_dict[mouse], time_col='Seconds', interval=0.001)\n",
    "    downsampled_dict[mouse] = downsampled_df\n",
    "    test_event_numbers(downsampled_df, df, mouse)\n"
   ]
  },
  {
   "cell_type": "code",
   "execution_count": 21,
   "id": "f171bb52-31d5-4b53-aa76-51d91a4162ba",
   "metadata": {},
   "outputs": [],
   "source": [
    "Data = pooling_data(downsampled_dict)"
   ]
  },
  {
   "cell_type": "code",
   "execution_count": 22,
   "id": "5a86135f-fffd-4c06-81c8-32ccf2eb7d01",
   "metadata": {},
   "outputs": [],
   "source": [
    "Data = Data.reset_index()\n",
    "Data = Data.drop(columns=['level_0'])  # Assuming the column name is 'level_0' after reset_index()\n",
    "Data = Data.set_index('level_1')  # 'level_1' will be the numeric index part\n",
    "Data.index.name = 'Time'"
   ]
  },
  {
   "cell_type": "code",
   "execution_count": 27,
   "id": "1ff9bde1-27cb-409f-8f1f-52a4502d663c",
   "metadata": {},
   "outputs": [
    {
     "data": {
      "text/html": [
       "<div>\n",
       "<style scoped>\n",
       "    .dataframe tbody tr th:only-of-type {\n",
       "        vertical-align: middle;\n",
       "    }\n",
       "\n",
       "    .dataframe tbody tr th {\n",
       "        vertical-align: top;\n",
       "    }\n",
       "\n",
       "    .dataframe thead th {\n",
       "        text-align: right;\n",
       "    }\n",
       "</style>\n",
       "<table border=\"1\" class=\"dataframe\">\n",
       "  <thead>\n",
       "    <tr style=\"text-align: right;\">\n",
       "      <th></th>\n",
       "      <th>Seconds</th>\n",
       "      <th>470_dfF</th>\n",
       "      <th>movementX</th>\n",
       "      <th>movementY</th>\n",
       "      <th>event</th>\n",
       "      <th>ExperimentEvents</th>\n",
       "      <th>Experiment</th>\n",
       "      <th>Session</th>\n",
       "      <th>mouseID</th>\n",
       "      <th>sex</th>\n",
       "      <th>area</th>\n",
       "      <th>No_halt</th>\n",
       "      <th>LinearPlaybackMismatch_block</th>\n",
       "    </tr>\n",
       "    <tr>\n",
       "      <th>Time</th>\n",
       "      <th></th>\n",
       "      <th></th>\n",
       "      <th></th>\n",
       "      <th></th>\n",
       "      <th></th>\n",
       "      <th></th>\n",
       "      <th></th>\n",
       "      <th></th>\n",
       "      <th></th>\n",
       "      <th></th>\n",
       "      <th></th>\n",
       "      <th></th>\n",
       "      <th></th>\n",
       "    </tr>\n",
       "  </thead>\n",
       "  <tbody>\n",
       "    <tr>\n",
       "      <th>0</th>\n",
       "      <td>0.000</td>\n",
       "      <td>0.000047</td>\n",
       "      <td>9.974557e-07</td>\n",
       "      <td>9.974557e-07</td>\n",
       "      <td>True</td>\n",
       "      <td>None</td>\n",
       "      <td>data</td>\n",
       "      <td>day2</td>\n",
       "      <td>B0M0</td>\n",
       "      <td>F</td>\n",
       "      <td>V2M</td>\n",
       "      <td>False</td>\n",
       "      <td>False</td>\n",
       "    </tr>\n",
       "    <tr>\n",
       "      <th>1</th>\n",
       "      <td>0.001</td>\n",
       "      <td>0.000152</td>\n",
       "      <td>3.214024e-06</td>\n",
       "      <td>3.214024e-06</td>\n",
       "      <td>False</td>\n",
       "      <td>None</td>\n",
       "      <td>data</td>\n",
       "      <td>day2</td>\n",
       "      <td>B0M0</td>\n",
       "      <td>F</td>\n",
       "      <td>V2M</td>\n",
       "      <td>False</td>\n",
       "      <td>False</td>\n",
       "    </tr>\n",
       "    <tr>\n",
       "      <th>2</th>\n",
       "      <td>0.002</td>\n",
       "      <td>0.000257</td>\n",
       "      <td>5.430592e-06</td>\n",
       "      <td>5.430592e-06</td>\n",
       "      <td>False</td>\n",
       "      <td>None</td>\n",
       "      <td>data</td>\n",
       "      <td>day2</td>\n",
       "      <td>B0M0</td>\n",
       "      <td>F</td>\n",
       "      <td>V2M</td>\n",
       "      <td>False</td>\n",
       "      <td>False</td>\n",
       "    </tr>\n",
       "    <tr>\n",
       "      <th>3</th>\n",
       "      <td>0.003</td>\n",
       "      <td>0.000361</td>\n",
       "      <td>7.647160e-06</td>\n",
       "      <td>7.647160e-06</td>\n",
       "      <td>False</td>\n",
       "      <td>None</td>\n",
       "      <td>data</td>\n",
       "      <td>day2</td>\n",
       "      <td>B0M0</td>\n",
       "      <td>F</td>\n",
       "      <td>V2M</td>\n",
       "      <td>False</td>\n",
       "      <td>False</td>\n",
       "    </tr>\n",
       "    <tr>\n",
       "      <th>4</th>\n",
       "      <td>0.004</td>\n",
       "      <td>0.000466</td>\n",
       "      <td>9.863728e-06</td>\n",
       "      <td>9.863728e-06</td>\n",
       "      <td>False</td>\n",
       "      <td>None</td>\n",
       "      <td>data</td>\n",
       "      <td>day2</td>\n",
       "      <td>B0M0</td>\n",
       "      <td>F</td>\n",
       "      <td>V2M</td>\n",
       "      <td>False</td>\n",
       "      <td>False</td>\n",
       "    </tr>\n",
       "    <tr>\n",
       "      <th>...</th>\n",
       "      <td>...</td>\n",
       "      <td>...</td>\n",
       "      <td>...</td>\n",
       "      <td>...</td>\n",
       "      <td>...</td>\n",
       "      <td>...</td>\n",
       "      <td>...</td>\n",
       "      <td>...</td>\n",
       "      <td>...</td>\n",
       "      <td>...</td>\n",
       "      <td>...</td>\n",
       "      <td>...</td>\n",
       "      <td>...</td>\n",
       "    </tr>\n",
       "    <tr>\n",
       "      <th>2193586</th>\n",
       "      <td>2193.586</td>\n",
       "      <td>-0.366805</td>\n",
       "      <td>-7.764036e-03</td>\n",
       "      <td>-7.764036e-03</td>\n",
       "      <td>True</td>\n",
       "      <td>None</td>\n",
       "      <td>data</td>\n",
       "      <td>day2</td>\n",
       "      <td>B0M0</td>\n",
       "      <td>F</td>\n",
       "      <td>V2M</td>\n",
       "      <td>False</td>\n",
       "      <td>True</td>\n",
       "    </tr>\n",
       "    <tr>\n",
       "      <th>2193587</th>\n",
       "      <td>2193.587</td>\n",
       "      <td>-0.366902</td>\n",
       "      <td>-7.766099e-03</td>\n",
       "      <td>-7.766099e-03</td>\n",
       "      <td>True</td>\n",
       "      <td>None</td>\n",
       "      <td>data</td>\n",
       "      <td>day2</td>\n",
       "      <td>B0M0</td>\n",
       "      <td>F</td>\n",
       "      <td>V2M</td>\n",
       "      <td>False</td>\n",
       "      <td>True</td>\n",
       "    </tr>\n",
       "    <tr>\n",
       "      <th>2193588</th>\n",
       "      <td>2193.588</td>\n",
       "      <td>-0.367000</td>\n",
       "      <td>-7.768160e-03</td>\n",
       "      <td>-7.768160e-03</td>\n",
       "      <td>True</td>\n",
       "      <td>None</td>\n",
       "      <td>data</td>\n",
       "      <td>day2</td>\n",
       "      <td>B0M0</td>\n",
       "      <td>F</td>\n",
       "      <td>V2M</td>\n",
       "      <td>False</td>\n",
       "      <td>True</td>\n",
       "    </tr>\n",
       "    <tr>\n",
       "      <th>2193589</th>\n",
       "      <td>2193.589</td>\n",
       "      <td>-0.367097</td>\n",
       "      <td>-7.770222e-03</td>\n",
       "      <td>-7.770222e-03</td>\n",
       "      <td>True</td>\n",
       "      <td>None</td>\n",
       "      <td>data</td>\n",
       "      <td>day2</td>\n",
       "      <td>B0M0</td>\n",
       "      <td>F</td>\n",
       "      <td>V2M</td>\n",
       "      <td>False</td>\n",
       "      <td>True</td>\n",
       "    </tr>\n",
       "    <tr>\n",
       "      <th>2193590</th>\n",
       "      <td>2193.590</td>\n",
       "      <td>-0.367151</td>\n",
       "      <td>-7.771356e-03</td>\n",
       "      <td>-7.771356e-03</td>\n",
       "      <td>True</td>\n",
       "      <td>None</td>\n",
       "      <td>data</td>\n",
       "      <td>day2</td>\n",
       "      <td>B0M0</td>\n",
       "      <td>F</td>\n",
       "      <td>V2M</td>\n",
       "      <td>False</td>\n",
       "      <td>True</td>\n",
       "    </tr>\n",
       "  </tbody>\n",
       "</table>\n",
       "<p>2193591 rows × 13 columns</p>\n",
       "</div>"
      ],
      "text/plain": [
       "          Seconds   470_dfF     movementX     movementY  event  \\\n",
       "Time                                                             \n",
       "0           0.000  0.000047  9.974557e-07  9.974557e-07   True   \n",
       "1           0.001  0.000152  3.214024e-06  3.214024e-06  False   \n",
       "2           0.002  0.000257  5.430592e-06  5.430592e-06  False   \n",
       "3           0.003  0.000361  7.647160e-06  7.647160e-06  False   \n",
       "4           0.004  0.000466  9.863728e-06  9.863728e-06  False   \n",
       "...           ...       ...           ...           ...    ...   \n",
       "2193586  2193.586 -0.366805 -7.764036e-03 -7.764036e-03   True   \n",
       "2193587  2193.587 -0.366902 -7.766099e-03 -7.766099e-03   True   \n",
       "2193588  2193.588 -0.367000 -7.768160e-03 -7.768160e-03   True   \n",
       "2193589  2193.589 -0.367097 -7.770222e-03 -7.770222e-03   True   \n",
       "2193590  2193.590 -0.367151 -7.771356e-03 -7.771356e-03   True   \n",
       "\n",
       "        ExperimentEvents Experiment Session mouseID sex area  No_halt  \\\n",
       "Time                                                                    \n",
       "0                   None       data    day2    B0M0   F  V2M    False   \n",
       "1                   None       data    day2    B0M0   F  V2M    False   \n",
       "2                   None       data    day2    B0M0   F  V2M    False   \n",
       "3                   None       data    day2    B0M0   F  V2M    False   \n",
       "4                   None       data    day2    B0M0   F  V2M    False   \n",
       "...                  ...        ...     ...     ...  ..  ...      ...   \n",
       "2193586             None       data    day2    B0M0   F  V2M    False   \n",
       "2193587             None       data    day2    B0M0   F  V2M    False   \n",
       "2193588             None       data    day2    B0M0   F  V2M    False   \n",
       "2193589             None       data    day2    B0M0   F  V2M    False   \n",
       "2193590             None       data    day2    B0M0   F  V2M    False   \n",
       "\n",
       "         LinearPlaybackMismatch_block  \n",
       "Time                                   \n",
       "0                               False  \n",
       "1                               False  \n",
       "2                               False  \n",
       "3                               False  \n",
       "4                               False  \n",
       "...                               ...  \n",
       "2193586                          True  \n",
       "2193587                          True  \n",
       "2193588                          True  \n",
       "2193589                          True  \n",
       "2193590                          True  \n",
       "\n",
       "[2193591 rows x 13 columns]"
      ]
     },
     "execution_count": 27,
     "metadata": {},
     "output_type": "execute_result"
    }
   ],
   "source": [
    "Data.loc[Data.mouseID == names[0]]\n",
    "Data"
   ]
  },
  {
   "cell_type": "code",
   "execution_count": 28,
   "id": "56d1ef5c-1f79-4c2e-925e-4bd780eebaf2",
   "metadata": {},
   "outputs": [],
   "source": [
    "#!!!!Remember to change the of the csv file to not overwrite the previous one\n",
    "Data.to_csv('Fake_data_session2.csv', index=False) "
   ]
  },
  {
   "cell_type": "code",
   "execution_count": null,
   "id": "450c9d99-3920-4e03-8253-a9bbbee550ff",
   "metadata": {},
   "outputs": [],
   "source": []
  }
 ],
 "metadata": {
  "kernelspec": {
   "display_name": "aeon",
   "language": "python",
   "name": "aeon"
  },
  "language_info": {
   "codemirror_mode": {
    "name": "ipython",
    "version": 3
   },
   "file_extension": ".py",
   "mimetype": "text/x-python",
   "name": "python",
   "nbconvert_exporter": "python",
   "pygments_lexer": "ipython3",
   "version": "3.12.7"
  }
 },
 "nbformat": 4,
 "nbformat_minor": 5
}
